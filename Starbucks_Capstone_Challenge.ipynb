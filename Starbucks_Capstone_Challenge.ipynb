{
 "cells": [
  {
   "cell_type": "markdown",
   "id": "assigned-cheat",
   "metadata": {},
   "source": [
    "# Udacity Data Science Nanodegree \n",
    "## Capstone Project: Starbucks\n",
    "Sandra Muschkorgel\n",
    "Berlin, 27th June 2021\n",
    "\n",
    "## Content\n",
    "* <a href=\"#intro\">Introduction</a>\n",
    "* <a href=\"#assess\">Data Assessment and Cleaning</a>\n",
    "* <a href=\"#explore\">Exploratory Data Analysis</a>\n",
    "* <a href=\"#preprocess\">Preprocessing</a>\n",
    "* <a href=\"#model\">Modeling and Evaluation</a>\n",
    "  * <a href=\"#model1\">Model 1 - Classifier Model</a>\n",
    "  * <a href=\"#model2\">Model 2 - Collaborative Filtering Recommendation System</a>\n",
    "  * <a href=\"#model3\">Model 3 - Ranked Based Recommendation System</a>\n",
    "* <a href=\"#evaluate\">Model Refinement</a>\n",
    "* <a href=\"#end\">Conclusion</a>\n",
    "\n",
    "***\n",
    "\n",
    "<a id=\"intro\"></a>\n",
    "## Introduction\n",
    "\n",
    "* Goal: Identify which offer to send to which user\n",
    "* Money spent on advertising and/or rewards vs return \n",
    "* Users are part of a Starbucks loyalty program\n",
    "\n",
    "**Data**\n",
    "* Three datasets:\n",
    "  * profile.json is a user database storing information about age, gender, income and the date on which a user became a member.\n",
    "  * portfolio.json lists all offers a user might have received detailing the sort of offer, the offer period, the reward associated with it, the channels which were used to sent the offer to users and the offer difficulty, i.e. the upfront investment a user has to make to receive a reward.\n",
    "  * transcript.json contains event data over a period of two years in which the following events were logged: receiving an offer, viewing an offer, completing an offer and spending x amount on a purchase which might or might not be connected to an offer."
   ]
  },
  {
   "cell_type": "code",
   "execution_count": 1,
   "id": "outer-raise",
   "metadata": {},
   "outputs": [],
   "source": [
    "# Import required libraries\n",
    "import numpy as np\n",
    "import pandas as pd\n",
    "import matplotlib.pyplot as plt\n",
    "import seaborn as sb\n",
    "\n",
    "from sklearn.model_selection import train_test_split\n",
    "from sklearn.ensemble import RandomForestClassifier\n",
    "from sklearn.neighbors import KNeighborsClassifier\n",
    "from sklearn.naive_bayes import BernoulliNB\n",
    "from sklearn.metrics import classification_report, accuracy_score, precision_score, recall_score, f1_score\n",
    "\n",
    "%matplotlib inline"
   ]
  },
  {
   "cell_type": "code",
   "execution_count": 2,
   "id": "noticed-indian",
   "metadata": {},
   "outputs": [],
   "source": [
    "# Load datasets from json files\n",
    "profile = pd.read_json('data/profile.json', lines=True)\n",
    "portfolio = pd.read_json('data/portfolio.json', lines=True)\n",
    "transcript = pd.read_json('data/transcript.json', lines=True)"
   ]
  },
  {
   "cell_type": "markdown",
   "id": "expressed-lighting",
   "metadata": {},
   "source": [
    "***\n",
    "<a id=\"assess\"></a>\n",
    "## Data Assessment and Cleaning\n",
    "\n",
    "In this section I will visually and programmatically analyze all three dataframes focusing on data quality and tidiness issues. Based on these findings I will clean the dataframes accordingly.\n",
    "\n",
    "**`profile`**"
   ]
  },
  {
   "cell_type": "code",
   "execution_count": 3,
   "id": "stylish-monster",
   "metadata": {
    "scrolled": true
   },
   "outputs": [
    {
     "data": {
      "text/html": [
       "<div>\n",
       "<style scoped>\n",
       "    .dataframe tbody tr th:only-of-type {\n",
       "        vertical-align: middle;\n",
       "    }\n",
       "\n",
       "    .dataframe tbody tr th {\n",
       "        vertical-align: top;\n",
       "    }\n",
       "\n",
       "    .dataframe thead th {\n",
       "        text-align: right;\n",
       "    }\n",
       "</style>\n",
       "<table border=\"1\" class=\"dataframe\">\n",
       "  <thead>\n",
       "    <tr style=\"text-align: right;\">\n",
       "      <th></th>\n",
       "      <th>gender</th>\n",
       "      <th>age</th>\n",
       "      <th>id</th>\n",
       "      <th>became_member_on</th>\n",
       "      <th>income</th>\n",
       "    </tr>\n",
       "  </thead>\n",
       "  <tbody>\n",
       "    <tr>\n",
       "      <th>0</th>\n",
       "      <td>None</td>\n",
       "      <td>118</td>\n",
       "      <td>68be06ca386d4c31939f3a4f0e3dd783</td>\n",
       "      <td>20170212</td>\n",
       "      <td>NaN</td>\n",
       "    </tr>\n",
       "    <tr>\n",
       "      <th>1</th>\n",
       "      <td>F</td>\n",
       "      <td>55</td>\n",
       "      <td>0610b486422d4921ae7d2bf64640c50b</td>\n",
       "      <td>20170715</td>\n",
       "      <td>112000.0</td>\n",
       "    </tr>\n",
       "    <tr>\n",
       "      <th>2</th>\n",
       "      <td>None</td>\n",
       "      <td>118</td>\n",
       "      <td>38fe809add3b4fcf9315a9694bb96ff5</td>\n",
       "      <td>20180712</td>\n",
       "      <td>NaN</td>\n",
       "    </tr>\n",
       "    <tr>\n",
       "      <th>3</th>\n",
       "      <td>F</td>\n",
       "      <td>75</td>\n",
       "      <td>78afa995795e4d85b5d9ceeca43f5fef</td>\n",
       "      <td>20170509</td>\n",
       "      <td>100000.0</td>\n",
       "    </tr>\n",
       "    <tr>\n",
       "      <th>4</th>\n",
       "      <td>None</td>\n",
       "      <td>118</td>\n",
       "      <td>a03223e636434f42ac4c3df47e8bac43</td>\n",
       "      <td>20170804</td>\n",
       "      <td>NaN</td>\n",
       "    </tr>\n",
       "    <tr>\n",
       "      <th>...</th>\n",
       "      <td>...</td>\n",
       "      <td>...</td>\n",
       "      <td>...</td>\n",
       "      <td>...</td>\n",
       "      <td>...</td>\n",
       "    </tr>\n",
       "    <tr>\n",
       "      <th>16995</th>\n",
       "      <td>F</td>\n",
       "      <td>45</td>\n",
       "      <td>6d5f3a774f3d4714ab0c092238f3a1d7</td>\n",
       "      <td>20180604</td>\n",
       "      <td>54000.0</td>\n",
       "    </tr>\n",
       "    <tr>\n",
       "      <th>16996</th>\n",
       "      <td>M</td>\n",
       "      <td>61</td>\n",
       "      <td>2cb4f97358b841b9a9773a7aa05a9d77</td>\n",
       "      <td>20180713</td>\n",
       "      <td>72000.0</td>\n",
       "    </tr>\n",
       "    <tr>\n",
       "      <th>16997</th>\n",
       "      <td>M</td>\n",
       "      <td>49</td>\n",
       "      <td>01d26f638c274aa0b965d24cefe3183f</td>\n",
       "      <td>20170126</td>\n",
       "      <td>73000.0</td>\n",
       "    </tr>\n",
       "    <tr>\n",
       "      <th>16998</th>\n",
       "      <td>F</td>\n",
       "      <td>83</td>\n",
       "      <td>9dc1421481194dcd9400aec7c9ae6366</td>\n",
       "      <td>20160307</td>\n",
       "      <td>50000.0</td>\n",
       "    </tr>\n",
       "    <tr>\n",
       "      <th>16999</th>\n",
       "      <td>F</td>\n",
       "      <td>62</td>\n",
       "      <td>e4052622e5ba45a8b96b59aba68cf068</td>\n",
       "      <td>20170722</td>\n",
       "      <td>82000.0</td>\n",
       "    </tr>\n",
       "  </tbody>\n",
       "</table>\n",
       "<p>17000 rows × 5 columns</p>\n",
       "</div>"
      ],
      "text/plain": [
       "      gender  age                                id  became_member_on  \\\n",
       "0       None  118  68be06ca386d4c31939f3a4f0e3dd783          20170212   \n",
       "1          F   55  0610b486422d4921ae7d2bf64640c50b          20170715   \n",
       "2       None  118  38fe809add3b4fcf9315a9694bb96ff5          20180712   \n",
       "3          F   75  78afa995795e4d85b5d9ceeca43f5fef          20170509   \n",
       "4       None  118  a03223e636434f42ac4c3df47e8bac43          20170804   \n",
       "...      ...  ...                               ...               ...   \n",
       "16995      F   45  6d5f3a774f3d4714ab0c092238f3a1d7          20180604   \n",
       "16996      M   61  2cb4f97358b841b9a9773a7aa05a9d77          20180713   \n",
       "16997      M   49  01d26f638c274aa0b965d24cefe3183f          20170126   \n",
       "16998      F   83  9dc1421481194dcd9400aec7c9ae6366          20160307   \n",
       "16999      F   62  e4052622e5ba45a8b96b59aba68cf068          20170722   \n",
       "\n",
       "         income  \n",
       "0           NaN  \n",
       "1      112000.0  \n",
       "2           NaN  \n",
       "3      100000.0  \n",
       "4           NaN  \n",
       "...         ...  \n",
       "16995   54000.0  \n",
       "16996   72000.0  \n",
       "16997   73000.0  \n",
       "16998   50000.0  \n",
       "16999   82000.0  \n",
       "\n",
       "[17000 rows x 5 columns]"
      ]
     },
     "execution_count": 3,
     "metadata": {},
     "output_type": "execute_result"
    }
   ],
   "source": [
    "profile"
   ]
  },
  {
   "cell_type": "markdown",
   "id": "nuclear-muslim",
   "metadata": {},
   "source": [
    "**Dataframe columns**\n",
    "* *gender* \n",
    "  * F - female\n",
    "  * M - male\n",
    "  * O - Other\n",
    "  * None - missing value\n",
    "* *age* (118 identifies missing values)\n",
    "* *id* hashed user id\n",
    "* *became_member_on* date on which a user became a member\n",
    "* *income* "
   ]
  },
  {
   "cell_type": "code",
   "execution_count": 4,
   "id": "national-volleyball",
   "metadata": {
    "scrolled": true
   },
   "outputs": [
    {
     "data": {
      "text/plain": [
       "(17000, 5)"
      ]
     },
     "execution_count": 4,
     "metadata": {},
     "output_type": "execute_result"
    }
   ],
   "source": [
    "profile.shape"
   ]
  },
  {
   "cell_type": "code",
   "execution_count": 5,
   "id": "still-lending",
   "metadata": {},
   "outputs": [
    {
     "name": "stdout",
     "output_type": "stream",
     "text": [
      "<class 'pandas.core.frame.DataFrame'>\n",
      "RangeIndex: 17000 entries, 0 to 16999\n",
      "Data columns (total 5 columns):\n",
      " #   Column            Non-Null Count  Dtype  \n",
      "---  ------            --------------  -----  \n",
      " 0   gender            14825 non-null  object \n",
      " 1   age               17000 non-null  int64  \n",
      " 2   id                17000 non-null  object \n",
      " 3   became_member_on  17000 non-null  int64  \n",
      " 4   income            14825 non-null  float64\n",
      "dtypes: float64(1), int64(2), object(2)\n",
      "memory usage: 664.2+ KB\n"
     ]
    }
   ],
   "source": [
    "profile.info()"
   ]
  },
  {
   "cell_type": "code",
   "execution_count": 6,
   "id": "known-remark",
   "metadata": {
    "scrolled": true
   },
   "outputs": [
    {
     "data": {
      "text/plain": [
       "gender              2175\n",
       "age                    0\n",
       "id                     0\n",
       "became_member_on       0\n",
       "income              2175\n",
       "dtype: int64"
      ]
     },
     "execution_count": 6,
     "metadata": {},
     "output_type": "execute_result"
    }
   ],
   "source": [
    "profile.isnull().sum()"
   ]
  },
  {
   "cell_type": "code",
   "execution_count": 7,
   "id": "valid-newark",
   "metadata": {
    "scrolled": false
   },
   "outputs": [
    {
     "data": {
      "text/plain": [
       "gender                  3\n",
       "age                    85\n",
       "id                  17000\n",
       "became_member_on     1716\n",
       "income                 91\n",
       "dtype: int64"
      ]
     },
     "execution_count": 7,
     "metadata": {},
     "output_type": "execute_result"
    }
   ],
   "source": [
    "profile.nunique()"
   ]
  },
  {
   "cell_type": "code",
   "execution_count": 8,
   "id": "underlying-temple",
   "metadata": {},
   "outputs": [
    {
     "data": {
      "text/plain": [
       "0.12794117647058822"
      ]
     },
     "execution_count": 8,
     "metadata": {},
     "output_type": "execute_result"
    }
   ],
   "source": [
    "profile.isnull().sum()['gender'] / profile.shape[0]"
   ]
  },
  {
   "cell_type": "markdown",
   "id": "noble-wagner",
   "metadata": {},
   "source": [
    "Every user only appears once in the dataset. However, 13% of users have no entries for age, gender and income."
   ]
  },
  {
   "cell_type": "code",
   "execution_count": 9,
   "id": "agreed-balloon",
   "metadata": {
    "scrolled": true
   },
   "outputs": [
    {
     "data": {
      "text/html": [
       "<div>\n",
       "<style scoped>\n",
       "    .dataframe tbody tr th:only-of-type {\n",
       "        vertical-align: middle;\n",
       "    }\n",
       "\n",
       "    .dataframe tbody tr th {\n",
       "        vertical-align: top;\n",
       "    }\n",
       "\n",
       "    .dataframe thead th {\n",
       "        text-align: right;\n",
       "    }\n",
       "</style>\n",
       "<table border=\"1\" class=\"dataframe\">\n",
       "  <thead>\n",
       "    <tr style=\"text-align: right;\">\n",
       "      <th></th>\n",
       "      <th>gender</th>\n",
       "      <th>age</th>\n",
       "      <th>id</th>\n",
       "      <th>became_member_on</th>\n",
       "      <th>income</th>\n",
       "    </tr>\n",
       "  </thead>\n",
       "  <tbody>\n",
       "    <tr>\n",
       "      <th>0</th>\n",
       "      <td>None</td>\n",
       "      <td>118</td>\n",
       "      <td>68be06ca386d4c31939f3a4f0e3dd783</td>\n",
       "      <td>20170212</td>\n",
       "      <td>NaN</td>\n",
       "    </tr>\n",
       "    <tr>\n",
       "      <th>2</th>\n",
       "      <td>None</td>\n",
       "      <td>118</td>\n",
       "      <td>38fe809add3b4fcf9315a9694bb96ff5</td>\n",
       "      <td>20180712</td>\n",
       "      <td>NaN</td>\n",
       "    </tr>\n",
       "    <tr>\n",
       "      <th>4</th>\n",
       "      <td>None</td>\n",
       "      <td>118</td>\n",
       "      <td>a03223e636434f42ac4c3df47e8bac43</td>\n",
       "      <td>20170804</td>\n",
       "      <td>NaN</td>\n",
       "    </tr>\n",
       "    <tr>\n",
       "      <th>6</th>\n",
       "      <td>None</td>\n",
       "      <td>118</td>\n",
       "      <td>8ec6ce2a7e7949b1bf142def7d0e0586</td>\n",
       "      <td>20170925</td>\n",
       "      <td>NaN</td>\n",
       "    </tr>\n",
       "    <tr>\n",
       "      <th>7</th>\n",
       "      <td>None</td>\n",
       "      <td>118</td>\n",
       "      <td>68617ca6246f4fbc85e91a2a49552598</td>\n",
       "      <td>20171002</td>\n",
       "      <td>NaN</td>\n",
       "    </tr>\n",
       "  </tbody>\n",
       "</table>\n",
       "</div>"
      ],
      "text/plain": [
       "  gender  age                                id  became_member_on  income\n",
       "0   None  118  68be06ca386d4c31939f3a4f0e3dd783          20170212     NaN\n",
       "2   None  118  38fe809add3b4fcf9315a9694bb96ff5          20180712     NaN\n",
       "4   None  118  a03223e636434f42ac4c3df47e8bac43          20170804     NaN\n",
       "6   None  118  8ec6ce2a7e7949b1bf142def7d0e0586          20170925     NaN\n",
       "7   None  118  68617ca6246f4fbc85e91a2a49552598          20171002     NaN"
      ]
     },
     "execution_count": 9,
     "metadata": {},
     "output_type": "execute_result"
    }
   ],
   "source": [
    "profile[profile.age == 118].head()"
   ]
  },
  {
   "cell_type": "code",
   "execution_count": 10,
   "id": "known-baker",
   "metadata": {
    "scrolled": false
   },
   "outputs": [
    {
     "data": {
      "text/html": [
       "<div>\n",
       "<style scoped>\n",
       "    .dataframe tbody tr th:only-of-type {\n",
       "        vertical-align: middle;\n",
       "    }\n",
       "\n",
       "    .dataframe tbody tr th {\n",
       "        vertical-align: top;\n",
       "    }\n",
       "\n",
       "    .dataframe thead th {\n",
       "        text-align: right;\n",
       "    }\n",
       "</style>\n",
       "<table border=\"1\" class=\"dataframe\">\n",
       "  <thead>\n",
       "    <tr style=\"text-align: right;\">\n",
       "      <th></th>\n",
       "      <th>age</th>\n",
       "      <th>became_member_on</th>\n",
       "      <th>income</th>\n",
       "    </tr>\n",
       "  </thead>\n",
       "  <tbody>\n",
       "    <tr>\n",
       "      <th>count</th>\n",
       "      <td>14825.000000</td>\n",
       "      <td>1.482500e+04</td>\n",
       "      <td>14825.000000</td>\n",
       "    </tr>\n",
       "    <tr>\n",
       "      <th>mean</th>\n",
       "      <td>54.393524</td>\n",
       "      <td>2.016689e+07</td>\n",
       "      <td>65404.991568</td>\n",
       "    </tr>\n",
       "    <tr>\n",
       "      <th>std</th>\n",
       "      <td>17.383705</td>\n",
       "      <td>1.188565e+04</td>\n",
       "      <td>21598.299410</td>\n",
       "    </tr>\n",
       "    <tr>\n",
       "      <th>min</th>\n",
       "      <td>18.000000</td>\n",
       "      <td>2.013073e+07</td>\n",
       "      <td>30000.000000</td>\n",
       "    </tr>\n",
       "    <tr>\n",
       "      <th>25%</th>\n",
       "      <td>42.000000</td>\n",
       "      <td>2.016052e+07</td>\n",
       "      <td>49000.000000</td>\n",
       "    </tr>\n",
       "    <tr>\n",
       "      <th>50%</th>\n",
       "      <td>55.000000</td>\n",
       "      <td>2.017080e+07</td>\n",
       "      <td>64000.000000</td>\n",
       "    </tr>\n",
       "    <tr>\n",
       "      <th>75%</th>\n",
       "      <td>66.000000</td>\n",
       "      <td>2.017123e+07</td>\n",
       "      <td>80000.000000</td>\n",
       "    </tr>\n",
       "    <tr>\n",
       "      <th>max</th>\n",
       "      <td>101.000000</td>\n",
       "      <td>2.018073e+07</td>\n",
       "      <td>120000.000000</td>\n",
       "    </tr>\n",
       "  </tbody>\n",
       "</table>\n",
       "</div>"
      ],
      "text/plain": [
       "                age  became_member_on         income\n",
       "count  14825.000000      1.482500e+04   14825.000000\n",
       "mean      54.393524      2.016689e+07   65404.991568\n",
       "std       17.383705      1.188565e+04   21598.299410\n",
       "min       18.000000      2.013073e+07   30000.000000\n",
       "25%       42.000000      2.016052e+07   49000.000000\n",
       "50%       55.000000      2.017080e+07   64000.000000\n",
       "75%       66.000000      2.017123e+07   80000.000000\n",
       "max      101.000000      2.018073e+07  120000.000000"
      ]
     },
     "execution_count": 10,
     "metadata": {},
     "output_type": "execute_result"
    }
   ],
   "source": [
    "profile[profile.age < 118].describe()"
   ]
  },
  {
   "cell_type": "code",
   "execution_count": 11,
   "id": "through-creativity",
   "metadata": {
    "scrolled": true
   },
   "outputs": [
    {
     "data": {
      "text/plain": [
       "count       986.000000\n",
       "mean      71787.018256\n",
       "std       22318.990431\n",
       "min       30000.000000\n",
       "25%       55000.000000\n",
       "50%       71000.000000\n",
       "75%       88750.000000\n",
       "max      120000.000000\n",
       "Name: income, dtype: float64"
      ]
     },
     "execution_count": 11,
     "metadata": {},
     "output_type": "execute_result"
    }
   ],
   "source": [
    "profile[(profile.age > 80) & (profile.age < 118)]['income'].describe()"
   ]
  },
  {
   "cell_type": "code",
   "execution_count": 12,
   "id": "limiting-mentor",
   "metadata": {
    "scrolled": true
   },
   "outputs": [
    {
     "data": {
      "text/plain": [
       "0"
      ]
     },
     "execution_count": 12,
     "metadata": {},
     "output_type": "execute_result"
    }
   ],
   "source": [
    "profile.duplicated().sum()"
   ]
  },
  {
   "cell_type": "code",
   "execution_count": 13,
   "id": "random-regression",
   "metadata": {},
   "outputs": [
    {
     "data": {
      "text/plain": [
       "M    8484\n",
       "F    6129\n",
       "O     212\n",
       "Name: gender, dtype: int64"
      ]
     },
     "execution_count": 13,
     "metadata": {},
     "output_type": "execute_result"
    }
   ],
   "source": [
    "profile.gender.value_counts()"
   ]
  },
  {
   "cell_type": "markdown",
   "id": "connected-excerpt",
   "metadata": {},
   "source": [
    "**`portfolio`**"
   ]
  },
  {
   "cell_type": "code",
   "execution_count": 14,
   "id": "minor-tactics",
   "metadata": {
    "scrolled": true
   },
   "outputs": [
    {
     "data": {
      "text/html": [
       "<div>\n",
       "<style scoped>\n",
       "    .dataframe tbody tr th:only-of-type {\n",
       "        vertical-align: middle;\n",
       "    }\n",
       "\n",
       "    .dataframe tbody tr th {\n",
       "        vertical-align: top;\n",
       "    }\n",
       "\n",
       "    .dataframe thead th {\n",
       "        text-align: right;\n",
       "    }\n",
       "</style>\n",
       "<table border=\"1\" class=\"dataframe\">\n",
       "  <thead>\n",
       "    <tr style=\"text-align: right;\">\n",
       "      <th></th>\n",
       "      <th>reward</th>\n",
       "      <th>channels</th>\n",
       "      <th>difficulty</th>\n",
       "      <th>duration</th>\n",
       "      <th>offer_type</th>\n",
       "      <th>id</th>\n",
       "    </tr>\n",
       "  </thead>\n",
       "  <tbody>\n",
       "    <tr>\n",
       "      <th>0</th>\n",
       "      <td>10</td>\n",
       "      <td>[email, mobile, social]</td>\n",
       "      <td>10</td>\n",
       "      <td>7</td>\n",
       "      <td>bogo</td>\n",
       "      <td>ae264e3637204a6fb9bb56bc8210ddfd</td>\n",
       "    </tr>\n",
       "    <tr>\n",
       "      <th>1</th>\n",
       "      <td>10</td>\n",
       "      <td>[web, email, mobile, social]</td>\n",
       "      <td>10</td>\n",
       "      <td>5</td>\n",
       "      <td>bogo</td>\n",
       "      <td>4d5c57ea9a6940dd891ad53e9dbe8da0</td>\n",
       "    </tr>\n",
       "    <tr>\n",
       "      <th>2</th>\n",
       "      <td>0</td>\n",
       "      <td>[web, email, mobile]</td>\n",
       "      <td>0</td>\n",
       "      <td>4</td>\n",
       "      <td>informational</td>\n",
       "      <td>3f207df678b143eea3cee63160fa8bed</td>\n",
       "    </tr>\n",
       "    <tr>\n",
       "      <th>3</th>\n",
       "      <td>5</td>\n",
       "      <td>[web, email, mobile]</td>\n",
       "      <td>5</td>\n",
       "      <td>7</td>\n",
       "      <td>bogo</td>\n",
       "      <td>9b98b8c7a33c4b65b9aebfe6a799e6d9</td>\n",
       "    </tr>\n",
       "    <tr>\n",
       "      <th>4</th>\n",
       "      <td>5</td>\n",
       "      <td>[web, email]</td>\n",
       "      <td>20</td>\n",
       "      <td>10</td>\n",
       "      <td>discount</td>\n",
       "      <td>0b1e1539f2cc45b7b9fa7c272da2e1d7</td>\n",
       "    </tr>\n",
       "    <tr>\n",
       "      <th>5</th>\n",
       "      <td>3</td>\n",
       "      <td>[web, email, mobile, social]</td>\n",
       "      <td>7</td>\n",
       "      <td>7</td>\n",
       "      <td>discount</td>\n",
       "      <td>2298d6c36e964ae4a3e7e9706d1fb8c2</td>\n",
       "    </tr>\n",
       "    <tr>\n",
       "      <th>6</th>\n",
       "      <td>2</td>\n",
       "      <td>[web, email, mobile, social]</td>\n",
       "      <td>10</td>\n",
       "      <td>10</td>\n",
       "      <td>discount</td>\n",
       "      <td>fafdcd668e3743c1bb461111dcafc2a4</td>\n",
       "    </tr>\n",
       "    <tr>\n",
       "      <th>7</th>\n",
       "      <td>0</td>\n",
       "      <td>[email, mobile, social]</td>\n",
       "      <td>0</td>\n",
       "      <td>3</td>\n",
       "      <td>informational</td>\n",
       "      <td>5a8bc65990b245e5a138643cd4eb9837</td>\n",
       "    </tr>\n",
       "    <tr>\n",
       "      <th>8</th>\n",
       "      <td>5</td>\n",
       "      <td>[web, email, mobile, social]</td>\n",
       "      <td>5</td>\n",
       "      <td>5</td>\n",
       "      <td>bogo</td>\n",
       "      <td>f19421c1d4aa40978ebb69ca19b0e20d</td>\n",
       "    </tr>\n",
       "    <tr>\n",
       "      <th>9</th>\n",
       "      <td>2</td>\n",
       "      <td>[web, email, mobile]</td>\n",
       "      <td>10</td>\n",
       "      <td>7</td>\n",
       "      <td>discount</td>\n",
       "      <td>2906b810c7d4411798c6938adc9daaa5</td>\n",
       "    </tr>\n",
       "  </tbody>\n",
       "</table>\n",
       "</div>"
      ],
      "text/plain": [
       "   reward                      channels  difficulty  duration     offer_type  \\\n",
       "0      10       [email, mobile, social]          10         7           bogo   \n",
       "1      10  [web, email, mobile, social]          10         5           bogo   \n",
       "2       0          [web, email, mobile]           0         4  informational   \n",
       "3       5          [web, email, mobile]           5         7           bogo   \n",
       "4       5                  [web, email]          20        10       discount   \n",
       "5       3  [web, email, mobile, social]           7         7       discount   \n",
       "6       2  [web, email, mobile, social]          10        10       discount   \n",
       "7       0       [email, mobile, social]           0         3  informational   \n",
       "8       5  [web, email, mobile, social]           5         5           bogo   \n",
       "9       2          [web, email, mobile]          10         7       discount   \n",
       "\n",
       "                                 id  \n",
       "0  ae264e3637204a6fb9bb56bc8210ddfd  \n",
       "1  4d5c57ea9a6940dd891ad53e9dbe8da0  \n",
       "2  3f207df678b143eea3cee63160fa8bed  \n",
       "3  9b98b8c7a33c4b65b9aebfe6a799e6d9  \n",
       "4  0b1e1539f2cc45b7b9fa7c272da2e1d7  \n",
       "5  2298d6c36e964ae4a3e7e9706d1fb8c2  \n",
       "6  fafdcd668e3743c1bb461111dcafc2a4  \n",
       "7  5a8bc65990b245e5a138643cd4eb9837  \n",
       "8  f19421c1d4aa40978ebb69ca19b0e20d  \n",
       "9  2906b810c7d4411798c6938adc9daaa5  "
      ]
     },
     "execution_count": 14,
     "metadata": {},
     "output_type": "execute_result"
    }
   ],
   "source": [
    "portfolio"
   ]
  },
  {
   "cell_type": "markdown",
   "id": "prompt-structure",
   "metadata": {},
   "source": [
    "**Dateframe columns**\n",
    "* *reward* money received for buying an offer\n",
    "* *channels* list of communication channels which were used to send out an offer\n",
    "* *difficulty* upfront investment a user has to make to receive a reward \n",
    "* *duration* offer period\n",
    "* *offer_type* \n",
    "  * bogo - buy one get one free\n",
    "  * discount\n",
    "  * informational offer\n",
    "* *id* hashed offer id"
   ]
  },
  {
   "cell_type": "code",
   "execution_count": 15,
   "id": "wrapped-union",
   "metadata": {
    "scrolled": false
   },
   "outputs": [
    {
     "name": "stdout",
     "output_type": "stream",
     "text": [
      "<class 'pandas.core.frame.DataFrame'>\n",
      "RangeIndex: 10 entries, 0 to 9\n",
      "Data columns (total 6 columns):\n",
      " #   Column      Non-Null Count  Dtype \n",
      "---  ------      --------------  ----- \n",
      " 0   reward      10 non-null     int64 \n",
      " 1   channels    10 non-null     object\n",
      " 2   difficulty  10 non-null     int64 \n",
      " 3   duration    10 non-null     int64 \n",
      " 4   offer_type  10 non-null     object\n",
      " 5   id          10 non-null     object\n",
      "dtypes: int64(3), object(3)\n",
      "memory usage: 608.0+ bytes\n"
     ]
    }
   ],
   "source": [
    "portfolio.info()"
   ]
  },
  {
   "cell_type": "markdown",
   "id": "north-tokyo",
   "metadata": {},
   "source": [
    "**`transcript`** "
   ]
  },
  {
   "cell_type": "code",
   "execution_count": 16,
   "id": "tested-tiger",
   "metadata": {
    "scrolled": false
   },
   "outputs": [
    {
     "data": {
      "text/html": [
       "<div>\n",
       "<style scoped>\n",
       "    .dataframe tbody tr th:only-of-type {\n",
       "        vertical-align: middle;\n",
       "    }\n",
       "\n",
       "    .dataframe tbody tr th {\n",
       "        vertical-align: top;\n",
       "    }\n",
       "\n",
       "    .dataframe thead th {\n",
       "        text-align: right;\n",
       "    }\n",
       "</style>\n",
       "<table border=\"1\" class=\"dataframe\">\n",
       "  <thead>\n",
       "    <tr style=\"text-align: right;\">\n",
       "      <th></th>\n",
       "      <th>person</th>\n",
       "      <th>event</th>\n",
       "      <th>value</th>\n",
       "      <th>time</th>\n",
       "    </tr>\n",
       "  </thead>\n",
       "  <tbody>\n",
       "    <tr>\n",
       "      <th>0</th>\n",
       "      <td>78afa995795e4d85b5d9ceeca43f5fef</td>\n",
       "      <td>offer received</td>\n",
       "      <td>{'offer id': '9b98b8c7a33c4b65b9aebfe6a799e6d9'}</td>\n",
       "      <td>0</td>\n",
       "    </tr>\n",
       "    <tr>\n",
       "      <th>1</th>\n",
       "      <td>a03223e636434f42ac4c3df47e8bac43</td>\n",
       "      <td>offer received</td>\n",
       "      <td>{'offer id': '0b1e1539f2cc45b7b9fa7c272da2e1d7'}</td>\n",
       "      <td>0</td>\n",
       "    </tr>\n",
       "    <tr>\n",
       "      <th>2</th>\n",
       "      <td>e2127556f4f64592b11af22de27a7932</td>\n",
       "      <td>offer received</td>\n",
       "      <td>{'offer id': '2906b810c7d4411798c6938adc9daaa5'}</td>\n",
       "      <td>0</td>\n",
       "    </tr>\n",
       "    <tr>\n",
       "      <th>3</th>\n",
       "      <td>8ec6ce2a7e7949b1bf142def7d0e0586</td>\n",
       "      <td>offer received</td>\n",
       "      <td>{'offer id': 'fafdcd668e3743c1bb461111dcafc2a4'}</td>\n",
       "      <td>0</td>\n",
       "    </tr>\n",
       "    <tr>\n",
       "      <th>4</th>\n",
       "      <td>68617ca6246f4fbc85e91a2a49552598</td>\n",
       "      <td>offer received</td>\n",
       "      <td>{'offer id': '4d5c57ea9a6940dd891ad53e9dbe8da0'}</td>\n",
       "      <td>0</td>\n",
       "    </tr>\n",
       "    <tr>\n",
       "      <th>...</th>\n",
       "      <td>...</td>\n",
       "      <td>...</td>\n",
       "      <td>...</td>\n",
       "      <td>...</td>\n",
       "    </tr>\n",
       "    <tr>\n",
       "      <th>306529</th>\n",
       "      <td>b3a1272bc9904337b331bf348c3e8c17</td>\n",
       "      <td>transaction</td>\n",
       "      <td>{'amount': 1.5899999999999999}</td>\n",
       "      <td>714</td>\n",
       "    </tr>\n",
       "    <tr>\n",
       "      <th>306530</th>\n",
       "      <td>68213b08d99a4ae1b0dcb72aebd9aa35</td>\n",
       "      <td>transaction</td>\n",
       "      <td>{'amount': 9.53}</td>\n",
       "      <td>714</td>\n",
       "    </tr>\n",
       "    <tr>\n",
       "      <th>306531</th>\n",
       "      <td>a00058cf10334a308c68e7631c529907</td>\n",
       "      <td>transaction</td>\n",
       "      <td>{'amount': 3.61}</td>\n",
       "      <td>714</td>\n",
       "    </tr>\n",
       "    <tr>\n",
       "      <th>306532</th>\n",
       "      <td>76ddbd6576844afe811f1a3c0fbb5bec</td>\n",
       "      <td>transaction</td>\n",
       "      <td>{'amount': 3.5300000000000002}</td>\n",
       "      <td>714</td>\n",
       "    </tr>\n",
       "    <tr>\n",
       "      <th>306533</th>\n",
       "      <td>c02b10e8752c4d8e9b73f918558531f7</td>\n",
       "      <td>transaction</td>\n",
       "      <td>{'amount': 4.05}</td>\n",
       "      <td>714</td>\n",
       "    </tr>\n",
       "  </tbody>\n",
       "</table>\n",
       "<p>306534 rows × 4 columns</p>\n",
       "</div>"
      ],
      "text/plain": [
       "                                  person           event  \\\n",
       "0       78afa995795e4d85b5d9ceeca43f5fef  offer received   \n",
       "1       a03223e636434f42ac4c3df47e8bac43  offer received   \n",
       "2       e2127556f4f64592b11af22de27a7932  offer received   \n",
       "3       8ec6ce2a7e7949b1bf142def7d0e0586  offer received   \n",
       "4       68617ca6246f4fbc85e91a2a49552598  offer received   \n",
       "...                                  ...             ...   \n",
       "306529  b3a1272bc9904337b331bf348c3e8c17     transaction   \n",
       "306530  68213b08d99a4ae1b0dcb72aebd9aa35     transaction   \n",
       "306531  a00058cf10334a308c68e7631c529907     transaction   \n",
       "306532  76ddbd6576844afe811f1a3c0fbb5bec     transaction   \n",
       "306533  c02b10e8752c4d8e9b73f918558531f7     transaction   \n",
       "\n",
       "                                                   value  time  \n",
       "0       {'offer id': '9b98b8c7a33c4b65b9aebfe6a799e6d9'}     0  \n",
       "1       {'offer id': '0b1e1539f2cc45b7b9fa7c272da2e1d7'}     0  \n",
       "2       {'offer id': '2906b810c7d4411798c6938adc9daaa5'}     0  \n",
       "3       {'offer id': 'fafdcd668e3743c1bb461111dcafc2a4'}     0  \n",
       "4       {'offer id': '4d5c57ea9a6940dd891ad53e9dbe8da0'}     0  \n",
       "...                                                  ...   ...  \n",
       "306529                    {'amount': 1.5899999999999999}   714  \n",
       "306530                                  {'amount': 9.53}   714  \n",
       "306531                                  {'amount': 3.61}   714  \n",
       "306532                    {'amount': 3.5300000000000002}   714  \n",
       "306533                                  {'amount': 4.05}   714  \n",
       "\n",
       "[306534 rows x 4 columns]"
      ]
     },
     "execution_count": 16,
     "metadata": {},
     "output_type": "execute_result"
    }
   ],
   "source": [
    "transcript"
   ]
  },
  {
   "cell_type": "markdown",
   "id": "loaded-shift",
   "metadata": {},
   "source": [
    "**Dataframe columns**\n",
    "* *person* hashed user id\n",
    "* columns *event* and *value* (The second of which is a dictionary.)\n",
    "  * offer received | {'offer id': 'hashed offer id'}\n",
    "  * offer viewed | {'offer id': 'hashed offer id'}\n",
    "  * offer completed | {'offer_id': 'hashed offer id'} &rarr; This event is only logged for a user if he/she received a reward, i.e. completed an offer successfully.\n",
    "  * transaction | {'amount': money spent in transaction} &rarr; This event is logged for the amount of money a user spent regardless whether it was related to an offer or not.\n",
    "* *time* in days, continuous count from\n",
    "  * 0 (start of the observation period)\n",
    "  * to 714 (end of the observation period)"
   ]
  },
  {
   "cell_type": "code",
   "execution_count": 17,
   "id": "grave-benchmark",
   "metadata": {
    "scrolled": false
   },
   "outputs": [
    {
     "name": "stdout",
     "output_type": "stream",
     "text": [
      "<class 'pandas.core.frame.DataFrame'>\n",
      "RangeIndex: 306534 entries, 0 to 306533\n",
      "Data columns (total 4 columns):\n",
      " #   Column  Non-Null Count   Dtype \n",
      "---  ------  --------------   ----- \n",
      " 0   person  306534 non-null  object\n",
      " 1   event   306534 non-null  object\n",
      " 2   value   306534 non-null  object\n",
      " 3   time    306534 non-null  int64 \n",
      "dtypes: int64(1), object(3)\n",
      "memory usage: 9.4+ MB\n"
     ]
    }
   ],
   "source": [
    "transcript.info()"
   ]
  },
  {
   "cell_type": "code",
   "execution_count": 18,
   "id": "assigned-purse",
   "metadata": {
    "scrolled": true
   },
   "outputs": [
    {
     "data": {
      "text/html": [
       "<div>\n",
       "<style scoped>\n",
       "    .dataframe tbody tr th:only-of-type {\n",
       "        vertical-align: middle;\n",
       "    }\n",
       "\n",
       "    .dataframe tbody tr th {\n",
       "        vertical-align: top;\n",
       "    }\n",
       "\n",
       "    .dataframe thead th {\n",
       "        text-align: right;\n",
       "    }\n",
       "</style>\n",
       "<table border=\"1\" class=\"dataframe\">\n",
       "  <thead>\n",
       "    <tr style=\"text-align: right;\">\n",
       "      <th></th>\n",
       "      <th>person</th>\n",
       "      <th>event</th>\n",
       "      <th>value</th>\n",
       "      <th>time</th>\n",
       "    </tr>\n",
       "  </thead>\n",
       "  <tbody>\n",
       "    <tr>\n",
       "      <th>0</th>\n",
       "      <td>78afa995795e4d85b5d9ceeca43f5fef</td>\n",
       "      <td>offer received</td>\n",
       "      <td>{'offer id': '9b98b8c7a33c4b65b9aebfe6a799e6d9'}</td>\n",
       "      <td>0</td>\n",
       "    </tr>\n",
       "    <tr>\n",
       "      <th>15561</th>\n",
       "      <td>78afa995795e4d85b5d9ceeca43f5fef</td>\n",
       "      <td>offer viewed</td>\n",
       "      <td>{'offer id': '9b98b8c7a33c4b65b9aebfe6a799e6d9'}</td>\n",
       "      <td>6</td>\n",
       "    </tr>\n",
       "    <tr>\n",
       "      <th>47582</th>\n",
       "      <td>78afa995795e4d85b5d9ceeca43f5fef</td>\n",
       "      <td>transaction</td>\n",
       "      <td>{'amount': 19.89}</td>\n",
       "      <td>132</td>\n",
       "    </tr>\n",
       "    <tr>\n",
       "      <th>47583</th>\n",
       "      <td>78afa995795e4d85b5d9ceeca43f5fef</td>\n",
       "      <td>offer completed</td>\n",
       "      <td>{'offer_id': '9b98b8c7a33c4b65b9aebfe6a799e6d9...</td>\n",
       "      <td>132</td>\n",
       "    </tr>\n",
       "    <tr>\n",
       "      <th>49502</th>\n",
       "      <td>78afa995795e4d85b5d9ceeca43f5fef</td>\n",
       "      <td>transaction</td>\n",
       "      <td>{'amount': 17.78}</td>\n",
       "      <td>144</td>\n",
       "    </tr>\n",
       "    <tr>\n",
       "      <th>53176</th>\n",
       "      <td>78afa995795e4d85b5d9ceeca43f5fef</td>\n",
       "      <td>offer received</td>\n",
       "      <td>{'offer id': '5a8bc65990b245e5a138643cd4eb9837'}</td>\n",
       "      <td>168</td>\n",
       "    </tr>\n",
       "    <tr>\n",
       "      <th>85291</th>\n",
       "      <td>78afa995795e4d85b5d9ceeca43f5fef</td>\n",
       "      <td>offer viewed</td>\n",
       "      <td>{'offer id': '5a8bc65990b245e5a138643cd4eb9837'}</td>\n",
       "      <td>216</td>\n",
       "    </tr>\n",
       "    <tr>\n",
       "      <th>87134</th>\n",
       "      <td>78afa995795e4d85b5d9ceeca43f5fef</td>\n",
       "      <td>transaction</td>\n",
       "      <td>{'amount': 19.67}</td>\n",
       "      <td>222</td>\n",
       "    </tr>\n",
       "    <tr>\n",
       "      <th>92104</th>\n",
       "      <td>78afa995795e4d85b5d9ceeca43f5fef</td>\n",
       "      <td>transaction</td>\n",
       "      <td>{'amount': 29.72}</td>\n",
       "      <td>240</td>\n",
       "    </tr>\n",
       "    <tr>\n",
       "      <th>141566</th>\n",
       "      <td>78afa995795e4d85b5d9ceeca43f5fef</td>\n",
       "      <td>transaction</td>\n",
       "      <td>{'amount': 23.93}</td>\n",
       "      <td>378</td>\n",
       "    </tr>\n",
       "    <tr>\n",
       "      <th>150598</th>\n",
       "      <td>78afa995795e4d85b5d9ceeca43f5fef</td>\n",
       "      <td>offer received</td>\n",
       "      <td>{'offer id': 'ae264e3637204a6fb9bb56bc8210ddfd'}</td>\n",
       "      <td>408</td>\n",
       "    </tr>\n",
       "    <tr>\n",
       "      <th>163375</th>\n",
       "      <td>78afa995795e4d85b5d9ceeca43f5fef</td>\n",
       "      <td>offer viewed</td>\n",
       "      <td>{'offer id': 'ae264e3637204a6fb9bb56bc8210ddfd'}</td>\n",
       "      <td>408</td>\n",
       "    </tr>\n",
       "    <tr>\n",
       "      <th>201572</th>\n",
       "      <td>78afa995795e4d85b5d9ceeca43f5fef</td>\n",
       "      <td>offer received</td>\n",
       "      <td>{'offer id': 'f19421c1d4aa40978ebb69ca19b0e20d'}</td>\n",
       "      <td>504</td>\n",
       "    </tr>\n",
       "    <tr>\n",
       "      <th>218393</th>\n",
       "      <td>78afa995795e4d85b5d9ceeca43f5fef</td>\n",
       "      <td>transaction</td>\n",
       "      <td>{'amount': 21.72}</td>\n",
       "      <td>510</td>\n",
       "    </tr>\n",
       "    <tr>\n",
       "      <th>218394</th>\n",
       "      <td>78afa995795e4d85b5d9ceeca43f5fef</td>\n",
       "      <td>offer completed</td>\n",
       "      <td>{'offer_id': 'ae264e3637204a6fb9bb56bc8210ddfd...</td>\n",
       "      <td>510</td>\n",
       "    </tr>\n",
       "    <tr>\n",
       "      <th>218395</th>\n",
       "      <td>78afa995795e4d85b5d9ceeca43f5fef</td>\n",
       "      <td>offer completed</td>\n",
       "      <td>{'offer_id': 'f19421c1d4aa40978ebb69ca19b0e20d...</td>\n",
       "      <td>510</td>\n",
       "    </tr>\n",
       "    <tr>\n",
       "      <th>230412</th>\n",
       "      <td>78afa995795e4d85b5d9ceeca43f5fef</td>\n",
       "      <td>transaction</td>\n",
       "      <td>{'amount': 26.56}</td>\n",
       "      <td>534</td>\n",
       "    </tr>\n",
       "    <tr>\n",
       "      <th>262138</th>\n",
       "      <td>78afa995795e4d85b5d9ceeca43f5fef</td>\n",
       "      <td>offer viewed</td>\n",
       "      <td>{'offer id': 'f19421c1d4aa40978ebb69ca19b0e20d'}</td>\n",
       "      <td>582</td>\n",
       "    </tr>\n",
       "  </tbody>\n",
       "</table>\n",
       "</div>"
      ],
      "text/plain": [
       "                                  person            event  \\\n",
       "0       78afa995795e4d85b5d9ceeca43f5fef   offer received   \n",
       "15561   78afa995795e4d85b5d9ceeca43f5fef     offer viewed   \n",
       "47582   78afa995795e4d85b5d9ceeca43f5fef      transaction   \n",
       "47583   78afa995795e4d85b5d9ceeca43f5fef  offer completed   \n",
       "49502   78afa995795e4d85b5d9ceeca43f5fef      transaction   \n",
       "53176   78afa995795e4d85b5d9ceeca43f5fef   offer received   \n",
       "85291   78afa995795e4d85b5d9ceeca43f5fef     offer viewed   \n",
       "87134   78afa995795e4d85b5d9ceeca43f5fef      transaction   \n",
       "92104   78afa995795e4d85b5d9ceeca43f5fef      transaction   \n",
       "141566  78afa995795e4d85b5d9ceeca43f5fef      transaction   \n",
       "150598  78afa995795e4d85b5d9ceeca43f5fef   offer received   \n",
       "163375  78afa995795e4d85b5d9ceeca43f5fef     offer viewed   \n",
       "201572  78afa995795e4d85b5d9ceeca43f5fef   offer received   \n",
       "218393  78afa995795e4d85b5d9ceeca43f5fef      transaction   \n",
       "218394  78afa995795e4d85b5d9ceeca43f5fef  offer completed   \n",
       "218395  78afa995795e4d85b5d9ceeca43f5fef  offer completed   \n",
       "230412  78afa995795e4d85b5d9ceeca43f5fef      transaction   \n",
       "262138  78afa995795e4d85b5d9ceeca43f5fef     offer viewed   \n",
       "\n",
       "                                                    value  time  \n",
       "0        {'offer id': '9b98b8c7a33c4b65b9aebfe6a799e6d9'}     0  \n",
       "15561    {'offer id': '9b98b8c7a33c4b65b9aebfe6a799e6d9'}     6  \n",
       "47582                                   {'amount': 19.89}   132  \n",
       "47583   {'offer_id': '9b98b8c7a33c4b65b9aebfe6a799e6d9...   132  \n",
       "49502                                   {'amount': 17.78}   144  \n",
       "53176    {'offer id': '5a8bc65990b245e5a138643cd4eb9837'}   168  \n",
       "85291    {'offer id': '5a8bc65990b245e5a138643cd4eb9837'}   216  \n",
       "87134                                   {'amount': 19.67}   222  \n",
       "92104                                   {'amount': 29.72}   240  \n",
       "141566                                  {'amount': 23.93}   378  \n",
       "150598   {'offer id': 'ae264e3637204a6fb9bb56bc8210ddfd'}   408  \n",
       "163375   {'offer id': 'ae264e3637204a6fb9bb56bc8210ddfd'}   408  \n",
       "201572   {'offer id': 'f19421c1d4aa40978ebb69ca19b0e20d'}   504  \n",
       "218393                                  {'amount': 21.72}   510  \n",
       "218394  {'offer_id': 'ae264e3637204a6fb9bb56bc8210ddfd...   510  \n",
       "218395  {'offer_id': 'f19421c1d4aa40978ebb69ca19b0e20d...   510  \n",
       "230412                                  {'amount': 26.56}   534  \n",
       "262138   {'offer id': 'f19421c1d4aa40978ebb69ca19b0e20d'}   582  "
      ]
     },
     "execution_count": 18,
     "metadata": {},
     "output_type": "execute_result"
    }
   ],
   "source": [
    "# Events for a randomly selected user\n",
    "transcript[transcript.person == '78afa995795e4d85b5d9ceeca43f5fef']"
   ]
  },
  {
   "cell_type": "code",
   "execution_count": 19,
   "id": "fatty-purple",
   "metadata": {
    "scrolled": true
   },
   "outputs": [
    {
     "data": {
      "text/html": [
       "<div>\n",
       "<style scoped>\n",
       "    .dataframe tbody tr th:only-of-type {\n",
       "        vertical-align: middle;\n",
       "    }\n",
       "\n",
       "    .dataframe tbody tr th {\n",
       "        vertical-align: top;\n",
       "    }\n",
       "\n",
       "    .dataframe thead th {\n",
       "        text-align: right;\n",
       "    }\n",
       "</style>\n",
       "<table border=\"1\" class=\"dataframe\">\n",
       "  <thead>\n",
       "    <tr style=\"text-align: right;\">\n",
       "      <th></th>\n",
       "      <th>person</th>\n",
       "      <th>event</th>\n",
       "      <th>value</th>\n",
       "      <th>time</th>\n",
       "    </tr>\n",
       "  </thead>\n",
       "  <tbody>\n",
       "    <tr>\n",
       "      <th>247599</th>\n",
       "      <td>afe96b883fa846e9a972b73f8de5812f</td>\n",
       "      <td>offer received</td>\n",
       "      <td>{'offer id': 'fafdcd668e3743c1bb461111dcafc2a4'}</td>\n",
       "      <td>576</td>\n",
       "    </tr>\n",
       "    <tr>\n",
       "      <th>254122</th>\n",
       "      <td>0d069e0def304114b261daa9695433ba</td>\n",
       "      <td>offer received</td>\n",
       "      <td>{'offer id': 'ae264e3637204a6fb9bb56bc8210ddfd'}</td>\n",
       "      <td>576</td>\n",
       "    </tr>\n",
       "    <tr>\n",
       "      <th>57839</th>\n",
       "      <td>da37f5aae7834a9aa6eb19a3e4ce776a</td>\n",
       "      <td>offer received</td>\n",
       "      <td>{'offer id': '4d5c57ea9a6940dd891ad53e9dbe8da0'}</td>\n",
       "      <td>168</td>\n",
       "    </tr>\n",
       "    <tr>\n",
       "      <th>250692</th>\n",
       "      <td>233135b25fbe42b6afc24081d9caf06a</td>\n",
       "      <td>offer received</td>\n",
       "      <td>{'offer id': 'fafdcd668e3743c1bb461111dcafc2a4'}</td>\n",
       "      <td>576</td>\n",
       "    </tr>\n",
       "    <tr>\n",
       "      <th>936</th>\n",
       "      <td>83d25e2f43e1468eae4fc9111b61a9df</td>\n",
       "      <td>offer received</td>\n",
       "      <td>{'offer id': '9b98b8c7a33c4b65b9aebfe6a799e6d9'}</td>\n",
       "      <td>0</td>\n",
       "    </tr>\n",
       "  </tbody>\n",
       "</table>\n",
       "</div>"
      ],
      "text/plain": [
       "                                  person           event  \\\n",
       "247599  afe96b883fa846e9a972b73f8de5812f  offer received   \n",
       "254122  0d069e0def304114b261daa9695433ba  offer received   \n",
       "57839   da37f5aae7834a9aa6eb19a3e4ce776a  offer received   \n",
       "250692  233135b25fbe42b6afc24081d9caf06a  offer received   \n",
       "936     83d25e2f43e1468eae4fc9111b61a9df  offer received   \n",
       "\n",
       "                                                   value  time  \n",
       "247599  {'offer id': 'fafdcd668e3743c1bb461111dcafc2a4'}   576  \n",
       "254122  {'offer id': 'ae264e3637204a6fb9bb56bc8210ddfd'}   576  \n",
       "57839   {'offer id': '4d5c57ea9a6940dd891ad53e9dbe8da0'}   168  \n",
       "250692  {'offer id': 'fafdcd668e3743c1bb461111dcafc2a4'}   576  \n",
       "936     {'offer id': '9b98b8c7a33c4b65b9aebfe6a799e6d9'}     0  "
      ]
     },
     "execution_count": 19,
     "metadata": {},
     "output_type": "execute_result"
    }
   ],
   "source": [
    "transcript[transcript.event == 'offer received'].sample(5)"
   ]
  },
  {
   "cell_type": "code",
   "execution_count": 20,
   "id": "fitted-syria",
   "metadata": {},
   "outputs": [
    {
     "data": {
      "text/html": [
       "<div>\n",
       "<style scoped>\n",
       "    .dataframe tbody tr th:only-of-type {\n",
       "        vertical-align: middle;\n",
       "    }\n",
       "\n",
       "    .dataframe tbody tr th {\n",
       "        vertical-align: top;\n",
       "    }\n",
       "\n",
       "    .dataframe thead th {\n",
       "        text-align: right;\n",
       "    }\n",
       "</style>\n",
       "<table border=\"1\" class=\"dataframe\">\n",
       "  <thead>\n",
       "    <tr style=\"text-align: right;\">\n",
       "      <th></th>\n",
       "      <th>person</th>\n",
       "      <th>event</th>\n",
       "      <th>value</th>\n",
       "      <th>time</th>\n",
       "    </tr>\n",
       "  </thead>\n",
       "  <tbody>\n",
       "    <tr>\n",
       "      <th>274784</th>\n",
       "      <td>e973d133f6c547439dac45482d096241</td>\n",
       "      <td>offer viewed</td>\n",
       "      <td>{'offer id': '2298d6c36e964ae4a3e7e9706d1fb8c2'}</td>\n",
       "      <td>606</td>\n",
       "    </tr>\n",
       "    <tr>\n",
       "      <th>166758</th>\n",
       "      <td>57835e26d1a7491b9974b15583758a2b</td>\n",
       "      <td>offer viewed</td>\n",
       "      <td>{'offer id': 'ae264e3637204a6fb9bb56bc8210ddfd'}</td>\n",
       "      <td>408</td>\n",
       "    </tr>\n",
       "    <tr>\n",
       "      <th>173874</th>\n",
       "      <td>5a37cb8ebd134bd8b6d1b45024e106d5</td>\n",
       "      <td>offer viewed</td>\n",
       "      <td>{'offer id': '9b98b8c7a33c4b65b9aebfe6a799e6d9'}</td>\n",
       "      <td>420</td>\n",
       "    </tr>\n",
       "    <tr>\n",
       "      <th>17488</th>\n",
       "      <td>75c1b4d22fd24b35b2f0a52fd8ff1735</td>\n",
       "      <td>offer viewed</td>\n",
       "      <td>{'offer id': 'fafdcd668e3743c1bb461111dcafc2a4'}</td>\n",
       "      <td>6</td>\n",
       "    </tr>\n",
       "    <tr>\n",
       "      <th>190094</th>\n",
       "      <td>adb5fffb5e674fd4afc400ea893e171c</td>\n",
       "      <td>offer viewed</td>\n",
       "      <td>{'offer id': '3f207df678b143eea3cee63160fa8bed'}</td>\n",
       "      <td>462</td>\n",
       "    </tr>\n",
       "  </tbody>\n",
       "</table>\n",
       "</div>"
      ],
      "text/plain": [
       "                                  person         event  \\\n",
       "274784  e973d133f6c547439dac45482d096241  offer viewed   \n",
       "166758  57835e26d1a7491b9974b15583758a2b  offer viewed   \n",
       "173874  5a37cb8ebd134bd8b6d1b45024e106d5  offer viewed   \n",
       "17488   75c1b4d22fd24b35b2f0a52fd8ff1735  offer viewed   \n",
       "190094  adb5fffb5e674fd4afc400ea893e171c  offer viewed   \n",
       "\n",
       "                                                   value  time  \n",
       "274784  {'offer id': '2298d6c36e964ae4a3e7e9706d1fb8c2'}   606  \n",
       "166758  {'offer id': 'ae264e3637204a6fb9bb56bc8210ddfd'}   408  \n",
       "173874  {'offer id': '9b98b8c7a33c4b65b9aebfe6a799e6d9'}   420  \n",
       "17488   {'offer id': 'fafdcd668e3743c1bb461111dcafc2a4'}     6  \n",
       "190094  {'offer id': '3f207df678b143eea3cee63160fa8bed'}   462  "
      ]
     },
     "execution_count": 20,
     "metadata": {},
     "output_type": "execute_result"
    }
   ],
   "source": [
    "transcript[transcript.event == 'offer viewed'].sample(5)"
   ]
  },
  {
   "cell_type": "code",
   "execution_count": 21,
   "id": "liquid-flashing",
   "metadata": {},
   "outputs": [
    {
     "data": {
      "text/html": [
       "<div>\n",
       "<style scoped>\n",
       "    .dataframe tbody tr th:only-of-type {\n",
       "        vertical-align: middle;\n",
       "    }\n",
       "\n",
       "    .dataframe tbody tr th {\n",
       "        vertical-align: top;\n",
       "    }\n",
       "\n",
       "    .dataframe thead th {\n",
       "        text-align: right;\n",
       "    }\n",
       "</style>\n",
       "<table border=\"1\" class=\"dataframe\">\n",
       "  <thead>\n",
       "    <tr style=\"text-align: right;\">\n",
       "      <th></th>\n",
       "      <th>person</th>\n",
       "      <th>event</th>\n",
       "      <th>value</th>\n",
       "      <th>time</th>\n",
       "    </tr>\n",
       "  </thead>\n",
       "  <tbody>\n",
       "    <tr>\n",
       "      <th>86556</th>\n",
       "      <td>5180d955d076408dac0e7a3004756889</td>\n",
       "      <td>transaction</td>\n",
       "      <td>{'amount': 5.38}</td>\n",
       "      <td>216</td>\n",
       "    </tr>\n",
       "    <tr>\n",
       "      <th>282519</th>\n",
       "      <td>ea9fa7fbbcdc44d79b0f0d62d5bbbc41</td>\n",
       "      <td>transaction</td>\n",
       "      <td>{'amount': 7.8100000000000005}</td>\n",
       "      <td>624</td>\n",
       "    </tr>\n",
       "    <tr>\n",
       "      <th>184171</th>\n",
       "      <td>589b798b4cfd4429b42f139490f97708</td>\n",
       "      <td>transaction</td>\n",
       "      <td>{'amount': 6.13}</td>\n",
       "      <td>444</td>\n",
       "    </tr>\n",
       "    <tr>\n",
       "      <th>47131</th>\n",
       "      <td>2f7a17a522474ba7ab3acf8c0bad2c62</td>\n",
       "      <td>transaction</td>\n",
       "      <td>{'amount': 16.9}</td>\n",
       "      <td>126</td>\n",
       "    </tr>\n",
       "    <tr>\n",
       "      <th>303283</th>\n",
       "      <td>3a1747f3e741449387bb614da8e0171c</td>\n",
       "      <td>transaction</td>\n",
       "      <td>{'amount': 22.38}</td>\n",
       "      <td>702</td>\n",
       "    </tr>\n",
       "  </tbody>\n",
       "</table>\n",
       "</div>"
      ],
      "text/plain": [
       "                                  person        event  \\\n",
       "86556   5180d955d076408dac0e7a3004756889  transaction   \n",
       "282519  ea9fa7fbbcdc44d79b0f0d62d5bbbc41  transaction   \n",
       "184171  589b798b4cfd4429b42f139490f97708  transaction   \n",
       "47131   2f7a17a522474ba7ab3acf8c0bad2c62  transaction   \n",
       "303283  3a1747f3e741449387bb614da8e0171c  transaction   \n",
       "\n",
       "                                 value  time  \n",
       "86556                 {'amount': 5.38}   216  \n",
       "282519  {'amount': 7.8100000000000005}   624  \n",
       "184171                {'amount': 6.13}   444  \n",
       "47131                 {'amount': 16.9}   126  \n",
       "303283               {'amount': 22.38}   702  "
      ]
     },
     "execution_count": 21,
     "metadata": {},
     "output_type": "execute_result"
    }
   ],
   "source": [
    "transcript[transcript.event == 'transaction'].sample(5)"
   ]
  },
  {
   "cell_type": "code",
   "execution_count": 22,
   "id": "prepared-arnold",
   "metadata": {
    "scrolled": false
   },
   "outputs": [
    {
     "data": {
      "text/plain": [
       "array([{'offer_id': 'ae264e3637204a6fb9bb56bc8210ddfd', 'reward': 10},\n",
       "       {'offer_id': 'f19421c1d4aa40978ebb69ca19b0e20d', 'reward': 5},\n",
       "       {'offer_id': '4d5c57ea9a6940dd891ad53e9dbe8da0', 'reward': 10},\n",
       "       {'offer_id': '2906b810c7d4411798c6938adc9daaa5', 'reward': 2},\n",
       "       {'offer_id': 'fafdcd668e3743c1bb461111dcafc2a4', 'reward': 2}],\n",
       "      dtype=object)"
      ]
     },
     "execution_count": 22,
     "metadata": {},
     "output_type": "execute_result"
    }
   ],
   "source": [
    "transcript[transcript.event == 'offer completed'].sample(5).value.values"
   ]
  },
  {
   "cell_type": "code",
   "execution_count": 23,
   "id": "verified-hello",
   "metadata": {},
   "outputs": [
    {
     "data": {
      "text/plain": [
       "transaction        138953\n",
       "offer received      76277\n",
       "offer viewed        57725\n",
       "offer completed     33579\n",
       "Name: event, dtype: int64"
      ]
     },
     "execution_count": 23,
     "metadata": {},
     "output_type": "execute_result"
    }
   ],
   "source": [
    "transcript.event.value_counts()"
   ]
  },
  {
   "cell_type": "markdown",
   "id": "compatible-adelaide",
   "metadata": {},
   "source": [
    "Since there are missing entries in the ``profile`` dataframe, I will check whether transactions for these users exist."
   ]
  },
  {
   "cell_type": "code",
   "execution_count": 24,
   "id": "cellular-auckland",
   "metadata": {},
   "outputs": [],
   "source": [
    "incomplete_profiles = profile[profile.gender.isnull()]['id'].values\n",
    "transcript_profiles = transcript.person.values"
   ]
  },
  {
   "cell_type": "code",
   "execution_count": 25,
   "id": "streaming-yesterday",
   "metadata": {
    "scrolled": true
   },
   "outputs": [
    {
     "data": {
      "text/plain": [
       "(2175, 2175)"
      ]
     },
     "execution_count": 25,
     "metadata": {},
     "output_type": "execute_result"
    }
   ],
   "source": [
    "len(incomplete_profiles), len(np.intersect1d(incomplete_profiles, transcript_profiles))"
   ]
  },
  {
   "cell_type": "markdown",
   "id": "duplicate-potter",
   "metadata": {},
   "source": [
    "All users with incomplete records can be found in the ``transcript`` dataframe, i.e. have at least one event attached to them.\n",
    " \n",
    "### Assessment summary\n",
    "\n",
    "#### Data quality\n",
    "`profile`\n",
    "* Age 118 encodes missing values\n",
    "* 2,175 missing entries in *gender*, *age* and *income* column\n",
    "* Erronuous data type: *became_member_on* int64 &rarr; datetime\n",
    "  \n",
    "`portfolio`\n",
    "* *channels* combined in one column\n",
    "* Erronuous data type: *offer_type* object &rarr; categorical\n",
    "\n",
    "`transcript`\n",
    "* Different keys in *value* column describing the same: offer id and offer_id\n",
    "* Event 'offer completed' has dictionary with two keys: offer_id and reward\n",
    "\n",
    "#### Tidiness\n",
    "* `transcript` *value* column holds dictionaries \n",
    "\n",
    "### Data Cleaning"
   ]
  },
  {
   "cell_type": "code",
   "execution_count": 26,
   "id": "unusual-browse",
   "metadata": {},
   "outputs": [],
   "source": [
    "# Create copies for cleaned dataframes\n",
    "profile_clean = profile.copy()\n",
    "portfolio_clean = portfolio.copy()\n",
    "transcript_clean = transcript.copy()"
   ]
  },
  {
   "cell_type": "markdown",
   "id": "effective-bedroom",
   "metadata": {},
   "source": [
    "Before cleaning up each dataframe I will map the hashed user and offer ids to more readable versions."
   ]
  },
  {
   "cell_type": "code",
   "execution_count": 27,
   "id": "saving-elder",
   "metadata": {},
   "outputs": [],
   "source": [
    "def id_mapping(df, col):\n",
    "    \"\"\"\n",
    "    Map hashed ids to more readable version.\n",
    "    \n",
    "    INPUT:\n",
    "    df - dataframe \n",
    "    col - column containing the hashed ids\n",
    "    \n",
    "    OUTPUT:\n",
    "    encoded - list containing the shortened ids\n",
    "    mapping - dict containing all id pairs \n",
    "              key: hashed id (original), value: encoded id\n",
    "    \"\"\"\n",
    "    \n",
    "    mapping = {}\n",
    "    counter = 1\n",
    "    encoded = []\n",
    "    \n",
    "    for val in df[col]:\n",
    "        if val not in mapping:\n",
    "            mapping[val] = counter\n",
    "            counter += 1\n",
    "        \n",
    "        encoded.append(mapping[val])\n",
    "    return encoded, mapping"
   ]
  },
  {
   "cell_type": "code",
   "execution_count": 28,
   "id": "protecting-boring",
   "metadata": {
    "scrolled": false
   },
   "outputs": [
    {
     "data": {
      "text/html": [
       "<div>\n",
       "<style scoped>\n",
       "    .dataframe tbody tr th:only-of-type {\n",
       "        vertical-align: middle;\n",
       "    }\n",
       "\n",
       "    .dataframe tbody tr th {\n",
       "        vertical-align: top;\n",
       "    }\n",
       "\n",
       "    .dataframe thead th {\n",
       "        text-align: right;\n",
       "    }\n",
       "</style>\n",
       "<table border=\"1\" class=\"dataframe\">\n",
       "  <thead>\n",
       "    <tr style=\"text-align: right;\">\n",
       "      <th></th>\n",
       "      <th>gender</th>\n",
       "      <th>age</th>\n",
       "      <th>id</th>\n",
       "      <th>became_member_on</th>\n",
       "      <th>income</th>\n",
       "      <th>person_id</th>\n",
       "    </tr>\n",
       "  </thead>\n",
       "  <tbody>\n",
       "    <tr>\n",
       "      <th>0</th>\n",
       "      <td>None</td>\n",
       "      <td>118</td>\n",
       "      <td>68be06ca386d4c31939f3a4f0e3dd783</td>\n",
       "      <td>20170212</td>\n",
       "      <td>NaN</td>\n",
       "      <td>1</td>\n",
       "    </tr>\n",
       "    <tr>\n",
       "      <th>1</th>\n",
       "      <td>F</td>\n",
       "      <td>55</td>\n",
       "      <td>0610b486422d4921ae7d2bf64640c50b</td>\n",
       "      <td>20170715</td>\n",
       "      <td>112000.0</td>\n",
       "      <td>2</td>\n",
       "    </tr>\n",
       "    <tr>\n",
       "      <th>2</th>\n",
       "      <td>None</td>\n",
       "      <td>118</td>\n",
       "      <td>38fe809add3b4fcf9315a9694bb96ff5</td>\n",
       "      <td>20180712</td>\n",
       "      <td>NaN</td>\n",
       "      <td>3</td>\n",
       "    </tr>\n",
       "    <tr>\n",
       "      <th>3</th>\n",
       "      <td>F</td>\n",
       "      <td>75</td>\n",
       "      <td>78afa995795e4d85b5d9ceeca43f5fef</td>\n",
       "      <td>20170509</td>\n",
       "      <td>100000.0</td>\n",
       "      <td>4</td>\n",
       "    </tr>\n",
       "    <tr>\n",
       "      <th>4</th>\n",
       "      <td>None</td>\n",
       "      <td>118</td>\n",
       "      <td>a03223e636434f42ac4c3df47e8bac43</td>\n",
       "      <td>20170804</td>\n",
       "      <td>NaN</td>\n",
       "      <td>5</td>\n",
       "    </tr>\n",
       "  </tbody>\n",
       "</table>\n",
       "</div>"
      ],
      "text/plain": [
       "  gender  age                                id  became_member_on    income  \\\n",
       "0   None  118  68be06ca386d4c31939f3a4f0e3dd783          20170212       NaN   \n",
       "1      F   55  0610b486422d4921ae7d2bf64640c50b          20170715  112000.0   \n",
       "2   None  118  38fe809add3b4fcf9315a9694bb96ff5          20180712       NaN   \n",
       "3      F   75  78afa995795e4d85b5d9ceeca43f5fef          20170509  100000.0   \n",
       "4   None  118  a03223e636434f42ac4c3df47e8bac43          20170804       NaN   \n",
       "\n",
       "   person_id  \n",
       "0          1  \n",
       "1          2  \n",
       "2          3  \n",
       "3          4  \n",
       "4          5  "
      ]
     },
     "execution_count": 28,
     "metadata": {},
     "output_type": "execute_result"
    }
   ],
   "source": [
    "# Map person id in profile_clean\n",
    "encoded_profile, mapping_profile = id_mapping(profile_clean, 'id')\n",
    "profile_clean['person_id'] = encoded_profile\n",
    "\n",
    "profile_clean.head()"
   ]
  },
  {
   "cell_type": "markdown",
   "id": "acute-spain",
   "metadata": {},
   "source": [
    "Since the *id* column is no longer required, I will drop it."
   ]
  },
  {
   "cell_type": "code",
   "execution_count": 29,
   "id": "instant-clinton",
   "metadata": {},
   "outputs": [],
   "source": [
    "profile_clean.drop('id', axis=1, inplace=True)"
   ]
  },
  {
   "cell_type": "code",
   "execution_count": 30,
   "id": "useful-salad",
   "metadata": {
    "scrolled": false
   },
   "outputs": [
    {
     "data": {
      "text/html": [
       "<div>\n",
       "<style scoped>\n",
       "    .dataframe tbody tr th:only-of-type {\n",
       "        vertical-align: middle;\n",
       "    }\n",
       "\n",
       "    .dataframe tbody tr th {\n",
       "        vertical-align: top;\n",
       "    }\n",
       "\n",
       "    .dataframe thead th {\n",
       "        text-align: right;\n",
       "    }\n",
       "</style>\n",
       "<table border=\"1\" class=\"dataframe\">\n",
       "  <thead>\n",
       "    <tr style=\"text-align: right;\">\n",
       "      <th></th>\n",
       "      <th>reward</th>\n",
       "      <th>channels</th>\n",
       "      <th>difficulty</th>\n",
       "      <th>duration</th>\n",
       "      <th>offer_type</th>\n",
       "      <th>id</th>\n",
       "      <th>offer_id</th>\n",
       "    </tr>\n",
       "  </thead>\n",
       "  <tbody>\n",
       "    <tr>\n",
       "      <th>0</th>\n",
       "      <td>10</td>\n",
       "      <td>[email, mobile, social]</td>\n",
       "      <td>10</td>\n",
       "      <td>7</td>\n",
       "      <td>bogo</td>\n",
       "      <td>ae264e3637204a6fb9bb56bc8210ddfd</td>\n",
       "      <td>1</td>\n",
       "    </tr>\n",
       "    <tr>\n",
       "      <th>1</th>\n",
       "      <td>10</td>\n",
       "      <td>[web, email, mobile, social]</td>\n",
       "      <td>10</td>\n",
       "      <td>5</td>\n",
       "      <td>bogo</td>\n",
       "      <td>4d5c57ea9a6940dd891ad53e9dbe8da0</td>\n",
       "      <td>2</td>\n",
       "    </tr>\n",
       "    <tr>\n",
       "      <th>2</th>\n",
       "      <td>0</td>\n",
       "      <td>[web, email, mobile]</td>\n",
       "      <td>0</td>\n",
       "      <td>4</td>\n",
       "      <td>informational</td>\n",
       "      <td>3f207df678b143eea3cee63160fa8bed</td>\n",
       "      <td>3</td>\n",
       "    </tr>\n",
       "    <tr>\n",
       "      <th>3</th>\n",
       "      <td>5</td>\n",
       "      <td>[web, email, mobile]</td>\n",
       "      <td>5</td>\n",
       "      <td>7</td>\n",
       "      <td>bogo</td>\n",
       "      <td>9b98b8c7a33c4b65b9aebfe6a799e6d9</td>\n",
       "      <td>4</td>\n",
       "    </tr>\n",
       "    <tr>\n",
       "      <th>4</th>\n",
       "      <td>5</td>\n",
       "      <td>[web, email]</td>\n",
       "      <td>20</td>\n",
       "      <td>10</td>\n",
       "      <td>discount</td>\n",
       "      <td>0b1e1539f2cc45b7b9fa7c272da2e1d7</td>\n",
       "      <td>5</td>\n",
       "    </tr>\n",
       "    <tr>\n",
       "      <th>5</th>\n",
       "      <td>3</td>\n",
       "      <td>[web, email, mobile, social]</td>\n",
       "      <td>7</td>\n",
       "      <td>7</td>\n",
       "      <td>discount</td>\n",
       "      <td>2298d6c36e964ae4a3e7e9706d1fb8c2</td>\n",
       "      <td>6</td>\n",
       "    </tr>\n",
       "    <tr>\n",
       "      <th>6</th>\n",
       "      <td>2</td>\n",
       "      <td>[web, email, mobile, social]</td>\n",
       "      <td>10</td>\n",
       "      <td>10</td>\n",
       "      <td>discount</td>\n",
       "      <td>fafdcd668e3743c1bb461111dcafc2a4</td>\n",
       "      <td>7</td>\n",
       "    </tr>\n",
       "    <tr>\n",
       "      <th>7</th>\n",
       "      <td>0</td>\n",
       "      <td>[email, mobile, social]</td>\n",
       "      <td>0</td>\n",
       "      <td>3</td>\n",
       "      <td>informational</td>\n",
       "      <td>5a8bc65990b245e5a138643cd4eb9837</td>\n",
       "      <td>8</td>\n",
       "    </tr>\n",
       "    <tr>\n",
       "      <th>8</th>\n",
       "      <td>5</td>\n",
       "      <td>[web, email, mobile, social]</td>\n",
       "      <td>5</td>\n",
       "      <td>5</td>\n",
       "      <td>bogo</td>\n",
       "      <td>f19421c1d4aa40978ebb69ca19b0e20d</td>\n",
       "      <td>9</td>\n",
       "    </tr>\n",
       "    <tr>\n",
       "      <th>9</th>\n",
       "      <td>2</td>\n",
       "      <td>[web, email, mobile]</td>\n",
       "      <td>10</td>\n",
       "      <td>7</td>\n",
       "      <td>discount</td>\n",
       "      <td>2906b810c7d4411798c6938adc9daaa5</td>\n",
       "      <td>10</td>\n",
       "    </tr>\n",
       "  </tbody>\n",
       "</table>\n",
       "</div>"
      ],
      "text/plain": [
       "   reward                      channels  difficulty  duration     offer_type  \\\n",
       "0      10       [email, mobile, social]          10         7           bogo   \n",
       "1      10  [web, email, mobile, social]          10         5           bogo   \n",
       "2       0          [web, email, mobile]           0         4  informational   \n",
       "3       5          [web, email, mobile]           5         7           bogo   \n",
       "4       5                  [web, email]          20        10       discount   \n",
       "5       3  [web, email, mobile, social]           7         7       discount   \n",
       "6       2  [web, email, mobile, social]          10        10       discount   \n",
       "7       0       [email, mobile, social]           0         3  informational   \n",
       "8       5  [web, email, mobile, social]           5         5           bogo   \n",
       "9       2          [web, email, mobile]          10         7       discount   \n",
       "\n",
       "                                 id  offer_id  \n",
       "0  ae264e3637204a6fb9bb56bc8210ddfd         1  \n",
       "1  4d5c57ea9a6940dd891ad53e9dbe8da0         2  \n",
       "2  3f207df678b143eea3cee63160fa8bed         3  \n",
       "3  9b98b8c7a33c4b65b9aebfe6a799e6d9         4  \n",
       "4  0b1e1539f2cc45b7b9fa7c272da2e1d7         5  \n",
       "5  2298d6c36e964ae4a3e7e9706d1fb8c2         6  \n",
       "6  fafdcd668e3743c1bb461111dcafc2a4         7  \n",
       "7  5a8bc65990b245e5a138643cd4eb9837         8  \n",
       "8  f19421c1d4aa40978ebb69ca19b0e20d         9  \n",
       "9  2906b810c7d4411798c6938adc9daaa5        10  "
      ]
     },
     "execution_count": 30,
     "metadata": {},
     "output_type": "execute_result"
    }
   ],
   "source": [
    "# Map offer id in portfolio_clean\n",
    "encoded_portfolio, mapping_portfolio = id_mapping(portfolio_clean, 'id')\n",
    "portfolio_clean['offer_id'] = encoded_portfolio\n",
    "\n",
    "portfolio_clean"
   ]
  },
  {
   "cell_type": "markdown",
   "id": "vital-competition",
   "metadata": {},
   "source": [
    "Since the *id* column is no longer required, I will drop it."
   ]
  },
  {
   "cell_type": "code",
   "execution_count": 31,
   "id": "flush-japanese",
   "metadata": {},
   "outputs": [],
   "source": [
    "portfolio_clean.drop('id', axis=1, inplace=True)"
   ]
  },
  {
   "cell_type": "code",
   "execution_count": 32,
   "id": "forced-repeat",
   "metadata": {
    "scrolled": true
   },
   "outputs": [
    {
     "data": {
      "text/html": [
       "<div>\n",
       "<style scoped>\n",
       "    .dataframe tbody tr th:only-of-type {\n",
       "        vertical-align: middle;\n",
       "    }\n",
       "\n",
       "    .dataframe tbody tr th {\n",
       "        vertical-align: top;\n",
       "    }\n",
       "\n",
       "    .dataframe thead th {\n",
       "        text-align: right;\n",
       "    }\n",
       "</style>\n",
       "<table border=\"1\" class=\"dataframe\">\n",
       "  <thead>\n",
       "    <tr style=\"text-align: right;\">\n",
       "      <th></th>\n",
       "      <th>event</th>\n",
       "      <th>value</th>\n",
       "      <th>time</th>\n",
       "      <th>person_id</th>\n",
       "    </tr>\n",
       "  </thead>\n",
       "  <tbody>\n",
       "    <tr>\n",
       "      <th>0</th>\n",
       "      <td>offer received</td>\n",
       "      <td>{'offer id': '9b98b8c7a33c4b65b9aebfe6a799e6d9'}</td>\n",
       "      <td>0</td>\n",
       "      <td>4</td>\n",
       "    </tr>\n",
       "    <tr>\n",
       "      <th>1</th>\n",
       "      <td>offer received</td>\n",
       "      <td>{'offer id': '0b1e1539f2cc45b7b9fa7c272da2e1d7'}</td>\n",
       "      <td>0</td>\n",
       "      <td>5</td>\n",
       "    </tr>\n",
       "    <tr>\n",
       "      <th>2</th>\n",
       "      <td>offer received</td>\n",
       "      <td>{'offer id': '2906b810c7d4411798c6938adc9daaa5'}</td>\n",
       "      <td>0</td>\n",
       "      <td>6</td>\n",
       "    </tr>\n",
       "    <tr>\n",
       "      <th>3</th>\n",
       "      <td>offer received</td>\n",
       "      <td>{'offer id': 'fafdcd668e3743c1bb461111dcafc2a4'}</td>\n",
       "      <td>0</td>\n",
       "      <td>7</td>\n",
       "    </tr>\n",
       "    <tr>\n",
       "      <th>4</th>\n",
       "      <td>offer received</td>\n",
       "      <td>{'offer id': '4d5c57ea9a6940dd891ad53e9dbe8da0'}</td>\n",
       "      <td>0</td>\n",
       "      <td>8</td>\n",
       "    </tr>\n",
       "    <tr>\n",
       "      <th>5</th>\n",
       "      <td>offer received</td>\n",
       "      <td>{'offer id': 'f19421c1d4aa40978ebb69ca19b0e20d'}</td>\n",
       "      <td>0</td>\n",
       "      <td>9</td>\n",
       "    </tr>\n",
       "    <tr>\n",
       "      <th>6</th>\n",
       "      <td>offer received</td>\n",
       "      <td>{'offer id': '2298d6c36e964ae4a3e7e9706d1fb8c2'}</td>\n",
       "      <td>0</td>\n",
       "      <td>11</td>\n",
       "    </tr>\n",
       "    <tr>\n",
       "      <th>7</th>\n",
       "      <td>offer received</td>\n",
       "      <td>{'offer id': '3f207df678b143eea3cee63160fa8bed'}</td>\n",
       "      <td>0</td>\n",
       "      <td>13</td>\n",
       "    </tr>\n",
       "    <tr>\n",
       "      <th>8</th>\n",
       "      <td>offer received</td>\n",
       "      <td>{'offer id': '0b1e1539f2cc45b7b9fa7c272da2e1d7'}</td>\n",
       "      <td>0</td>\n",
       "      <td>14</td>\n",
       "    </tr>\n",
       "    <tr>\n",
       "      <th>9</th>\n",
       "      <td>offer received</td>\n",
       "      <td>{'offer id': '0b1e1539f2cc45b7b9fa7c272da2e1d7'}</td>\n",
       "      <td>0</td>\n",
       "      <td>16</td>\n",
       "    </tr>\n",
       "  </tbody>\n",
       "</table>\n",
       "</div>"
      ],
      "text/plain": [
       "            event                                             value  time  \\\n",
       "0  offer received  {'offer id': '9b98b8c7a33c4b65b9aebfe6a799e6d9'}     0   \n",
       "1  offer received  {'offer id': '0b1e1539f2cc45b7b9fa7c272da2e1d7'}     0   \n",
       "2  offer received  {'offer id': '2906b810c7d4411798c6938adc9daaa5'}     0   \n",
       "3  offer received  {'offer id': 'fafdcd668e3743c1bb461111dcafc2a4'}     0   \n",
       "4  offer received  {'offer id': '4d5c57ea9a6940dd891ad53e9dbe8da0'}     0   \n",
       "5  offer received  {'offer id': 'f19421c1d4aa40978ebb69ca19b0e20d'}     0   \n",
       "6  offer received  {'offer id': '2298d6c36e964ae4a3e7e9706d1fb8c2'}     0   \n",
       "7  offer received  {'offer id': '3f207df678b143eea3cee63160fa8bed'}     0   \n",
       "8  offer received  {'offer id': '0b1e1539f2cc45b7b9fa7c272da2e1d7'}     0   \n",
       "9  offer received  {'offer id': '0b1e1539f2cc45b7b9fa7c272da2e1d7'}     0   \n",
       "\n",
       "   person_id  \n",
       "0          4  \n",
       "1          5  \n",
       "2          6  \n",
       "3          7  \n",
       "4          8  \n",
       "5          9  \n",
       "6         11  \n",
       "7         13  \n",
       "8         14  \n",
       "9         16  "
      ]
     },
     "execution_count": 32,
     "metadata": {},
     "output_type": "execute_result"
    }
   ],
   "source": [
    "# Map person id in transcript_clean\n",
    "encoded_person = []\n",
    "for val in transcript_clean['person']:\n",
    "    encoded_person.append(mapping_profile[val])\n",
    "    \n",
    "transcript_clean['person_id'] = encoded_person\n",
    "transcript_clean.drop('person', axis=1, inplace=True)\n",
    "transcript_clean.head(10)"
   ]
  },
  {
   "cell_type": "markdown",
   "id": "conventional-insider",
   "metadata": {},
   "source": [
    "We cannot map the *value* column offer ids directly since they are stored as part of a dictionary. First, I need to transform the entire column. Then I will be able to extract the ids and map the offer ids to their corresponding encoded ids.\n",
    "\n",
    "**`profile_clean`**\n",
    "\n",
    "#### Erronuous data type\n",
    "\n",
    "##### Define\n",
    "Transform data type: *became_member_on* int64 &rarr; datetime.\n",
    "\n",
    "##### Code"
   ]
  },
  {
   "cell_type": "code",
   "execution_count": 33,
   "id": "acknowledged-tender",
   "metadata": {},
   "outputs": [],
   "source": [
    "profile_clean.became_member_on = profile_clean.became_member_on.astype(str)\n",
    "profile_clean['member_year'] = profile_clean.became_member_on.str.slice(0, 4).astype(int)\n",
    "profile_clean['member_month'] = profile_clean.became_member_on.str.slice(4, 6).astype(int)\n",
    "profile_clean['member_day'] = profile_clean.became_member_on.str.slice(6, 8).astype(int)"
   ]
  },
  {
   "cell_type": "code",
   "execution_count": 34,
   "id": "dangerous-questionnaire",
   "metadata": {},
   "outputs": [],
   "source": [
    "# Drop became_member_on column\n",
    "profile_clean.drop('became_member_on', axis=1, inplace=True)"
   ]
  },
  {
   "cell_type": "markdown",
   "id": "going-purple",
   "metadata": {},
   "source": [
    "##### Test"
   ]
  },
  {
   "cell_type": "code",
   "execution_count": 35,
   "id": "supreme-graduation",
   "metadata": {
    "scrolled": true
   },
   "outputs": [
    {
     "name": "stdout",
     "output_type": "stream",
     "text": [
      "<class 'pandas.core.frame.DataFrame'>\n",
      "RangeIndex: 17000 entries, 0 to 16999\n",
      "Data columns (total 7 columns):\n",
      " #   Column        Non-Null Count  Dtype  \n",
      "---  ------        --------------  -----  \n",
      " 0   gender        14825 non-null  object \n",
      " 1   age           17000 non-null  int64  \n",
      " 2   income        14825 non-null  float64\n",
      " 3   person_id     17000 non-null  int64  \n",
      " 4   member_year   17000 non-null  int64  \n",
      " 5   member_month  17000 non-null  int64  \n",
      " 6   member_day    17000 non-null  int64  \n",
      "dtypes: float64(1), int64(5), object(1)\n",
      "memory usage: 929.8+ KB\n"
     ]
    }
   ],
   "source": [
    "profile_clean.info()"
   ]
  },
  {
   "cell_type": "code",
   "execution_count": 36,
   "id": "suspended-yukon",
   "metadata": {
    "scrolled": true
   },
   "outputs": [
    {
     "data": {
      "text/html": [
       "<div>\n",
       "<style scoped>\n",
       "    .dataframe tbody tr th:only-of-type {\n",
       "        vertical-align: middle;\n",
       "    }\n",
       "\n",
       "    .dataframe tbody tr th {\n",
       "        vertical-align: top;\n",
       "    }\n",
       "\n",
       "    .dataframe thead th {\n",
       "        text-align: right;\n",
       "    }\n",
       "</style>\n",
       "<table border=\"1\" class=\"dataframe\">\n",
       "  <thead>\n",
       "    <tr style=\"text-align: right;\">\n",
       "      <th></th>\n",
       "      <th>gender</th>\n",
       "      <th>age</th>\n",
       "      <th>income</th>\n",
       "      <th>person_id</th>\n",
       "      <th>member_year</th>\n",
       "      <th>member_month</th>\n",
       "      <th>member_day</th>\n",
       "    </tr>\n",
       "  </thead>\n",
       "  <tbody>\n",
       "    <tr>\n",
       "      <th>0</th>\n",
       "      <td>None</td>\n",
       "      <td>118</td>\n",
       "      <td>NaN</td>\n",
       "      <td>1</td>\n",
       "      <td>2017</td>\n",
       "      <td>2</td>\n",
       "      <td>12</td>\n",
       "    </tr>\n",
       "    <tr>\n",
       "      <th>1</th>\n",
       "      <td>F</td>\n",
       "      <td>55</td>\n",
       "      <td>112000.0</td>\n",
       "      <td>2</td>\n",
       "      <td>2017</td>\n",
       "      <td>7</td>\n",
       "      <td>15</td>\n",
       "    </tr>\n",
       "    <tr>\n",
       "      <th>2</th>\n",
       "      <td>None</td>\n",
       "      <td>118</td>\n",
       "      <td>NaN</td>\n",
       "      <td>3</td>\n",
       "      <td>2018</td>\n",
       "      <td>7</td>\n",
       "      <td>12</td>\n",
       "    </tr>\n",
       "    <tr>\n",
       "      <th>3</th>\n",
       "      <td>F</td>\n",
       "      <td>75</td>\n",
       "      <td>100000.0</td>\n",
       "      <td>4</td>\n",
       "      <td>2017</td>\n",
       "      <td>5</td>\n",
       "      <td>9</td>\n",
       "    </tr>\n",
       "    <tr>\n",
       "      <th>4</th>\n",
       "      <td>None</td>\n",
       "      <td>118</td>\n",
       "      <td>NaN</td>\n",
       "      <td>5</td>\n",
       "      <td>2017</td>\n",
       "      <td>8</td>\n",
       "      <td>4</td>\n",
       "    </tr>\n",
       "  </tbody>\n",
       "</table>\n",
       "</div>"
      ],
      "text/plain": [
       "  gender  age    income  person_id  member_year  member_month  member_day\n",
       "0   None  118       NaN          1         2017             2          12\n",
       "1      F   55  112000.0          2         2017             7          15\n",
       "2   None  118       NaN          3         2018             7          12\n",
       "3      F   75  100000.0          4         2017             5           9\n",
       "4   None  118       NaN          5         2017             8           4"
      ]
     },
     "execution_count": 36,
     "metadata": {},
     "output_type": "execute_result"
    }
   ],
   "source": [
    "profile_clean.head()"
   ]
  },
  {
   "cell_type": "markdown",
   "id": "scenic-astronomy",
   "metadata": {},
   "source": [
    "#### Missing values\n",
    "* Age 118 encodes missing values\n",
    "* 2,175 missing entries in *gender*, *age* and *income* column\n",
    "\n",
    "##### Define\n",
    "I will build models for users with and without missing values which is why I will split ``profile_clean`` into two dataframes:\n",
    "* ``profile_complete`` (see <a href=\"#model1\">Model 1</a>)\n",
    "* ``profile_incomplete`` (see <a href=\"#model2\">Model 2</a>)\n",
    "\n",
    "For ``profile_incomplete`` I will replace the age 118 with actual NaNs to avoid future misinterpretation.\n",
    "\n",
    "##### Code"
   ]
  },
  {
   "cell_type": "code",
   "execution_count": 37,
   "id": "forty-belle",
   "metadata": {},
   "outputs": [],
   "source": [
    "profile_complete = profile_clean.drop(profile_clean[profile_clean.gender.isnull()].index)\n",
    "profile_incomplete = profile_clean.drop(profile_clean[profile_clean.gender.notnull()].index)"
   ]
  },
  {
   "cell_type": "code",
   "execution_count": 38,
   "id": "serious-dubai",
   "metadata": {},
   "outputs": [],
   "source": [
    "profile_incomplete['age'] = np.nan"
   ]
  },
  {
   "cell_type": "markdown",
   "id": "burning-rover",
   "metadata": {},
   "source": [
    "##### Test"
   ]
  },
  {
   "cell_type": "code",
   "execution_count": 39,
   "id": "touched-circular",
   "metadata": {
    "scrolled": true
   },
   "outputs": [
    {
     "name": "stdout",
     "output_type": "stream",
     "text": [
      "<class 'pandas.core.frame.DataFrame'>\n",
      "Int64Index: 14825 entries, 1 to 16999\n",
      "Data columns (total 7 columns):\n",
      " #   Column        Non-Null Count  Dtype  \n",
      "---  ------        --------------  -----  \n",
      " 0   gender        14825 non-null  object \n",
      " 1   age           14825 non-null  int64  \n",
      " 2   income        14825 non-null  float64\n",
      " 3   person_id     14825 non-null  int64  \n",
      " 4   member_year   14825 non-null  int64  \n",
      " 5   member_month  14825 non-null  int64  \n",
      " 6   member_day    14825 non-null  int64  \n",
      "dtypes: float64(1), int64(5), object(1)\n",
      "memory usage: 926.6+ KB\n"
     ]
    }
   ],
   "source": [
    "profile_complete.info()"
   ]
  },
  {
   "cell_type": "code",
   "execution_count": 40,
   "id": "retained-contribution",
   "metadata": {
    "scrolled": true
   },
   "outputs": [
    {
     "name": "stdout",
     "output_type": "stream",
     "text": [
      "<class 'pandas.core.frame.DataFrame'>\n",
      "Int64Index: 2175 entries, 0 to 16994\n",
      "Data columns (total 7 columns):\n",
      " #   Column        Non-Null Count  Dtype  \n",
      "---  ------        --------------  -----  \n",
      " 0   gender        0 non-null      object \n",
      " 1   age           0 non-null      float64\n",
      " 2   income        0 non-null      float64\n",
      " 3   person_id     2175 non-null   int64  \n",
      " 4   member_year   2175 non-null   int64  \n",
      " 5   member_month  2175 non-null   int64  \n",
      " 6   member_day    2175 non-null   int64  \n",
      "dtypes: float64(2), int64(4), object(1)\n",
      "memory usage: 135.9+ KB\n"
     ]
    }
   ],
   "source": [
    "profile_incomplete.info()"
   ]
  },
  {
   "cell_type": "markdown",
   "id": "vanilla-inspector",
   "metadata": {},
   "source": [
    "**`portfolio_clean`**\n",
    "\n",
    "#### *channels* combined in one column\n",
    "\n",
    "##### Define \n",
    "Split *channels* into separate columns each representing one particular communication channel. Use 1 and 0 to indicate whether a channel was used for an offer or not.\n",
    "\n",
    "##### Code"
   ]
  },
  {
   "cell_type": "code",
   "execution_count": 41,
   "id": "young-violence",
   "metadata": {},
   "outputs": [],
   "source": [
    "for i, val in enumerate(portfolio_clean['channels']):\n",
    "    for channel in val:\n",
    "        portfolio_clean.loc[i, channel] = 1"
   ]
  },
  {
   "cell_type": "code",
   "execution_count": 42,
   "id": "hundred-orientation",
   "metadata": {},
   "outputs": [],
   "source": [
    "portfolio_clean.fillna(0, inplace=True)"
   ]
  },
  {
   "cell_type": "code",
   "execution_count": 43,
   "id": "extensive-bracelet",
   "metadata": {},
   "outputs": [],
   "source": [
    "for col in ['email', 'mobile', 'social', 'web']:\n",
    "    portfolio_clean[col] = portfolio_clean[col].astype(int)"
   ]
  },
  {
   "cell_type": "markdown",
   "id": "amber-discretion",
   "metadata": {},
   "source": [
    "##### Test"
   ]
  },
  {
   "cell_type": "code",
   "execution_count": 44,
   "id": "dried-decline",
   "metadata": {
    "scrolled": true
   },
   "outputs": [
    {
     "data": {
      "text/html": [
       "<div>\n",
       "<style scoped>\n",
       "    .dataframe tbody tr th:only-of-type {\n",
       "        vertical-align: middle;\n",
       "    }\n",
       "\n",
       "    .dataframe tbody tr th {\n",
       "        vertical-align: top;\n",
       "    }\n",
       "\n",
       "    .dataframe thead th {\n",
       "        text-align: right;\n",
       "    }\n",
       "</style>\n",
       "<table border=\"1\" class=\"dataframe\">\n",
       "  <thead>\n",
       "    <tr style=\"text-align: right;\">\n",
       "      <th></th>\n",
       "      <th>reward</th>\n",
       "      <th>channels</th>\n",
       "      <th>difficulty</th>\n",
       "      <th>duration</th>\n",
       "      <th>offer_type</th>\n",
       "      <th>offer_id</th>\n",
       "      <th>email</th>\n",
       "      <th>mobile</th>\n",
       "      <th>social</th>\n",
       "      <th>web</th>\n",
       "    </tr>\n",
       "  </thead>\n",
       "  <tbody>\n",
       "    <tr>\n",
       "      <th>0</th>\n",
       "      <td>10</td>\n",
       "      <td>[email, mobile, social]</td>\n",
       "      <td>10</td>\n",
       "      <td>7</td>\n",
       "      <td>bogo</td>\n",
       "      <td>1</td>\n",
       "      <td>1</td>\n",
       "      <td>1</td>\n",
       "      <td>1</td>\n",
       "      <td>0</td>\n",
       "    </tr>\n",
       "    <tr>\n",
       "      <th>1</th>\n",
       "      <td>10</td>\n",
       "      <td>[web, email, mobile, social]</td>\n",
       "      <td>10</td>\n",
       "      <td>5</td>\n",
       "      <td>bogo</td>\n",
       "      <td>2</td>\n",
       "      <td>1</td>\n",
       "      <td>1</td>\n",
       "      <td>1</td>\n",
       "      <td>1</td>\n",
       "    </tr>\n",
       "    <tr>\n",
       "      <th>2</th>\n",
       "      <td>0</td>\n",
       "      <td>[web, email, mobile]</td>\n",
       "      <td>0</td>\n",
       "      <td>4</td>\n",
       "      <td>informational</td>\n",
       "      <td>3</td>\n",
       "      <td>1</td>\n",
       "      <td>1</td>\n",
       "      <td>0</td>\n",
       "      <td>1</td>\n",
       "    </tr>\n",
       "    <tr>\n",
       "      <th>3</th>\n",
       "      <td>5</td>\n",
       "      <td>[web, email, mobile]</td>\n",
       "      <td>5</td>\n",
       "      <td>7</td>\n",
       "      <td>bogo</td>\n",
       "      <td>4</td>\n",
       "      <td>1</td>\n",
       "      <td>1</td>\n",
       "      <td>0</td>\n",
       "      <td>1</td>\n",
       "    </tr>\n",
       "    <tr>\n",
       "      <th>4</th>\n",
       "      <td>5</td>\n",
       "      <td>[web, email]</td>\n",
       "      <td>20</td>\n",
       "      <td>10</td>\n",
       "      <td>discount</td>\n",
       "      <td>5</td>\n",
       "      <td>1</td>\n",
       "      <td>0</td>\n",
       "      <td>0</td>\n",
       "      <td>1</td>\n",
       "    </tr>\n",
       "    <tr>\n",
       "      <th>5</th>\n",
       "      <td>3</td>\n",
       "      <td>[web, email, mobile, social]</td>\n",
       "      <td>7</td>\n",
       "      <td>7</td>\n",
       "      <td>discount</td>\n",
       "      <td>6</td>\n",
       "      <td>1</td>\n",
       "      <td>1</td>\n",
       "      <td>1</td>\n",
       "      <td>1</td>\n",
       "    </tr>\n",
       "    <tr>\n",
       "      <th>6</th>\n",
       "      <td>2</td>\n",
       "      <td>[web, email, mobile, social]</td>\n",
       "      <td>10</td>\n",
       "      <td>10</td>\n",
       "      <td>discount</td>\n",
       "      <td>7</td>\n",
       "      <td>1</td>\n",
       "      <td>1</td>\n",
       "      <td>1</td>\n",
       "      <td>1</td>\n",
       "    </tr>\n",
       "    <tr>\n",
       "      <th>7</th>\n",
       "      <td>0</td>\n",
       "      <td>[email, mobile, social]</td>\n",
       "      <td>0</td>\n",
       "      <td>3</td>\n",
       "      <td>informational</td>\n",
       "      <td>8</td>\n",
       "      <td>1</td>\n",
       "      <td>1</td>\n",
       "      <td>1</td>\n",
       "      <td>0</td>\n",
       "    </tr>\n",
       "    <tr>\n",
       "      <th>8</th>\n",
       "      <td>5</td>\n",
       "      <td>[web, email, mobile, social]</td>\n",
       "      <td>5</td>\n",
       "      <td>5</td>\n",
       "      <td>bogo</td>\n",
       "      <td>9</td>\n",
       "      <td>1</td>\n",
       "      <td>1</td>\n",
       "      <td>1</td>\n",
       "      <td>1</td>\n",
       "    </tr>\n",
       "    <tr>\n",
       "      <th>9</th>\n",
       "      <td>2</td>\n",
       "      <td>[web, email, mobile]</td>\n",
       "      <td>10</td>\n",
       "      <td>7</td>\n",
       "      <td>discount</td>\n",
       "      <td>10</td>\n",
       "      <td>1</td>\n",
       "      <td>1</td>\n",
       "      <td>0</td>\n",
       "      <td>1</td>\n",
       "    </tr>\n",
       "  </tbody>\n",
       "</table>\n",
       "</div>"
      ],
      "text/plain": [
       "   reward                      channels  difficulty  duration     offer_type  \\\n",
       "0      10       [email, mobile, social]          10         7           bogo   \n",
       "1      10  [web, email, mobile, social]          10         5           bogo   \n",
       "2       0          [web, email, mobile]           0         4  informational   \n",
       "3       5          [web, email, mobile]           5         7           bogo   \n",
       "4       5                  [web, email]          20        10       discount   \n",
       "5       3  [web, email, mobile, social]           7         7       discount   \n",
       "6       2  [web, email, mobile, social]          10        10       discount   \n",
       "7       0       [email, mobile, social]           0         3  informational   \n",
       "8       5  [web, email, mobile, social]           5         5           bogo   \n",
       "9       2          [web, email, mobile]          10         7       discount   \n",
       "\n",
       "   offer_id  email  mobile  social  web  \n",
       "0         1      1       1       1    0  \n",
       "1         2      1       1       1    1  \n",
       "2         3      1       1       0    1  \n",
       "3         4      1       1       0    1  \n",
       "4         5      1       0       0    1  \n",
       "5         6      1       1       1    1  \n",
       "6         7      1       1       1    1  \n",
       "7         8      1       1       1    0  \n",
       "8         9      1       1       1    1  \n",
       "9        10      1       1       0    1  "
      ]
     },
     "execution_count": 44,
     "metadata": {},
     "output_type": "execute_result"
    }
   ],
   "source": [
    "portfolio_clean"
   ]
  },
  {
   "cell_type": "code",
   "execution_count": 45,
   "id": "common-mileage",
   "metadata": {},
   "outputs": [],
   "source": [
    "# Drop channels column\n",
    "portfolio_clean.drop('channels', axis=1, inplace=True)"
   ]
  },
  {
   "cell_type": "markdown",
   "id": "environmental-combine",
   "metadata": {},
   "source": [
    "#### Erronuous data type\n",
    "\n",
    "##### Define\n",
    "Transform data type: *offer_type* object &rarr; categorical.\n",
    "\n",
    "##### Code"
   ]
  },
  {
   "cell_type": "code",
   "execution_count": 46,
   "id": "defined-specific",
   "metadata": {},
   "outputs": [],
   "source": [
    "portfolio_clean['offer_type'] = portfolio_clean['offer_type'].astype('category')"
   ]
  },
  {
   "cell_type": "markdown",
   "id": "bright-pizza",
   "metadata": {},
   "source": [
    "##### Test"
   ]
  },
  {
   "cell_type": "code",
   "execution_count": 47,
   "id": "deadly-polymer",
   "metadata": {},
   "outputs": [
    {
     "name": "stdout",
     "output_type": "stream",
     "text": [
      "<class 'pandas.core.frame.DataFrame'>\n",
      "RangeIndex: 10 entries, 0 to 9\n",
      "Data columns (total 9 columns):\n",
      " #   Column      Non-Null Count  Dtype   \n",
      "---  ------      --------------  -----   \n",
      " 0   reward      10 non-null     int64   \n",
      " 1   difficulty  10 non-null     int64   \n",
      " 2   duration    10 non-null     int64   \n",
      " 3   offer_type  10 non-null     category\n",
      " 4   offer_id    10 non-null     int64   \n",
      " 5   email       10 non-null     int64   \n",
      " 6   mobile      10 non-null     int64   \n",
      " 7   social      10 non-null     int64   \n",
      " 8   web         10 non-null     int64   \n",
      "dtypes: category(1), int64(8)\n",
      "memory usage: 910.0 bytes\n"
     ]
    }
   ],
   "source": [
    "portfolio_clean.info()"
   ]
  },
  {
   "cell_type": "markdown",
   "id": "compressed-tractor",
   "metadata": {},
   "source": [
    "**`transcript`**\n",
    "\n",
    "#### Different keys in *value* column describing the same: offer id and offer_id // Event 'offer completed' has dictionary with two keys: offer_id and reward // Tidiness \n",
    "**Note:** All issues can be handled at once.\n",
    "\n",
    "##### Define\n",
    "Separate the value column into three columns *offer_id*, *amount* and *reward*.\n",
    "\n",
    "##### Code"
   ]
  },
  {
   "cell_type": "code",
   "execution_count": 48,
   "id": "nervous-congo",
   "metadata": {},
   "outputs": [],
   "source": [
    "# Extract values from dictionary in value column\n",
    "tmp = pd.DataFrame(transcript_clean.value.values.tolist())"
   ]
  },
  {
   "cell_type": "code",
   "execution_count": 49,
   "id": "democratic-nothing",
   "metadata": {},
   "outputs": [],
   "source": [
    "# Combine offer_id and offer id into one column\n",
    "tmp.loc[tmp['offer id'].isnull(), 'offer id'] = tmp.loc[tmp['offer id'].isnull(), 'offer_id'].values\n",
    "tmp.drop('offer_id', axis=1, inplace=True)"
   ]
  },
  {
   "cell_type": "code",
   "execution_count": 50,
   "id": "arabic-contribution",
   "metadata": {},
   "outputs": [],
   "source": [
    "# Combine transcript_clean with the temporary df\n",
    "transcript_clean = pd.concat([transcript_clean, tmp], axis=1)"
   ]
  },
  {
   "cell_type": "code",
   "execution_count": 51,
   "id": "lesser-scholarship",
   "metadata": {
    "scrolled": false
   },
   "outputs": [],
   "source": [
    "# Map offer id to unhashed ids\n",
    "encoded_offer = []\n",
    "for val in transcript_clean['offer id']:\n",
    "    if pd.isna(val):\n",
    "        encoded_offer.append(np.nan)\n",
    "    else:\n",
    "        encoded_offer.append(mapping_portfolio[val])\n",
    "    \n",
    "transcript_clean['offer_id'] = encoded_offer\n",
    "transcript_clean.drop('offer id', axis=1, inplace=True)"
   ]
  },
  {
   "cell_type": "code",
   "execution_count": 52,
   "id": "freelance-memory",
   "metadata": {},
   "outputs": [],
   "source": [
    "# Drop value column since it's no longer required\n",
    "transcript_clean.drop('value', axis=1, inplace=True)"
   ]
  },
  {
   "cell_type": "markdown",
   "id": "physical-start",
   "metadata": {},
   "source": [
    "##### Test"
   ]
  },
  {
   "cell_type": "code",
   "execution_count": 53,
   "id": "interstate-sensitivity",
   "metadata": {
    "scrolled": true
   },
   "outputs": [
    {
     "data": {
      "text/html": [
       "<div>\n",
       "<style scoped>\n",
       "    .dataframe tbody tr th:only-of-type {\n",
       "        vertical-align: middle;\n",
       "    }\n",
       "\n",
       "    .dataframe tbody tr th {\n",
       "        vertical-align: top;\n",
       "    }\n",
       "\n",
       "    .dataframe thead th {\n",
       "        text-align: right;\n",
       "    }\n",
       "</style>\n",
       "<table border=\"1\" class=\"dataframe\">\n",
       "  <thead>\n",
       "    <tr style=\"text-align: right;\">\n",
       "      <th></th>\n",
       "      <th>event</th>\n",
       "      <th>time</th>\n",
       "      <th>person_id</th>\n",
       "      <th>amount</th>\n",
       "      <th>reward</th>\n",
       "      <th>offer_id</th>\n",
       "    </tr>\n",
       "  </thead>\n",
       "  <tbody>\n",
       "    <tr>\n",
       "      <th>0</th>\n",
       "      <td>offer received</td>\n",
       "      <td>0</td>\n",
       "      <td>4</td>\n",
       "      <td>NaN</td>\n",
       "      <td>NaN</td>\n",
       "      <td>4.0</td>\n",
       "    </tr>\n",
       "    <tr>\n",
       "      <th>1</th>\n",
       "      <td>offer received</td>\n",
       "      <td>0</td>\n",
       "      <td>5</td>\n",
       "      <td>NaN</td>\n",
       "      <td>NaN</td>\n",
       "      <td>5.0</td>\n",
       "    </tr>\n",
       "    <tr>\n",
       "      <th>2</th>\n",
       "      <td>offer received</td>\n",
       "      <td>0</td>\n",
       "      <td>6</td>\n",
       "      <td>NaN</td>\n",
       "      <td>NaN</td>\n",
       "      <td>10.0</td>\n",
       "    </tr>\n",
       "    <tr>\n",
       "      <th>3</th>\n",
       "      <td>offer received</td>\n",
       "      <td>0</td>\n",
       "      <td>7</td>\n",
       "      <td>NaN</td>\n",
       "      <td>NaN</td>\n",
       "      <td>7.0</td>\n",
       "    </tr>\n",
       "    <tr>\n",
       "      <th>4</th>\n",
       "      <td>offer received</td>\n",
       "      <td>0</td>\n",
       "      <td>8</td>\n",
       "      <td>NaN</td>\n",
       "      <td>NaN</td>\n",
       "      <td>2.0</td>\n",
       "    </tr>\n",
       "    <tr>\n",
       "      <th>5</th>\n",
       "      <td>offer received</td>\n",
       "      <td>0</td>\n",
       "      <td>9</td>\n",
       "      <td>NaN</td>\n",
       "      <td>NaN</td>\n",
       "      <td>9.0</td>\n",
       "    </tr>\n",
       "    <tr>\n",
       "      <th>6</th>\n",
       "      <td>offer received</td>\n",
       "      <td>0</td>\n",
       "      <td>11</td>\n",
       "      <td>NaN</td>\n",
       "      <td>NaN</td>\n",
       "      <td>6.0</td>\n",
       "    </tr>\n",
       "    <tr>\n",
       "      <th>7</th>\n",
       "      <td>offer received</td>\n",
       "      <td>0</td>\n",
       "      <td>13</td>\n",
       "      <td>NaN</td>\n",
       "      <td>NaN</td>\n",
       "      <td>3.0</td>\n",
       "    </tr>\n",
       "    <tr>\n",
       "      <th>8</th>\n",
       "      <td>offer received</td>\n",
       "      <td>0</td>\n",
       "      <td>14</td>\n",
       "      <td>NaN</td>\n",
       "      <td>NaN</td>\n",
       "      <td>5.0</td>\n",
       "    </tr>\n",
       "    <tr>\n",
       "      <th>9</th>\n",
       "      <td>offer received</td>\n",
       "      <td>0</td>\n",
       "      <td>16</td>\n",
       "      <td>NaN</td>\n",
       "      <td>NaN</td>\n",
       "      <td>5.0</td>\n",
       "    </tr>\n",
       "  </tbody>\n",
       "</table>\n",
       "</div>"
      ],
      "text/plain": [
       "            event  time  person_id  amount  reward  offer_id\n",
       "0  offer received     0          4     NaN     NaN       4.0\n",
       "1  offer received     0          5     NaN     NaN       5.0\n",
       "2  offer received     0          6     NaN     NaN      10.0\n",
       "3  offer received     0          7     NaN     NaN       7.0\n",
       "4  offer received     0          8     NaN     NaN       2.0\n",
       "5  offer received     0          9     NaN     NaN       9.0\n",
       "6  offer received     0         11     NaN     NaN       6.0\n",
       "7  offer received     0         13     NaN     NaN       3.0\n",
       "8  offer received     0         14     NaN     NaN       5.0\n",
       "9  offer received     0         16     NaN     NaN       5.0"
      ]
     },
     "execution_count": 53,
     "metadata": {},
     "output_type": "execute_result"
    }
   ],
   "source": [
    "transcript_clean.head(10)"
   ]
  },
  {
   "cell_type": "code",
   "execution_count": 54,
   "id": "generous-carter",
   "metadata": {},
   "outputs": [
    {
     "data": {
      "text/plain": [
       "transaction        138953\n",
       "offer received      76277\n",
       "offer viewed        57725\n",
       "offer completed     33579\n",
       "Name: event, dtype: int64"
      ]
     },
     "execution_count": 54,
     "metadata": {},
     "output_type": "execute_result"
    }
   ],
   "source": [
    "transcript_clean.event.value_counts()"
   ]
  },
  {
   "cell_type": "markdown",
   "id": "european-guidance",
   "metadata": {},
   "source": [
    "***\n",
    "<a id=\"explore\"></a>\n",
    "## Exploratory Data Analysis\n",
    "\n",
    "For this next part, I will explore each dataframe to gain first insights about the users represented in ``profile`` and their transactions in ``transcript_clean``.\n",
    "\n",
    "**``profile_complete``**"
   ]
  },
  {
   "cell_type": "code",
   "execution_count": 55,
   "id": "interior-stevens",
   "metadata": {
    "scrolled": true
   },
   "outputs": [
    {
     "data": {
      "text/plain": [
       "M    0.572277\n",
       "F    0.413423\n",
       "O    0.014300\n",
       "Name: gender, dtype: float64"
      ]
     },
     "execution_count": 55,
     "metadata": {},
     "output_type": "execute_result"
    }
   ],
   "source": [
    "profile_complete.gender.value_counts() / profile_complete.shape[0]"
   ]
  },
  {
   "cell_type": "markdown",
   "id": "historic-guitar",
   "metadata": {},
   "source": [
    "With a share of 57%, men represented the largest user group. 41% were women and only 1% belonged to the category *Other*. "
   ]
  },
  {
   "cell_type": "code",
   "execution_count": 56,
   "id": "labeled-edmonton",
   "metadata": {
    "scrolled": false
   },
   "outputs": [
    {
     "data": {
      "image/png": "[encoded data removed]",
      "text/plain": [
       "<Figure size 360x360 with 1 Axes>"
      ]
     },
     "metadata": {
      "needs_background": "light"
     },
     "output_type": "display_data"
    }
   ],
   "source": [
    "bins = np.arange(0, profile_complete.age.max()+5, 5)\n",
    "sb.displot(profile_complete.age, bins=bins)\n",
    "plt.title('User Age Distribution')\n",
    "plt.xlabel('Age');"
   ]
  },
  {
   "cell_type": "markdown",
   "id": "digital-merchandise",
   "metadata": {},
   "source": [
    "The user age roughly followed a normal distribution and was centered around 54 years. The youngest users were 18 years old, the oldest 101."
   ]
  },
  {
   "cell_type": "code",
   "execution_count": 57,
   "id": "collaborative-telephone",
   "metadata": {
    "scrolled": true
   },
   "outputs": [
    {
     "data": {
      "image/png": "[encoded data removed]",
      "text/plain": [
       "<Figure size 360x360 with 1 Axes>"
      ]
     },
     "metadata": {
      "needs_background": "light"
     },
     "output_type": "display_data"
    }
   ],
   "source": [
    "bins = np.arange(30000, profile_complete.income.max()+5000, 5000)\n",
    "sb.displot(profile_complete.income, bins=bins)\n",
    "plt.title('User Income Distribution')\n",
    "plt.xlabel('Annual Income (USD)');"
   ]
  },
  {
   "cell_type": "markdown",
   "id": "written-checkout",
   "metadata": {},
   "source": [
    "When looking at income buckets of USD 5,000 most users earned between USD 50,000 and USD 75,000. Beyond USD 75,000 annual salary, the number of users per bucket gradually decreased. Another large user group belonged to the low income population earning between USD 30,000 and USD 50,000."
   ]
  },
  {
   "cell_type": "code",
   "execution_count": 58,
   "id": "clear-dayton",
   "metadata": {
    "scrolled": true
   },
   "outputs": [
    {
     "data": {
      "image/png": "[encoded data removed]",
      "text/plain": [
       "<Figure size 1080x360 with 2 Axes>"
      ]
     },
     "metadata": {
      "needs_background": "light"
     },
     "output_type": "display_data"
    }
   ],
   "source": [
    "base_color = sb.color_palette()[0]\n",
    "plt.figure(figsize=(15,5))\n",
    "\n",
    "plt.subplot(1, 2, 1)\n",
    "sb.countplot(data=profile_complete, x='member_year', color=base_color)\n",
    "plt.title('Number of Users separated by Membership Year (Complete Profile)')\n",
    "plt.xlabel('Year in which a user became a member')\n",
    "plt.ylabel('Count')\n",
    "\n",
    "plt.subplot(1, 2, 2)\n",
    "sb.countplot(data=profile_incomplete, x='member_year', color=base_color)\n",
    "plt.title('Number of Users separated by Membership Year (Incomplete Profile)')\n",
    "plt.xlabel('Year in which a user became a member')\n",
    "plt.ylabel('Count');"
   ]
  },
  {
   "cell_type": "markdown",
   "id": "exceptional-birth",
   "metadata": {},
   "source": [
    "Most users became a Starbucks member in 2017. Between 2013 and 2016 the number of members signing up continuously increased. In 2018 Starbucks experienced a drop in new memberships. This pattern is true for both user groups, with complete and incomplete profiles."
   ]
  },
  {
   "cell_type": "code",
   "execution_count": 59,
   "id": "coupled-chosen",
   "metadata": {
    "scrolled": true
   },
   "outputs": [
    {
     "data": {
      "text/plain": [
       "gender\n",
       "F    57.544950\n",
       "M    52.116690\n",
       "O    54.400943\n",
       "Name: age, dtype: float64"
      ]
     },
     "execution_count": 59,
     "metadata": {},
     "output_type": "execute_result"
    }
   ],
   "source": [
    "profile_complete.groupby('gender')['age'].mean()"
   ]
  },
  {
   "cell_type": "markdown",
   "id": "conditional-jackson",
   "metadata": {},
   "source": [
    "Women represented the oldest user group with an average of 57 years. The average male user was 5 years younger and the average other user 54."
   ]
  },
  {
   "cell_type": "code",
   "execution_count": 60,
   "id": "parliamentary-series",
   "metadata": {
    "scrolled": false
   },
   "outputs": [
    {
     "data": {
      "image/png": "[encoded data removed]",
      "text/plain": [
       "<Figure size 432x288 with 1 Axes>"
      ]
     },
     "metadata": {
      "needs_background": "light"
     },
     "output_type": "display_data"
    }
   ],
   "source": [
    "profile_complete.groupby('gender')['income'].mean().plot(kind='bar')\n",
    "plt.ylim(50000, None)\n",
    "plt.title('Average Income separated by Gender')\n",
    "plt.xlabel('Gender')\n",
    "plt.ylabel('Average Annual Income (USD)');"
   ]
  },
  {
   "cell_type": "code",
   "execution_count": 61,
   "id": "fifty-crawford",
   "metadata": {},
   "outputs": [
    {
     "data": {
      "text/plain": [
       "gender\n",
       "F    71306.412139\n",
       "M    61194.601603\n",
       "O    63287.735849\n",
       "Name: income, dtype: float64"
      ]
     },
     "execution_count": 61,
     "metadata": {},
     "output_type": "execute_result"
    }
   ],
   "source": [
    "profile_complete.groupby('gender')['income'].mean()"
   ]
  },
  {
   "cell_type": "markdown",
   "id": "varied-thought",
   "metadata": {},
   "source": [
    "Women earned more than USD 70,000 per year. Men on the other hand earned USD 10,000 less. The other users had an annual income of around USD 63,000."
   ]
  },
  {
   "cell_type": "code",
   "execution_count": 62,
   "id": "northern-theology",
   "metadata": {
    "scrolled": true
   },
   "outputs": [
    {
     "data": {
      "image/png": "[encoded data removed]",
      "text/plain": [
       "<Figure size 432x288 with 1 Axes>"
      ]
     },
     "metadata": {
      "needs_background": "light"
     },
     "output_type": "display_data"
    }
   ],
   "source": [
    "sample_size = 0.3 # If you choose 1 the entire dataset will be displayed\n",
    "sample = profile_complete.sample(int(sample_size*profile_complete.shape[0]))\n",
    "x_bins = np.arange(0, sample.age.max()+5, 5)\n",
    "y_bins = np.arange(30000, sample.income.max()+5000, 5000)\n",
    "plt.hist2d(x=sample['age'], y=sample['income'], cmin=0.5, cmap='rocket_r', bins=[x_bins, y_bins])\n",
    "plt.title('Relationship between Age and Income')\n",
    "plt.xlabel('Age')\n",
    "plt.ylabel('Annual Income (USD)');"
   ]
  },
  {
   "cell_type": "markdown",
   "id": "annual-chuck",
   "metadata": {},
   "source": [
    "There is no strong relationship between age and income. Users younger than 35 did not surpass the USD 80,000 salary threshold. Older users (70+ years) displayed incomes across the entire spectrum. There was a large cluster of users between 40 and 70 earning between USD 50,000 and USD 90,000.\n",
    "\n",
    "**``portfolio_clean``**"
   ]
  },
  {
   "cell_type": "code",
   "execution_count": 63,
   "id": "southwest-swaziland",
   "metadata": {
    "scrolled": true
   },
   "outputs": [
    {
     "data": {
      "text/html": [
       "<div>\n",
       "<style scoped>\n",
       "    .dataframe tbody tr th:only-of-type {\n",
       "        vertical-align: middle;\n",
       "    }\n",
       "\n",
       "    .dataframe tbody tr th {\n",
       "        vertical-align: top;\n",
       "    }\n",
       "\n",
       "    .dataframe thead th {\n",
       "        text-align: right;\n",
       "    }\n",
       "</style>\n",
       "<table border=\"1\" class=\"dataframe\">\n",
       "  <thead>\n",
       "    <tr style=\"text-align: right;\">\n",
       "      <th></th>\n",
       "      <th>reward</th>\n",
       "      <th>difficulty</th>\n",
       "      <th>duration</th>\n",
       "      <th>offer_type</th>\n",
       "      <th>offer_id</th>\n",
       "      <th>email</th>\n",
       "      <th>mobile</th>\n",
       "      <th>social</th>\n",
       "      <th>web</th>\n",
       "    </tr>\n",
       "  </thead>\n",
       "  <tbody>\n",
       "    <tr>\n",
       "      <th>0</th>\n",
       "      <td>10</td>\n",
       "      <td>10</td>\n",
       "      <td>7</td>\n",
       "      <td>bogo</td>\n",
       "      <td>1</td>\n",
       "      <td>1</td>\n",
       "      <td>1</td>\n",
       "      <td>1</td>\n",
       "      <td>0</td>\n",
       "    </tr>\n",
       "    <tr>\n",
       "      <th>1</th>\n",
       "      <td>10</td>\n",
       "      <td>10</td>\n",
       "      <td>5</td>\n",
       "      <td>bogo</td>\n",
       "      <td>2</td>\n",
       "      <td>1</td>\n",
       "      <td>1</td>\n",
       "      <td>1</td>\n",
       "      <td>1</td>\n",
       "    </tr>\n",
       "    <tr>\n",
       "      <th>3</th>\n",
       "      <td>5</td>\n",
       "      <td>5</td>\n",
       "      <td>7</td>\n",
       "      <td>bogo</td>\n",
       "      <td>4</td>\n",
       "      <td>1</td>\n",
       "      <td>1</td>\n",
       "      <td>0</td>\n",
       "      <td>1</td>\n",
       "    </tr>\n",
       "    <tr>\n",
       "      <th>8</th>\n",
       "      <td>5</td>\n",
       "      <td>5</td>\n",
       "      <td>5</td>\n",
       "      <td>bogo</td>\n",
       "      <td>9</td>\n",
       "      <td>1</td>\n",
       "      <td>1</td>\n",
       "      <td>1</td>\n",
       "      <td>1</td>\n",
       "    </tr>\n",
       "  </tbody>\n",
       "</table>\n",
       "</div>"
      ],
      "text/plain": [
       "   reward  difficulty  duration offer_type  offer_id  email  mobile  social  \\\n",
       "0      10          10         7       bogo         1      1       1       1   \n",
       "1      10          10         5       bogo         2      1       1       1   \n",
       "3       5           5         7       bogo         4      1       1       0   \n",
       "8       5           5         5       bogo         9      1       1       1   \n",
       "\n",
       "   web  \n",
       "0    0  \n",
       "1    1  \n",
       "3    1  \n",
       "8    1  "
      ]
     },
     "execution_count": 63,
     "metadata": {},
     "output_type": "execute_result"
    }
   ],
   "source": [
    "portfolio_clean[portfolio_clean.offer_type == 'bogo']"
   ]
  },
  {
   "cell_type": "code",
   "execution_count": 64,
   "id": "blind-digit",
   "metadata": {
    "scrolled": true
   },
   "outputs": [
    {
     "data": {
      "text/html": [
       "<div>\n",
       "<style scoped>\n",
       "    .dataframe tbody tr th:only-of-type {\n",
       "        vertical-align: middle;\n",
       "    }\n",
       "\n",
       "    .dataframe tbody tr th {\n",
       "        vertical-align: top;\n",
       "    }\n",
       "\n",
       "    .dataframe thead th {\n",
       "        text-align: right;\n",
       "    }\n",
       "</style>\n",
       "<table border=\"1\" class=\"dataframe\">\n",
       "  <thead>\n",
       "    <tr style=\"text-align: right;\">\n",
       "      <th></th>\n",
       "      <th>reward</th>\n",
       "      <th>difficulty</th>\n",
       "      <th>duration</th>\n",
       "      <th>offer_type</th>\n",
       "      <th>offer_id</th>\n",
       "      <th>email</th>\n",
       "      <th>mobile</th>\n",
       "      <th>social</th>\n",
       "      <th>web</th>\n",
       "    </tr>\n",
       "  </thead>\n",
       "  <tbody>\n",
       "    <tr>\n",
       "      <th>4</th>\n",
       "      <td>5</td>\n",
       "      <td>20</td>\n",
       "      <td>10</td>\n",
       "      <td>discount</td>\n",
       "      <td>5</td>\n",
       "      <td>1</td>\n",
       "      <td>0</td>\n",
       "      <td>0</td>\n",
       "      <td>1</td>\n",
       "    </tr>\n",
       "    <tr>\n",
       "      <th>5</th>\n",
       "      <td>3</td>\n",
       "      <td>7</td>\n",
       "      <td>7</td>\n",
       "      <td>discount</td>\n",
       "      <td>6</td>\n",
       "      <td>1</td>\n",
       "      <td>1</td>\n",
       "      <td>1</td>\n",
       "      <td>1</td>\n",
       "    </tr>\n",
       "    <tr>\n",
       "      <th>6</th>\n",
       "      <td>2</td>\n",
       "      <td>10</td>\n",
       "      <td>10</td>\n",
       "      <td>discount</td>\n",
       "      <td>7</td>\n",
       "      <td>1</td>\n",
       "      <td>1</td>\n",
       "      <td>1</td>\n",
       "      <td>1</td>\n",
       "    </tr>\n",
       "    <tr>\n",
       "      <th>9</th>\n",
       "      <td>2</td>\n",
       "      <td>10</td>\n",
       "      <td>7</td>\n",
       "      <td>discount</td>\n",
       "      <td>10</td>\n",
       "      <td>1</td>\n",
       "      <td>1</td>\n",
       "      <td>0</td>\n",
       "      <td>1</td>\n",
       "    </tr>\n",
       "  </tbody>\n",
       "</table>\n",
       "</div>"
      ],
      "text/plain": [
       "   reward  difficulty  duration offer_type  offer_id  email  mobile  social  \\\n",
       "4       5          20        10   discount         5      1       0       0   \n",
       "5       3           7         7   discount         6      1       1       1   \n",
       "6       2          10        10   discount         7      1       1       1   \n",
       "9       2          10         7   discount        10      1       1       0   \n",
       "\n",
       "   web  \n",
       "4    1  \n",
       "5    1  \n",
       "6    1  \n",
       "9    1  "
      ]
     },
     "execution_count": 64,
     "metadata": {},
     "output_type": "execute_result"
    }
   ],
   "source": [
    "portfolio_clean[portfolio_clean.offer_type == 'discount']"
   ]
  },
  {
   "cell_type": "code",
   "execution_count": 65,
   "id": "fleet-contest",
   "metadata": {},
   "outputs": [
    {
     "data": {
      "text/html": [
       "<div>\n",
       "<style scoped>\n",
       "    .dataframe tbody tr th:only-of-type {\n",
       "        vertical-align: middle;\n",
       "    }\n",
       "\n",
       "    .dataframe tbody tr th {\n",
       "        vertical-align: top;\n",
       "    }\n",
       "\n",
       "    .dataframe thead th {\n",
       "        text-align: right;\n",
       "    }\n",
       "</style>\n",
       "<table border=\"1\" class=\"dataframe\">\n",
       "  <thead>\n",
       "    <tr style=\"text-align: right;\">\n",
       "      <th></th>\n",
       "      <th>reward</th>\n",
       "      <th>difficulty</th>\n",
       "      <th>duration</th>\n",
       "      <th>offer_type</th>\n",
       "      <th>offer_id</th>\n",
       "      <th>email</th>\n",
       "      <th>mobile</th>\n",
       "      <th>social</th>\n",
       "      <th>web</th>\n",
       "    </tr>\n",
       "  </thead>\n",
       "  <tbody>\n",
       "    <tr>\n",
       "      <th>2</th>\n",
       "      <td>0</td>\n",
       "      <td>0</td>\n",
       "      <td>4</td>\n",
       "      <td>informational</td>\n",
       "      <td>3</td>\n",
       "      <td>1</td>\n",
       "      <td>1</td>\n",
       "      <td>0</td>\n",
       "      <td>1</td>\n",
       "    </tr>\n",
       "    <tr>\n",
       "      <th>7</th>\n",
       "      <td>0</td>\n",
       "      <td>0</td>\n",
       "      <td>3</td>\n",
       "      <td>informational</td>\n",
       "      <td>8</td>\n",
       "      <td>1</td>\n",
       "      <td>1</td>\n",
       "      <td>1</td>\n",
       "      <td>0</td>\n",
       "    </tr>\n",
       "  </tbody>\n",
       "</table>\n",
       "</div>"
      ],
      "text/plain": [
       "   reward  difficulty  duration     offer_type  offer_id  email  mobile  \\\n",
       "2       0           0         4  informational         3      1       1   \n",
       "7       0           0         3  informational         8      1       1   \n",
       "\n",
       "   social  web  \n",
       "2       0    1  \n",
       "7       1    0  "
      ]
     },
     "execution_count": 65,
     "metadata": {},
     "output_type": "execute_result"
    }
   ],
   "source": [
    "portfolio_clean[portfolio_clean.offer_type == 'informational']"
   ]
  },
  {
   "cell_type": "markdown",
   "id": "binding-armenia",
   "metadata": {},
   "source": [
    "When looking at each offer type individually the following can be observed:\n",
    "* All offer types were sent out via email. With the exception of offer 5, which is the one with the highest difficulty, all offers were offered as a mobile version. The social and web channels were used more infrequently.\n",
    "* Informational offers did not reward users and only lasted for 3 to 4 days.\n",
    "* Per definition a bogo (= buy one get one free) always returned the same reward as was invested by the user (*difficulty*). They lasted either 5 or 7 days.\n",
    "* Discount offers lasted either 7 or 10 days while offering lower rewards compared to bogos.\n",
    "* There were several offer pairs which offered the same reward for the same upfront investment (*difficulty*) but lasted for different time periods: 1 and 2, 4 and 9, 7 and 10 (excluding informational offers).\n",
    "\n",
    "**``transcript_clean``**"
   ]
  },
  {
   "cell_type": "code",
   "execution_count": 66,
   "id": "mysterious-trader",
   "metadata": {
    "scrolled": true
   },
   "outputs": [
    {
     "data": {
      "image/png": "[encoded data removed]",
      "text/plain": [
       "<Figure size 432x288 with 1 Axes>"
      ]
     },
     "metadata": {
      "needs_background": "light"
     },
     "output_type": "display_data"
    }
   ],
   "source": [
    "bins = np.arange(0, transcript_clean.time.max()+30, 30) # Monthly period\n",
    "transcript_clean[transcript_clean.event == 'transaction']['time'].hist(bins=bins)\n",
    "plt.title('Number of Events over entire Observation Period')\n",
    "plt.xlabel('Oberservation Period (Months)')\n",
    "plt.ylabel('Count')\n",
    "ticks = np.arange(0, transcript_clean.time.max()+30, 90)\n",
    "labels = ['{}'.format(int(v/30)) for v in ticks]\n",
    "plt.xticks(ticks, labels);"
   ]
  },
  {
   "cell_type": "code",
   "execution_count": 67,
   "id": "dedicated-failing",
   "metadata": {},
   "outputs": [
    {
     "data": {
      "text/plain": [
       "135224"
      ]
     },
     "execution_count": 67,
     "metadata": {},
     "output_type": "execute_result"
    }
   ],
   "source": [
    "transcript_clean[transcript_clean.time < 714 / 2]['event'].count() "
   ]
  },
  {
   "cell_type": "code",
   "execution_count": 68,
   "id": "configured-exposure",
   "metadata": {},
   "outputs": [
    {
     "data": {
      "text/plain": [
       "171310"
      ]
     },
     "execution_count": 68,
     "metadata": {},
     "output_type": "execute_result"
    }
   ],
   "source": [
    "transcript_clean[transcript_clean.time >= 714 / 2]['event'].count() "
   ]
  },
  {
   "cell_type": "markdown",
   "id": "searching-publisher",
   "metadata": {},
   "source": [
    "Events were recorded for a two year period. During the first year 135,224 events took place, compared to 171,310 events during the second year."
   ]
  },
  {
   "cell_type": "code",
   "execution_count": 69,
   "id": "aging-commission",
   "metadata": {
    "scrolled": false
   },
   "outputs": [
    {
     "data": {
      "image/png": "[encoded data removed]",
      "text/plain": [
       "<Figure size 432x288 with 1 Axes>"
      ]
     },
     "metadata": {
      "needs_background": "light"
     },
     "output_type": "display_data"
    }
   ],
   "source": [
    "event_count = transcript_clean.event.value_counts()\n",
    "event_count.plot(kind='bar')\n",
    "plt.title('Event Count during Observation Period')\n",
    "plt.xlabel('Event')\n",
    "plt.ylabel('Count')\n",
    "for i in np.arange(4):\n",
    "    plt.text(x=i, y=event_count[i]+1000, s='{}'.format(event_count[i]), ha='center');"
   ]
  },
  {
   "cell_type": "code",
   "execution_count": 70,
   "id": "interpreted-climb",
   "metadata": {
    "scrolled": true
   },
   "outputs": [
    {
     "data": {
      "text/plain": [
       "(0.7567812053436815, 0.4402244451145168)"
      ]
     },
     "execution_count": 70,
     "metadata": {},
     "output_type": "execute_result"
    }
   ],
   "source": [
    "event_count[2] / event_count[1], event_count[3] / event_count[1]"
   ]
  },
  {
   "cell_type": "code",
   "execution_count": 71,
   "id": "elementary-modeling",
   "metadata": {},
   "outputs": [
    {
     "data": {
      "text/plain": [
       "(194.61204481792717, 8.173705882352941)"
      ]
     },
     "execution_count": 71,
     "metadata": {},
     "output_type": "execute_result"
    }
   ],
   "source": [
    "event_count[0] / transcript_clean.time.max(), event_count[0] / profile_clean.shape[0]"
   ]
  },
  {
   "cell_type": "markdown",
   "id": "dramatic-president",
   "metadata": {},
   "source": [
    "During the observation period users spent money on Starbucks products almost 140,000 times. This calculates to a daily rate of 195 transactions and roughly 8 transactions per user for the entire time frame. More than 76,000 offers were sent out, of which 76% were viewed and 44% were completed."
   ]
  },
  {
   "cell_type": "code",
   "execution_count": 72,
   "id": "brave-spoke",
   "metadata": {},
   "outputs": [
    {
     "data": {
      "text/plain": [
       "count    5.142868\n",
       "mean     1.106441\n",
       "std      1.480733\n",
       "min     -1.301030\n",
       "25%      0.444045\n",
       "50%      0.948902\n",
       "75%      1.256958\n",
       "max      3.026239\n",
       "Name: amount, dtype: float64"
      ]
     },
     "execution_count": 72,
     "metadata": {},
     "output_type": "execute_result"
    }
   ],
   "source": [
    "np.log10(transcript_clean.amount.describe())"
   ]
  },
  {
   "cell_type": "code",
   "execution_count": 73,
   "id": "senior-exemption",
   "metadata": {
    "scrolled": false
   },
   "outputs": [
    {
     "data": {
      "image/png": "[encoded data removed]",
      "text/plain": [
       "<Figure size 648x360 with 1 Axes>"
      ]
     },
     "metadata": {
      "needs_background": "light"
     },
     "output_type": "display_data"
    }
   ],
   "source": [
    "plt.figure(figsize=(9,5))\n",
    "bins = 10 ** np.arange(-1.5, 3+0.2, 0.2)\n",
    "transcript_clean[transcript_clean.event == 'transaction']['amount'].hist(bins=bins)\n",
    "\n",
    "plt.title('Amount of Money spent during Observation Period')\n",
    "plt.xlabel('Log Amount (USD)')\n",
    "plt.ylabel('Count')\n",
    "plt.xscale('log')\n",
    "ticks = [1, 10, 50, 100, 500, 1000]\n",
    "labels = ['{}'.format(v) for v in ticks]\n",
    "plt.xticks(ticks, labels);"
   ]
  },
  {
   "cell_type": "markdown",
   "id": "front-split",
   "metadata": {},
   "source": [
    "With regards to how much people spent per transaction a logarithmic distribution emerges. Most users spent around USD 10 to USD 25 on a transaction. Only very few users spent more than USD 50. There was a second large user group spending between less than USD 10. "
   ]
  },
  {
   "cell_type": "code",
   "execution_count": 74,
   "id": "practical-citation",
   "metadata": {
    "scrolled": true
   },
   "outputs": [
    {
     "data": {
      "image/png": "[encoded data removed]",
      "text/plain": [
       "<Figure size 432x288 with 1 Axes>"
      ]
     },
     "metadata": {
      "needs_background": "light"
     },
     "output_type": "display_data"
    }
   ],
   "source": [
    "transcript_clean[transcript_clean.reward.notnull()]['reward'].value_counts().plot(kind='bar')\n",
    "plt.title('Total Counts of Rewards')\n",
    "plt.xlabel('Reward (USD)')\n",
    "plt.ylabel('Count');"
   ]
  },
  {
   "cell_type": "markdown",
   "id": "seventh-lancaster",
   "metadata": {},
   "source": [
    "In terms of absolute numbers the USD 5 reward was handed out most of the time, followed by USD 2, USD 10 and finally USD 3 rewards (in descending order)."
   ]
  },
  {
   "cell_type": "code",
   "execution_count": 75,
   "id": "maritime-tobago",
   "metadata": {},
   "outputs": [],
   "source": [
    "offers_sent = transcript_clean[transcript_clean.event == 'offer received']['offer_id'].value_counts()\n",
    "rewards = transcript_clean[transcript_clean.reward.notnull()]['offer_id'].value_counts() / offers_sent"
   ]
  },
  {
   "cell_type": "code",
   "execution_count": 76,
   "id": "atmospheric-small",
   "metadata": {
    "scrolled": true
   },
   "outputs": [
    {
     "data": {
      "image/png": "[encoded data removed]",
      "text/plain": [
       "<Figure size 432x288 with 1 Axes>"
      ]
     },
     "metadata": {
      "needs_background": "light"
     },
     "output_type": "display_data"
    }
   ],
   "source": [
    "plt.bar(rewards.index, rewards.values, color=['#00578a', '#00578a', 'white', '#00578a', 'lightgrey', 'lightgrey', 'lightgrey', 'white', '#00578a', 'lightgrey'])\n",
    "plt.title('Percentage of Rewards separated by Offer Type')\n",
    "plt.xlabel('Offer Type')\n",
    "plt.ylabel('No of Rewards / No of Offers Received (%)')\n",
    "ticks = np.arange(1, 11)\n",
    "labels = ['{}'.format(v) for v in ticks]\n",
    "plt.xticks(ticks, labels);"
   ]
  },
  {
   "cell_type": "markdown",
   "id": "lesbian-quick",
   "metadata": {},
   "source": [
    "Bogos are indicated by blue bars, whereas discounts show up as grey. Since no rewards were associated with informational offers, no bars are displayed for offers 3 and 8. Offers 6 and 7 display the highest *success rates*. 70% of these offers logged both events, 'offer received' and 'offer completed', in ``transcript_clean``. Though both offers were discounts, there is no clear pattern to conclude \"discounts were preferred over bogos\". Offers 2 and 5 display the lowest *success rates* and are bogo and discount respectively. \n",
    "\n",
    "There are several shortcomings to this generic and broad approach of defining a successful offer:\n",
    "* A user might have received a reward, but only looked at the offer after making his/her purchase.\n",
    "* A user might have received a reward, but never actually looked at the offer itself.\n",
    "* A user might have received an offer twice, but only purchased it once or not at all.\n",
    "* Informational offers would never be considered a success.\n",
    "\n",
    "In the next section I will therefore preprocess the datasets further. I will first define successful offers and then assign each user-offer pair their category. The ``profile_clean`` dataframe will increase by ten columns each representing one offer. This will be the foundation for generating models afterwards.\n",
    "\n",
    "***\n",
    "\n",
    "<a id=\"preprocess\"></a>\n",
    "## Preprocessing\n",
    "\n",
    "### Defining a successful offer\n",
    "\n",
    "* A user cannot view an offer he/she has not received.\n",
    "* If a user has received a specific offer more than once and the offer was completed successfully at least once, the user-offer pair is defined as success.\n",
    "* Completing an offer is defined as purchasing the offer in time to receive a reward. A purchase made when the offer period has already passed is not identified as a successful purchase.\n",
    "* A successful purchase is defined as:\n",
    "  * For informational offers (3 and 8):\n",
    "    * NaN - A user who has not received an informational offer.\n",
    "    * 0 - A user who has received an informational offer but did not view it.\n",
    "    * 1 - A user who has received and viewed an informational offer. **SUCCESS**\n",
    "\n",
    "  * For discount (5, 6, 7, 10) and bogo (1, 2, 4, 9) offers:\n",
    "    * NaN - A user who has not received a discount or bogo offer.\n",
    "    * 0 - A user who has received a discount or bogo offer, but did not view or complete it.\n",
    "    * 0 - A user who has received and viewed a discount or bogo offer, but did not complete a purchase.\n",
    "    * 0 - A user who has received a discount or bogo offer and completed a purchase, but did not view it. \n",
    "    * 0 - A user who has received a discount or bogo offer and completed a purchase, but did only view it after completing the purchase.\n",
    "    * 1 - A user who has received, viewed and completed a purchase for a discount or bogo offer. **SUCCESS**\n",
    "\n",
    "### Creating a new dataframe ``user_offer_df``\n",
    "The new dataframe contains the information from profile_clean and an entry for each offer about its success for a particular user. Here, I will use profile_clean in its entirety since the output will be required for all users - regardless whether personal data is missing."
   ]
  },
  {
   "cell_type": "code",
   "execution_count": 77,
   "id": "military-mixer",
   "metadata": {},
   "outputs": [],
   "source": [
    "def user_offer_dict(user_id):\n",
    "    \"\"\"\n",
    "    Identify whether an offer was successful (1) or not (0) for a given user id.\n",
    "    \n",
    "    INPUT:\n",
    "    user_id - id for a specific user\n",
    "    \n",
    "    OUTPUT:\n",
    "    user_offer_dict - A dictionary with offer ids as keys and 0/1 as values\n",
    "    \"\"\"\n",
    "    \n",
    "    transactions = transcript_clean[transcript_clean.person_id == user_id]\n",
    "    # Offers a user has received\n",
    "    received = list(transactions[transactions.event == 'offer received']['offer_id'].values)\n",
    "\n",
    "    user_offer_dict = {1.:np.nan, 2.:np.nan, 3.:np.nan, 4.:np.nan, 5.:np.nan, \n",
    "                       6.:np.nan, 7.:np.nan, 8.:np.nan, 9.:np.nan, 10.:np.nan}\n",
    "    \n",
    "    for offer in received:\n",
    "        # Put all events associated with that offer id into a list\n",
    "        event_order = transactions[transactions.offer_id == offer]['event'].values.tolist()\n",
    "        \n",
    "        # Informational offers\n",
    "        if (offer == 3. or offer == 8.) and (event_order.count('offer viewed') > 0):\n",
    "            user_offer_dict[offer] = 1\n",
    "        \n",
    "        # Discount and bogo offers\n",
    "        elif (len(event_order) > 2) and ('offer completed' in event_order) and ('offer viewed' in event_order):\n",
    "            if (event_order.index('offer completed') - event_order.index('offer viewed') >= 0):\n",
    "                user_offer_dict[offer] = 1\n",
    "            else:\n",
    "                user_offer_dict[offer] = 0\n",
    "        \n",
    "        else:\n",
    "            user_offer_dict[offer] = 0\n",
    "            \n",
    "    return user_offer_dict"
   ]
  },
  {
   "cell_type": "code",
   "execution_count": 78,
   "id": "optional-transmission",
   "metadata": {},
   "outputs": [],
   "source": [
    "users = profile_clean.person_id.values\n",
    "offers = np.arange(1.0, 11.0)"
   ]
  },
  {
   "cell_type": "code",
   "execution_count": 79,
   "id": "solar-intelligence",
   "metadata": {
    "scrolled": true
   },
   "outputs": [],
   "source": [
    "# Store profile_clean copy in new df\n",
    "user_offer_df = profile_clean.copy()\n",
    "\n",
    "# Go through every user and add the user-offer pair values to df \n",
    "for user in users:\n",
    "    user_dict = user_offer_dict(user)\n",
    "    user_idx = user_offer_df[user_offer_df.person_id == user].index\n",
    "    user_offer_df.loc[user_idx, user_dict.keys()] = user_dict.values()"
   ]
  },
  {
   "cell_type": "code",
   "execution_count": 80,
   "id": "alternative-meeting",
   "metadata": {},
   "outputs": [
    {
     "data": {
      "text/html": [
       "<div>\n",
       "<style scoped>\n",
       "    .dataframe tbody tr th:only-of-type {\n",
       "        vertical-align: middle;\n",
       "    }\n",
       "\n",
       "    .dataframe tbody tr th {\n",
       "        vertical-align: top;\n",
       "    }\n",
       "\n",
       "    .dataframe thead th {\n",
       "        text-align: right;\n",
       "    }\n",
       "</style>\n",
       "<table border=\"1\" class=\"dataframe\">\n",
       "  <thead>\n",
       "    <tr style=\"text-align: right;\">\n",
       "      <th></th>\n",
       "      <th>gender</th>\n",
       "      <th>age</th>\n",
       "      <th>income</th>\n",
       "      <th>person_id</th>\n",
       "      <th>member_year</th>\n",
       "      <th>member_month</th>\n",
       "      <th>member_day</th>\n",
       "      <th>1.0</th>\n",
       "      <th>2.0</th>\n",
       "      <th>3.0</th>\n",
       "      <th>4.0</th>\n",
       "      <th>5.0</th>\n",
       "      <th>6.0</th>\n",
       "      <th>7.0</th>\n",
       "      <th>8.0</th>\n",
       "      <th>9.0</th>\n",
       "      <th>10.0</th>\n",
       "    </tr>\n",
       "  </thead>\n",
       "  <tbody>\n",
       "    <tr>\n",
       "      <th>0</th>\n",
       "      <td>None</td>\n",
       "      <td>118</td>\n",
       "      <td>NaN</td>\n",
       "      <td>1</td>\n",
       "      <td>2017</td>\n",
       "      <td>2</td>\n",
       "      <td>12</td>\n",
       "      <td>NaN</td>\n",
       "      <td>NaN</td>\n",
       "      <td>NaN</td>\n",
       "      <td>NaN</td>\n",
       "      <td>0.0</td>\n",
       "      <td>1.0</td>\n",
       "      <td>1.0</td>\n",
       "      <td>NaN</td>\n",
       "      <td>NaN</td>\n",
       "      <td>0.0</td>\n",
       "    </tr>\n",
       "    <tr>\n",
       "      <th>1</th>\n",
       "      <td>F</td>\n",
       "      <td>55</td>\n",
       "      <td>112000.0</td>\n",
       "      <td>2</td>\n",
       "      <td>2017</td>\n",
       "      <td>7</td>\n",
       "      <td>15</td>\n",
       "      <td>NaN</td>\n",
       "      <td>NaN</td>\n",
       "      <td>0.0</td>\n",
       "      <td>0.0</td>\n",
       "      <td>NaN</td>\n",
       "      <td>NaN</td>\n",
       "      <td>NaN</td>\n",
       "      <td>NaN</td>\n",
       "      <td>NaN</td>\n",
       "      <td>NaN</td>\n",
       "    </tr>\n",
       "    <tr>\n",
       "      <th>2</th>\n",
       "      <td>None</td>\n",
       "      <td>118</td>\n",
       "      <td>NaN</td>\n",
       "      <td>3</td>\n",
       "      <td>2018</td>\n",
       "      <td>7</td>\n",
       "      <td>12</td>\n",
       "      <td>NaN</td>\n",
       "      <td>NaN</td>\n",
       "      <td>NaN</td>\n",
       "      <td>0.0</td>\n",
       "      <td>NaN</td>\n",
       "      <td>NaN</td>\n",
       "      <td>NaN</td>\n",
       "      <td>1.0</td>\n",
       "      <td>NaN</td>\n",
       "      <td>NaN</td>\n",
       "    </tr>\n",
       "    <tr>\n",
       "      <th>3</th>\n",
       "      <td>F</td>\n",
       "      <td>75</td>\n",
       "      <td>100000.0</td>\n",
       "      <td>4</td>\n",
       "      <td>2017</td>\n",
       "      <td>5</td>\n",
       "      <td>9</td>\n",
       "      <td>1.0</td>\n",
       "      <td>NaN</td>\n",
       "      <td>NaN</td>\n",
       "      <td>1.0</td>\n",
       "      <td>NaN</td>\n",
       "      <td>NaN</td>\n",
       "      <td>NaN</td>\n",
       "      <td>1.0</td>\n",
       "      <td>0.0</td>\n",
       "      <td>NaN</td>\n",
       "    </tr>\n",
       "    <tr>\n",
       "      <th>4</th>\n",
       "      <td>None</td>\n",
       "      <td>118</td>\n",
       "      <td>NaN</td>\n",
       "      <td>5</td>\n",
       "      <td>2017</td>\n",
       "      <td>8</td>\n",
       "      <td>4</td>\n",
       "      <td>NaN</td>\n",
       "      <td>NaN</td>\n",
       "      <td>1.0</td>\n",
       "      <td>NaN</td>\n",
       "      <td>0.0</td>\n",
       "      <td>NaN</td>\n",
       "      <td>NaN</td>\n",
       "      <td>0.0</td>\n",
       "      <td>NaN</td>\n",
       "      <td>NaN</td>\n",
       "    </tr>\n",
       "    <tr>\n",
       "      <th>...</th>\n",
       "      <td>...</td>\n",
       "      <td>...</td>\n",
       "      <td>...</td>\n",
       "      <td>...</td>\n",
       "      <td>...</td>\n",
       "      <td>...</td>\n",
       "      <td>...</td>\n",
       "      <td>...</td>\n",
       "      <td>...</td>\n",
       "      <td>...</td>\n",
       "      <td>...</td>\n",
       "      <td>...</td>\n",
       "      <td>...</td>\n",
       "      <td>...</td>\n",
       "      <td>...</td>\n",
       "      <td>...</td>\n",
       "      <td>...</td>\n",
       "    </tr>\n",
       "    <tr>\n",
       "      <th>16995</th>\n",
       "      <td>F</td>\n",
       "      <td>45</td>\n",
       "      <td>54000.0</td>\n",
       "      <td>16996</td>\n",
       "      <td>2018</td>\n",
       "      <td>6</td>\n",
       "      <td>4</td>\n",
       "      <td>NaN</td>\n",
       "      <td>0.0</td>\n",
       "      <td>NaN</td>\n",
       "      <td>NaN</td>\n",
       "      <td>NaN</td>\n",
       "      <td>0.0</td>\n",
       "      <td>NaN</td>\n",
       "      <td>1.0</td>\n",
       "      <td>NaN</td>\n",
       "      <td>NaN</td>\n",
       "    </tr>\n",
       "    <tr>\n",
       "      <th>16996</th>\n",
       "      <td>M</td>\n",
       "      <td>61</td>\n",
       "      <td>72000.0</td>\n",
       "      <td>16997</td>\n",
       "      <td>2018</td>\n",
       "      <td>7</td>\n",
       "      <td>13</td>\n",
       "      <td>NaN</td>\n",
       "      <td>NaN</td>\n",
       "      <td>0.0</td>\n",
       "      <td>0.0</td>\n",
       "      <td>NaN</td>\n",
       "      <td>NaN</td>\n",
       "      <td>NaN</td>\n",
       "      <td>1.0</td>\n",
       "      <td>NaN</td>\n",
       "      <td>NaN</td>\n",
       "    </tr>\n",
       "    <tr>\n",
       "      <th>16997</th>\n",
       "      <td>M</td>\n",
       "      <td>49</td>\n",
       "      <td>73000.0</td>\n",
       "      <td>16998</td>\n",
       "      <td>2017</td>\n",
       "      <td>1</td>\n",
       "      <td>26</td>\n",
       "      <td>NaN</td>\n",
       "      <td>NaN</td>\n",
       "      <td>0.0</td>\n",
       "      <td>NaN</td>\n",
       "      <td>0.0</td>\n",
       "      <td>NaN</td>\n",
       "      <td>NaN</td>\n",
       "      <td>1.0</td>\n",
       "      <td>NaN</td>\n",
       "      <td>NaN</td>\n",
       "    </tr>\n",
       "    <tr>\n",
       "      <th>16998</th>\n",
       "      <td>F</td>\n",
       "      <td>83</td>\n",
       "      <td>50000.0</td>\n",
       "      <td>16999</td>\n",
       "      <td>2016</td>\n",
       "      <td>3</td>\n",
       "      <td>7</td>\n",
       "      <td>0.0</td>\n",
       "      <td>1.0</td>\n",
       "      <td>NaN</td>\n",
       "      <td>0.0</td>\n",
       "      <td>NaN</td>\n",
       "      <td>NaN</td>\n",
       "      <td>NaN</td>\n",
       "      <td>NaN</td>\n",
       "      <td>NaN</td>\n",
       "      <td>NaN</td>\n",
       "    </tr>\n",
       "    <tr>\n",
       "      <th>16999</th>\n",
       "      <td>F</td>\n",
       "      <td>62</td>\n",
       "      <td>82000.0</td>\n",
       "      <td>17000</td>\n",
       "      <td>2017</td>\n",
       "      <td>7</td>\n",
       "      <td>22</td>\n",
       "      <td>NaN</td>\n",
       "      <td>NaN</td>\n",
       "      <td>0.0</td>\n",
       "      <td>NaN</td>\n",
       "      <td>NaN</td>\n",
       "      <td>1.0</td>\n",
       "      <td>NaN</td>\n",
       "      <td>NaN</td>\n",
       "      <td>0.0</td>\n",
       "      <td>NaN</td>\n",
       "    </tr>\n",
       "  </tbody>\n",
       "</table>\n",
       "<p>17000 rows × 17 columns</p>\n",
       "</div>"
      ],
      "text/plain": [
       "      gender  age    income  person_id  member_year  member_month  member_day  \\\n",
       "0       None  118       NaN          1         2017             2          12   \n",
       "1          F   55  112000.0          2         2017             7          15   \n",
       "2       None  118       NaN          3         2018             7          12   \n",
       "3          F   75  100000.0          4         2017             5           9   \n",
       "4       None  118       NaN          5         2017             8           4   \n",
       "...      ...  ...       ...        ...          ...           ...         ...   \n",
       "16995      F   45   54000.0      16996         2018             6           4   \n",
       "16996      M   61   72000.0      16997         2018             7          13   \n",
       "16997      M   49   73000.0      16998         2017             1          26   \n",
       "16998      F   83   50000.0      16999         2016             3           7   \n",
       "16999      F   62   82000.0      17000         2017             7          22   \n",
       "\n",
       "       1.0  2.0  3.0  4.0  5.0  6.0  7.0  8.0  9.0  10.0  \n",
       "0      NaN  NaN  NaN  NaN  0.0  1.0  1.0  NaN  NaN   0.0  \n",
       "1      NaN  NaN  0.0  0.0  NaN  NaN  NaN  NaN  NaN   NaN  \n",
       "2      NaN  NaN  NaN  0.0  NaN  NaN  NaN  1.0  NaN   NaN  \n",
       "3      1.0  NaN  NaN  1.0  NaN  NaN  NaN  1.0  0.0   NaN  \n",
       "4      NaN  NaN  1.0  NaN  0.0  NaN  NaN  0.0  NaN   NaN  \n",
       "...    ...  ...  ...  ...  ...  ...  ...  ...  ...   ...  \n",
       "16995  NaN  0.0  NaN  NaN  NaN  0.0  NaN  1.0  NaN   NaN  \n",
       "16996  NaN  NaN  0.0  0.0  NaN  NaN  NaN  1.0  NaN   NaN  \n",
       "16997  NaN  NaN  0.0  NaN  0.0  NaN  NaN  1.0  NaN   NaN  \n",
       "16998  0.0  1.0  NaN  0.0  NaN  NaN  NaN  NaN  NaN   NaN  \n",
       "16999  NaN  NaN  0.0  NaN  NaN  1.0  NaN  NaN  0.0   NaN  \n",
       "\n",
       "[17000 rows x 17 columns]"
      ]
     },
     "execution_count": 80,
     "metadata": {},
     "output_type": "execute_result"
    }
   ],
   "source": [
    "user_offer_df"
   ]
  },
  {
   "cell_type": "markdown",
   "id": "nonprofit-endorsement",
   "metadata": {},
   "source": [
    "***\n",
    "\n",
    "<a id=\"model\"></a>\n",
    "\n",
    "## Modeling and Evaluation\n",
    "\n",
    "Before building any models, let's summarize what has been done so far. I first assessed each dataframe from a quality and tidiness perspective and cleaned up several issues accordingly. Next, I visually explored the datasets to better understand the content itself. I also made a first approach towards calculating the success rate for each offer type. Lastly, I generated a new dataframe which assigns one of three categories (NaN, 0, 1) to each user-offer pair based on the definition above.\n",
    "\n",
    "In general, users can be split into three groups:\n",
    "1. Existing users with personal data (Model 1)\n",
    "2. Existing users without personal data (Model 2)\n",
    "3. Completely new users (Model 3)\n",
    "\n",
    "For each I chose a different approach to make a recommendation on which offers to send to which user.\n",
    "\n",
    "<a id=\"model1\"></a>\n",
    "### Model 1 - Classifier Model\n",
    "\n",
    "The first model I will create is a classifier which will predict whether a user will respond to an offer (successful offer) or not (unsuccessful offer). Hence, I will recommend to send out only predicted successful offers to these users."
   ]
  },
  {
   "cell_type": "code",
   "execution_count": 81,
   "id": "current-lindsay",
   "metadata": {},
   "outputs": [],
   "source": [
    "# First user group for which we have age, gender and income data\n",
    "users1 = profile_complete.person_id.values"
   ]
  },
  {
   "cell_type": "code",
   "execution_count": 82,
   "id": "indian-religion",
   "metadata": {
    "scrolled": false
   },
   "outputs": [
    {
     "data": {
      "text/plain": [
       "1.0     0.375312\n",
       "2.0     0.371737\n",
       "3.0     0.372614\n",
       "4.0     0.373828\n",
       "5.0     0.376931\n",
       "6.0     0.371467\n",
       "7.0     0.373963\n",
       "8.0     0.372142\n",
       "9.0     0.367285\n",
       "10.0    0.369646\n",
       "dtype: float64"
      ]
     },
     "execution_count": 82,
     "metadata": {},
     "output_type": "execute_result"
    }
   ],
   "source": [
    "# Percentage of labels per offer\n",
    "labels_per_offer = user_offer_df[user_offer_df.gender.notnull()][offers].count() / profile_complete.shape[0]\n",
    "labels_per_offer"
   ]
  },
  {
   "cell_type": "code",
   "execution_count": 83,
   "id": "banner-armor",
   "metadata": {},
   "outputs": [
    {
     "data": {
      "text/plain": [
       "0.37249241146711637"
      ]
     },
     "execution_count": 83,
     "metadata": {},
     "output_type": "execute_result"
    }
   ],
   "source": [
    "labels_per_offer.mean()"
   ]
  },
  {
   "cell_type": "code",
   "execution_count": 84,
   "id": "ordered-budapest",
   "metadata": {},
   "outputs": [
    {
     "data": {
      "text/plain": [
       "1.7682941176470588"
      ]
     },
     "execution_count": 84,
     "metadata": {},
     "output_type": "execute_result"
    }
   ],
   "source": [
    "# Average number of offers a user received\n",
    "user_offer_df[offers].sum(axis=1).mean()"
   ]
  },
  {
   "cell_type": "markdown",
   "id": "acoustic-teaching",
   "metadata": {},
   "source": [
    "Since a user received 1.8 offers on average, there are a lot of missing labels. We simply do not know (yet) whether or not a user will successfully complete an offer. On average every offer has 37% labeled outcomes. Therefore it is necessary to reduce the dataset to a subset for each offer with labeled outcomes."
   ]
  },
  {
   "cell_type": "code",
   "execution_count": 85,
   "id": "dominant-acceptance",
   "metadata": {},
   "outputs": [],
   "source": [
    "def get_offer_df(col):\n",
    "    \"\"\"Create sub df for one offer type.\n",
    "    \n",
    "    INPUT:\n",
    "    col - one out of 10 offer types\n",
    "    \n",
    "    OUTPUT:\n",
    "    sub_df - df containing no missing values for selected offer type\n",
    "    \"\"\"\n",
    "    \n",
    "    offers = np.arange(1., 11.).tolist()\n",
    "    offers.remove(col)\n",
    "    \n",
    "    sub_df = user_offer_df[user_offer_df[col].notnull()]\n",
    "    sub_df = sub_df.drop(offers, axis=1)\n",
    "    sub_df[col] = sub_df[col].astype(int)\n",
    "    sub_df = sub_df.dropna(axis=0)\n",
    "    \n",
    "    return sub_df"
   ]
  },
  {
   "cell_type": "code",
   "execution_count": 86,
   "id": "legendary-oakland",
   "metadata": {},
   "outputs": [],
   "source": [
    "def get_dummies_df(df, cat_cols=['gender']):\n",
    "    \"\"\"\n",
    "    Create dummy variables for categorical columns.\n",
    "    \n",
    "    ARGUMENTS:\n",
    "    df - dataframe to be transformed\n",
    "    cat_cols - categorical columns\n",
    "    \n",
    "    RETURN VALUE:\n",
    "    df - transformed dataframe\n",
    "    \"\"\"\n",
    "\n",
    "    for col in cat_cols:\n",
    "        try:\n",
    "            df = pd.concat([df.drop(col, axis=1), pd.get_dummies(df[col], prefix=col, prefix_sep='_', drop_first=True)], axis=1)\n",
    "        except:\n",
    "            continue\n",
    "\n",
    "    return df"
   ]
  },
  {
   "cell_type": "code",
   "execution_count": 87,
   "id": "organizational-portfolio",
   "metadata": {},
   "outputs": [],
   "source": [
    "def classifier_model(df, target_col, test_size=0.2, classifier=RandomForestClassifier()):\n",
    "    \"\"\"\n",
    "    Create a classifier model fitted on a given training dataset.\n",
    "    \n",
    "    INPUT:\n",
    "    df - dataframe containing all data\n",
    "    target_col - target variable name\n",
    "    test_size - size of test dataset (default 20%)\n",
    "    classifier\n",
    "    \n",
    "    OUTPUT:\n",
    "    clf - trained classifier\n",
    "    X_test - test dataset with independent columns\n",
    "    Y_test - test dataset with dependent (target) column\n",
    "    \"\"\"\n",
    "    \n",
    "    X = df.drop(['person_id', target_col], axis=1)\n",
    "    Y = df[target_col]\n",
    "    \n",
    "    X_train, X_test, Y_train, Y_test = train_test_split(X, Y, test_size=test_size, random_state=42)\n",
    "    \n",
    "    clf = classifier\n",
    "    clf.fit(X_train, Y_train)\n",
    "    \n",
    "    return clf, X_test, Y_test"
   ]
  },
  {
   "cell_type": "code",
   "execution_count": 88,
   "id": "dangerous-testament",
   "metadata": {},
   "outputs": [],
   "source": [
    "def evaluate_model(clf, X_test, Y_test):\n",
    "    \"\"\"\n",
    "    Make predictions for the test dataset and evaluate against actual values.\n",
    "    \n",
    "    INPUT:\n",
    "    clf - trained classifier\n",
    "    X_test - test dataset with independent columns\n",
    "    Y_test - test dataset with dependent (target) column \n",
    "    \n",
    "    OUTPUT:\n",
    "    None\n",
    "    \"\"\"\n",
    "    \n",
    "    Y_pred = clf.predict(X_test)\n",
    "    Y_pred_ = pd.DataFrame(Y_pred)\n",
    "    Y_test_ = pd.DataFrame(Y_test)\n",
    "    \n",
    "    print(classification_report(Y_test_, Y_pred_) + '\\n')\n",
    "    \n",
    "    scores_dict = {'accuracy': [accuracy_score(Y_test, Y_pred)],\n",
    "                   'precision': [precision_score(Y_test, Y_pred)],\n",
    "                   'recall': [recall_score(Y_test, Y_pred)],\n",
    "                   'f1_score': [f1_score(Y_test, Y_pred)]}\n",
    "    \n",
    "    scores_df = pd.DataFrame(scores_dict)\n",
    "    \n",
    "    return scores_df"
   ]
  },
  {
   "cell_type": "code",
   "execution_count": 89,
   "id": "limiting-longer",
   "metadata": {
    "scrolled": true
   },
   "outputs": [
    {
     "name": "stdout",
     "output_type": "stream",
     "text": [
      "1.0\n",
      "              precision    recall  f1-score   support\n",
      "\n",
      "           0       0.69      0.70      0.70       701\n",
      "           1       0.48      0.47      0.48       412\n",
      "\n",
      "    accuracy                           0.62      1113\n",
      "   macro avg       0.59      0.59      0.59      1113\n",
      "weighted avg       0.62      0.62      0.62      1113\n",
      "\n",
      "\n",
      "2.0\n",
      "              precision    recall  f1-score   support\n",
      "\n",
      "           0       0.69      0.76      0.73       621\n",
      "           1       0.65      0.57      0.60       482\n",
      "\n",
      "    accuracy                           0.68      1103\n",
      "   macro avg       0.67      0.66      0.66      1103\n",
      "weighted avg       0.67      0.68      0.67      1103\n",
      "\n",
      "\n",
      "3.0\n",
      "              precision    recall  f1-score   support\n",
      "\n",
      "           0       0.55      0.52      0.53       492\n",
      "           1       0.63      0.66      0.65       613\n",
      "\n",
      "    accuracy                           0.60      1105\n",
      "   macro avg       0.59      0.59      0.59      1105\n",
      "weighted avg       0.60      0.60      0.60      1105\n",
      "\n",
      "\n",
      "4.0\n",
      "              precision    recall  f1-score   support\n",
      "\n",
      "           0       0.71      0.85      0.78       753\n",
      "           1       0.47      0.28      0.35       356\n",
      "\n",
      "    accuracy                           0.67      1109\n",
      "   macro avg       0.59      0.57      0.56      1109\n",
      "weighted avg       0.64      0.67      0.64      1109\n",
      "\n",
      "\n",
      "5.0\n",
      "              precision    recall  f1-score   support\n",
      "\n",
      "           0       0.81      0.95      0.88       893\n",
      "           1       0.40      0.13      0.20       225\n",
      "\n",
      "    accuracy                           0.79      1118\n",
      "   macro avg       0.61      0.54      0.54      1118\n",
      "weighted avg       0.73      0.79      0.74      1118\n",
      "\n",
      "\n",
      "6.0\n",
      "              precision    recall  f1-score   support\n",
      "\n",
      "           0       0.51      0.37      0.43       376\n",
      "           1       0.71      0.81      0.76       726\n",
      "\n",
      "    accuracy                           0.66      1102\n",
      "   macro avg       0.61      0.59      0.60      1102\n",
      "weighted avg       0.64      0.66      0.65      1102\n",
      "\n",
      "\n",
      "7.0\n",
      "              precision    recall  f1-score   support\n",
      "\n",
      "           0       0.55      0.38      0.45       361\n",
      "           1       0.74      0.85      0.79       748\n",
      "\n",
      "    accuracy                           0.70      1109\n",
      "   macro avg       0.64      0.61      0.62      1109\n",
      "weighted avg       0.68      0.70      0.68      1109\n",
      "\n",
      "\n",
      "8.0\n",
      "              precision    recall  f1-score   support\n",
      "\n",
      "           0       0.14      0.01      0.02       102\n",
      "           1       0.91      0.99      0.95      1002\n",
      "\n",
      "    accuracy                           0.90      1104\n",
      "   macro avg       0.53      0.50      0.48      1104\n",
      "weighted avg       0.84      0.90      0.86      1104\n",
      "\n",
      "\n",
      "9.0\n",
      "              precision    recall  f1-score   support\n",
      "\n",
      "           0       0.57      0.57      0.57       487\n",
      "           1       0.65      0.65      0.65       602\n",
      "\n",
      "    accuracy                           0.62      1089\n",
      "   macro avg       0.61      0.61      0.61      1089\n",
      "weighted avg       0.62      0.62      0.62      1089\n",
      "\n",
      "\n",
      "10.0\n",
      "              precision    recall  f1-score   support\n",
      "\n",
      "           0       0.70      0.86      0.78       718\n",
      "           1       0.54      0.31      0.39       378\n",
      "\n",
      "    accuracy                           0.67      1096\n",
      "   macro avg       0.62      0.59      0.58      1096\n",
      "weighted avg       0.65      0.67      0.64      1096\n",
      "\n",
      "\n"
     ]
    }
   ],
   "source": [
    "# Make predictions for every offer using the functions above and store the model performance parameters in scores_df\n",
    "scores_df = pd.DataFrame()\n",
    "\n",
    "for offer in offers:\n",
    "    df = get_offer_df(offer)\n",
    "    df = get_dummies_df(df)\n",
    "    clf, X_test, Y_test = classifier_model(df, offer)\n",
    "    print(offer)\n",
    "    tmp = evaluate_model(clf, X_test, Y_test)\n",
    "    tmp['offer'] = offer\n",
    "    scores_df = pd.concat([scores_df, tmp], axis=0, ignore_index=True)\n",
    "scores_df['model'] = 'classifier_1'"
   ]
  },
  {
   "cell_type": "code",
   "execution_count": 90,
   "id": "organized-paragraph",
   "metadata": {
    "scrolled": true
   },
   "outputs": [
    {
     "data": {
      "text/html": [
       "<div>\n",
       "<style scoped>\n",
       "    .dataframe tbody tr th:only-of-type {\n",
       "        vertical-align: middle;\n",
       "    }\n",
       "\n",
       "    .dataframe tbody tr th {\n",
       "        vertical-align: top;\n",
       "    }\n",
       "\n",
       "    .dataframe thead th {\n",
       "        text-align: right;\n",
       "    }\n",
       "</style>\n",
       "<table border=\"1\" class=\"dataframe\">\n",
       "  <thead>\n",
       "    <tr style=\"text-align: right;\">\n",
       "      <th></th>\n",
       "      <th>accuracy</th>\n",
       "      <th>precision</th>\n",
       "      <th>recall</th>\n",
       "      <th>f1_score</th>\n",
       "      <th>offer</th>\n",
       "      <th>model</th>\n",
       "    </tr>\n",
       "  </thead>\n",
       "  <tbody>\n",
       "    <tr>\n",
       "      <th>0</th>\n",
       "      <td>0.616352</td>\n",
       "      <td>0.481481</td>\n",
       "      <td>0.473301</td>\n",
       "      <td>0.477356</td>\n",
       "      <td>1.0</td>\n",
       "      <td>classifier_1</td>\n",
       "    </tr>\n",
       "    <tr>\n",
       "      <th>1</th>\n",
       "      <td>0.675431</td>\n",
       "      <td>0.646919</td>\n",
       "      <td>0.566390</td>\n",
       "      <td>0.603982</td>\n",
       "      <td>2.0</td>\n",
       "      <td>classifier_1</td>\n",
       "    </tr>\n",
       "    <tr>\n",
       "      <th>2</th>\n",
       "      <td>0.597285</td>\n",
       "      <td>0.630435</td>\n",
       "      <td>0.662316</td>\n",
       "      <td>0.645982</td>\n",
       "      <td>3.0</td>\n",
       "      <td>classifier_1</td>\n",
       "    </tr>\n",
       "    <tr>\n",
       "      <th>3</th>\n",
       "      <td>0.667268</td>\n",
       "      <td>0.469484</td>\n",
       "      <td>0.280899</td>\n",
       "      <td>0.351494</td>\n",
       "      <td>4.0</td>\n",
       "      <td>classifier_1</td>\n",
       "    </tr>\n",
       "    <tr>\n",
       "      <th>4</th>\n",
       "      <td>0.785331</td>\n",
       "      <td>0.400000</td>\n",
       "      <td>0.133333</td>\n",
       "      <td>0.200000</td>\n",
       "      <td>5.0</td>\n",
       "      <td>classifier_1</td>\n",
       "    </tr>\n",
       "    <tr>\n",
       "      <th>5</th>\n",
       "      <td>0.663339</td>\n",
       "      <td>0.714631</td>\n",
       "      <td>0.814050</td>\n",
       "      <td>0.761108</td>\n",
       "      <td>6.0</td>\n",
       "      <td>classifier_1</td>\n",
       "    </tr>\n",
       "    <tr>\n",
       "      <th>6</th>\n",
       "      <td>0.695221</td>\n",
       "      <td>0.738372</td>\n",
       "      <td>0.848930</td>\n",
       "      <td>0.789801</td>\n",
       "      <td>7.0</td>\n",
       "      <td>classifier_1</td>\n",
       "    </tr>\n",
       "    <tr>\n",
       "      <th>7</th>\n",
       "      <td>0.903080</td>\n",
       "      <td>0.907931</td>\n",
       "      <td>0.994012</td>\n",
       "      <td>0.949023</td>\n",
       "      <td>8.0</td>\n",
       "      <td>classifier_1</td>\n",
       "    </tr>\n",
       "    <tr>\n",
       "      <th>8</th>\n",
       "      <td>0.617080</td>\n",
       "      <td>0.653910</td>\n",
       "      <td>0.652824</td>\n",
       "      <td>0.653367</td>\n",
       "      <td>9.0</td>\n",
       "      <td>classifier_1</td>\n",
       "    </tr>\n",
       "    <tr>\n",
       "      <th>9</th>\n",
       "      <td>0.672445</td>\n",
       "      <td>0.544601</td>\n",
       "      <td>0.306878</td>\n",
       "      <td>0.392555</td>\n",
       "      <td>10.0</td>\n",
       "      <td>classifier_1</td>\n",
       "    </tr>\n",
       "  </tbody>\n",
       "</table>\n",
       "</div>"
      ],
      "text/plain": [
       "   accuracy  precision    recall  f1_score  offer         model\n",
       "0  0.616352   0.481481  0.473301  0.477356    1.0  classifier_1\n",
       "1  0.675431   0.646919  0.566390  0.603982    2.0  classifier_1\n",
       "2  0.597285   0.630435  0.662316  0.645982    3.0  classifier_1\n",
       "3  0.667268   0.469484  0.280899  0.351494    4.0  classifier_1\n",
       "4  0.785331   0.400000  0.133333  0.200000    5.0  classifier_1\n",
       "5  0.663339   0.714631  0.814050  0.761108    6.0  classifier_1\n",
       "6  0.695221   0.738372  0.848930  0.789801    7.0  classifier_1\n",
       "7  0.903080   0.907931  0.994012  0.949023    8.0  classifier_1\n",
       "8  0.617080   0.653910  0.652824  0.653367    9.0  classifier_1\n",
       "9  0.672445   0.544601  0.306878  0.392555   10.0  classifier_1"
      ]
     },
     "execution_count": 90,
     "metadata": {},
     "output_type": "execute_result"
    }
   ],
   "source": [
    "scores_df"
   ]
  },
  {
   "cell_type": "code",
   "execution_count": 91,
   "id": "worse-blackjack",
   "metadata": {
    "scrolled": true
   },
   "outputs": [
    {
     "data": {
      "image/png": "[encoded data removed]",
      "text/plain": [
       "<Figure size 432x288 with 1 Axes>"
      ]
     },
     "metadata": {
      "needs_background": "light"
     },
     "output_type": "display_data"
    }
   ],
   "source": [
    "scores_df[['accuracy', 'f1_score']].plot(kind='bar', color=['#00578a', 'lightgrey'])\n",
    "plt.xticks(ticks=np.arange(0, 10), labels=offers)\n",
    "y_ticks = np.arange(0, 1.1, 0.2)\n",
    "y_labels = ['{}%'.format(int(v*100)) for v in y_ticks]\n",
    "plt.yticks(ticks=y_ticks, labels=y_labels); "
   ]
  },
  {
   "cell_type": "markdown",
   "id": "altered-element",
   "metadata": {},
   "source": [
    "**Results:**\n",
    "* Though offer 5 has an overall accuracy of 78% the f1 score for a successful outcome is only 16%. When looking at the classification report we see why: There are far more unsuccessful labels (893) vs successful labels (225). This means a) offer 5 is a rather unsuccessful offer and b) we can predict zeros with higher reliability.\n",
    "* Offer 8 ...\n",
    "* Offers 6 and 7 ...\n",
    "* Offers 4 and 9 ...\n",
    "\n",
    "f1_score = 2 * (precision * recall) / (precision + recall)\n",
    "\n",
    "***\n",
    "<a id=\"model2\"></a>\n",
    "### Model 2 - Collaborative Filtering Recommendation System\n",
    "\n",
    "For this recommendation system only user-offer interactions are of interest. The basis for setting up a collaborative filtering system is the user-item-matrix. In this case, the item is represented by the offer itself. Since I already calculated the interactions, the user-item-matrix can be derived easily."
   ]
  },
  {
   "cell_type": "code",
   "execution_count": 179,
   "id": "strange-lease",
   "metadata": {},
   "outputs": [],
   "source": [
    "# Second user group for which we don't have age, gender and income data\n",
    "users2 = profile_less.person_id.values"
   ]
  },
  {
   "cell_type": "code",
   "execution_count": 251,
   "id": "attempted-conservation",
   "metadata": {},
   "outputs": [],
   "source": [
    "# User-offer-matrix\n",
    "user_offer_matrix = user_offer_df.drop(['gender', 'age', 'income', 'member_year', 'member_month', 'member_day'], axis=1)"
   ]
  },
  {
   "cell_type": "code",
   "execution_count": 252,
   "id": "muslim-sapphire",
   "metadata": {},
   "outputs": [
    {
     "data": {
      "text/html": [
       "<div>\n",
       "<style scoped>\n",
       "    .dataframe tbody tr th:only-of-type {\n",
       "        vertical-align: middle;\n",
       "    }\n",
       "\n",
       "    .dataframe tbody tr th {\n",
       "        vertical-align: top;\n",
       "    }\n",
       "\n",
       "    .dataframe thead th {\n",
       "        text-align: right;\n",
       "    }\n",
       "</style>\n",
       "<table border=\"1\" class=\"dataframe\">\n",
       "  <thead>\n",
       "    <tr style=\"text-align: right;\">\n",
       "      <th></th>\n",
       "      <th>1.0</th>\n",
       "      <th>2.0</th>\n",
       "      <th>3.0</th>\n",
       "      <th>4.0</th>\n",
       "      <th>5.0</th>\n",
       "      <th>6.0</th>\n",
       "      <th>7.0</th>\n",
       "      <th>8.0</th>\n",
       "      <th>9.0</th>\n",
       "      <th>10.0</th>\n",
       "    </tr>\n",
       "    <tr>\n",
       "      <th>person_id</th>\n",
       "      <th></th>\n",
       "      <th></th>\n",
       "      <th></th>\n",
       "      <th></th>\n",
       "      <th></th>\n",
       "      <th></th>\n",
       "      <th></th>\n",
       "      <th></th>\n",
       "      <th></th>\n",
       "      <th></th>\n",
       "    </tr>\n",
       "  </thead>\n",
       "  <tbody>\n",
       "    <tr>\n",
       "      <th>1</th>\n",
       "      <td>NaN</td>\n",
       "      <td>NaN</td>\n",
       "      <td>NaN</td>\n",
       "      <td>NaN</td>\n",
       "      <td>0.0</td>\n",
       "      <td>1.0</td>\n",
       "      <td>1.0</td>\n",
       "      <td>NaN</td>\n",
       "      <td>NaN</td>\n",
       "      <td>0.0</td>\n",
       "    </tr>\n",
       "    <tr>\n",
       "      <th>2</th>\n",
       "      <td>NaN</td>\n",
       "      <td>NaN</td>\n",
       "      <td>0.0</td>\n",
       "      <td>0.0</td>\n",
       "      <td>NaN</td>\n",
       "      <td>NaN</td>\n",
       "      <td>NaN</td>\n",
       "      <td>NaN</td>\n",
       "      <td>NaN</td>\n",
       "      <td>NaN</td>\n",
       "    </tr>\n",
       "    <tr>\n",
       "      <th>3</th>\n",
       "      <td>NaN</td>\n",
       "      <td>NaN</td>\n",
       "      <td>NaN</td>\n",
       "      <td>0.0</td>\n",
       "      <td>NaN</td>\n",
       "      <td>NaN</td>\n",
       "      <td>NaN</td>\n",
       "      <td>1.0</td>\n",
       "      <td>NaN</td>\n",
       "      <td>NaN</td>\n",
       "    </tr>\n",
       "    <tr>\n",
       "      <th>4</th>\n",
       "      <td>1.0</td>\n",
       "      <td>NaN</td>\n",
       "      <td>NaN</td>\n",
       "      <td>1.0</td>\n",
       "      <td>NaN</td>\n",
       "      <td>NaN</td>\n",
       "      <td>NaN</td>\n",
       "      <td>1.0</td>\n",
       "      <td>0.0</td>\n",
       "      <td>NaN</td>\n",
       "    </tr>\n",
       "    <tr>\n",
       "      <th>5</th>\n",
       "      <td>NaN</td>\n",
       "      <td>NaN</td>\n",
       "      <td>1.0</td>\n",
       "      <td>NaN</td>\n",
       "      <td>0.0</td>\n",
       "      <td>NaN</td>\n",
       "      <td>NaN</td>\n",
       "      <td>0.0</td>\n",
       "      <td>NaN</td>\n",
       "      <td>NaN</td>\n",
       "    </tr>\n",
       "    <tr>\n",
       "      <th>...</th>\n",
       "      <td>...</td>\n",
       "      <td>...</td>\n",
       "      <td>...</td>\n",
       "      <td>...</td>\n",
       "      <td>...</td>\n",
       "      <td>...</td>\n",
       "      <td>...</td>\n",
       "      <td>...</td>\n",
       "      <td>...</td>\n",
       "      <td>...</td>\n",
       "    </tr>\n",
       "    <tr>\n",
       "      <th>16996</th>\n",
       "      <td>NaN</td>\n",
       "      <td>0.0</td>\n",
       "      <td>NaN</td>\n",
       "      <td>NaN</td>\n",
       "      <td>NaN</td>\n",
       "      <td>0.0</td>\n",
       "      <td>NaN</td>\n",
       "      <td>1.0</td>\n",
       "      <td>NaN</td>\n",
       "      <td>NaN</td>\n",
       "    </tr>\n",
       "    <tr>\n",
       "      <th>16997</th>\n",
       "      <td>NaN</td>\n",
       "      <td>NaN</td>\n",
       "      <td>0.0</td>\n",
       "      <td>0.0</td>\n",
       "      <td>NaN</td>\n",
       "      <td>NaN</td>\n",
       "      <td>NaN</td>\n",
       "      <td>1.0</td>\n",
       "      <td>NaN</td>\n",
       "      <td>NaN</td>\n",
       "    </tr>\n",
       "    <tr>\n",
       "      <th>16998</th>\n",
       "      <td>NaN</td>\n",
       "      <td>NaN</td>\n",
       "      <td>0.0</td>\n",
       "      <td>NaN</td>\n",
       "      <td>0.0</td>\n",
       "      <td>NaN</td>\n",
       "      <td>NaN</td>\n",
       "      <td>1.0</td>\n",
       "      <td>NaN</td>\n",
       "      <td>NaN</td>\n",
       "    </tr>\n",
       "    <tr>\n",
       "      <th>16999</th>\n",
       "      <td>0.0</td>\n",
       "      <td>1.0</td>\n",
       "      <td>NaN</td>\n",
       "      <td>0.0</td>\n",
       "      <td>NaN</td>\n",
       "      <td>NaN</td>\n",
       "      <td>NaN</td>\n",
       "      <td>NaN</td>\n",
       "      <td>NaN</td>\n",
       "      <td>NaN</td>\n",
       "    </tr>\n",
       "    <tr>\n",
       "      <th>17000</th>\n",
       "      <td>NaN</td>\n",
       "      <td>NaN</td>\n",
       "      <td>0.0</td>\n",
       "      <td>NaN</td>\n",
       "      <td>NaN</td>\n",
       "      <td>1.0</td>\n",
       "      <td>NaN</td>\n",
       "      <td>NaN</td>\n",
       "      <td>0.0</td>\n",
       "      <td>NaN</td>\n",
       "    </tr>\n",
       "  </tbody>\n",
       "</table>\n",
       "<p>17000 rows × 10 columns</p>\n",
       "</div>"
      ],
      "text/plain": [
       "           1.0   2.0   3.0   4.0   5.0   6.0   7.0   8.0   9.0   10.0\n",
       "person_id                                                            \n",
       "1           NaN   NaN   NaN   NaN   0.0   1.0   1.0   NaN   NaN   0.0\n",
       "2           NaN   NaN   0.0   0.0   NaN   NaN   NaN   NaN   NaN   NaN\n",
       "3           NaN   NaN   NaN   0.0   NaN   NaN   NaN   1.0   NaN   NaN\n",
       "4           1.0   NaN   NaN   1.0   NaN   NaN   NaN   1.0   0.0   NaN\n",
       "5           NaN   NaN   1.0   NaN   0.0   NaN   NaN   0.0   NaN   NaN\n",
       "...         ...   ...   ...   ...   ...   ...   ...   ...   ...   ...\n",
       "16996       NaN   0.0   NaN   NaN   NaN   0.0   NaN   1.0   NaN   NaN\n",
       "16997       NaN   NaN   0.0   0.0   NaN   NaN   NaN   1.0   NaN   NaN\n",
       "16998       NaN   NaN   0.0   NaN   0.0   NaN   NaN   1.0   NaN   NaN\n",
       "16999       0.0   1.0   NaN   0.0   NaN   NaN   NaN   NaN   NaN   NaN\n",
       "17000       NaN   NaN   0.0   NaN   NaN   1.0   NaN   NaN   0.0   NaN\n",
       "\n",
       "[17000 rows x 10 columns]"
      ]
     },
     "execution_count": 252,
     "metadata": {},
     "output_type": "execute_result"
    }
   ],
   "source": [
    "user_offer_matrix = user_offer_matrix.set_index('person_id')\n",
    "user_offer_matrix"
   ]
  },
  {
   "cell_type": "code",
   "execution_count": 245,
   "id": "concerned-arena",
   "metadata": {
    "collapsed": true
   },
   "outputs": [],
   "source": [
    "def create_train_test(df, train_size, test_size):\n",
    "    ''' \n",
    "    Create a training and test dataset.\n",
    "    \n",
    "    INPUT:\n",
    "    df - dataframe to split into train and test\n",
    "    train_size - no of rows in training dataset\n",
    "    test_size - no of rows in test dataset\n",
    "    \n",
    "    OUTPUT:\n",
    "    train_df -  training dataset\n",
    "    test_df - test dataset\n",
    "    '''\n",
    "    \n",
    "    train_df = df.head(train_size)\n",
    "    test_df = df.iloc[train_size:train_size+test_size]\n",
    "    \n",
    "    return train_df, test_df"
   ]
  },
  {
   "cell_type": "code",
   "execution_count": 247,
   "id": "standard-straight",
   "metadata": {},
   "outputs": [],
   "source": [
    "train_size = int(user_offer_matrix.shape[0]*0.8)\n",
    "test_size = user_offer_matrix.shape[0]-train_size"
   ]
  },
  {
   "cell_type": "code",
   "execution_count": 248,
   "id": "accredited-opportunity",
   "metadata": {},
   "outputs": [],
   "source": [
    "train_df, test_df = create_train_test(user_offer_matrix, train_size=train_size, test_size=test_size)"
   ]
  },
  {
   "cell_type": "markdown",
   "id": "continuous-separate",
   "metadata": {},
   "source": [
    "FunkSVD ..."
   ]
  },
  {
   "cell_type": "code",
   "execution_count": 280,
   "id": "adolescent-vehicle",
   "metadata": {},
   "outputs": [],
   "source": [
    "success_matrix = np.array(user_offer_matrix)"
   ]
  },
  {
   "cell_type": "code",
   "execution_count": 281,
   "id": "hollow-miami",
   "metadata": {},
   "outputs": [],
   "source": [
    "def FunkSVD(success_mat=success_matrix, latent_features=4, learning_rate=0.0001, iters=100):\n",
    "    '''\n",
    "    This function performs matrix factorization using a basic form of FunkSVD with no regularization.\n",
    "    \n",
    "    INPUT:\n",
    "    success_mat - matrix with users as rows, offers as columns, and (non-)successes as values\n",
    "    latent_features - no of latent features used\n",
    "    learning_rate \n",
    "    iters - no of iterations\n",
    "    \n",
    "    OUTPUT:\n",
    "    user_mat - a user by latent feature matrix\n",
    "    offer_mat - a latent feature by movie matrix\n",
    "    '''\n",
    "    \n",
    "    n_users = success_mat.shape[0] \n",
    "    n_offers = success_mat.shape[1] \n",
    "    num_success = np.count_nonzero(~np.isnan(success_mat))\n",
    "    \n",
    "    # initialize the user and offer matrices with random values\n",
    "    user_mat = np.random.rand(n_users, latent_features)  \n",
    "    offer_mat = np.random.rand(latent_features, n_offers)\n",
    "    \n",
    "    # initialize sum squared error (sse) at 0 for first iteration\n",
    "    sse_accum = 0\n",
    "    \n",
    "    print(\"Optimization Statistics\")\n",
    "    print(\"Iterations | Mean Squared Error \")\n",
    "    \n",
    "    for iteration in range(iters):\n",
    "        old_sse = sse_accum\n",
    "        sse_accum = 0\n",
    "        \n",
    "        # For each user-offer pair\n",
    "        for i in range(n_users):\n",
    "            for j in range(n_offers):\n",
    "                # if the pair exists\n",
    "                if (success_mat[i, j] == 0) or (success_mat[i, j] == 1):\n",
    "                    # compute the error as the actual minus the dot product of the user and offer matrices\n",
    "                    error = success_mat[i, j] - np.dot(user_mat[i, :], offer_mat[:, j])\n",
    "                    # Keep track of the total sum of squared errors for the matrix\n",
    "                    sse_accum += error ** 2\n",
    "                    \n",
    "                    # update the values in each matrix in the direction of the gradient\n",
    "                    for k in range(latent_features):\n",
    "                        user_mat[i, k] += 2 * learning_rate * error * offer_mat[k, j]\n",
    "                        offer_mat[k, j] += 2 * learning_rate * error * user_mat[i, k]\n",
    "        \n",
    "        print(iteration, sse_accum/num_success)\n",
    "        \n",
    "    return user_mat, offer_mat"
   ]
  },
  {
   "cell_type": "code",
   "execution_count": 282,
   "id": "requested-blake",
   "metadata": {
    "scrolled": false
   },
   "outputs": [
    {
     "name": "stdout",
     "output_type": "stream",
     "text": [
      "Optimization Statistics\n",
      "Iterations | Mean Squared Error \n",
      "0 0.2338506572901145\n",
      "1 0.2275045559945001\n",
      "2 0.22488628222552962\n",
      "3 0.222318851917541\n",
      "4 0.21980184329219996\n",
      "5 0.21733468730352049\n",
      "6 0.2149166749515028\n",
      "7 0.21254696106131263\n",
      "8 0.21022456805791082\n",
      "9 0.20794838971239724\n",
      "10 0.20571719484540926\n",
      "11 0.20352963098328505\n",
      "12 0.2013842279740545\n",
      "13 0.19927940158279145\n",
      "14 0.19721345709949273\n",
      "15 0.1951845930071734\n",
      "16 0.19319090477331924\n",
      "17 0.1912303888438675\n",
      "18 0.1893009469354693\n",
      "19 0.1874003907379072\n",
      "20 0.18552644715435465\n",
      "21 0.18367676422128534\n",
      "22 0.18184891786182084\n",
      "23 0.18004041963466613\n",
      "24 0.17824872564471733\n",
      "25 0.17647124677902729\n",
      "26 0.17470536042200943\n",
      "27 0.17294842378479355\n",
      "28 0.1711977889542676\n",
      "29 0.1694508197262251\n",
      "30 0.1677049102337224\n",
      "31 0.16595750531586775\n",
      "32 0.1642061224947904\n",
      "33 0.16244837534114676\n",
      "34 0.160681997914267\n",
      "35 0.15890486986601282\n",
      "36 0.15711504170320037\n",
      "37 0.15531075961795832\n",
      "38 0.15349048922617028\n",
      "39 0.15165293750711806\n",
      "40 0.14979707221989969\n",
      "41 0.14792213808775753\n",
      "42 0.146027669093925\n",
      "43 0.14411349632111065\n",
      "44 0.14217975088951876\n",
      "45 0.14022686169910914\n",
      "46 0.13825554785385966\n",
      "47 0.13626680582929326\n",
      "48 0.13426189163051885\n",
      "49 0.13224229836672408\n",
      "50 0.13020972983172438\n",
      "51 0.12816607082167872\n",
      "52 0.12611335503551224\n",
      "53 0.12405373148650817\n",
      "54 0.12198943040164895\n",
      "55 0.11992272959591481\n",
      "56 0.1178559222788296\n",
      "57 0.11579128717925574\n",
      "58 0.11373106176109368\n",
      "59 0.11167741915029865\n",
      "60 0.10963244920832504\n",
      "61 0.10759814397824131\n",
      "62 0.10557638751072929\n",
      "63 0.10356894986276896\n",
      "64 0.10157748486824751\n",
      "65 0.0996035311214586\n",
      "66 0.09764851550266974\n",
      "67 0.09571375851709298\n",
      "68 0.09380048071571742\n",
      "69 0.09190980951551889\n",
      "70 0.09004278582898068\n",
      "71 0.08820037003718675\n",
      "72 0.08638344698361418\n",
      "73 0.08459282981304503\n",
      "74 0.08282926261915856\n",
      "75 0.08109342198482852\n",
      "76 0.07938591759329114\n",
      "77 0.07770729215205405\n",
      "78 0.07605802090395439\n",
      "79 0.07443851100315908\n",
      "80 0.07284910101256241\n",
      "81 0.07129006073912153\n",
      "82 0.06976159157147194\n",
      "83 0.06826382742657074\n",
      "84 0.06679683635468281\n",
      "85 0.06536062279956213\n",
      "86 0.06395513046652847\n",
      "87 0.06258024571717029\n",
      "88 0.06123580138642956\n",
      "89 0.05992158090545536\n",
      "90 0.05863732261074912\n",
      "91 0.05738272412525816\n",
      "92 0.05615744670824853\n",
      "93 0.054961119486154175\n",
      "94 0.05379334349432587\n",
      "95 0.0526536954780239\n",
      "96 0.05154173141884805\n",
      "97 0.05045698976891474\n",
      "98 0.04939899438888501\n",
      "99 0.04836725719699099\n"
     ]
    }
   ],
   "source": [
    "# Results with 5 latent features, a learning rate of 0.01 and 100 iterations\n",
    "user_mat, offer_mat = FunkSVD(success_matrix, 5, 0.01, 100)"
   ]
  },
  {
   "cell_type": "code",
   "execution_count": 283,
   "id": "interim-times",
   "metadata": {
    "scrolled": false
   },
   "outputs": [
    {
     "data": {
      "text/plain": [
       "array([[0., 0., 1., ..., 1., 0., 0.],\n",
       "       [0., 0., 0., ..., 1., 1., 0.],\n",
       "       [0., 0., 0., ..., 1., 1., 0.],\n",
       "       ...,\n",
       "       [0., 1., 0., ..., 1., 1., 0.],\n",
       "       [0., 0., 0., ..., 1., 1., 1.],\n",
       "       [0., 0., 0., ..., 1., 0., 0.]])"
      ]
     },
     "execution_count": 283,
     "metadata": {},
     "output_type": "execute_result"
    }
   ],
   "source": [
    "# Make predictions for entire dataset\n",
    "pred = np.abs(np.round(np.dot(user_mat, offer_mat)))\n",
    "pred"
   ]
  },
  {
   "cell_type": "code",
   "execution_count": 288,
   "id": "charming-metabolism",
   "metadata": {
    "scrolled": true
   },
   "outputs": [
    {
     "data": {
      "text/plain": [
       "array([0., 0., 0., 0., 0., 1., 1., 1., 1., 0.])"
      ]
     },
     "execution_count": 288,
     "metadata": {},
     "output_type": "execute_result"
    }
   ],
   "source": [
    "pred[30]"
   ]
  },
  {
   "cell_type": "code",
   "execution_count": 289,
   "id": "flush-coating",
   "metadata": {},
   "outputs": [
    {
     "data": {
      "text/plain": [
       "array([ 0., nan, nan, nan, nan,  1., nan, nan,  1., nan])"
      ]
     },
     "execution_count": 289,
     "metadata": {},
     "output_type": "execute_result"
    }
   ],
   "source": [
    "success_matrix[30]"
   ]
  },
  {
   "cell_type": "code",
   "execution_count": 294,
   "id": "solid-response",
   "metadata": {},
   "outputs": [
    {
     "data": {
      "text/plain": [
       "array([0.38317647, 0.39270588, 0.571     , 0.31888235, 0.24617647,\n",
       "       0.69447059, 0.68623529, 0.86611765, 0.51494118, 0.31952941])"
      ]
     },
     "execution_count": 294,
     "metadata": {},
     "output_type": "execute_result"
    }
   ],
   "source": [
    "pred.sum(axis=0) / user_offer_df.shape[0]"
   ]
  },
  {
   "cell_type": "markdown",
   "id": "liable-shooting",
   "metadata": {},
   "source": [
    "**Results:**\n",
    "...\n",
    "\n",
    "***\n",
    "\n",
    "<a id=\"model3\"></a>\n",
    "### Model 3 - Ranked Based Recommendation System\n",
    "\n",
    "For completely new users we neither have personal information nor any interactions. Therefore I will create a Ranked Based Recommendation System, i.e. recommending offers with the highest overall success rates."
   ]
  },
  {
   "cell_type": "code",
   "execution_count": 120,
   "id": "perceived-myanmar",
   "metadata": {},
   "outputs": [],
   "source": [
    "def ranked_portfolio(df=user_offer_df, offer_type=['informational', 'bogo', 'discount']):\n",
    "    \"\"\"\n",
    "    Rank the offers by successfulness.\n",
    "    \n",
    "    INPUT:\n",
    "    df - user_offer_df\n",
    "    offer_type - select specific offers (default all offers)\n",
    "    \n",
    "    OUTPUT:\n",
    "    portfolio_success - df containing a list of offers and their success rate (from highest to lowest)\n",
    "    \"\"\"\n",
    "    \n",
    "    ranked_offers = (df[offers].sum() / \n",
    "                     df[offers].count()).to_frame().reset_index().rename(columns={'index': 'offer', \n",
    "                                                                                  0:'success_rate'})\n",
    "    \n",
    "    portfolio_successes = pd.concat([portfolio_clean, ranked_offers], axis=1).drop('offer', axis=1)\n",
    "    \n",
    "    portfolio_successes = portfolio_successes[portfolio_successes.offer_type.isin(offer_type)]\n",
    "    \n",
    "    portfolio_successes = portfolio_successes.sort_values(by=['success_rate'], ascending=False)\n",
    "    \n",
    "    return portfolio_successes"
   ]
  },
  {
   "cell_type": "code",
   "execution_count": 151,
   "id": "pharmaceutical-horse",
   "metadata": {
    "scrolled": true
   },
   "outputs": [
    {
     "data": {
      "text/html": [
       "<style  type=\"text/css\" >\n",
       "#T_5274c_row0_col9{\n",
       "            width:  10em;\n",
       "             height:  80%;\n",
       "            background:  linear-gradient(90deg,lightgrey 100.0%, transparent 100.0%);\n",
       "        }#T_5274c_row1_col9{\n",
       "            width:  10em;\n",
       "             height:  80%;\n",
       "            background:  linear-gradient(90deg,lightgrey 70.9%, transparent 70.9%);\n",
       "        }#T_5274c_row2_col9{\n",
       "            width:  10em;\n",
       "             height:  80%;\n",
       "            background:  linear-gradient(90deg,lightgrey 67.3%, transparent 67.3%);\n",
       "        }#T_5274c_row3_col9{\n",
       "            width:  10em;\n",
       "             height:  80%;\n",
       "            background:  linear-gradient(90deg,lightgrey 64.0%, transparent 64.0%);\n",
       "        }#T_5274c_row4_col9{\n",
       "            width:  10em;\n",
       "             height:  80%;\n",
       "            background:  linear-gradient(90deg,lightgrey 55.7%, transparent 55.7%);\n",
       "        }#T_5274c_row5_col9{\n",
       "            width:  10em;\n",
       "             height:  80%;\n",
       "            background:  linear-gradient(90deg,lightgrey 42.9%, transparent 42.9%);\n",
       "        }#T_5274c_row6_col9{\n",
       "            width:  10em;\n",
       "             height:  80%;\n",
       "            background:  linear-gradient(90deg,lightgrey 40.4%, transparent 40.4%);\n",
       "        }#T_5274c_row7_col9{\n",
       "            width:  10em;\n",
       "             height:  80%;\n",
       "            background:  linear-gradient(90deg,lightgrey 33.7%, transparent 33.7%);\n",
       "        }#T_5274c_row8_col9{\n",
       "            width:  10em;\n",
       "             height:  80%;\n",
       "            background:  linear-gradient(90deg,lightgrey 33.5%, transparent 33.5%);\n",
       "        }#T_5274c_row9_col9{\n",
       "            width:  10em;\n",
       "             height:  80%;\n",
       "            background:  linear-gradient(90deg,lightgrey 21.1%, transparent 21.1%);\n",
       "        }</style><table id=\"T_5274c_\" ><thead>    <tr>        <th class=\"blank level0\" ></th>        <th class=\"col_heading level0 col0\" >reward</th>        <th class=\"col_heading level0 col1\" >difficulty</th>        <th class=\"col_heading level0 col2\" >duration</th>        <th class=\"col_heading level0 col3\" >offer_type</th>        <th class=\"col_heading level0 col4\" >offer_id</th>        <th class=\"col_heading level0 col5\" >email</th>        <th class=\"col_heading level0 col6\" >mobile</th>        <th class=\"col_heading level0 col7\" >social</th>        <th class=\"col_heading level0 col8\" >web</th>        <th class=\"col_heading level0 col9\" >success_rate</th>    </tr></thead><tbody>\n",
       "                <tr>\n",
       "                        <th id=\"T_5274c_level0_row0\" class=\"row_heading level0 row0\" >7</th>\n",
       "                        <td id=\"T_5274c_row0_col0\" class=\"data row0 col0\" >0</td>\n",
       "                        <td id=\"T_5274c_row0_col1\" class=\"data row0 col1\" >0</td>\n",
       "                        <td id=\"T_5274c_row0_col2\" class=\"data row0 col2\" >3</td>\n",
       "                        <td id=\"T_5274c_row0_col3\" class=\"data row0 col3\" >informational</td>\n",
       "                        <td id=\"T_5274c_row0_col4\" class=\"data row0 col4\" >8</td>\n",
       "                        <td id=\"T_5274c_row0_col5\" class=\"data row0 col5\" >1</td>\n",
       "                        <td id=\"T_5274c_row0_col6\" class=\"data row0 col6\" >1</td>\n",
       "                        <td id=\"T_5274c_row0_col7\" class=\"data row0 col7\" >1</td>\n",
       "                        <td id=\"T_5274c_row0_col8\" class=\"data row0 col8\" >0</td>\n",
       "                        <td id=\"T_5274c_row0_col9\" class=\"data row0 col9\" >0.897785</td>\n",
       "            </tr>\n",
       "            <tr>\n",
       "                        <th id=\"T_5274c_level0_row1\" class=\"row_heading level0 row1\" >6</th>\n",
       "                        <td id=\"T_5274c_row1_col0\" class=\"data row1 col0\" >2</td>\n",
       "                        <td id=\"T_5274c_row1_col1\" class=\"data row1 col1\" >10</td>\n",
       "                        <td id=\"T_5274c_row1_col2\" class=\"data row1 col2\" >10</td>\n",
       "                        <td id=\"T_5274c_row1_col3\" class=\"data row1 col3\" >discount</td>\n",
       "                        <td id=\"T_5274c_row1_col4\" class=\"data row1 col4\" >7</td>\n",
       "                        <td id=\"T_5274c_row1_col5\" class=\"data row1 col5\" >1</td>\n",
       "                        <td id=\"T_5274c_row1_col6\" class=\"data row1 col6\" >1</td>\n",
       "                        <td id=\"T_5274c_row1_col7\" class=\"data row1 col7\" >1</td>\n",
       "                        <td id=\"T_5274c_row1_col8\" class=\"data row1 col8\" >1</td>\n",
       "                        <td id=\"T_5274c_row1_col9\" class=\"data row1 col9\" >0.636924</td>\n",
       "            </tr>\n",
       "            <tr>\n",
       "                        <th id=\"T_5274c_level0_row2\" class=\"row_heading level0 row2\" >5</th>\n",
       "                        <td id=\"T_5274c_row2_col0\" class=\"data row2 col0\" >3</td>\n",
       "                        <td id=\"T_5274c_row2_col1\" class=\"data row2 col1\" >7</td>\n",
       "                        <td id=\"T_5274c_row2_col2\" class=\"data row2 col2\" >7</td>\n",
       "                        <td id=\"T_5274c_row2_col3\" class=\"data row2 col3\" >discount</td>\n",
       "                        <td id=\"T_5274c_row2_col4\" class=\"data row2 col4\" >6</td>\n",
       "                        <td id=\"T_5274c_row2_col5\" class=\"data row2 col5\" >1</td>\n",
       "                        <td id=\"T_5274c_row2_col6\" class=\"data row2 col6\" >1</td>\n",
       "                        <td id=\"T_5274c_row2_col7\" class=\"data row2 col7\" >1</td>\n",
       "                        <td id=\"T_5274c_row2_col8\" class=\"data row2 col8\" >1</td>\n",
       "                        <td id=\"T_5274c_row2_col9\" class=\"data row2 col9\" >0.603953</td>\n",
       "            </tr>\n",
       "            <tr>\n",
       "                        <th id=\"T_5274c_level0_row3\" class=\"row_heading level0 row3\" >2</th>\n",
       "                        <td id=\"T_5274c_row3_col0\" class=\"data row3 col0\" >0</td>\n",
       "                        <td id=\"T_5274c_row3_col1\" class=\"data row3 col1\" >0</td>\n",
       "                        <td id=\"T_5274c_row3_col2\" class=\"data row3 col2\" >4</td>\n",
       "                        <td id=\"T_5274c_row3_col3\" class=\"data row3 col3\" >informational</td>\n",
       "                        <td id=\"T_5274c_row3_col4\" class=\"data row3 col4\" >3</td>\n",
       "                        <td id=\"T_5274c_row3_col5\" class=\"data row3 col5\" >1</td>\n",
       "                        <td id=\"T_5274c_row3_col6\" class=\"data row3 col6\" >1</td>\n",
       "                        <td id=\"T_5274c_row3_col7\" class=\"data row3 col7\" >0</td>\n",
       "                        <td id=\"T_5274c_row3_col8\" class=\"data row3 col8\" >1</td>\n",
       "                        <td id=\"T_5274c_row3_col9\" class=\"data row3 col9\" >0.574159</td>\n",
       "            </tr>\n",
       "            <tr>\n",
       "                        <th id=\"T_5274c_level0_row4\" class=\"row_heading level0 row4\" >8</th>\n",
       "                        <td id=\"T_5274c_row4_col0\" class=\"data row4 col0\" >5</td>\n",
       "                        <td id=\"T_5274c_row4_col1\" class=\"data row4 col1\" >5</td>\n",
       "                        <td id=\"T_5274c_row4_col2\" class=\"data row4 col2\" >5</td>\n",
       "                        <td id=\"T_5274c_row4_col3\" class=\"data row4 col3\" >bogo</td>\n",
       "                        <td id=\"T_5274c_row4_col4\" class=\"data row4 col4\" >9</td>\n",
       "                        <td id=\"T_5274c_row4_col5\" class=\"data row4 col5\" >1</td>\n",
       "                        <td id=\"T_5274c_row4_col6\" class=\"data row4 col6\" >1</td>\n",
       "                        <td id=\"T_5274c_row4_col7\" class=\"data row4 col7\" >1</td>\n",
       "                        <td id=\"T_5274c_row4_col8\" class=\"data row4 col8\" >1</td>\n",
       "                        <td id=\"T_5274c_row4_col9\" class=\"data row4 col9\" >0.499681</td>\n",
       "            </tr>\n",
       "            <tr>\n",
       "                        <th id=\"T_5274c_level0_row5\" class=\"row_heading level0 row5\" >1</th>\n",
       "                        <td id=\"T_5274c_row5_col0\" class=\"data row5 col0\" >10</td>\n",
       "                        <td id=\"T_5274c_row5_col1\" class=\"data row5 col1\" >10</td>\n",
       "                        <td id=\"T_5274c_row5_col2\" class=\"data row5 col2\" >5</td>\n",
       "                        <td id=\"T_5274c_row5_col3\" class=\"data row5 col3\" >bogo</td>\n",
       "                        <td id=\"T_5274c_row5_col4\" class=\"data row5 col4\" >2</td>\n",
       "                        <td id=\"T_5274c_row5_col5\" class=\"data row5 col5\" >1</td>\n",
       "                        <td id=\"T_5274c_row5_col6\" class=\"data row5 col6\" >1</td>\n",
       "                        <td id=\"T_5274c_row5_col7\" class=\"data row5 col7\" >1</td>\n",
       "                        <td id=\"T_5274c_row5_col8\" class=\"data row5 col8\" >1</td>\n",
       "                        <td id=\"T_5274c_row5_col9\" class=\"data row5 col9\" >0.384834</td>\n",
       "            </tr>\n",
       "            <tr>\n",
       "                        <th id=\"T_5274c_level0_row6\" class=\"row_heading level0 row6\" >0</th>\n",
       "                        <td id=\"T_5274c_row6_col0\" class=\"data row6 col0\" >10</td>\n",
       "                        <td id=\"T_5274c_row6_col1\" class=\"data row6 col1\" >10</td>\n",
       "                        <td id=\"T_5274c_row6_col2\" class=\"data row6 col2\" >7</td>\n",
       "                        <td id=\"T_5274c_row6_col3\" class=\"data row6 col3\" >bogo</td>\n",
       "                        <td id=\"T_5274c_row6_col4\" class=\"data row6 col4\" >1</td>\n",
       "                        <td id=\"T_5274c_row6_col5\" class=\"data row6 col5\" >1</td>\n",
       "                        <td id=\"T_5274c_row6_col6\" class=\"data row6 col6\" >1</td>\n",
       "                        <td id=\"T_5274c_row6_col7\" class=\"data row6 col7\" >1</td>\n",
       "                        <td id=\"T_5274c_row6_col8\" class=\"data row6 col8\" >0</td>\n",
       "                        <td id=\"T_5274c_row6_col9\" class=\"data row6 col9\" >0.363037</td>\n",
       "            </tr>\n",
       "            <tr>\n",
       "                        <th id=\"T_5274c_level0_row7\" class=\"row_heading level0 row7\" >3</th>\n",
       "                        <td id=\"T_5274c_row7_col0\" class=\"data row7 col0\" >5</td>\n",
       "                        <td id=\"T_5274c_row7_col1\" class=\"data row7 col1\" >5</td>\n",
       "                        <td id=\"T_5274c_row7_col2\" class=\"data row7 col2\" >7</td>\n",
       "                        <td id=\"T_5274c_row7_col3\" class=\"data row7 col3\" >bogo</td>\n",
       "                        <td id=\"T_5274c_row7_col4\" class=\"data row7 col4\" >4</td>\n",
       "                        <td id=\"T_5274c_row7_col5\" class=\"data row7 col5\" >1</td>\n",
       "                        <td id=\"T_5274c_row7_col6\" class=\"data row7 col6\" >1</td>\n",
       "                        <td id=\"T_5274c_row7_col7\" class=\"data row7 col7\" >0</td>\n",
       "                        <td id=\"T_5274c_row7_col8\" class=\"data row7 col8\" >1</td>\n",
       "                        <td id=\"T_5274c_row7_col9\" class=\"data row7 col9\" >0.302439</td>\n",
       "            </tr>\n",
       "            <tr>\n",
       "                        <th id=\"T_5274c_level0_row8\" class=\"row_heading level0 row8\" >9</th>\n",
       "                        <td id=\"T_5274c_row8_col0\" class=\"data row8 col0\" >2</td>\n",
       "                        <td id=\"T_5274c_row8_col1\" class=\"data row8 col1\" >10</td>\n",
       "                        <td id=\"T_5274c_row8_col2\" class=\"data row8 col2\" >7</td>\n",
       "                        <td id=\"T_5274c_row8_col3\" class=\"data row8 col3\" >discount</td>\n",
       "                        <td id=\"T_5274c_row8_col4\" class=\"data row8 col4\" >10</td>\n",
       "                        <td id=\"T_5274c_row8_col5\" class=\"data row8 col5\" >1</td>\n",
       "                        <td id=\"T_5274c_row8_col6\" class=\"data row8 col6\" >1</td>\n",
       "                        <td id=\"T_5274c_row8_col7\" class=\"data row8 col7\" >0</td>\n",
       "                        <td id=\"T_5274c_row8_col8\" class=\"data row8 col8\" >1</td>\n",
       "                        <td id=\"T_5274c_row8_col9\" class=\"data row8 col9\" >0.300875</td>\n",
       "            </tr>\n",
       "            <tr>\n",
       "                        <th id=\"T_5274c_level0_row9\" class=\"row_heading level0 row9\" >4</th>\n",
       "                        <td id=\"T_5274c_row9_col0\" class=\"data row9 col0\" >5</td>\n",
       "                        <td id=\"T_5274c_row9_col1\" class=\"data row9 col1\" >20</td>\n",
       "                        <td id=\"T_5274c_row9_col2\" class=\"data row9 col2\" >10</td>\n",
       "                        <td id=\"T_5274c_row9_col3\" class=\"data row9 col3\" >discount</td>\n",
       "                        <td id=\"T_5274c_row9_col4\" class=\"data row9 col4\" >5</td>\n",
       "                        <td id=\"T_5274c_row9_col5\" class=\"data row9 col5\" >1</td>\n",
       "                        <td id=\"T_5274c_row9_col6\" class=\"data row9 col6\" >0</td>\n",
       "                        <td id=\"T_5274c_row9_col7\" class=\"data row9 col7\" >0</td>\n",
       "                        <td id=\"T_5274c_row9_col8\" class=\"data row9 col8\" >1</td>\n",
       "                        <td id=\"T_5274c_row9_col9\" class=\"data row9 col9\" >0.189363</td>\n",
       "            </tr>\n",
       "    </tbody></table>"
      ],
      "text/plain": [
       "<pandas.io.formats.style.Styler at 0x7f8c8f359e80>"
      ]
     },
     "execution_count": 151,
     "metadata": {},
     "output_type": "execute_result"
    }
   ],
   "source": [
    "ranked_portfolio().style.bar(subset=['success_rate'], align='mid', color=['lightgrey'])"
   ]
  },
  {
   "cell_type": "code",
   "execution_count": 159,
   "id": "parallel-valley",
   "metadata": {},
   "outputs": [],
   "source": [
    "def recommend_top_offers(offer_type=['informational', 'bogo', 'discount'], n=2, rainbow=False):\n",
    "    \"\"\"\n",
    "    Recommend n offers to user.\n",
    "    \n",
    "    INPUT:\n",
    "    offer_type - select specific offers (default all offers)\n",
    "    n - no of recommendations (default 2)\n",
    "    rainbow - if True the highest ranked offer from each type will be returned\n",
    "    \n",
    "    OUTPUT:\n",
    "    recs - list of recommended offer ids\n",
    "    \"\"\"\n",
    "    \n",
    "    top_offers = ranked_portfolio(offer_type=offer_type)\n",
    "    \n",
    "    if rainbow:\n",
    "        recs = []\n",
    "        for offer in top_offers.offer_type.unique():\n",
    "            rec = top_offers[top_offers.offer_type == offer].head(1)['offer_id'].values\n",
    "            recs.extend(rec)\n",
    "    else:\n",
    "        if n <= len(offers):\n",
    "            recs = top_offers.head(n).offer_id.values\n",
    "        else:\n",
    "            recs = top_offers.head(len(offers)).offer_id.values\n",
    "    \n",
    "    return recs"
   ]
  },
  {
   "cell_type": "code",
   "execution_count": 160,
   "id": "electric-converter",
   "metadata": {},
   "outputs": [
    {
     "data": {
      "text/plain": [
       "[8, 7, 9]"
      ]
     },
     "execution_count": 160,
     "metadata": {},
     "output_type": "execute_result"
    }
   ],
   "source": [
    "# Example: Recommend highest ranked offer from each offer type\n",
    "recommend_top_offers(n=1, rainbow=True)"
   ]
  },
  {
   "cell_type": "markdown",
   "id": "single-smoke",
   "metadata": {},
   "source": [
    "**Results:**\n",
    "For new users we can base our recommendations on the knowledge of overall successfulness. If over 60% of users react positively about offer 6, the new user might like it too. This approach ignores the fact that a new user might fall into a sub group who prefers a lower ranked offer. The default number of recommendations is 2 (on average a user received 1.8 offers during the observation period). I added a rainbow option to the recommender. If rainbow is set to True the highest ranked offer for each offer type is returned. "
   ]
  },
  {
   "cell_type": "markdown",
   "id": "indie-spare",
   "metadata": {},
   "source": [
    "***\n",
    "\n",
    "<a id=\"refine\"></a>\n",
    "## Model Refinement\n",
    "\n",
    "**``Classifier Model``**\n",
    "\n",
    "#### Different classifier\n",
    "[...]"
   ]
  },
  {
   "cell_type": "code",
   "execution_count": null,
   "id": "mobile-locking",
   "metadata": {},
   "outputs": [],
   "source": []
  },
  {
   "cell_type": "markdown",
   "id": "amateur-science",
   "metadata": {},
   "source": [
    "#### Additional parameters via feature engineering\n",
    "[...]"
   ]
  },
  {
   "cell_type": "code",
   "execution_count": 164,
   "id": "ecological-connecticut",
   "metadata": {},
   "outputs": [],
   "source": [
    "# Source: https://www.mikulskibartosz.name/how-to-display-a-progress-bar-in-jupyter-notebook/\n",
    "import time, sys\n",
    "from IPython.display import clear_output\n",
    "\n",
    "def update_progress(progress):\n",
    "    bar_length = 20\n",
    "    if isinstance(progress, int):\n",
    "        progress = float(progress)\n",
    "    if not isinstance(progress, float):\n",
    "        progress = 0\n",
    "    if progress < 0:\n",
    "        progress = 0\n",
    "    if progress >= 1:\n",
    "        progress = 1\n",
    "\n",
    "    block = int(round(bar_length * progress))\n",
    "\n",
    "    clear_output(wait = True)\n",
    "    text = \"Progress: [{0}] {1:.1f}%\".format( \"#\" * block + \"-\" * (bar_length - block), progress * 100)\n",
    "    print(text)"
   ]
  },
  {
   "cell_type": "code",
   "execution_count": 166,
   "id": "general-debut",
   "metadata": {},
   "outputs": [
    {
     "name": "stdout",
     "output_type": "stream",
     "text": [
      "Progress: [####################] 100.0%\n"
     ]
    }
   ],
   "source": [
    "for i, user in enumerate(users):\n",
    "    avg_amount = transcript_clean[transcript_clean.person_id == user].amount.mean()\n",
    "    user_idx = user_offer_df[user_offer_df.person_id == user].index\n",
    "    user_offer_df.loc[user_idx, 'avg_amount'] = avg_amount\n",
    "    update_progress(i / len(users))"
   ]
  },
  {
   "cell_type": "code",
   "execution_count": 167,
   "id": "different-rainbow",
   "metadata": {},
   "outputs": [
    {
     "name": "stdout",
     "output_type": "stream",
     "text": [
      "Progress: [####################] 100.0%\n"
     ]
    }
   ],
   "source": [
    "for i, user in enumerate(users):\n",
    "    no_offers = transcript_clean[(transcript_clean.person_id == user) & (transcript_clean.event == 'offer received')]['event'].count()\n",
    "    user_idx = user_offer_df[user_offer_df.person_id == user].index\n",
    "    user_offer_df.loc[user_idx, 'no_offers'] = no_offers\n",
    "    update_progress(i / len(users))\n",
    "    "
   ]
  },
  {
   "cell_type": "code",
   "execution_count": 168,
   "id": "statistical-mouth",
   "metadata": {
    "scrolled": true
   },
   "outputs": [],
   "source": [
    "user_offer_df['avg_amount'] = user_offer_df.avg_amount.fillna(0)"
   ]
  },
  {
   "cell_type": "code",
   "execution_count": 169,
   "id": "complimentary-teacher",
   "metadata": {},
   "outputs": [
    {
     "name": "stdout",
     "output_type": "stream",
     "text": [
      "1.0\n",
      "              precision    recall  f1-score   support\n",
      "\n",
      "           0       0.81      0.69      0.74       701\n",
      "           1       0.58      0.72      0.64       412\n",
      "\n",
      "    accuracy                           0.70      1113\n",
      "   macro avg       0.69      0.70      0.69      1113\n",
      "weighted avg       0.72      0.70      0.70      1113\n",
      "\n",
      "\n",
      "2.0\n",
      "              precision    recall  f1-score   support\n",
      "\n",
      "           0       0.82      0.71      0.76       621\n",
      "           1       0.68      0.80      0.73       482\n",
      "\n",
      "    accuracy                           0.75      1103\n",
      "   macro avg       0.75      0.75      0.75      1103\n",
      "weighted avg       0.76      0.75      0.75      1103\n",
      "\n",
      "\n",
      "3.0\n",
      "              precision    recall  f1-score   support\n",
      "\n",
      "           0       0.68      0.63      0.66       492\n",
      "           1       0.72      0.76      0.74       613\n",
      "\n",
      "    accuracy                           0.70      1105\n",
      "   macro avg       0.70      0.70      0.70      1105\n",
      "weighted avg       0.70      0.70      0.70      1105\n",
      "\n",
      "\n",
      "4.0\n",
      "              precision    recall  f1-score   support\n",
      "\n",
      "           0       0.74      0.84      0.78       753\n",
      "           1       0.51      0.36      0.43       356\n",
      "\n",
      "    accuracy                           0.69      1109\n",
      "   macro avg       0.62      0.60      0.60      1109\n",
      "weighted avg       0.66      0.69      0.67      1109\n",
      "\n",
      "\n",
      "5.0\n",
      "              precision    recall  f1-score   support\n",
      "\n",
      "           0       0.81      0.93      0.87       893\n",
      "           1       0.37      0.16      0.22       225\n",
      "\n",
      "    accuracy                           0.78      1118\n",
      "   macro avg       0.59      0.55      0.55      1118\n",
      "weighted avg       0.72      0.78      0.74      1118\n",
      "\n",
      "\n",
      "6.0\n",
      "              precision    recall  f1-score   support\n",
      "\n",
      "           0       0.64      0.39      0.48       376\n",
      "           1       0.74      0.89      0.80       726\n",
      "\n",
      "    accuracy                           0.72      1102\n",
      "   macro avg       0.69      0.64      0.64      1102\n",
      "weighted avg       0.70      0.72      0.69      1102\n",
      "\n",
      "\n",
      "7.0\n",
      "              precision    recall  f1-score   support\n",
      "\n",
      "           0       0.73      0.48      0.58       361\n",
      "           1       0.78      0.91      0.84       748\n",
      "\n",
      "    accuracy                           0.77      1109\n",
      "   macro avg       0.75      0.69      0.71      1109\n",
      "weighted avg       0.76      0.77      0.76      1109\n",
      "\n",
      "\n",
      "8.0\n",
      "              precision    recall  f1-score   support\n",
      "\n",
      "           0       0.00      0.00      0.00       102\n",
      "           1       0.91      1.00      0.95      1002\n",
      "\n",
      "    accuracy                           0.91      1104\n",
      "   macro avg       0.45      0.50      0.48      1104\n",
      "weighted avg       0.82      0.91      0.86      1104\n",
      "\n",
      "\n",
      "9.0\n",
      "              precision    recall  f1-score   support\n",
      "\n",
      "           0       0.67      0.53      0.59       487\n",
      "           1       0.68      0.79      0.73       602\n",
      "\n",
      "    accuracy                           0.67      1089\n",
      "   macro avg       0.67      0.66      0.66      1089\n",
      "weighted avg       0.67      0.67      0.67      1089\n",
      "\n",
      "\n",
      "10.0\n",
      "              precision    recall  f1-score   support\n",
      "\n",
      "           0       0.74      0.85      0.79       718\n",
      "           1       0.60      0.42      0.49       378\n",
      "\n",
      "    accuracy                           0.70      1096\n",
      "   macro avg       0.67      0.64      0.64      1096\n",
      "weighted avg       0.69      0.70      0.69      1096\n",
      "\n",
      "\n"
     ]
    }
   ],
   "source": [
    "for offer in offers:\n",
    "    df = get_offer_df(offer)\n",
    "    df = get_dummies_df(df)\n",
    "    clf, X_test, Y_test = classifier_model(df, offer)\n",
    "    print(offer)\n",
    "    evaluate_model(clf, X_test, Y_test)"
   ]
  },
  {
   "cell_type": "code",
   "execution_count": null,
   "id": "committed-timer",
   "metadata": {},
   "outputs": [],
   "source": []
  },
  {
   "cell_type": "markdown",
   "id": "stuffed-enterprise",
   "metadata": {},
   "source": [
    "#### GridSearch\n",
    "\n",
    "[...]"
   ]
  },
  {
   "cell_type": "code",
   "execution_count": null,
   "id": "artificial-laugh",
   "metadata": {},
   "outputs": [],
   "source": []
  },
  {
   "cell_type": "markdown",
   "id": "standing-banking",
   "metadata": {},
   "source": [
    "**``Collaborative Filtering Recommendation Engine``**"
   ]
  },
  {
   "cell_type": "code",
   "execution_count": null,
   "id": "phantom-concord",
   "metadata": {},
   "outputs": [],
   "source": []
  },
  {
   "cell_type": "markdown",
   "id": "changed-bargain",
   "metadata": {},
   "source": [
    "**``Ranked Based Recommendation Engine``**\n",
    "\n",
    "I won't be implementing any refinement for the third model. I will only give an outlook of what might be possible."
   ]
  },
  {
   "cell_type": "code",
   "execution_count": 164,
   "id": "fifty-benjamin",
   "metadata": {
    "scrolled": true
   },
   "outputs": [
    {
     "data": {
      "text/html": [
       "<div>\n",
       "<style scoped>\n",
       "    .dataframe tbody tr th:only-of-type {\n",
       "        vertical-align: middle;\n",
       "    }\n",
       "\n",
       "    .dataframe tbody tr th {\n",
       "        vertical-align: top;\n",
       "    }\n",
       "\n",
       "    .dataframe thead th {\n",
       "        text-align: right;\n",
       "    }\n",
       "</style>\n",
       "<table border=\"1\" class=\"dataframe\">\n",
       "  <thead>\n",
       "    <tr style=\"text-align: right;\">\n",
       "      <th></th>\n",
       "      <th>reward</th>\n",
       "      <th>difficulty</th>\n",
       "      <th>duration</th>\n",
       "      <th>offer_type</th>\n",
       "      <th>offer_id</th>\n",
       "      <th>email</th>\n",
       "      <th>mobile</th>\n",
       "      <th>social</th>\n",
       "      <th>web</th>\n",
       "      <th>success_rate</th>\n",
       "    </tr>\n",
       "  </thead>\n",
       "  <tbody>\n",
       "    <tr>\n",
       "      <th>6</th>\n",
       "      <td>2</td>\n",
       "      <td>10</td>\n",
       "      <td>10</td>\n",
       "      <td>discount</td>\n",
       "      <td>7</td>\n",
       "      <td>1</td>\n",
       "      <td>1</td>\n",
       "      <td>1</td>\n",
       "      <td>1</td>\n",
       "      <td>0.636924</td>\n",
       "    </tr>\n",
       "    <tr>\n",
       "      <th>5</th>\n",
       "      <td>3</td>\n",
       "      <td>7</td>\n",
       "      <td>7</td>\n",
       "      <td>discount</td>\n",
       "      <td>6</td>\n",
       "      <td>1</td>\n",
       "      <td>1</td>\n",
       "      <td>1</td>\n",
       "      <td>1</td>\n",
       "      <td>0.603953</td>\n",
       "    </tr>\n",
       "    <tr>\n",
       "      <th>8</th>\n",
       "      <td>5</td>\n",
       "      <td>5</td>\n",
       "      <td>5</td>\n",
       "      <td>bogo</td>\n",
       "      <td>9</td>\n",
       "      <td>1</td>\n",
       "      <td>1</td>\n",
       "      <td>1</td>\n",
       "      <td>1</td>\n",
       "      <td>0.499681</td>\n",
       "    </tr>\n",
       "    <tr>\n",
       "      <th>1</th>\n",
       "      <td>10</td>\n",
       "      <td>10</td>\n",
       "      <td>5</td>\n",
       "      <td>bogo</td>\n",
       "      <td>2</td>\n",
       "      <td>1</td>\n",
       "      <td>1</td>\n",
       "      <td>1</td>\n",
       "      <td>1</td>\n",
       "      <td>0.384834</td>\n",
       "    </tr>\n",
       "    <tr>\n",
       "      <th>0</th>\n",
       "      <td>10</td>\n",
       "      <td>10</td>\n",
       "      <td>7</td>\n",
       "      <td>bogo</td>\n",
       "      <td>1</td>\n",
       "      <td>1</td>\n",
       "      <td>1</td>\n",
       "      <td>1</td>\n",
       "      <td>0</td>\n",
       "      <td>0.363037</td>\n",
       "    </tr>\n",
       "    <tr>\n",
       "      <th>3</th>\n",
       "      <td>5</td>\n",
       "      <td>5</td>\n",
       "      <td>7</td>\n",
       "      <td>bogo</td>\n",
       "      <td>4</td>\n",
       "      <td>1</td>\n",
       "      <td>1</td>\n",
       "      <td>0</td>\n",
       "      <td>1</td>\n",
       "      <td>0.302439</td>\n",
       "    </tr>\n",
       "    <tr>\n",
       "      <th>9</th>\n",
       "      <td>2</td>\n",
       "      <td>10</td>\n",
       "      <td>7</td>\n",
       "      <td>discount</td>\n",
       "      <td>10</td>\n",
       "      <td>1</td>\n",
       "      <td>1</td>\n",
       "      <td>0</td>\n",
       "      <td>1</td>\n",
       "      <td>0.300875</td>\n",
       "    </tr>\n",
       "    <tr>\n",
       "      <th>4</th>\n",
       "      <td>5</td>\n",
       "      <td>20</td>\n",
       "      <td>10</td>\n",
       "      <td>discount</td>\n",
       "      <td>5</td>\n",
       "      <td>1</td>\n",
       "      <td>0</td>\n",
       "      <td>0</td>\n",
       "      <td>1</td>\n",
       "      <td>0.189363</td>\n",
       "    </tr>\n",
       "  </tbody>\n",
       "</table>\n",
       "</div>"
      ],
      "text/plain": [
       "   reward  difficulty  duration offer_type  offer_id  email  mobile  social  \\\n",
       "6       2          10        10   discount         7      1       1       1   \n",
       "5       3           7         7   discount         6      1       1       1   \n",
       "8       5           5         5       bogo         9      1       1       1   \n",
       "1      10          10         5       bogo         2      1       1       1   \n",
       "0      10          10         7       bogo         1      1       1       1   \n",
       "3       5           5         7       bogo         4      1       1       0   \n",
       "9       2          10         7   discount        10      1       1       0   \n",
       "4       5          20        10   discount         5      1       0       0   \n",
       "\n",
       "   web  success_rate  \n",
       "6    1      0.636924  \n",
       "5    1      0.603953  \n",
       "8    1      0.499681  \n",
       "1    1      0.384834  \n",
       "0    0      0.363037  \n",
       "3    1      0.302439  \n",
       "9    1      0.300875  \n",
       "4    1      0.189363  "
      ]
     },
     "execution_count": 164,
     "metadata": {},
     "output_type": "execute_result"
    }
   ],
   "source": [
    "ranked_offers = ranked_portfolio(offer_type=['discount', 'bogo'])\n",
    "ranked_offers"
   ]
  },
  {
   "cell_type": "markdown",
   "id": "virgin-bubble",
   "metadata": {},
   "source": [
    "There are several ways to improve the Ranked Based Recommendation System. If content-related information about each offer was available, we could combine the recommender with a Content Based Recommendation System. Offers would be clustered into similar groups based on specific characteristics. \n",
    "\n",
    "Another approach could be to identify influencing factors on how the offer is presented to the user. From ``portfolio_clean`` several hypothesis could be made:\n",
    "* Approaching users via social media platforms has a positive effect.\n",
    "* A very high upfront investment discorages users from a purchase.\n",
    "* Bogos should be offered for a short time period only.\n",
    "\n",
    "However, there are too few data points to support any of these statements."
   ]
  },
  {
   "cell_type": "markdown",
   "id": "weighted-coach",
   "metadata": {},
   "source": [
    "### Putting it all together"
   ]
  },
  {
   "cell_type": "code",
   "execution_count": null,
   "id": "improved-interim",
   "metadata": {},
   "outputs": [],
   "source": [
    "#def make_recommendation():\n",
    "#no nessecity to check whether or not a user has already seen an offer\n",
    "#he/she can purchase the same offer again"
   ]
  },
  {
   "cell_type": "markdown",
   "id": "grave-palestine",
   "metadata": {},
   "source": [
    "***\n",
    "\n",
    "<a id=\"end\"></a>\n",
    "## Conclusion\n",
    "\n",
    "### How to improve the results?\n",
    "* The membership date actually could be used for making predictions\n",
    "* Include timeline of events \n",
    "* Take into account how many offers a user already received from a specfic offer type\n",
    "* Cold Start Problem: During the sign up process ask users about preferences"
   ]
  },
  {
   "cell_type": "code",
   "execution_count": null,
   "id": "attractive-central",
   "metadata": {},
   "outputs": [],
   "source": []
  }
 ],
 "metadata": {
  "kernelspec": {
   "display_name": "Python 3",
   "language": "python",
   "name": "python3"
  },
  "language_info": {
   "codemirror_mode": {
    "name": "ipython",
    "version": 3
   },
   "file_extension": ".py",
   "mimetype": "text/x-python",
   "name": "python",
   "nbconvert_exporter": "python",
   "pygments_lexer": "ipython3",
   "version": "3.9.2"
  }
 },
 "nbformat": 4,
 "nbformat_minor": 5
}
