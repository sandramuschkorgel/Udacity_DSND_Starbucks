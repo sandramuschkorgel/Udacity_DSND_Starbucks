{
 "cells": [
  {
   "cell_type": "markdown",
   "id": "assigned-cheat",
   "metadata": {},
   "source": [
    "# Udacity Data Science Nanodegree \n",
    "## Capstone Project: Starbucks\n",
    "Sandra Muschkorgel\n",
    "\n",
    "Berlin, 27th June 2021\n",
    "\n",
    "## Content\n",
    "* <a href=\"#intro\">Introduction</a>\n",
    "* <a href=\"#assess\">Data Assessment and Cleaning</a>\n",
    "* <a href=\"#explore\">Data Exploration</a>\n",
    "* <a href=\"#preprocess\">Data Preprocession</a>\n",
    "* <a href=\"#model\">Data Modeling</a>\n",
    "  * <a href=\"#model1\">Model 1</a>\n",
    "  * <a href=\"#model2\">Model 2</a>\n",
    "  * Model 3\n",
    "* <a href=\"\"></a>\n",
    "* <a href=\"#end\">Conclusion</a>\n",
    "\n",
    "***\n",
    "\n",
    "<a id=\"intro\"></a>\n",
    "## Introduction\n",
    "\n",
    "Domain introduction\n",
    "* Starbucks dataset\n",
    "* Goal: Identify which offer to send to which user\n",
    "* \n",
    "\n",
    "Technical introduction\n",
    "[...]"
   ]
  },
  {
   "cell_type": "code",
   "execution_count": 456,
   "id": "outer-raise",
   "metadata": {},
   "outputs": [],
   "source": [
    "# Import required libraries\n",
    "import numpy as np\n",
    "import pandas as pd\n",
    "import matplotlib.pyplot as plt\n",
    "import seaborn as sb\n",
    "\n",
    "from sklearn.model_selection import train_test_split\n",
    "from sklearn.multioutput import MultiOutputClassifier\n",
    "from sklearn.ensemble import RandomForestClassifier\n",
    "from sklearn.neighbors import KNeighborsClassifier\n",
    "from sklearn.naive_bayes import BernoulliNB\n",
    "from sklearn.metrics import classification_report, accuracy_score, precision_score, recall_score\n",
    "\n",
    "%matplotlib inline"
   ]
  },
  {
   "cell_type": "code",
   "execution_count": 2,
   "id": "noticed-indian",
   "metadata": {},
   "outputs": [],
   "source": [
    "profile = pd.read_json('data/profile.json', lines=True)\n",
    "portfolio = pd.read_json('data/portfolio.json', lines=True)\n",
    "transcript = pd.read_json('data/transcript.json', lines=True)"
   ]
  },
  {
   "cell_type": "markdown",
   "id": "expressed-lighting",
   "metadata": {},
   "source": [
    "***\n",
    "<a id=\"assess\"></a>\n",
    "## Data Assessment and Cleaning\n",
    "\n",
    "**`profile`**"
   ]
  },
  {
   "cell_type": "code",
   "execution_count": 3,
   "id": "stylish-monster",
   "metadata": {
    "scrolled": true
   },
   "outputs": [
    {
     "data": {
      "text/html": [
       "<div>\n",
       "<style scoped>\n",
       "    .dataframe tbody tr th:only-of-type {\n",
       "        vertical-align: middle;\n",
       "    }\n",
       "\n",
       "    .dataframe tbody tr th {\n",
       "        vertical-align: top;\n",
       "    }\n",
       "\n",
       "    .dataframe thead th {\n",
       "        text-align: right;\n",
       "    }\n",
       "</style>\n",
       "<table border=\"1\" class=\"dataframe\">\n",
       "  <thead>\n",
       "    <tr style=\"text-align: right;\">\n",
       "      <th></th>\n",
       "      <th>gender</th>\n",
       "      <th>age</th>\n",
       "      <th>id</th>\n",
       "      <th>became_member_on</th>\n",
       "      <th>income</th>\n",
       "    </tr>\n",
       "  </thead>\n",
       "  <tbody>\n",
       "    <tr>\n",
       "      <th>0</th>\n",
       "      <td>None</td>\n",
       "      <td>118</td>\n",
       "      <td>68be06ca386d4c31939f3a4f0e3dd783</td>\n",
       "      <td>20170212</td>\n",
       "      <td>NaN</td>\n",
       "    </tr>\n",
       "    <tr>\n",
       "      <th>1</th>\n",
       "      <td>F</td>\n",
       "      <td>55</td>\n",
       "      <td>0610b486422d4921ae7d2bf64640c50b</td>\n",
       "      <td>20170715</td>\n",
       "      <td>112000.0</td>\n",
       "    </tr>\n",
       "    <tr>\n",
       "      <th>2</th>\n",
       "      <td>None</td>\n",
       "      <td>118</td>\n",
       "      <td>38fe809add3b4fcf9315a9694bb96ff5</td>\n",
       "      <td>20180712</td>\n",
       "      <td>NaN</td>\n",
       "    </tr>\n",
       "    <tr>\n",
       "      <th>3</th>\n",
       "      <td>F</td>\n",
       "      <td>75</td>\n",
       "      <td>78afa995795e4d85b5d9ceeca43f5fef</td>\n",
       "      <td>20170509</td>\n",
       "      <td>100000.0</td>\n",
       "    </tr>\n",
       "    <tr>\n",
       "      <th>4</th>\n",
       "      <td>None</td>\n",
       "      <td>118</td>\n",
       "      <td>a03223e636434f42ac4c3df47e8bac43</td>\n",
       "      <td>20170804</td>\n",
       "      <td>NaN</td>\n",
       "    </tr>\n",
       "    <tr>\n",
       "      <th>...</th>\n",
       "      <td>...</td>\n",
       "      <td>...</td>\n",
       "      <td>...</td>\n",
       "      <td>...</td>\n",
       "      <td>...</td>\n",
       "    </tr>\n",
       "    <tr>\n",
       "      <th>16995</th>\n",
       "      <td>F</td>\n",
       "      <td>45</td>\n",
       "      <td>6d5f3a774f3d4714ab0c092238f3a1d7</td>\n",
       "      <td>20180604</td>\n",
       "      <td>54000.0</td>\n",
       "    </tr>\n",
       "    <tr>\n",
       "      <th>16996</th>\n",
       "      <td>M</td>\n",
       "      <td>61</td>\n",
       "      <td>2cb4f97358b841b9a9773a7aa05a9d77</td>\n",
       "      <td>20180713</td>\n",
       "      <td>72000.0</td>\n",
       "    </tr>\n",
       "    <tr>\n",
       "      <th>16997</th>\n",
       "      <td>M</td>\n",
       "      <td>49</td>\n",
       "      <td>01d26f638c274aa0b965d24cefe3183f</td>\n",
       "      <td>20170126</td>\n",
       "      <td>73000.0</td>\n",
       "    </tr>\n",
       "    <tr>\n",
       "      <th>16998</th>\n",
       "      <td>F</td>\n",
       "      <td>83</td>\n",
       "      <td>9dc1421481194dcd9400aec7c9ae6366</td>\n",
       "      <td>20160307</td>\n",
       "      <td>50000.0</td>\n",
       "    </tr>\n",
       "    <tr>\n",
       "      <th>16999</th>\n",
       "      <td>F</td>\n",
       "      <td>62</td>\n",
       "      <td>e4052622e5ba45a8b96b59aba68cf068</td>\n",
       "      <td>20170722</td>\n",
       "      <td>82000.0</td>\n",
       "    </tr>\n",
       "  </tbody>\n",
       "</table>\n",
       "<p>17000 rows × 5 columns</p>\n",
       "</div>"
      ],
      "text/plain": [
       "      gender  age                                id  became_member_on  \\\n",
       "0       None  118  68be06ca386d4c31939f3a4f0e3dd783          20170212   \n",
       "1          F   55  0610b486422d4921ae7d2bf64640c50b          20170715   \n",
       "2       None  118  38fe809add3b4fcf9315a9694bb96ff5          20180712   \n",
       "3          F   75  78afa995795e4d85b5d9ceeca43f5fef          20170509   \n",
       "4       None  118  a03223e636434f42ac4c3df47e8bac43          20170804   \n",
       "...      ...  ...                               ...               ...   \n",
       "16995      F   45  6d5f3a774f3d4714ab0c092238f3a1d7          20180604   \n",
       "16996      M   61  2cb4f97358b841b9a9773a7aa05a9d77          20180713   \n",
       "16997      M   49  01d26f638c274aa0b965d24cefe3183f          20170126   \n",
       "16998      F   83  9dc1421481194dcd9400aec7c9ae6366          20160307   \n",
       "16999      F   62  e4052622e5ba45a8b96b59aba68cf068          20170722   \n",
       "\n",
       "         income  \n",
       "0           NaN  \n",
       "1      112000.0  \n",
       "2           NaN  \n",
       "3      100000.0  \n",
       "4           NaN  \n",
       "...         ...  \n",
       "16995   54000.0  \n",
       "16996   72000.0  \n",
       "16997   73000.0  \n",
       "16998   50000.0  \n",
       "16999   82000.0  \n",
       "\n",
       "[17000 rows x 5 columns]"
      ]
     },
     "execution_count": 3,
     "metadata": {},
     "output_type": "execute_result"
    }
   ],
   "source": [
    "profile"
   ]
  },
  {
   "cell_type": "code",
   "execution_count": 4,
   "id": "national-volleyball",
   "metadata": {
    "scrolled": true
   },
   "outputs": [
    {
     "data": {
      "text/plain": [
       "(17000, 5)"
      ]
     },
     "execution_count": 4,
     "metadata": {},
     "output_type": "execute_result"
    }
   ],
   "source": [
    "profile.shape"
   ]
  },
  {
   "cell_type": "code",
   "execution_count": 5,
   "id": "still-lending",
   "metadata": {},
   "outputs": [
    {
     "name": "stdout",
     "output_type": "stream",
     "text": [
      "<class 'pandas.core.frame.DataFrame'>\n",
      "RangeIndex: 17000 entries, 0 to 16999\n",
      "Data columns (total 5 columns):\n",
      " #   Column            Non-Null Count  Dtype  \n",
      "---  ------            --------------  -----  \n",
      " 0   gender            14825 non-null  object \n",
      " 1   age               17000 non-null  int64  \n",
      " 2   id                17000 non-null  object \n",
      " 3   became_member_on  17000 non-null  int64  \n",
      " 4   income            14825 non-null  float64\n",
      "dtypes: float64(1), int64(2), object(2)\n",
      "memory usage: 664.2+ KB\n"
     ]
    }
   ],
   "source": [
    "profile.info()"
   ]
  },
  {
   "cell_type": "code",
   "execution_count": 6,
   "id": "known-remark",
   "metadata": {
    "scrolled": true
   },
   "outputs": [
    {
     "data": {
      "text/plain": [
       "gender              2175\n",
       "age                    0\n",
       "id                     0\n",
       "became_member_on       0\n",
       "income              2175\n",
       "dtype: int64"
      ]
     },
     "execution_count": 6,
     "metadata": {},
     "output_type": "execute_result"
    }
   ],
   "source": [
    "profile.isnull().sum()"
   ]
  },
  {
   "cell_type": "code",
   "execution_count": 7,
   "id": "underlying-temple",
   "metadata": {},
   "outputs": [
    {
     "data": {
      "text/plain": [
       "0.12794117647058822"
      ]
     },
     "execution_count": 7,
     "metadata": {},
     "output_type": "execute_result"
    }
   ],
   "source": [
    "profile.isnull().sum()['gender'] / profile.shape[0]"
   ]
  },
  {
   "cell_type": "code",
   "execution_count": 8,
   "id": "agreed-balloon",
   "metadata": {},
   "outputs": [
    {
     "data": {
      "text/html": [
       "<div>\n",
       "<style scoped>\n",
       "    .dataframe tbody tr th:only-of-type {\n",
       "        vertical-align: middle;\n",
       "    }\n",
       "\n",
       "    .dataframe tbody tr th {\n",
       "        vertical-align: top;\n",
       "    }\n",
       "\n",
       "    .dataframe thead th {\n",
       "        text-align: right;\n",
       "    }\n",
       "</style>\n",
       "<table border=\"1\" class=\"dataframe\">\n",
       "  <thead>\n",
       "    <tr style=\"text-align: right;\">\n",
       "      <th></th>\n",
       "      <th>gender</th>\n",
       "      <th>age</th>\n",
       "      <th>id</th>\n",
       "      <th>became_member_on</th>\n",
       "      <th>income</th>\n",
       "    </tr>\n",
       "  </thead>\n",
       "  <tbody>\n",
       "    <tr>\n",
       "      <th>0</th>\n",
       "      <td>None</td>\n",
       "      <td>118</td>\n",
       "      <td>68be06ca386d4c31939f3a4f0e3dd783</td>\n",
       "      <td>20170212</td>\n",
       "      <td>NaN</td>\n",
       "    </tr>\n",
       "    <tr>\n",
       "      <th>2</th>\n",
       "      <td>None</td>\n",
       "      <td>118</td>\n",
       "      <td>38fe809add3b4fcf9315a9694bb96ff5</td>\n",
       "      <td>20180712</td>\n",
       "      <td>NaN</td>\n",
       "    </tr>\n",
       "    <tr>\n",
       "      <th>4</th>\n",
       "      <td>None</td>\n",
       "      <td>118</td>\n",
       "      <td>a03223e636434f42ac4c3df47e8bac43</td>\n",
       "      <td>20170804</td>\n",
       "      <td>NaN</td>\n",
       "    </tr>\n",
       "    <tr>\n",
       "      <th>6</th>\n",
       "      <td>None</td>\n",
       "      <td>118</td>\n",
       "      <td>8ec6ce2a7e7949b1bf142def7d0e0586</td>\n",
       "      <td>20170925</td>\n",
       "      <td>NaN</td>\n",
       "    </tr>\n",
       "    <tr>\n",
       "      <th>7</th>\n",
       "      <td>None</td>\n",
       "      <td>118</td>\n",
       "      <td>68617ca6246f4fbc85e91a2a49552598</td>\n",
       "      <td>20171002</td>\n",
       "      <td>NaN</td>\n",
       "    </tr>\n",
       "  </tbody>\n",
       "</table>\n",
       "</div>"
      ],
      "text/plain": [
       "  gender  age                                id  became_member_on  income\n",
       "0   None  118  68be06ca386d4c31939f3a4f0e3dd783          20170212     NaN\n",
       "2   None  118  38fe809add3b4fcf9315a9694bb96ff5          20180712     NaN\n",
       "4   None  118  a03223e636434f42ac4c3df47e8bac43          20170804     NaN\n",
       "6   None  118  8ec6ce2a7e7949b1bf142def7d0e0586          20170925     NaN\n",
       "7   None  118  68617ca6246f4fbc85e91a2a49552598          20171002     NaN"
      ]
     },
     "execution_count": 8,
     "metadata": {},
     "output_type": "execute_result"
    }
   ],
   "source": [
    "profile[profile.age == 118].head()"
   ]
  },
  {
   "cell_type": "code",
   "execution_count": 9,
   "id": "known-baker",
   "metadata": {
    "scrolled": false
   },
   "outputs": [
    {
     "data": {
      "text/html": [
       "<div>\n",
       "<style scoped>\n",
       "    .dataframe tbody tr th:only-of-type {\n",
       "        vertical-align: middle;\n",
       "    }\n",
       "\n",
       "    .dataframe tbody tr th {\n",
       "        vertical-align: top;\n",
       "    }\n",
       "\n",
       "    .dataframe thead th {\n",
       "        text-align: right;\n",
       "    }\n",
       "</style>\n",
       "<table border=\"1\" class=\"dataframe\">\n",
       "  <thead>\n",
       "    <tr style=\"text-align: right;\">\n",
       "      <th></th>\n",
       "      <th>age</th>\n",
       "      <th>became_member_on</th>\n",
       "      <th>income</th>\n",
       "    </tr>\n",
       "  </thead>\n",
       "  <tbody>\n",
       "    <tr>\n",
       "      <th>count</th>\n",
       "      <td>14825.000000</td>\n",
       "      <td>1.482500e+04</td>\n",
       "      <td>14825.000000</td>\n",
       "    </tr>\n",
       "    <tr>\n",
       "      <th>mean</th>\n",
       "      <td>54.393524</td>\n",
       "      <td>2.016689e+07</td>\n",
       "      <td>65404.991568</td>\n",
       "    </tr>\n",
       "    <tr>\n",
       "      <th>std</th>\n",
       "      <td>17.383705</td>\n",
       "      <td>1.188565e+04</td>\n",
       "      <td>21598.299410</td>\n",
       "    </tr>\n",
       "    <tr>\n",
       "      <th>min</th>\n",
       "      <td>18.000000</td>\n",
       "      <td>2.013073e+07</td>\n",
       "      <td>30000.000000</td>\n",
       "    </tr>\n",
       "    <tr>\n",
       "      <th>25%</th>\n",
       "      <td>42.000000</td>\n",
       "      <td>2.016052e+07</td>\n",
       "      <td>49000.000000</td>\n",
       "    </tr>\n",
       "    <tr>\n",
       "      <th>50%</th>\n",
       "      <td>55.000000</td>\n",
       "      <td>2.017080e+07</td>\n",
       "      <td>64000.000000</td>\n",
       "    </tr>\n",
       "    <tr>\n",
       "      <th>75%</th>\n",
       "      <td>66.000000</td>\n",
       "      <td>2.017123e+07</td>\n",
       "      <td>80000.000000</td>\n",
       "    </tr>\n",
       "    <tr>\n",
       "      <th>max</th>\n",
       "      <td>101.000000</td>\n",
       "      <td>2.018073e+07</td>\n",
       "      <td>120000.000000</td>\n",
       "    </tr>\n",
       "  </tbody>\n",
       "</table>\n",
       "</div>"
      ],
      "text/plain": [
       "                age  became_member_on         income\n",
       "count  14825.000000      1.482500e+04   14825.000000\n",
       "mean      54.393524      2.016689e+07   65404.991568\n",
       "std       17.383705      1.188565e+04   21598.299410\n",
       "min       18.000000      2.013073e+07   30000.000000\n",
       "25%       42.000000      2.016052e+07   49000.000000\n",
       "50%       55.000000      2.017080e+07   64000.000000\n",
       "75%       66.000000      2.017123e+07   80000.000000\n",
       "max      101.000000      2.018073e+07  120000.000000"
      ]
     },
     "execution_count": 9,
     "metadata": {},
     "output_type": "execute_result"
    }
   ],
   "source": [
    "profile[profile.age < 118].describe()"
   ]
  },
  {
   "cell_type": "code",
   "execution_count": 10,
   "id": "through-creativity",
   "metadata": {
    "scrolled": true
   },
   "outputs": [
    {
     "data": {
      "text/plain": [
       "count       986.000000\n",
       "mean      71787.018256\n",
       "std       22318.990431\n",
       "min       30000.000000\n",
       "25%       55000.000000\n",
       "50%       71000.000000\n",
       "75%       88750.000000\n",
       "max      120000.000000\n",
       "Name: income, dtype: float64"
      ]
     },
     "execution_count": 10,
     "metadata": {},
     "output_type": "execute_result"
    }
   ],
   "source": [
    "profile[(profile.age > 80) & (profile.age < 118)]['income'].describe()"
   ]
  },
  {
   "cell_type": "code",
   "execution_count": 11,
   "id": "limiting-mentor",
   "metadata": {},
   "outputs": [
    {
     "data": {
      "text/plain": [
       "0"
      ]
     },
     "execution_count": 11,
     "metadata": {},
     "output_type": "execute_result"
    }
   ],
   "source": [
    "profile.duplicated().sum()"
   ]
  },
  {
   "cell_type": "code",
   "execution_count": 12,
   "id": "valid-newark",
   "metadata": {
    "scrolled": true
   },
   "outputs": [
    {
     "data": {
      "text/plain": [
       "gender                  3\n",
       "age                    85\n",
       "id                  17000\n",
       "became_member_on     1716\n",
       "income                 91\n",
       "dtype: int64"
      ]
     },
     "execution_count": 12,
     "metadata": {},
     "output_type": "execute_result"
    }
   ],
   "source": [
    "profile.nunique()"
   ]
  },
  {
   "cell_type": "code",
   "execution_count": 13,
   "id": "quarterly-species",
   "metadata": {
    "scrolled": false
   },
   "outputs": [
    {
     "data": {
      "text/plain": [
       "M    8484\n",
       "F    6129\n",
       "O     212\n",
       "Name: gender, dtype: int64"
      ]
     },
     "execution_count": 13,
     "metadata": {},
     "output_type": "execute_result"
    }
   ],
   "source": [
    "profile.gender.value_counts()"
   ]
  },
  {
   "cell_type": "markdown",
   "id": "connected-excerpt",
   "metadata": {},
   "source": [
    "**`portfolio`**"
   ]
  },
  {
   "cell_type": "code",
   "execution_count": 14,
   "id": "minor-tactics",
   "metadata": {
    "scrolled": true
   },
   "outputs": [
    {
     "data": {
      "text/html": [
       "<div>\n",
       "<style scoped>\n",
       "    .dataframe tbody tr th:only-of-type {\n",
       "        vertical-align: middle;\n",
       "    }\n",
       "\n",
       "    .dataframe tbody tr th {\n",
       "        vertical-align: top;\n",
       "    }\n",
       "\n",
       "    .dataframe thead th {\n",
       "        text-align: right;\n",
       "    }\n",
       "</style>\n",
       "<table border=\"1\" class=\"dataframe\">\n",
       "  <thead>\n",
       "    <tr style=\"text-align: right;\">\n",
       "      <th></th>\n",
       "      <th>reward</th>\n",
       "      <th>channels</th>\n",
       "      <th>difficulty</th>\n",
       "      <th>duration</th>\n",
       "      <th>offer_type</th>\n",
       "      <th>id</th>\n",
       "    </tr>\n",
       "  </thead>\n",
       "  <tbody>\n",
       "    <tr>\n",
       "      <th>0</th>\n",
       "      <td>10</td>\n",
       "      <td>[email, mobile, social]</td>\n",
       "      <td>10</td>\n",
       "      <td>7</td>\n",
       "      <td>bogo</td>\n",
       "      <td>ae264e3637204a6fb9bb56bc8210ddfd</td>\n",
       "    </tr>\n",
       "    <tr>\n",
       "      <th>1</th>\n",
       "      <td>10</td>\n",
       "      <td>[web, email, mobile, social]</td>\n",
       "      <td>10</td>\n",
       "      <td>5</td>\n",
       "      <td>bogo</td>\n",
       "      <td>4d5c57ea9a6940dd891ad53e9dbe8da0</td>\n",
       "    </tr>\n",
       "    <tr>\n",
       "      <th>2</th>\n",
       "      <td>0</td>\n",
       "      <td>[web, email, mobile]</td>\n",
       "      <td>0</td>\n",
       "      <td>4</td>\n",
       "      <td>informational</td>\n",
       "      <td>3f207df678b143eea3cee63160fa8bed</td>\n",
       "    </tr>\n",
       "    <tr>\n",
       "      <th>3</th>\n",
       "      <td>5</td>\n",
       "      <td>[web, email, mobile]</td>\n",
       "      <td>5</td>\n",
       "      <td>7</td>\n",
       "      <td>bogo</td>\n",
       "      <td>9b98b8c7a33c4b65b9aebfe6a799e6d9</td>\n",
       "    </tr>\n",
       "    <tr>\n",
       "      <th>4</th>\n",
       "      <td>5</td>\n",
       "      <td>[web, email]</td>\n",
       "      <td>20</td>\n",
       "      <td>10</td>\n",
       "      <td>discount</td>\n",
       "      <td>0b1e1539f2cc45b7b9fa7c272da2e1d7</td>\n",
       "    </tr>\n",
       "    <tr>\n",
       "      <th>5</th>\n",
       "      <td>3</td>\n",
       "      <td>[web, email, mobile, social]</td>\n",
       "      <td>7</td>\n",
       "      <td>7</td>\n",
       "      <td>discount</td>\n",
       "      <td>2298d6c36e964ae4a3e7e9706d1fb8c2</td>\n",
       "    </tr>\n",
       "    <tr>\n",
       "      <th>6</th>\n",
       "      <td>2</td>\n",
       "      <td>[web, email, mobile, social]</td>\n",
       "      <td>10</td>\n",
       "      <td>10</td>\n",
       "      <td>discount</td>\n",
       "      <td>fafdcd668e3743c1bb461111dcafc2a4</td>\n",
       "    </tr>\n",
       "    <tr>\n",
       "      <th>7</th>\n",
       "      <td>0</td>\n",
       "      <td>[email, mobile, social]</td>\n",
       "      <td>0</td>\n",
       "      <td>3</td>\n",
       "      <td>informational</td>\n",
       "      <td>5a8bc65990b245e5a138643cd4eb9837</td>\n",
       "    </tr>\n",
       "    <tr>\n",
       "      <th>8</th>\n",
       "      <td>5</td>\n",
       "      <td>[web, email, mobile, social]</td>\n",
       "      <td>5</td>\n",
       "      <td>5</td>\n",
       "      <td>bogo</td>\n",
       "      <td>f19421c1d4aa40978ebb69ca19b0e20d</td>\n",
       "    </tr>\n",
       "    <tr>\n",
       "      <th>9</th>\n",
       "      <td>2</td>\n",
       "      <td>[web, email, mobile]</td>\n",
       "      <td>10</td>\n",
       "      <td>7</td>\n",
       "      <td>discount</td>\n",
       "      <td>2906b810c7d4411798c6938adc9daaa5</td>\n",
       "    </tr>\n",
       "  </tbody>\n",
       "</table>\n",
       "</div>"
      ],
      "text/plain": [
       "   reward                      channels  difficulty  duration     offer_type  \\\n",
       "0      10       [email, mobile, social]          10         7           bogo   \n",
       "1      10  [web, email, mobile, social]          10         5           bogo   \n",
       "2       0          [web, email, mobile]           0         4  informational   \n",
       "3       5          [web, email, mobile]           5         7           bogo   \n",
       "4       5                  [web, email]          20        10       discount   \n",
       "5       3  [web, email, mobile, social]           7         7       discount   \n",
       "6       2  [web, email, mobile, social]          10        10       discount   \n",
       "7       0       [email, mobile, social]           0         3  informational   \n",
       "8       5  [web, email, mobile, social]           5         5           bogo   \n",
       "9       2          [web, email, mobile]          10         7       discount   \n",
       "\n",
       "                                 id  \n",
       "0  ae264e3637204a6fb9bb56bc8210ddfd  \n",
       "1  4d5c57ea9a6940dd891ad53e9dbe8da0  \n",
       "2  3f207df678b143eea3cee63160fa8bed  \n",
       "3  9b98b8c7a33c4b65b9aebfe6a799e6d9  \n",
       "4  0b1e1539f2cc45b7b9fa7c272da2e1d7  \n",
       "5  2298d6c36e964ae4a3e7e9706d1fb8c2  \n",
       "6  fafdcd668e3743c1bb461111dcafc2a4  \n",
       "7  5a8bc65990b245e5a138643cd4eb9837  \n",
       "8  f19421c1d4aa40978ebb69ca19b0e20d  \n",
       "9  2906b810c7d4411798c6938adc9daaa5  "
      ]
     },
     "execution_count": 14,
     "metadata": {},
     "output_type": "execute_result"
    }
   ],
   "source": [
    "portfolio"
   ]
  },
  {
   "cell_type": "code",
   "execution_count": 15,
   "id": "wrapped-union",
   "metadata": {
    "scrolled": false
   },
   "outputs": [
    {
     "name": "stdout",
     "output_type": "stream",
     "text": [
      "<class 'pandas.core.frame.DataFrame'>\n",
      "RangeIndex: 10 entries, 0 to 9\n",
      "Data columns (total 6 columns):\n",
      " #   Column      Non-Null Count  Dtype \n",
      "---  ------      --------------  ----- \n",
      " 0   reward      10 non-null     int64 \n",
      " 1   channels    10 non-null     object\n",
      " 2   difficulty  10 non-null     int64 \n",
      " 3   duration    10 non-null     int64 \n",
      " 4   offer_type  10 non-null     object\n",
      " 5   id          10 non-null     object\n",
      "dtypes: int64(3), object(3)\n",
      "memory usage: 608.0+ bytes\n"
     ]
    }
   ],
   "source": [
    "portfolio.info()"
   ]
  },
  {
   "cell_type": "markdown",
   "id": "north-tokyo",
   "metadata": {},
   "source": [
    "**`transcript`** "
   ]
  },
  {
   "cell_type": "code",
   "execution_count": 16,
   "id": "tested-tiger",
   "metadata": {
    "scrolled": true
   },
   "outputs": [
    {
     "data": {
      "text/html": [
       "<div>\n",
       "<style scoped>\n",
       "    .dataframe tbody tr th:only-of-type {\n",
       "        vertical-align: middle;\n",
       "    }\n",
       "\n",
       "    .dataframe tbody tr th {\n",
       "        vertical-align: top;\n",
       "    }\n",
       "\n",
       "    .dataframe thead th {\n",
       "        text-align: right;\n",
       "    }\n",
       "</style>\n",
       "<table border=\"1\" class=\"dataframe\">\n",
       "  <thead>\n",
       "    <tr style=\"text-align: right;\">\n",
       "      <th></th>\n",
       "      <th>person</th>\n",
       "      <th>event</th>\n",
       "      <th>value</th>\n",
       "      <th>time</th>\n",
       "    </tr>\n",
       "  </thead>\n",
       "  <tbody>\n",
       "    <tr>\n",
       "      <th>0</th>\n",
       "      <td>78afa995795e4d85b5d9ceeca43f5fef</td>\n",
       "      <td>offer received</td>\n",
       "      <td>{'offer id': '9b98b8c7a33c4b65b9aebfe6a799e6d9'}</td>\n",
       "      <td>0</td>\n",
       "    </tr>\n",
       "    <tr>\n",
       "      <th>1</th>\n",
       "      <td>a03223e636434f42ac4c3df47e8bac43</td>\n",
       "      <td>offer received</td>\n",
       "      <td>{'offer id': '0b1e1539f2cc45b7b9fa7c272da2e1d7'}</td>\n",
       "      <td>0</td>\n",
       "    </tr>\n",
       "    <tr>\n",
       "      <th>2</th>\n",
       "      <td>e2127556f4f64592b11af22de27a7932</td>\n",
       "      <td>offer received</td>\n",
       "      <td>{'offer id': '2906b810c7d4411798c6938adc9daaa5'}</td>\n",
       "      <td>0</td>\n",
       "    </tr>\n",
       "    <tr>\n",
       "      <th>3</th>\n",
       "      <td>8ec6ce2a7e7949b1bf142def7d0e0586</td>\n",
       "      <td>offer received</td>\n",
       "      <td>{'offer id': 'fafdcd668e3743c1bb461111dcafc2a4'}</td>\n",
       "      <td>0</td>\n",
       "    </tr>\n",
       "    <tr>\n",
       "      <th>4</th>\n",
       "      <td>68617ca6246f4fbc85e91a2a49552598</td>\n",
       "      <td>offer received</td>\n",
       "      <td>{'offer id': '4d5c57ea9a6940dd891ad53e9dbe8da0'}</td>\n",
       "      <td>0</td>\n",
       "    </tr>\n",
       "    <tr>\n",
       "      <th>...</th>\n",
       "      <td>...</td>\n",
       "      <td>...</td>\n",
       "      <td>...</td>\n",
       "      <td>...</td>\n",
       "    </tr>\n",
       "    <tr>\n",
       "      <th>306529</th>\n",
       "      <td>b3a1272bc9904337b331bf348c3e8c17</td>\n",
       "      <td>transaction</td>\n",
       "      <td>{'amount': 1.5899999999999999}</td>\n",
       "      <td>714</td>\n",
       "    </tr>\n",
       "    <tr>\n",
       "      <th>306530</th>\n",
       "      <td>68213b08d99a4ae1b0dcb72aebd9aa35</td>\n",
       "      <td>transaction</td>\n",
       "      <td>{'amount': 9.53}</td>\n",
       "      <td>714</td>\n",
       "    </tr>\n",
       "    <tr>\n",
       "      <th>306531</th>\n",
       "      <td>a00058cf10334a308c68e7631c529907</td>\n",
       "      <td>transaction</td>\n",
       "      <td>{'amount': 3.61}</td>\n",
       "      <td>714</td>\n",
       "    </tr>\n",
       "    <tr>\n",
       "      <th>306532</th>\n",
       "      <td>76ddbd6576844afe811f1a3c0fbb5bec</td>\n",
       "      <td>transaction</td>\n",
       "      <td>{'amount': 3.5300000000000002}</td>\n",
       "      <td>714</td>\n",
       "    </tr>\n",
       "    <tr>\n",
       "      <th>306533</th>\n",
       "      <td>c02b10e8752c4d8e9b73f918558531f7</td>\n",
       "      <td>transaction</td>\n",
       "      <td>{'amount': 4.05}</td>\n",
       "      <td>714</td>\n",
       "    </tr>\n",
       "  </tbody>\n",
       "</table>\n",
       "<p>306534 rows × 4 columns</p>\n",
       "</div>"
      ],
      "text/plain": [
       "                                  person           event  \\\n",
       "0       78afa995795e4d85b5d9ceeca43f5fef  offer received   \n",
       "1       a03223e636434f42ac4c3df47e8bac43  offer received   \n",
       "2       e2127556f4f64592b11af22de27a7932  offer received   \n",
       "3       8ec6ce2a7e7949b1bf142def7d0e0586  offer received   \n",
       "4       68617ca6246f4fbc85e91a2a49552598  offer received   \n",
       "...                                  ...             ...   \n",
       "306529  b3a1272bc9904337b331bf348c3e8c17     transaction   \n",
       "306530  68213b08d99a4ae1b0dcb72aebd9aa35     transaction   \n",
       "306531  a00058cf10334a308c68e7631c529907     transaction   \n",
       "306532  76ddbd6576844afe811f1a3c0fbb5bec     transaction   \n",
       "306533  c02b10e8752c4d8e9b73f918558531f7     transaction   \n",
       "\n",
       "                                                   value  time  \n",
       "0       {'offer id': '9b98b8c7a33c4b65b9aebfe6a799e6d9'}     0  \n",
       "1       {'offer id': '0b1e1539f2cc45b7b9fa7c272da2e1d7'}     0  \n",
       "2       {'offer id': '2906b810c7d4411798c6938adc9daaa5'}     0  \n",
       "3       {'offer id': 'fafdcd668e3743c1bb461111dcafc2a4'}     0  \n",
       "4       {'offer id': '4d5c57ea9a6940dd891ad53e9dbe8da0'}     0  \n",
       "...                                                  ...   ...  \n",
       "306529                    {'amount': 1.5899999999999999}   714  \n",
       "306530                                  {'amount': 9.53}   714  \n",
       "306531                                  {'amount': 3.61}   714  \n",
       "306532                    {'amount': 3.5300000000000002}   714  \n",
       "306533                                  {'amount': 4.05}   714  \n",
       "\n",
       "[306534 rows x 4 columns]"
      ]
     },
     "execution_count": 16,
     "metadata": {},
     "output_type": "execute_result"
    }
   ],
   "source": [
    "transcript"
   ]
  },
  {
   "cell_type": "code",
   "execution_count": 17,
   "id": "grave-benchmark",
   "metadata": {
    "scrolled": false
   },
   "outputs": [
    {
     "name": "stdout",
     "output_type": "stream",
     "text": [
      "<class 'pandas.core.frame.DataFrame'>\n",
      "RangeIndex: 306534 entries, 0 to 306533\n",
      "Data columns (total 4 columns):\n",
      " #   Column  Non-Null Count   Dtype \n",
      "---  ------  --------------   ----- \n",
      " 0   person  306534 non-null  object\n",
      " 1   event   306534 non-null  object\n",
      " 2   value   306534 non-null  object\n",
      " 3   time    306534 non-null  int64 \n",
      "dtypes: int64(1), object(3)\n",
      "memory usage: 9.4+ MB\n"
     ]
    }
   ],
   "source": [
    "transcript.info()"
   ]
  },
  {
   "cell_type": "code",
   "execution_count": 18,
   "id": "assigned-purse",
   "metadata": {},
   "outputs": [
    {
     "data": {
      "text/html": [
       "<div>\n",
       "<style scoped>\n",
       "    .dataframe tbody tr th:only-of-type {\n",
       "        vertical-align: middle;\n",
       "    }\n",
       "\n",
       "    .dataframe tbody tr th {\n",
       "        vertical-align: top;\n",
       "    }\n",
       "\n",
       "    .dataframe thead th {\n",
       "        text-align: right;\n",
       "    }\n",
       "</style>\n",
       "<table border=\"1\" class=\"dataframe\">\n",
       "  <thead>\n",
       "    <tr style=\"text-align: right;\">\n",
       "      <th></th>\n",
       "      <th>person</th>\n",
       "      <th>event</th>\n",
       "      <th>value</th>\n",
       "      <th>time</th>\n",
       "    </tr>\n",
       "  </thead>\n",
       "  <tbody>\n",
       "    <tr>\n",
       "      <th>0</th>\n",
       "      <td>78afa995795e4d85b5d9ceeca43f5fef</td>\n",
       "      <td>offer received</td>\n",
       "      <td>{'offer id': '9b98b8c7a33c4b65b9aebfe6a799e6d9'}</td>\n",
       "      <td>0</td>\n",
       "    </tr>\n",
       "    <tr>\n",
       "      <th>15561</th>\n",
       "      <td>78afa995795e4d85b5d9ceeca43f5fef</td>\n",
       "      <td>offer viewed</td>\n",
       "      <td>{'offer id': '9b98b8c7a33c4b65b9aebfe6a799e6d9'}</td>\n",
       "      <td>6</td>\n",
       "    </tr>\n",
       "    <tr>\n",
       "      <th>47582</th>\n",
       "      <td>78afa995795e4d85b5d9ceeca43f5fef</td>\n",
       "      <td>transaction</td>\n",
       "      <td>{'amount': 19.89}</td>\n",
       "      <td>132</td>\n",
       "    </tr>\n",
       "    <tr>\n",
       "      <th>47583</th>\n",
       "      <td>78afa995795e4d85b5d9ceeca43f5fef</td>\n",
       "      <td>offer completed</td>\n",
       "      <td>{'offer_id': '9b98b8c7a33c4b65b9aebfe6a799e6d9...</td>\n",
       "      <td>132</td>\n",
       "    </tr>\n",
       "    <tr>\n",
       "      <th>49502</th>\n",
       "      <td>78afa995795e4d85b5d9ceeca43f5fef</td>\n",
       "      <td>transaction</td>\n",
       "      <td>{'amount': 17.78}</td>\n",
       "      <td>144</td>\n",
       "    </tr>\n",
       "    <tr>\n",
       "      <th>53176</th>\n",
       "      <td>78afa995795e4d85b5d9ceeca43f5fef</td>\n",
       "      <td>offer received</td>\n",
       "      <td>{'offer id': '5a8bc65990b245e5a138643cd4eb9837'}</td>\n",
       "      <td>168</td>\n",
       "    </tr>\n",
       "    <tr>\n",
       "      <th>85291</th>\n",
       "      <td>78afa995795e4d85b5d9ceeca43f5fef</td>\n",
       "      <td>offer viewed</td>\n",
       "      <td>{'offer id': '5a8bc65990b245e5a138643cd4eb9837'}</td>\n",
       "      <td>216</td>\n",
       "    </tr>\n",
       "    <tr>\n",
       "      <th>87134</th>\n",
       "      <td>78afa995795e4d85b5d9ceeca43f5fef</td>\n",
       "      <td>transaction</td>\n",
       "      <td>{'amount': 19.67}</td>\n",
       "      <td>222</td>\n",
       "    </tr>\n",
       "    <tr>\n",
       "      <th>92104</th>\n",
       "      <td>78afa995795e4d85b5d9ceeca43f5fef</td>\n",
       "      <td>transaction</td>\n",
       "      <td>{'amount': 29.72}</td>\n",
       "      <td>240</td>\n",
       "    </tr>\n",
       "    <tr>\n",
       "      <th>141566</th>\n",
       "      <td>78afa995795e4d85b5d9ceeca43f5fef</td>\n",
       "      <td>transaction</td>\n",
       "      <td>{'amount': 23.93}</td>\n",
       "      <td>378</td>\n",
       "    </tr>\n",
       "    <tr>\n",
       "      <th>150598</th>\n",
       "      <td>78afa995795e4d85b5d9ceeca43f5fef</td>\n",
       "      <td>offer received</td>\n",
       "      <td>{'offer id': 'ae264e3637204a6fb9bb56bc8210ddfd'}</td>\n",
       "      <td>408</td>\n",
       "    </tr>\n",
       "    <tr>\n",
       "      <th>163375</th>\n",
       "      <td>78afa995795e4d85b5d9ceeca43f5fef</td>\n",
       "      <td>offer viewed</td>\n",
       "      <td>{'offer id': 'ae264e3637204a6fb9bb56bc8210ddfd'}</td>\n",
       "      <td>408</td>\n",
       "    </tr>\n",
       "    <tr>\n",
       "      <th>201572</th>\n",
       "      <td>78afa995795e4d85b5d9ceeca43f5fef</td>\n",
       "      <td>offer received</td>\n",
       "      <td>{'offer id': 'f19421c1d4aa40978ebb69ca19b0e20d'}</td>\n",
       "      <td>504</td>\n",
       "    </tr>\n",
       "    <tr>\n",
       "      <th>218393</th>\n",
       "      <td>78afa995795e4d85b5d9ceeca43f5fef</td>\n",
       "      <td>transaction</td>\n",
       "      <td>{'amount': 21.72}</td>\n",
       "      <td>510</td>\n",
       "    </tr>\n",
       "    <tr>\n",
       "      <th>218394</th>\n",
       "      <td>78afa995795e4d85b5d9ceeca43f5fef</td>\n",
       "      <td>offer completed</td>\n",
       "      <td>{'offer_id': 'ae264e3637204a6fb9bb56bc8210ddfd...</td>\n",
       "      <td>510</td>\n",
       "    </tr>\n",
       "    <tr>\n",
       "      <th>218395</th>\n",
       "      <td>78afa995795e4d85b5d9ceeca43f5fef</td>\n",
       "      <td>offer completed</td>\n",
       "      <td>{'offer_id': 'f19421c1d4aa40978ebb69ca19b0e20d...</td>\n",
       "      <td>510</td>\n",
       "    </tr>\n",
       "    <tr>\n",
       "      <th>230412</th>\n",
       "      <td>78afa995795e4d85b5d9ceeca43f5fef</td>\n",
       "      <td>transaction</td>\n",
       "      <td>{'amount': 26.56}</td>\n",
       "      <td>534</td>\n",
       "    </tr>\n",
       "    <tr>\n",
       "      <th>262138</th>\n",
       "      <td>78afa995795e4d85b5d9ceeca43f5fef</td>\n",
       "      <td>offer viewed</td>\n",
       "      <td>{'offer id': 'f19421c1d4aa40978ebb69ca19b0e20d'}</td>\n",
       "      <td>582</td>\n",
       "    </tr>\n",
       "  </tbody>\n",
       "</table>\n",
       "</div>"
      ],
      "text/plain": [
       "                                  person            event  \\\n",
       "0       78afa995795e4d85b5d9ceeca43f5fef   offer received   \n",
       "15561   78afa995795e4d85b5d9ceeca43f5fef     offer viewed   \n",
       "47582   78afa995795e4d85b5d9ceeca43f5fef      transaction   \n",
       "47583   78afa995795e4d85b5d9ceeca43f5fef  offer completed   \n",
       "49502   78afa995795e4d85b5d9ceeca43f5fef      transaction   \n",
       "53176   78afa995795e4d85b5d9ceeca43f5fef   offer received   \n",
       "85291   78afa995795e4d85b5d9ceeca43f5fef     offer viewed   \n",
       "87134   78afa995795e4d85b5d9ceeca43f5fef      transaction   \n",
       "92104   78afa995795e4d85b5d9ceeca43f5fef      transaction   \n",
       "141566  78afa995795e4d85b5d9ceeca43f5fef      transaction   \n",
       "150598  78afa995795e4d85b5d9ceeca43f5fef   offer received   \n",
       "163375  78afa995795e4d85b5d9ceeca43f5fef     offer viewed   \n",
       "201572  78afa995795e4d85b5d9ceeca43f5fef   offer received   \n",
       "218393  78afa995795e4d85b5d9ceeca43f5fef      transaction   \n",
       "218394  78afa995795e4d85b5d9ceeca43f5fef  offer completed   \n",
       "218395  78afa995795e4d85b5d9ceeca43f5fef  offer completed   \n",
       "230412  78afa995795e4d85b5d9ceeca43f5fef      transaction   \n",
       "262138  78afa995795e4d85b5d9ceeca43f5fef     offer viewed   \n",
       "\n",
       "                                                    value  time  \n",
       "0        {'offer id': '9b98b8c7a33c4b65b9aebfe6a799e6d9'}     0  \n",
       "15561    {'offer id': '9b98b8c7a33c4b65b9aebfe6a799e6d9'}     6  \n",
       "47582                                   {'amount': 19.89}   132  \n",
       "47583   {'offer_id': '9b98b8c7a33c4b65b9aebfe6a799e6d9...   132  \n",
       "49502                                   {'amount': 17.78}   144  \n",
       "53176    {'offer id': '5a8bc65990b245e5a138643cd4eb9837'}   168  \n",
       "85291    {'offer id': '5a8bc65990b245e5a138643cd4eb9837'}   216  \n",
       "87134                                   {'amount': 19.67}   222  \n",
       "92104                                   {'amount': 29.72}   240  \n",
       "141566                                  {'amount': 23.93}   378  \n",
       "150598   {'offer id': 'ae264e3637204a6fb9bb56bc8210ddfd'}   408  \n",
       "163375   {'offer id': 'ae264e3637204a6fb9bb56bc8210ddfd'}   408  \n",
       "201572   {'offer id': 'f19421c1d4aa40978ebb69ca19b0e20d'}   504  \n",
       "218393                                  {'amount': 21.72}   510  \n",
       "218394  {'offer_id': 'ae264e3637204a6fb9bb56bc8210ddfd...   510  \n",
       "218395  {'offer_id': 'f19421c1d4aa40978ebb69ca19b0e20d...   510  \n",
       "230412                                  {'amount': 26.56}   534  \n",
       "262138   {'offer id': 'f19421c1d4aa40978ebb69ca19b0e20d'}   582  "
      ]
     },
     "execution_count": 18,
     "metadata": {},
     "output_type": "execute_result"
    }
   ],
   "source": [
    "transcript[transcript.person == '78afa995795e4d85b5d9ceeca43f5fef']"
   ]
  },
  {
   "cell_type": "code",
   "execution_count": 19,
   "id": "fatty-purple",
   "metadata": {
    "scrolled": true
   },
   "outputs": [
    {
     "data": {
      "text/html": [
       "<div>\n",
       "<style scoped>\n",
       "    .dataframe tbody tr th:only-of-type {\n",
       "        vertical-align: middle;\n",
       "    }\n",
       "\n",
       "    .dataframe tbody tr th {\n",
       "        vertical-align: top;\n",
       "    }\n",
       "\n",
       "    .dataframe thead th {\n",
       "        text-align: right;\n",
       "    }\n",
       "</style>\n",
       "<table border=\"1\" class=\"dataframe\">\n",
       "  <thead>\n",
       "    <tr style=\"text-align: right;\">\n",
       "      <th></th>\n",
       "      <th>person</th>\n",
       "      <th>event</th>\n",
       "      <th>value</th>\n",
       "      <th>time</th>\n",
       "    </tr>\n",
       "  </thead>\n",
       "  <tbody>\n",
       "    <tr>\n",
       "      <th>162056</th>\n",
       "      <td>28e1cc20d9eb4e77ba81846057def62e</td>\n",
       "      <td>offer received</td>\n",
       "      <td>{'offer id': '0b1e1539f2cc45b7b9fa7c272da2e1d7'}</td>\n",
       "      <td>408</td>\n",
       "    </tr>\n",
       "    <tr>\n",
       "      <th>118613</th>\n",
       "      <td>acc0e0ced2c94365a02b8f2b7117d3b7</td>\n",
       "      <td>offer received</td>\n",
       "      <td>{'offer id': 'fafdcd668e3743c1bb461111dcafc2a4'}</td>\n",
       "      <td>336</td>\n",
       "    </tr>\n",
       "    <tr>\n",
       "      <th>119101</th>\n",
       "      <td>a2062b74d1304d0ab3d870e819b14016</td>\n",
       "      <td>offer received</td>\n",
       "      <td>{'offer id': '5a8bc65990b245e5a138643cd4eb9837'}</td>\n",
       "      <td>336</td>\n",
       "    </tr>\n",
       "    <tr>\n",
       "      <th>3521</th>\n",
       "      <td>d7a4c9a5d4394065af1af3f924877d5c</td>\n",
       "      <td>offer received</td>\n",
       "      <td>{'offer id': '2298d6c36e964ae4a3e7e9706d1fb8c2'}</td>\n",
       "      <td>0</td>\n",
       "    </tr>\n",
       "    <tr>\n",
       "      <th>206508</th>\n",
       "      <td>1cbc184a0c1e4bb2b42ef19f6bd0d031</td>\n",
       "      <td>offer received</td>\n",
       "      <td>{'offer id': '3f207df678b143eea3cee63160fa8bed'}</td>\n",
       "      <td>504</td>\n",
       "    </tr>\n",
       "  </tbody>\n",
       "</table>\n",
       "</div>"
      ],
      "text/plain": [
       "                                  person           event  \\\n",
       "162056  28e1cc20d9eb4e77ba81846057def62e  offer received   \n",
       "118613  acc0e0ced2c94365a02b8f2b7117d3b7  offer received   \n",
       "119101  a2062b74d1304d0ab3d870e819b14016  offer received   \n",
       "3521    d7a4c9a5d4394065af1af3f924877d5c  offer received   \n",
       "206508  1cbc184a0c1e4bb2b42ef19f6bd0d031  offer received   \n",
       "\n",
       "                                                   value  time  \n",
       "162056  {'offer id': '0b1e1539f2cc45b7b9fa7c272da2e1d7'}   408  \n",
       "118613  {'offer id': 'fafdcd668e3743c1bb461111dcafc2a4'}   336  \n",
       "119101  {'offer id': '5a8bc65990b245e5a138643cd4eb9837'}   336  \n",
       "3521    {'offer id': '2298d6c36e964ae4a3e7e9706d1fb8c2'}     0  \n",
       "206508  {'offer id': '3f207df678b143eea3cee63160fa8bed'}   504  "
      ]
     },
     "execution_count": 19,
     "metadata": {},
     "output_type": "execute_result"
    }
   ],
   "source": [
    "transcript[transcript.event == 'offer received'].sample(5)"
   ]
  },
  {
   "cell_type": "code",
   "execution_count": 20,
   "id": "fitted-syria",
   "metadata": {},
   "outputs": [
    {
     "data": {
      "text/html": [
       "<div>\n",
       "<style scoped>\n",
       "    .dataframe tbody tr th:only-of-type {\n",
       "        vertical-align: middle;\n",
       "    }\n",
       "\n",
       "    .dataframe tbody tr th {\n",
       "        vertical-align: top;\n",
       "    }\n",
       "\n",
       "    .dataframe thead th {\n",
       "        text-align: right;\n",
       "    }\n",
       "</style>\n",
       "<table border=\"1\" class=\"dataframe\">\n",
       "  <thead>\n",
       "    <tr style=\"text-align: right;\">\n",
       "      <th></th>\n",
       "      <th>person</th>\n",
       "      <th>event</th>\n",
       "      <th>value</th>\n",
       "      <th>time</th>\n",
       "    </tr>\n",
       "  </thead>\n",
       "  <tbody>\n",
       "    <tr>\n",
       "      <th>19661</th>\n",
       "      <td>2587a4254c8744288dc5e472119a4274</td>\n",
       "      <td>offer viewed</td>\n",
       "      <td>{'offer id': '4d5c57ea9a6940dd891ad53e9dbe8da0'}</td>\n",
       "      <td>12</td>\n",
       "    </tr>\n",
       "    <tr>\n",
       "      <th>169718</th>\n",
       "      <td>6a34efdf439f4ef3bc13bf6b81d7ae3c</td>\n",
       "      <td>offer viewed</td>\n",
       "      <td>{'offer id': 'f19421c1d4aa40978ebb69ca19b0e20d'}</td>\n",
       "      <td>414</td>\n",
       "    </tr>\n",
       "    <tr>\n",
       "      <th>76741</th>\n",
       "      <td>085efb39e80140f08b90e0d77299958b</td>\n",
       "      <td>offer viewed</td>\n",
       "      <td>{'offer id': '2906b810c7d4411798c6938adc9daaa5'}</td>\n",
       "      <td>186</td>\n",
       "    </tr>\n",
       "    <tr>\n",
       "      <th>82965</th>\n",
       "      <td>4e5c30a071914472b24cbdf7c0d4f609</td>\n",
       "      <td>offer viewed</td>\n",
       "      <td>{'offer id': 'ae264e3637204a6fb9bb56bc8210ddfd'}</td>\n",
       "      <td>204</td>\n",
       "    </tr>\n",
       "    <tr>\n",
       "      <th>268098</th>\n",
       "      <td>3a1c0ab4be6740a19085d3d9c9685845</td>\n",
       "      <td>offer viewed</td>\n",
       "      <td>{'offer id': '2298d6c36e964ae4a3e7e9706d1fb8c2'}</td>\n",
       "      <td>588</td>\n",
       "    </tr>\n",
       "  </tbody>\n",
       "</table>\n",
       "</div>"
      ],
      "text/plain": [
       "                                  person         event  \\\n",
       "19661   2587a4254c8744288dc5e472119a4274  offer viewed   \n",
       "169718  6a34efdf439f4ef3bc13bf6b81d7ae3c  offer viewed   \n",
       "76741   085efb39e80140f08b90e0d77299958b  offer viewed   \n",
       "82965   4e5c30a071914472b24cbdf7c0d4f609  offer viewed   \n",
       "268098  3a1c0ab4be6740a19085d3d9c9685845  offer viewed   \n",
       "\n",
       "                                                   value  time  \n",
       "19661   {'offer id': '4d5c57ea9a6940dd891ad53e9dbe8da0'}    12  \n",
       "169718  {'offer id': 'f19421c1d4aa40978ebb69ca19b0e20d'}   414  \n",
       "76741   {'offer id': '2906b810c7d4411798c6938adc9daaa5'}   186  \n",
       "82965   {'offer id': 'ae264e3637204a6fb9bb56bc8210ddfd'}   204  \n",
       "268098  {'offer id': '2298d6c36e964ae4a3e7e9706d1fb8c2'}   588  "
      ]
     },
     "execution_count": 20,
     "metadata": {},
     "output_type": "execute_result"
    }
   ],
   "source": [
    "transcript[transcript.event == 'offer viewed'].sample(5)"
   ]
  },
  {
   "cell_type": "code",
   "execution_count": 21,
   "id": "liquid-flashing",
   "metadata": {},
   "outputs": [
    {
     "data": {
      "text/html": [
       "<div>\n",
       "<style scoped>\n",
       "    .dataframe tbody tr th:only-of-type {\n",
       "        vertical-align: middle;\n",
       "    }\n",
       "\n",
       "    .dataframe tbody tr th {\n",
       "        vertical-align: top;\n",
       "    }\n",
       "\n",
       "    .dataframe thead th {\n",
       "        text-align: right;\n",
       "    }\n",
       "</style>\n",
       "<table border=\"1\" class=\"dataframe\">\n",
       "  <thead>\n",
       "    <tr style=\"text-align: right;\">\n",
       "      <th></th>\n",
       "      <th>person</th>\n",
       "      <th>event</th>\n",
       "      <th>value</th>\n",
       "      <th>time</th>\n",
       "    </tr>\n",
       "  </thead>\n",
       "  <tbody>\n",
       "    <tr>\n",
       "      <th>285826</th>\n",
       "      <td>9e2bfae4d1064d93968843fbdcbcc5be</td>\n",
       "      <td>transaction</td>\n",
       "      <td>{'amount': 0.27}</td>\n",
       "      <td>630</td>\n",
       "    </tr>\n",
       "    <tr>\n",
       "      <th>93748</th>\n",
       "      <td>dbc3af1a46704027ad2da026c47a85ac</td>\n",
       "      <td>transaction</td>\n",
       "      <td>{'amount': 8.84}</td>\n",
       "      <td>246</td>\n",
       "    </tr>\n",
       "    <tr>\n",
       "      <th>237528</th>\n",
       "      <td>dec189ccab874c059b32e2c6596c362d</td>\n",
       "      <td>transaction</td>\n",
       "      <td>{'amount': 10.71}</td>\n",
       "      <td>552</td>\n",
       "    </tr>\n",
       "    <tr>\n",
       "      <th>301072</th>\n",
       "      <td>28b76b8d5fca4472843858b69a9ad5f3</td>\n",
       "      <td>transaction</td>\n",
       "      <td>{'amount': 0.4}</td>\n",
       "      <td>690</td>\n",
       "    </tr>\n",
       "    <tr>\n",
       "      <th>36212</th>\n",
       "      <td>0b6c775f84a8435a9083900e1cb43ec9</td>\n",
       "      <td>transaction</td>\n",
       "      <td>{'amount': 0.13}</td>\n",
       "      <td>72</td>\n",
       "    </tr>\n",
       "  </tbody>\n",
       "</table>\n",
       "</div>"
      ],
      "text/plain": [
       "                                  person        event              value  time\n",
       "285826  9e2bfae4d1064d93968843fbdcbcc5be  transaction   {'amount': 0.27}   630\n",
       "93748   dbc3af1a46704027ad2da026c47a85ac  transaction   {'amount': 8.84}   246\n",
       "237528  dec189ccab874c059b32e2c6596c362d  transaction  {'amount': 10.71}   552\n",
       "301072  28b76b8d5fca4472843858b69a9ad5f3  transaction    {'amount': 0.4}   690\n",
       "36212   0b6c775f84a8435a9083900e1cb43ec9  transaction   {'amount': 0.13}    72"
      ]
     },
     "execution_count": 21,
     "metadata": {},
     "output_type": "execute_result"
    }
   ],
   "source": [
    "transcript[transcript.event == 'transaction'].sample(5)"
   ]
  },
  {
   "cell_type": "code",
   "execution_count": 22,
   "id": "prepared-arnold",
   "metadata": {
    "scrolled": true
   },
   "outputs": [
    {
     "data": {
      "text/html": [
       "<div>\n",
       "<style scoped>\n",
       "    .dataframe tbody tr th:only-of-type {\n",
       "        vertical-align: middle;\n",
       "    }\n",
       "\n",
       "    .dataframe tbody tr th {\n",
       "        vertical-align: top;\n",
       "    }\n",
       "\n",
       "    .dataframe thead th {\n",
       "        text-align: right;\n",
       "    }\n",
       "</style>\n",
       "<table border=\"1\" class=\"dataframe\">\n",
       "  <thead>\n",
       "    <tr style=\"text-align: right;\">\n",
       "      <th></th>\n",
       "      <th>person</th>\n",
       "      <th>event</th>\n",
       "      <th>value</th>\n",
       "      <th>time</th>\n",
       "    </tr>\n",
       "  </thead>\n",
       "  <tbody>\n",
       "    <tr>\n",
       "      <th>80752</th>\n",
       "      <td>c2a5c2407540466b9b0f7e8e50715a73</td>\n",
       "      <td>offer completed</td>\n",
       "      <td>{'offer_id': '9b98b8c7a33c4b65b9aebfe6a799e6d9...</td>\n",
       "      <td>198</td>\n",
       "    </tr>\n",
       "    <tr>\n",
       "      <th>175854</th>\n",
       "      <td>37d27dc053ea481a94009b7e5ec92308</td>\n",
       "      <td>offer completed</td>\n",
       "      <td>{'offer_id': '2298d6c36e964ae4a3e7e9706d1fb8c2...</td>\n",
       "      <td>426</td>\n",
       "    </tr>\n",
       "    <tr>\n",
       "      <th>223028</th>\n",
       "      <td>5b9d0f58c558420fb1c34cf5256c6ea9</td>\n",
       "      <td>offer completed</td>\n",
       "      <td>{'offer_id': 'f19421c1d4aa40978ebb69ca19b0e20d...</td>\n",
       "      <td>516</td>\n",
       "    </tr>\n",
       "    <tr>\n",
       "      <th>27873</th>\n",
       "      <td>f970eafddcb34154aa4d646b4a71ca34</td>\n",
       "      <td>offer completed</td>\n",
       "      <td>{'offer_id': 'ae264e3637204a6fb9bb56bc8210ddfd...</td>\n",
       "      <td>42</td>\n",
       "    </tr>\n",
       "    <tr>\n",
       "      <th>226612</th>\n",
       "      <td>94d6d078828f4c719c414ffb5d423eda</td>\n",
       "      <td>offer completed</td>\n",
       "      <td>{'offer_id': '9b98b8c7a33c4b65b9aebfe6a799e6d9...</td>\n",
       "      <td>522</td>\n",
       "    </tr>\n",
       "  </tbody>\n",
       "</table>\n",
       "</div>"
      ],
      "text/plain": [
       "                                  person            event  \\\n",
       "80752   c2a5c2407540466b9b0f7e8e50715a73  offer completed   \n",
       "175854  37d27dc053ea481a94009b7e5ec92308  offer completed   \n",
       "223028  5b9d0f58c558420fb1c34cf5256c6ea9  offer completed   \n",
       "27873   f970eafddcb34154aa4d646b4a71ca34  offer completed   \n",
       "226612  94d6d078828f4c719c414ffb5d423eda  offer completed   \n",
       "\n",
       "                                                    value  time  \n",
       "80752   {'offer_id': '9b98b8c7a33c4b65b9aebfe6a799e6d9...   198  \n",
       "175854  {'offer_id': '2298d6c36e964ae4a3e7e9706d1fb8c2...   426  \n",
       "223028  {'offer_id': 'f19421c1d4aa40978ebb69ca19b0e20d...   516  \n",
       "27873   {'offer_id': 'ae264e3637204a6fb9bb56bc8210ddfd...    42  \n",
       "226612  {'offer_id': '9b98b8c7a33c4b65b9aebfe6a799e6d9...   522  "
      ]
     },
     "execution_count": 22,
     "metadata": {},
     "output_type": "execute_result"
    }
   ],
   "source": [
    "transcript[transcript.event == 'offer completed'].sample(5)"
   ]
  },
  {
   "cell_type": "markdown",
   "id": "compatible-adelaide",
   "metadata": {},
   "source": [
    "Since there are missing entries in the ``profile`` dataframe, I will check whether transactions for these users exist."
   ]
  },
  {
   "cell_type": "code",
   "execution_count": 23,
   "id": "cellular-auckland",
   "metadata": {},
   "outputs": [],
   "source": [
    "incomplete_profiles = profile[profile.gender.isnull()]['id'].values\n",
    "transcript_profiles = transcript.person.values"
   ]
  },
  {
   "cell_type": "code",
   "execution_count": 24,
   "id": "streaming-yesterday",
   "metadata": {},
   "outputs": [
    {
     "data": {
      "text/plain": [
       "(2175, 2175)"
      ]
     },
     "execution_count": 24,
     "metadata": {},
     "output_type": "execute_result"
    }
   ],
   "source": [
    "len(incomplete_profiles), len(np.intersect1d(incomplete_profiles, transcript_profiles))"
   ]
  },
  {
   "cell_type": "markdown",
   "id": "duplicate-potter",
   "metadata": {},
   "source": [
    "All users with incomplete records can be found in the ``transcript`` dataframe, i.e. have an action attached to them.\n",
    " \n",
    "### Assessment summary\n",
    "\n",
    "#### Data quality\n",
    "`profile`\n",
    "* Age 118 encodes missing values\n",
    "* 2,175 missing entries in *gender*, *age* and *income* column\n",
    "* Erronuous data types:\n",
    "  * *gender* object &rarr; categorical\n",
    "  * *became_member_on* int64 &rarr; datetime\n",
    "  \n",
    "`portfolio`\n",
    "* *channels* combined in one column\n",
    "* Erronuous data type: *offer_type* object &rarr; categorical\n",
    "\n",
    "`transcript`\n",
    "* Different keys in *value* column describing the same: offer id and offer_id\n",
    "\n",
    "#### Tidiness\n",
    "* `transcript` *value* column holds dictionaries \n",
    "\n",
    "### Data Cleaning"
   ]
  },
  {
   "cell_type": "code",
   "execution_count": 236,
   "id": "unusual-browse",
   "metadata": {},
   "outputs": [],
   "source": [
    "# Create copies for cleaned dataframes\n",
    "profile_clean = profile.copy()\n",
    "portfolio_clean = portfolio.copy()\n",
    "transcript_clean = transcript.copy()"
   ]
  },
  {
   "cell_type": "markdown",
   "id": "effective-bedroom",
   "metadata": {},
   "source": [
    "Before cleaning up each dataframe I will map the hashed user and offer ids to more readable versions."
   ]
  },
  {
   "cell_type": "code",
   "execution_count": 237,
   "id": "saving-elder",
   "metadata": {},
   "outputs": [],
   "source": [
    "def id_mapping(df, col):\n",
    "    \"\"\"\n",
    "    Map hashed ids to more readable version.\n",
    "    \n",
    "    INPUT:\n",
    "    df - dataframe \n",
    "    col - column containing the hashed ids\n",
    "    \n",
    "    OUTPUT:\n",
    "    encoded - list containing the shortened ids\n",
    "    mapping - dict containing all id pairs \n",
    "              key: hashed id (original), value: encoded id\n",
    "    \"\"\"\n",
    "    \n",
    "    mapping = {}\n",
    "    counter = 1\n",
    "    encoded = []\n",
    "    \n",
    "    for val in df[col]:\n",
    "        if val not in mapping:\n",
    "            mapping[val] = counter\n",
    "            counter += 1\n",
    "        \n",
    "        encoded.append(mapping[val])\n",
    "    return encoded, mapping"
   ]
  },
  {
   "cell_type": "code",
   "execution_count": 238,
   "id": "protecting-boring",
   "metadata": {
    "scrolled": false
   },
   "outputs": [
    {
     "data": {
      "text/html": [
       "<div>\n",
       "<style scoped>\n",
       "    .dataframe tbody tr th:only-of-type {\n",
       "        vertical-align: middle;\n",
       "    }\n",
       "\n",
       "    .dataframe tbody tr th {\n",
       "        vertical-align: top;\n",
       "    }\n",
       "\n",
       "    .dataframe thead th {\n",
       "        text-align: right;\n",
       "    }\n",
       "</style>\n",
       "<table border=\"1\" class=\"dataframe\">\n",
       "  <thead>\n",
       "    <tr style=\"text-align: right;\">\n",
       "      <th></th>\n",
       "      <th>gender</th>\n",
       "      <th>age</th>\n",
       "      <th>id</th>\n",
       "      <th>became_member_on</th>\n",
       "      <th>income</th>\n",
       "      <th>person_id</th>\n",
       "    </tr>\n",
       "  </thead>\n",
       "  <tbody>\n",
       "    <tr>\n",
       "      <th>0</th>\n",
       "      <td>None</td>\n",
       "      <td>118</td>\n",
       "      <td>68be06ca386d4c31939f3a4f0e3dd783</td>\n",
       "      <td>20170212</td>\n",
       "      <td>NaN</td>\n",
       "      <td>1</td>\n",
       "    </tr>\n",
       "    <tr>\n",
       "      <th>1</th>\n",
       "      <td>F</td>\n",
       "      <td>55</td>\n",
       "      <td>0610b486422d4921ae7d2bf64640c50b</td>\n",
       "      <td>20170715</td>\n",
       "      <td>112000.0</td>\n",
       "      <td>2</td>\n",
       "    </tr>\n",
       "    <tr>\n",
       "      <th>2</th>\n",
       "      <td>None</td>\n",
       "      <td>118</td>\n",
       "      <td>38fe809add3b4fcf9315a9694bb96ff5</td>\n",
       "      <td>20180712</td>\n",
       "      <td>NaN</td>\n",
       "      <td>3</td>\n",
       "    </tr>\n",
       "    <tr>\n",
       "      <th>3</th>\n",
       "      <td>F</td>\n",
       "      <td>75</td>\n",
       "      <td>78afa995795e4d85b5d9ceeca43f5fef</td>\n",
       "      <td>20170509</td>\n",
       "      <td>100000.0</td>\n",
       "      <td>4</td>\n",
       "    </tr>\n",
       "    <tr>\n",
       "      <th>4</th>\n",
       "      <td>None</td>\n",
       "      <td>118</td>\n",
       "      <td>a03223e636434f42ac4c3df47e8bac43</td>\n",
       "      <td>20170804</td>\n",
       "      <td>NaN</td>\n",
       "      <td>5</td>\n",
       "    </tr>\n",
       "  </tbody>\n",
       "</table>\n",
       "</div>"
      ],
      "text/plain": [
       "  gender  age                                id  became_member_on    income  \\\n",
       "0   None  118  68be06ca386d4c31939f3a4f0e3dd783          20170212       NaN   \n",
       "1      F   55  0610b486422d4921ae7d2bf64640c50b          20170715  112000.0   \n",
       "2   None  118  38fe809add3b4fcf9315a9694bb96ff5          20180712       NaN   \n",
       "3      F   75  78afa995795e4d85b5d9ceeca43f5fef          20170509  100000.0   \n",
       "4   None  118  a03223e636434f42ac4c3df47e8bac43          20170804       NaN   \n",
       "\n",
       "   person_id  \n",
       "0          1  \n",
       "1          2  \n",
       "2          3  \n",
       "3          4  \n",
       "4          5  "
      ]
     },
     "execution_count": 238,
     "metadata": {},
     "output_type": "execute_result"
    }
   ],
   "source": [
    "# Map person id in profile_clean\n",
    "encoded_profile, mapping_profile = id_mapping(profile_clean, 'id')\n",
    "profile_clean['person_id'] = encoded_profile\n",
    "\n",
    "profile_clean.head()"
   ]
  },
  {
   "cell_type": "markdown",
   "id": "acute-spain",
   "metadata": {},
   "source": [
    "Since the id column is no longer required, I will drop it."
   ]
  },
  {
   "cell_type": "code",
   "execution_count": 239,
   "id": "instant-clinton",
   "metadata": {},
   "outputs": [],
   "source": [
    "profile_clean.drop('id', axis=1, inplace=True)"
   ]
  },
  {
   "cell_type": "code",
   "execution_count": 240,
   "id": "useful-salad",
   "metadata": {
    "scrolled": false
   },
   "outputs": [
    {
     "data": {
      "text/html": [
       "<div>\n",
       "<style scoped>\n",
       "    .dataframe tbody tr th:only-of-type {\n",
       "        vertical-align: middle;\n",
       "    }\n",
       "\n",
       "    .dataframe tbody tr th {\n",
       "        vertical-align: top;\n",
       "    }\n",
       "\n",
       "    .dataframe thead th {\n",
       "        text-align: right;\n",
       "    }\n",
       "</style>\n",
       "<table border=\"1\" class=\"dataframe\">\n",
       "  <thead>\n",
       "    <tr style=\"text-align: right;\">\n",
       "      <th></th>\n",
       "      <th>reward</th>\n",
       "      <th>channels</th>\n",
       "      <th>difficulty</th>\n",
       "      <th>duration</th>\n",
       "      <th>offer_type</th>\n",
       "      <th>id</th>\n",
       "      <th>offer_id</th>\n",
       "    </tr>\n",
       "  </thead>\n",
       "  <tbody>\n",
       "    <tr>\n",
       "      <th>0</th>\n",
       "      <td>10</td>\n",
       "      <td>[email, mobile, social]</td>\n",
       "      <td>10</td>\n",
       "      <td>7</td>\n",
       "      <td>bogo</td>\n",
       "      <td>ae264e3637204a6fb9bb56bc8210ddfd</td>\n",
       "      <td>1</td>\n",
       "    </tr>\n",
       "    <tr>\n",
       "      <th>1</th>\n",
       "      <td>10</td>\n",
       "      <td>[web, email, mobile, social]</td>\n",
       "      <td>10</td>\n",
       "      <td>5</td>\n",
       "      <td>bogo</td>\n",
       "      <td>4d5c57ea9a6940dd891ad53e9dbe8da0</td>\n",
       "      <td>2</td>\n",
       "    </tr>\n",
       "    <tr>\n",
       "      <th>2</th>\n",
       "      <td>0</td>\n",
       "      <td>[web, email, mobile]</td>\n",
       "      <td>0</td>\n",
       "      <td>4</td>\n",
       "      <td>informational</td>\n",
       "      <td>3f207df678b143eea3cee63160fa8bed</td>\n",
       "      <td>3</td>\n",
       "    </tr>\n",
       "    <tr>\n",
       "      <th>3</th>\n",
       "      <td>5</td>\n",
       "      <td>[web, email, mobile]</td>\n",
       "      <td>5</td>\n",
       "      <td>7</td>\n",
       "      <td>bogo</td>\n",
       "      <td>9b98b8c7a33c4b65b9aebfe6a799e6d9</td>\n",
       "      <td>4</td>\n",
       "    </tr>\n",
       "    <tr>\n",
       "      <th>4</th>\n",
       "      <td>5</td>\n",
       "      <td>[web, email]</td>\n",
       "      <td>20</td>\n",
       "      <td>10</td>\n",
       "      <td>discount</td>\n",
       "      <td>0b1e1539f2cc45b7b9fa7c272da2e1d7</td>\n",
       "      <td>5</td>\n",
       "    </tr>\n",
       "    <tr>\n",
       "      <th>5</th>\n",
       "      <td>3</td>\n",
       "      <td>[web, email, mobile, social]</td>\n",
       "      <td>7</td>\n",
       "      <td>7</td>\n",
       "      <td>discount</td>\n",
       "      <td>2298d6c36e964ae4a3e7e9706d1fb8c2</td>\n",
       "      <td>6</td>\n",
       "    </tr>\n",
       "    <tr>\n",
       "      <th>6</th>\n",
       "      <td>2</td>\n",
       "      <td>[web, email, mobile, social]</td>\n",
       "      <td>10</td>\n",
       "      <td>10</td>\n",
       "      <td>discount</td>\n",
       "      <td>fafdcd668e3743c1bb461111dcafc2a4</td>\n",
       "      <td>7</td>\n",
       "    </tr>\n",
       "    <tr>\n",
       "      <th>7</th>\n",
       "      <td>0</td>\n",
       "      <td>[email, mobile, social]</td>\n",
       "      <td>0</td>\n",
       "      <td>3</td>\n",
       "      <td>informational</td>\n",
       "      <td>5a8bc65990b245e5a138643cd4eb9837</td>\n",
       "      <td>8</td>\n",
       "    </tr>\n",
       "    <tr>\n",
       "      <th>8</th>\n",
       "      <td>5</td>\n",
       "      <td>[web, email, mobile, social]</td>\n",
       "      <td>5</td>\n",
       "      <td>5</td>\n",
       "      <td>bogo</td>\n",
       "      <td>f19421c1d4aa40978ebb69ca19b0e20d</td>\n",
       "      <td>9</td>\n",
       "    </tr>\n",
       "    <tr>\n",
       "      <th>9</th>\n",
       "      <td>2</td>\n",
       "      <td>[web, email, mobile]</td>\n",
       "      <td>10</td>\n",
       "      <td>7</td>\n",
       "      <td>discount</td>\n",
       "      <td>2906b810c7d4411798c6938adc9daaa5</td>\n",
       "      <td>10</td>\n",
       "    </tr>\n",
       "  </tbody>\n",
       "</table>\n",
       "</div>"
      ],
      "text/plain": [
       "   reward                      channels  difficulty  duration     offer_type  \\\n",
       "0      10       [email, mobile, social]          10         7           bogo   \n",
       "1      10  [web, email, mobile, social]          10         5           bogo   \n",
       "2       0          [web, email, mobile]           0         4  informational   \n",
       "3       5          [web, email, mobile]           5         7           bogo   \n",
       "4       5                  [web, email]          20        10       discount   \n",
       "5       3  [web, email, mobile, social]           7         7       discount   \n",
       "6       2  [web, email, mobile, social]          10        10       discount   \n",
       "7       0       [email, mobile, social]           0         3  informational   \n",
       "8       5  [web, email, mobile, social]           5         5           bogo   \n",
       "9       2          [web, email, mobile]          10         7       discount   \n",
       "\n",
       "                                 id  offer_id  \n",
       "0  ae264e3637204a6fb9bb56bc8210ddfd         1  \n",
       "1  4d5c57ea9a6940dd891ad53e9dbe8da0         2  \n",
       "2  3f207df678b143eea3cee63160fa8bed         3  \n",
       "3  9b98b8c7a33c4b65b9aebfe6a799e6d9         4  \n",
       "4  0b1e1539f2cc45b7b9fa7c272da2e1d7         5  \n",
       "5  2298d6c36e964ae4a3e7e9706d1fb8c2         6  \n",
       "6  fafdcd668e3743c1bb461111dcafc2a4         7  \n",
       "7  5a8bc65990b245e5a138643cd4eb9837         8  \n",
       "8  f19421c1d4aa40978ebb69ca19b0e20d         9  \n",
       "9  2906b810c7d4411798c6938adc9daaa5        10  "
      ]
     },
     "execution_count": 240,
     "metadata": {},
     "output_type": "execute_result"
    }
   ],
   "source": [
    "# Map offer id in portfolio_clean\n",
    "encoded_portfolio, mapping_portfolio = id_mapping(portfolio_clean, 'id')\n",
    "portfolio_clean['offer_id'] = encoded_portfolio\n",
    "\n",
    "portfolio_clean"
   ]
  },
  {
   "cell_type": "markdown",
   "id": "vital-competition",
   "metadata": {},
   "source": [
    "Since the id column is no longer required, I will drop it."
   ]
  },
  {
   "cell_type": "code",
   "execution_count": 241,
   "id": "flush-japanese",
   "metadata": {},
   "outputs": [],
   "source": [
    "portfolio_clean.drop('id', axis=1, inplace=True)"
   ]
  },
  {
   "cell_type": "code",
   "execution_count": 242,
   "id": "forced-repeat",
   "metadata": {
    "scrolled": true
   },
   "outputs": [
    {
     "data": {
      "text/html": [
       "<div>\n",
       "<style scoped>\n",
       "    .dataframe tbody tr th:only-of-type {\n",
       "        vertical-align: middle;\n",
       "    }\n",
       "\n",
       "    .dataframe tbody tr th {\n",
       "        vertical-align: top;\n",
       "    }\n",
       "\n",
       "    .dataframe thead th {\n",
       "        text-align: right;\n",
       "    }\n",
       "</style>\n",
       "<table border=\"1\" class=\"dataframe\">\n",
       "  <thead>\n",
       "    <tr style=\"text-align: right;\">\n",
       "      <th></th>\n",
       "      <th>event</th>\n",
       "      <th>value</th>\n",
       "      <th>time</th>\n",
       "      <th>person_id</th>\n",
       "    </tr>\n",
       "  </thead>\n",
       "  <tbody>\n",
       "    <tr>\n",
       "      <th>0</th>\n",
       "      <td>offer received</td>\n",
       "      <td>{'offer id': '9b98b8c7a33c4b65b9aebfe6a799e6d9'}</td>\n",
       "      <td>0</td>\n",
       "      <td>4</td>\n",
       "    </tr>\n",
       "    <tr>\n",
       "      <th>1</th>\n",
       "      <td>offer received</td>\n",
       "      <td>{'offer id': '0b1e1539f2cc45b7b9fa7c272da2e1d7'}</td>\n",
       "      <td>0</td>\n",
       "      <td>5</td>\n",
       "    </tr>\n",
       "    <tr>\n",
       "      <th>2</th>\n",
       "      <td>offer received</td>\n",
       "      <td>{'offer id': '2906b810c7d4411798c6938adc9daaa5'}</td>\n",
       "      <td>0</td>\n",
       "      <td>6</td>\n",
       "    </tr>\n",
       "    <tr>\n",
       "      <th>3</th>\n",
       "      <td>offer received</td>\n",
       "      <td>{'offer id': 'fafdcd668e3743c1bb461111dcafc2a4'}</td>\n",
       "      <td>0</td>\n",
       "      <td>7</td>\n",
       "    </tr>\n",
       "    <tr>\n",
       "      <th>4</th>\n",
       "      <td>offer received</td>\n",
       "      <td>{'offer id': '4d5c57ea9a6940dd891ad53e9dbe8da0'}</td>\n",
       "      <td>0</td>\n",
       "      <td>8</td>\n",
       "    </tr>\n",
       "    <tr>\n",
       "      <th>5</th>\n",
       "      <td>offer received</td>\n",
       "      <td>{'offer id': 'f19421c1d4aa40978ebb69ca19b0e20d'}</td>\n",
       "      <td>0</td>\n",
       "      <td>9</td>\n",
       "    </tr>\n",
       "    <tr>\n",
       "      <th>6</th>\n",
       "      <td>offer received</td>\n",
       "      <td>{'offer id': '2298d6c36e964ae4a3e7e9706d1fb8c2'}</td>\n",
       "      <td>0</td>\n",
       "      <td>11</td>\n",
       "    </tr>\n",
       "    <tr>\n",
       "      <th>7</th>\n",
       "      <td>offer received</td>\n",
       "      <td>{'offer id': '3f207df678b143eea3cee63160fa8bed'}</td>\n",
       "      <td>0</td>\n",
       "      <td>13</td>\n",
       "    </tr>\n",
       "    <tr>\n",
       "      <th>8</th>\n",
       "      <td>offer received</td>\n",
       "      <td>{'offer id': '0b1e1539f2cc45b7b9fa7c272da2e1d7'}</td>\n",
       "      <td>0</td>\n",
       "      <td>14</td>\n",
       "    </tr>\n",
       "    <tr>\n",
       "      <th>9</th>\n",
       "      <td>offer received</td>\n",
       "      <td>{'offer id': '0b1e1539f2cc45b7b9fa7c272da2e1d7'}</td>\n",
       "      <td>0</td>\n",
       "      <td>16</td>\n",
       "    </tr>\n",
       "  </tbody>\n",
       "</table>\n",
       "</div>"
      ],
      "text/plain": [
       "            event                                             value  time  \\\n",
       "0  offer received  {'offer id': '9b98b8c7a33c4b65b9aebfe6a799e6d9'}     0   \n",
       "1  offer received  {'offer id': '0b1e1539f2cc45b7b9fa7c272da2e1d7'}     0   \n",
       "2  offer received  {'offer id': '2906b810c7d4411798c6938adc9daaa5'}     0   \n",
       "3  offer received  {'offer id': 'fafdcd668e3743c1bb461111dcafc2a4'}     0   \n",
       "4  offer received  {'offer id': '4d5c57ea9a6940dd891ad53e9dbe8da0'}     0   \n",
       "5  offer received  {'offer id': 'f19421c1d4aa40978ebb69ca19b0e20d'}     0   \n",
       "6  offer received  {'offer id': '2298d6c36e964ae4a3e7e9706d1fb8c2'}     0   \n",
       "7  offer received  {'offer id': '3f207df678b143eea3cee63160fa8bed'}     0   \n",
       "8  offer received  {'offer id': '0b1e1539f2cc45b7b9fa7c272da2e1d7'}     0   \n",
       "9  offer received  {'offer id': '0b1e1539f2cc45b7b9fa7c272da2e1d7'}     0   \n",
       "\n",
       "   person_id  \n",
       "0          4  \n",
       "1          5  \n",
       "2          6  \n",
       "3          7  \n",
       "4          8  \n",
       "5          9  \n",
       "6         11  \n",
       "7         13  \n",
       "8         14  \n",
       "9         16  "
      ]
     },
     "execution_count": 242,
     "metadata": {},
     "output_type": "execute_result"
    }
   ],
   "source": [
    "# Map person id in transcript_clean\n",
    "encoded_person = []\n",
    "for val in transcript_clean['person']:\n",
    "    encoded_person.append(mapping_profile[val])\n",
    "    \n",
    "transcript_clean['person_id'] = encoded_person\n",
    "transcript_clean.drop('person', axis=1, inplace=True)\n",
    "transcript_clean.head(10)"
   ]
  },
  {
   "cell_type": "markdown",
   "id": "integral-affiliate",
   "metadata": {},
   "source": [
    "We cannot map the *value* column offer ids directly since they are stored as part of a dictionary. First, I need to transform the entire column. Then I will be able to extract the ids and map the offer ids to their corresponding encoded ids.\n",
    "\n",
    "**`profile_clean`**\n",
    "\n",
    "#### Missing values\n",
    "* Age 118 encodes missing values\n",
    "* 2,175 missing entries in *gender*, *age* and *income* column\n",
    "\n",
    "##### Define\n",
    "[...]\n",
    "\n",
    "##### Code"
   ]
  },
  {
   "cell_type": "code",
   "execution_count": 243,
   "id": "forty-belle",
   "metadata": {},
   "outputs": [],
   "source": [
    "profile_less = profile_clean.drop(profile_clean[profile_clean.gender.notnull()].index)\n",
    "profile_clean.drop(profile_clean[profile_clean.gender.isnull()].index, inplace=True)"
   ]
  },
  {
   "cell_type": "markdown",
   "id": "burning-rover",
   "metadata": {},
   "source": [
    "##### Test"
   ]
  },
  {
   "cell_type": "code",
   "execution_count": 244,
   "id": "touched-circular",
   "metadata": {
    "scrolled": true
   },
   "outputs": [
    {
     "name": "stdout",
     "output_type": "stream",
     "text": [
      "<class 'pandas.core.frame.DataFrame'>\n",
      "Int64Index: 2175 entries, 0 to 16994\n",
      "Data columns (total 5 columns):\n",
      " #   Column            Non-Null Count  Dtype  \n",
      "---  ------            --------------  -----  \n",
      " 0   gender            0 non-null      object \n",
      " 1   age               2175 non-null   int64  \n",
      " 2   became_member_on  2175 non-null   int64  \n",
      " 3   income            0 non-null      float64\n",
      " 4   person_id         2175 non-null   int64  \n",
      "dtypes: float64(1), int64(3), object(1)\n",
      "memory usage: 102.0+ KB\n"
     ]
    }
   ],
   "source": [
    "profile_less.info()"
   ]
  },
  {
   "cell_type": "code",
   "execution_count": 245,
   "id": "retained-contribution",
   "metadata": {},
   "outputs": [
    {
     "name": "stdout",
     "output_type": "stream",
     "text": [
      "<class 'pandas.core.frame.DataFrame'>\n",
      "Int64Index: 14825 entries, 1 to 16999\n",
      "Data columns (total 5 columns):\n",
      " #   Column            Non-Null Count  Dtype  \n",
      "---  ------            --------------  -----  \n",
      " 0   gender            14825 non-null  object \n",
      " 1   age               14825 non-null  int64  \n",
      " 2   became_member_on  14825 non-null  int64  \n",
      " 3   income            14825 non-null  float64\n",
      " 4   person_id         14825 non-null  int64  \n",
      "dtypes: float64(1), int64(3), object(1)\n",
      "memory usage: 694.9+ KB\n"
     ]
    }
   ],
   "source": [
    "profile_clean.info()"
   ]
  },
  {
   "cell_type": "markdown",
   "id": "conventional-insider",
   "metadata": {},
   "source": [
    "#### Erronuous data types\n",
    "\n",
    "##### Define\n",
    "Transform data types: *gender* object &rarr; categorical and *became_member_on* int64 &rarr; datetime.\n",
    "\n",
    "##### Code"
   ]
  },
  {
   "cell_type": "code",
   "execution_count": 246,
   "id": "suspected-burst",
   "metadata": {},
   "outputs": [],
   "source": [
    "profile_clean['gender'] = profile_clean['gender'].astype('category')"
   ]
  },
  {
   "cell_type": "code",
   "execution_count": 247,
   "id": "acknowledged-tender",
   "metadata": {},
   "outputs": [],
   "source": [
    "profile_clean.became_member_on = profile_clean.became_member_on.astype(str)\n",
    "profile_clean['member_year'] = profile_clean.became_member_on.str.slice(0, 4).astype(int)\n",
    "profile_clean['member_month'] = profile_clean.became_member_on.str.slice(4, 6).astype(int)\n",
    "profile_clean['member_day'] = profile_clean.became_member_on.str.slice(6, 8).astype(int)"
   ]
  },
  {
   "cell_type": "code",
   "execution_count": 248,
   "id": "dangerous-questionnaire",
   "metadata": {},
   "outputs": [],
   "source": [
    "# Drop became_member_on column\n",
    "profile_clean.drop('became_member_on', axis=1, inplace=True)"
   ]
  },
  {
   "cell_type": "markdown",
   "id": "going-purple",
   "metadata": {},
   "source": [
    "##### Test"
   ]
  },
  {
   "cell_type": "code",
   "execution_count": 249,
   "id": "supreme-graduation",
   "metadata": {
    "scrolled": true
   },
   "outputs": [
    {
     "name": "stdout",
     "output_type": "stream",
     "text": [
      "<class 'pandas.core.frame.DataFrame'>\n",
      "Int64Index: 14825 entries, 1 to 16999\n",
      "Data columns (total 7 columns):\n",
      " #   Column        Non-Null Count  Dtype   \n",
      "---  ------        --------------  -----   \n",
      " 0   gender        14825 non-null  category\n",
      " 1   age           14825 non-null  int64   \n",
      " 2   income        14825 non-null  float64 \n",
      " 3   person_id     14825 non-null  int64   \n",
      " 4   member_year   14825 non-null  int64   \n",
      " 5   member_month  14825 non-null  int64   \n",
      " 6   member_day    14825 non-null  int64   \n",
      "dtypes: category(1), float64(1), int64(5)\n",
      "memory usage: 825.3 KB\n"
     ]
    }
   ],
   "source": [
    "profile_clean.info()"
   ]
  },
  {
   "cell_type": "code",
   "execution_count": 250,
   "id": "suspended-yukon",
   "metadata": {
    "scrolled": true
   },
   "outputs": [
    {
     "data": {
      "text/html": [
       "<div>\n",
       "<style scoped>\n",
       "    .dataframe tbody tr th:only-of-type {\n",
       "        vertical-align: middle;\n",
       "    }\n",
       "\n",
       "    .dataframe tbody tr th {\n",
       "        vertical-align: top;\n",
       "    }\n",
       "\n",
       "    .dataframe thead th {\n",
       "        text-align: right;\n",
       "    }\n",
       "</style>\n",
       "<table border=\"1\" class=\"dataframe\">\n",
       "  <thead>\n",
       "    <tr style=\"text-align: right;\">\n",
       "      <th></th>\n",
       "      <th>gender</th>\n",
       "      <th>age</th>\n",
       "      <th>income</th>\n",
       "      <th>person_id</th>\n",
       "      <th>member_year</th>\n",
       "      <th>member_month</th>\n",
       "      <th>member_day</th>\n",
       "    </tr>\n",
       "  </thead>\n",
       "  <tbody>\n",
       "    <tr>\n",
       "      <th>1</th>\n",
       "      <td>F</td>\n",
       "      <td>55</td>\n",
       "      <td>112000.0</td>\n",
       "      <td>2</td>\n",
       "      <td>2017</td>\n",
       "      <td>7</td>\n",
       "      <td>15</td>\n",
       "    </tr>\n",
       "    <tr>\n",
       "      <th>3</th>\n",
       "      <td>F</td>\n",
       "      <td>75</td>\n",
       "      <td>100000.0</td>\n",
       "      <td>4</td>\n",
       "      <td>2017</td>\n",
       "      <td>5</td>\n",
       "      <td>9</td>\n",
       "    </tr>\n",
       "    <tr>\n",
       "      <th>5</th>\n",
       "      <td>M</td>\n",
       "      <td>68</td>\n",
       "      <td>70000.0</td>\n",
       "      <td>6</td>\n",
       "      <td>2018</td>\n",
       "      <td>4</td>\n",
       "      <td>26</td>\n",
       "    </tr>\n",
       "    <tr>\n",
       "      <th>8</th>\n",
       "      <td>M</td>\n",
       "      <td>65</td>\n",
       "      <td>53000.0</td>\n",
       "      <td>9</td>\n",
       "      <td>2018</td>\n",
       "      <td>2</td>\n",
       "      <td>9</td>\n",
       "    </tr>\n",
       "    <tr>\n",
       "      <th>12</th>\n",
       "      <td>M</td>\n",
       "      <td>58</td>\n",
       "      <td>51000.0</td>\n",
       "      <td>13</td>\n",
       "      <td>2017</td>\n",
       "      <td>11</td>\n",
       "      <td>11</td>\n",
       "    </tr>\n",
       "  </tbody>\n",
       "</table>\n",
       "</div>"
      ],
      "text/plain": [
       "   gender  age    income  person_id  member_year  member_month  member_day\n",
       "1       F   55  112000.0          2         2017             7          15\n",
       "3       F   75  100000.0          4         2017             5           9\n",
       "5       M   68   70000.0          6         2018             4          26\n",
       "8       M   65   53000.0          9         2018             2           9\n",
       "12      M   58   51000.0         13         2017            11          11"
      ]
     },
     "execution_count": 250,
     "metadata": {},
     "output_type": "execute_result"
    }
   ],
   "source": [
    "profile_clean.head()"
   ]
  },
  {
   "cell_type": "markdown",
   "id": "vanilla-inspector",
   "metadata": {},
   "source": [
    "**`portfolio_clean`**\n",
    "\n",
    "#### *channels* combined in one column\n",
    "\n",
    "##### Define \n",
    "Split *channels* into separate columns each representing one particular communication channel. Use 1 and 0 to indicate whether a channel was used for an offer or not.\n",
    "\n",
    "##### Code"
   ]
  },
  {
   "cell_type": "code",
   "execution_count": 251,
   "id": "young-violence",
   "metadata": {},
   "outputs": [],
   "source": [
    "for i, val in enumerate(portfolio_clean['channels']):\n",
    "    for channel in val:\n",
    "        portfolio_clean.loc[i, channel] = 1"
   ]
  },
  {
   "cell_type": "markdown",
   "id": "amber-discretion",
   "metadata": {},
   "source": [
    "##### Test"
   ]
  },
  {
   "cell_type": "code",
   "execution_count": 252,
   "id": "dried-decline",
   "metadata": {
    "scrolled": true
   },
   "outputs": [
    {
     "data": {
      "text/html": [
       "<div>\n",
       "<style scoped>\n",
       "    .dataframe tbody tr th:only-of-type {\n",
       "        vertical-align: middle;\n",
       "    }\n",
       "\n",
       "    .dataframe tbody tr th {\n",
       "        vertical-align: top;\n",
       "    }\n",
       "\n",
       "    .dataframe thead th {\n",
       "        text-align: right;\n",
       "    }\n",
       "</style>\n",
       "<table border=\"1\" class=\"dataframe\">\n",
       "  <thead>\n",
       "    <tr style=\"text-align: right;\">\n",
       "      <th></th>\n",
       "      <th>reward</th>\n",
       "      <th>channels</th>\n",
       "      <th>difficulty</th>\n",
       "      <th>duration</th>\n",
       "      <th>offer_type</th>\n",
       "      <th>offer_id</th>\n",
       "      <th>email</th>\n",
       "      <th>mobile</th>\n",
       "      <th>social</th>\n",
       "      <th>web</th>\n",
       "    </tr>\n",
       "  </thead>\n",
       "  <tbody>\n",
       "    <tr>\n",
       "      <th>0</th>\n",
       "      <td>10</td>\n",
       "      <td>[email, mobile, social]</td>\n",
       "      <td>10</td>\n",
       "      <td>7</td>\n",
       "      <td>bogo</td>\n",
       "      <td>1</td>\n",
       "      <td>1.0</td>\n",
       "      <td>1.0</td>\n",
       "      <td>1.0</td>\n",
       "      <td>NaN</td>\n",
       "    </tr>\n",
       "    <tr>\n",
       "      <th>1</th>\n",
       "      <td>10</td>\n",
       "      <td>[web, email, mobile, social]</td>\n",
       "      <td>10</td>\n",
       "      <td>5</td>\n",
       "      <td>bogo</td>\n",
       "      <td>2</td>\n",
       "      <td>1.0</td>\n",
       "      <td>1.0</td>\n",
       "      <td>1.0</td>\n",
       "      <td>1.0</td>\n",
       "    </tr>\n",
       "    <tr>\n",
       "      <th>2</th>\n",
       "      <td>0</td>\n",
       "      <td>[web, email, mobile]</td>\n",
       "      <td>0</td>\n",
       "      <td>4</td>\n",
       "      <td>informational</td>\n",
       "      <td>3</td>\n",
       "      <td>1.0</td>\n",
       "      <td>1.0</td>\n",
       "      <td>NaN</td>\n",
       "      <td>1.0</td>\n",
       "    </tr>\n",
       "    <tr>\n",
       "      <th>3</th>\n",
       "      <td>5</td>\n",
       "      <td>[web, email, mobile]</td>\n",
       "      <td>5</td>\n",
       "      <td>7</td>\n",
       "      <td>bogo</td>\n",
       "      <td>4</td>\n",
       "      <td>1.0</td>\n",
       "      <td>1.0</td>\n",
       "      <td>NaN</td>\n",
       "      <td>1.0</td>\n",
       "    </tr>\n",
       "    <tr>\n",
       "      <th>4</th>\n",
       "      <td>5</td>\n",
       "      <td>[web, email]</td>\n",
       "      <td>20</td>\n",
       "      <td>10</td>\n",
       "      <td>discount</td>\n",
       "      <td>5</td>\n",
       "      <td>1.0</td>\n",
       "      <td>NaN</td>\n",
       "      <td>NaN</td>\n",
       "      <td>1.0</td>\n",
       "    </tr>\n",
       "    <tr>\n",
       "      <th>5</th>\n",
       "      <td>3</td>\n",
       "      <td>[web, email, mobile, social]</td>\n",
       "      <td>7</td>\n",
       "      <td>7</td>\n",
       "      <td>discount</td>\n",
       "      <td>6</td>\n",
       "      <td>1.0</td>\n",
       "      <td>1.0</td>\n",
       "      <td>1.0</td>\n",
       "      <td>1.0</td>\n",
       "    </tr>\n",
       "    <tr>\n",
       "      <th>6</th>\n",
       "      <td>2</td>\n",
       "      <td>[web, email, mobile, social]</td>\n",
       "      <td>10</td>\n",
       "      <td>10</td>\n",
       "      <td>discount</td>\n",
       "      <td>7</td>\n",
       "      <td>1.0</td>\n",
       "      <td>1.0</td>\n",
       "      <td>1.0</td>\n",
       "      <td>1.0</td>\n",
       "    </tr>\n",
       "    <tr>\n",
       "      <th>7</th>\n",
       "      <td>0</td>\n",
       "      <td>[email, mobile, social]</td>\n",
       "      <td>0</td>\n",
       "      <td>3</td>\n",
       "      <td>informational</td>\n",
       "      <td>8</td>\n",
       "      <td>1.0</td>\n",
       "      <td>1.0</td>\n",
       "      <td>1.0</td>\n",
       "      <td>NaN</td>\n",
       "    </tr>\n",
       "    <tr>\n",
       "      <th>8</th>\n",
       "      <td>5</td>\n",
       "      <td>[web, email, mobile, social]</td>\n",
       "      <td>5</td>\n",
       "      <td>5</td>\n",
       "      <td>bogo</td>\n",
       "      <td>9</td>\n",
       "      <td>1.0</td>\n",
       "      <td>1.0</td>\n",
       "      <td>1.0</td>\n",
       "      <td>1.0</td>\n",
       "    </tr>\n",
       "    <tr>\n",
       "      <th>9</th>\n",
       "      <td>2</td>\n",
       "      <td>[web, email, mobile]</td>\n",
       "      <td>10</td>\n",
       "      <td>7</td>\n",
       "      <td>discount</td>\n",
       "      <td>10</td>\n",
       "      <td>1.0</td>\n",
       "      <td>1.0</td>\n",
       "      <td>NaN</td>\n",
       "      <td>1.0</td>\n",
       "    </tr>\n",
       "  </tbody>\n",
       "</table>\n",
       "</div>"
      ],
      "text/plain": [
       "   reward                      channels  difficulty  duration     offer_type  \\\n",
       "0      10       [email, mobile, social]          10         7           bogo   \n",
       "1      10  [web, email, mobile, social]          10         5           bogo   \n",
       "2       0          [web, email, mobile]           0         4  informational   \n",
       "3       5          [web, email, mobile]           5         7           bogo   \n",
       "4       5                  [web, email]          20        10       discount   \n",
       "5       3  [web, email, mobile, social]           7         7       discount   \n",
       "6       2  [web, email, mobile, social]          10        10       discount   \n",
       "7       0       [email, mobile, social]           0         3  informational   \n",
       "8       5  [web, email, mobile, social]           5         5           bogo   \n",
       "9       2          [web, email, mobile]          10         7       discount   \n",
       "\n",
       "   offer_id  email  mobile  social  web  \n",
       "0         1    1.0     1.0     1.0  NaN  \n",
       "1         2    1.0     1.0     1.0  1.0  \n",
       "2         3    1.0     1.0     NaN  1.0  \n",
       "3         4    1.0     1.0     NaN  1.0  \n",
       "4         5    1.0     NaN     NaN  1.0  \n",
       "5         6    1.0     1.0     1.0  1.0  \n",
       "6         7    1.0     1.0     1.0  1.0  \n",
       "7         8    1.0     1.0     1.0  NaN  \n",
       "8         9    1.0     1.0     1.0  1.0  \n",
       "9        10    1.0     1.0     NaN  1.0  "
      ]
     },
     "execution_count": 252,
     "metadata": {},
     "output_type": "execute_result"
    }
   ],
   "source": [
    "portfolio_clean"
   ]
  },
  {
   "cell_type": "code",
   "execution_count": 253,
   "id": "common-mileage",
   "metadata": {},
   "outputs": [],
   "source": [
    "# Drop channels column\n",
    "portfolio_clean.drop('channels', axis=1, inplace=True)"
   ]
  },
  {
   "cell_type": "markdown",
   "id": "environmental-combine",
   "metadata": {},
   "source": [
    "#### Erronuous data type\n",
    "\n",
    "##### Define\n",
    "Transform data type: *offer_type* object &rarr; categorical.\n",
    "\n",
    "##### Code"
   ]
  },
  {
   "cell_type": "code",
   "execution_count": 254,
   "id": "defined-specific",
   "metadata": {},
   "outputs": [],
   "source": [
    "portfolio_clean['offer_type'] = portfolio_clean['offer_type'].astype('category')"
   ]
  },
  {
   "cell_type": "markdown",
   "id": "bright-pizza",
   "metadata": {},
   "source": [
    "##### Test"
   ]
  },
  {
   "cell_type": "code",
   "execution_count": 255,
   "id": "deadly-polymer",
   "metadata": {},
   "outputs": [
    {
     "name": "stdout",
     "output_type": "stream",
     "text": [
      "<class 'pandas.core.frame.DataFrame'>\n",
      "RangeIndex: 10 entries, 0 to 9\n",
      "Data columns (total 9 columns):\n",
      " #   Column      Non-Null Count  Dtype   \n",
      "---  ------      --------------  -----   \n",
      " 0   reward      10 non-null     int64   \n",
      " 1   difficulty  10 non-null     int64   \n",
      " 2   duration    10 non-null     int64   \n",
      " 3   offer_type  10 non-null     category\n",
      " 4   offer_id    10 non-null     int64   \n",
      " 5   email       10 non-null     float64 \n",
      " 6   mobile      9 non-null      float64 \n",
      " 7   social      6 non-null      float64 \n",
      " 8   web         8 non-null      float64 \n",
      "dtypes: category(1), float64(4), int64(4)\n",
      "memory usage: 910.0 bytes\n"
     ]
    }
   ],
   "source": [
    "portfolio_clean.info()"
   ]
  },
  {
   "cell_type": "markdown",
   "id": "compressed-tractor",
   "metadata": {},
   "source": [
    "**`transcript`**\n",
    "\n",
    "#### Different keys in *value* column describing the same: offer id and offer_id & Tidiness\n",
    "\n",
    "##### Define\n",
    "Separate the value column into three columns *offer_id*, *amount* and *reward*.\n",
    "\n",
    "##### Code"
   ]
  },
  {
   "cell_type": "code",
   "execution_count": 256,
   "id": "nervous-congo",
   "metadata": {},
   "outputs": [],
   "source": [
    "# Extract values from dictionary in value column\n",
    "tmp = pd.DataFrame(transcript_clean.value.values.tolist())"
   ]
  },
  {
   "cell_type": "code",
   "execution_count": 257,
   "id": "democratic-nothing",
   "metadata": {},
   "outputs": [],
   "source": [
    "# Combine offer_id and offer id into one column\n",
    "tmp.loc[tmp['offer id'].isnull(), 'offer id'] = tmp.loc[tmp['offer id'].isnull(), 'offer_id'].values\n",
    "tmp.drop('offer_id', axis=1, inplace=True)"
   ]
  },
  {
   "cell_type": "code",
   "execution_count": 258,
   "id": "arabic-contribution",
   "metadata": {},
   "outputs": [],
   "source": [
    "# Combine transcript_clean with the temporary df\n",
    "transcript_clean = pd.concat([transcript_clean, tmp], axis=1)"
   ]
  },
  {
   "cell_type": "code",
   "execution_count": 259,
   "id": "lesser-scholarship",
   "metadata": {
    "scrolled": false
   },
   "outputs": [],
   "source": [
    "# Map offer id to unhashed ids\n",
    "encoded_offer = []\n",
    "for val in transcript_clean['offer id']:\n",
    "    if pd.isna(val):\n",
    "        encoded_offer.append(np.nan)\n",
    "    else:\n",
    "        encoded_offer.append(mapping_portfolio[val])\n",
    "    \n",
    "transcript_clean['offer_id'] = encoded_offer\n",
    "transcript_clean.drop('offer id', axis=1, inplace=True)"
   ]
  },
  {
   "cell_type": "code",
   "execution_count": 260,
   "id": "freelance-memory",
   "metadata": {},
   "outputs": [],
   "source": [
    "# Drop value column since it's no longer required\n",
    "transcript_clean.drop('value', axis=1, inplace=True)"
   ]
  },
  {
   "cell_type": "markdown",
   "id": "physical-start",
   "metadata": {},
   "source": [
    "##### Test"
   ]
  },
  {
   "cell_type": "code",
   "execution_count": 261,
   "id": "interstate-sensitivity",
   "metadata": {
    "scrolled": true
   },
   "outputs": [
    {
     "data": {
      "text/html": [
       "<div>\n",
       "<style scoped>\n",
       "    .dataframe tbody tr th:only-of-type {\n",
       "        vertical-align: middle;\n",
       "    }\n",
       "\n",
       "    .dataframe tbody tr th {\n",
       "        vertical-align: top;\n",
       "    }\n",
       "\n",
       "    .dataframe thead th {\n",
       "        text-align: right;\n",
       "    }\n",
       "</style>\n",
       "<table border=\"1\" class=\"dataframe\">\n",
       "  <thead>\n",
       "    <tr style=\"text-align: right;\">\n",
       "      <th></th>\n",
       "      <th>event</th>\n",
       "      <th>time</th>\n",
       "      <th>person_id</th>\n",
       "      <th>amount</th>\n",
       "      <th>reward</th>\n",
       "      <th>offer_id</th>\n",
       "    </tr>\n",
       "  </thead>\n",
       "  <tbody>\n",
       "    <tr>\n",
       "      <th>0</th>\n",
       "      <td>offer received</td>\n",
       "      <td>0</td>\n",
       "      <td>4</td>\n",
       "      <td>NaN</td>\n",
       "      <td>NaN</td>\n",
       "      <td>4.0</td>\n",
       "    </tr>\n",
       "    <tr>\n",
       "      <th>1</th>\n",
       "      <td>offer received</td>\n",
       "      <td>0</td>\n",
       "      <td>5</td>\n",
       "      <td>NaN</td>\n",
       "      <td>NaN</td>\n",
       "      <td>5.0</td>\n",
       "    </tr>\n",
       "    <tr>\n",
       "      <th>2</th>\n",
       "      <td>offer received</td>\n",
       "      <td>0</td>\n",
       "      <td>6</td>\n",
       "      <td>NaN</td>\n",
       "      <td>NaN</td>\n",
       "      <td>10.0</td>\n",
       "    </tr>\n",
       "    <tr>\n",
       "      <th>3</th>\n",
       "      <td>offer received</td>\n",
       "      <td>0</td>\n",
       "      <td>7</td>\n",
       "      <td>NaN</td>\n",
       "      <td>NaN</td>\n",
       "      <td>7.0</td>\n",
       "    </tr>\n",
       "    <tr>\n",
       "      <th>4</th>\n",
       "      <td>offer received</td>\n",
       "      <td>0</td>\n",
       "      <td>8</td>\n",
       "      <td>NaN</td>\n",
       "      <td>NaN</td>\n",
       "      <td>2.0</td>\n",
       "    </tr>\n",
       "    <tr>\n",
       "      <th>5</th>\n",
       "      <td>offer received</td>\n",
       "      <td>0</td>\n",
       "      <td>9</td>\n",
       "      <td>NaN</td>\n",
       "      <td>NaN</td>\n",
       "      <td>9.0</td>\n",
       "    </tr>\n",
       "    <tr>\n",
       "      <th>6</th>\n",
       "      <td>offer received</td>\n",
       "      <td>0</td>\n",
       "      <td>11</td>\n",
       "      <td>NaN</td>\n",
       "      <td>NaN</td>\n",
       "      <td>6.0</td>\n",
       "    </tr>\n",
       "    <tr>\n",
       "      <th>7</th>\n",
       "      <td>offer received</td>\n",
       "      <td>0</td>\n",
       "      <td>13</td>\n",
       "      <td>NaN</td>\n",
       "      <td>NaN</td>\n",
       "      <td>3.0</td>\n",
       "    </tr>\n",
       "    <tr>\n",
       "      <th>8</th>\n",
       "      <td>offer received</td>\n",
       "      <td>0</td>\n",
       "      <td>14</td>\n",
       "      <td>NaN</td>\n",
       "      <td>NaN</td>\n",
       "      <td>5.0</td>\n",
       "    </tr>\n",
       "    <tr>\n",
       "      <th>9</th>\n",
       "      <td>offer received</td>\n",
       "      <td>0</td>\n",
       "      <td>16</td>\n",
       "      <td>NaN</td>\n",
       "      <td>NaN</td>\n",
       "      <td>5.0</td>\n",
       "    </tr>\n",
       "  </tbody>\n",
       "</table>\n",
       "</div>"
      ],
      "text/plain": [
       "            event  time  person_id  amount  reward  offer_id\n",
       "0  offer received     0          4     NaN     NaN       4.0\n",
       "1  offer received     0          5     NaN     NaN       5.0\n",
       "2  offer received     0          6     NaN     NaN      10.0\n",
       "3  offer received     0          7     NaN     NaN       7.0\n",
       "4  offer received     0          8     NaN     NaN       2.0\n",
       "5  offer received     0          9     NaN     NaN       9.0\n",
       "6  offer received     0         11     NaN     NaN       6.0\n",
       "7  offer received     0         13     NaN     NaN       3.0\n",
       "8  offer received     0         14     NaN     NaN       5.0\n",
       "9  offer received     0         16     NaN     NaN       5.0"
      ]
     },
     "execution_count": 261,
     "metadata": {},
     "output_type": "execute_result"
    }
   ],
   "source": [
    "transcript_clean.head(10)"
   ]
  },
  {
   "cell_type": "markdown",
   "id": "european-guidance",
   "metadata": {},
   "source": [
    "***\n",
    "<a id=\"explore\"></a>\n",
    "## Data Exploration\n",
    "**``profile_clean``**"
   ]
  },
  {
   "cell_type": "code",
   "execution_count": 262,
   "id": "interior-stevens",
   "metadata": {
    "scrolled": true
   },
   "outputs": [
    {
     "data": {
      "text/plain": [
       "M    0.572277\n",
       "F    0.413423\n",
       "O    0.014300\n",
       "Name: gender, dtype: float64"
      ]
     },
     "execution_count": 262,
     "metadata": {},
     "output_type": "execute_result"
    }
   ],
   "source": [
    "profile_clean.gender.value_counts() / profile_clean.shape[0]"
   ]
  },
  {
   "cell_type": "code",
   "execution_count": 263,
   "id": "labeled-edmonton",
   "metadata": {
    "scrolled": true
   },
   "outputs": [
    {
     "data": {
      "image/png": "[encoded data removed]",
      "text/plain": [
       "<Figure size 360x360 with 1 Axes>"
      ]
     },
     "metadata": {
      "needs_background": "light"
     },
     "output_type": "display_data"
    }
   ],
   "source": [
    "bins = np.arange(0, profile_clean.age.max()+5, 5)\n",
    "sb.displot(profile_clean.age, bins=bins)\n",
    "plt.title('User Age Distribution')\n",
    "plt.xlabel('Age');"
   ]
  },
  {
   "cell_type": "code",
   "execution_count": 264,
   "id": "collaborative-telephone",
   "metadata": {
    "scrolled": true
   },
   "outputs": [
    {
     "data": {
      "image/png": "[encoded data removed]",
      "text/plain": [
       "<Figure size 360x360 with 1 Axes>"
      ]
     },
     "metadata": {
      "needs_background": "light"
     },
     "output_type": "display_data"
    }
   ],
   "source": [
    "bins = np.arange(30000, profile_clean.income.max()+5000, 5000)\n",
    "sb.displot(profile_clean.income, bins=bins)\n",
    "plt.title('User Income Distribution')\n",
    "plt.xlabel('Annual Income (USD)');"
   ]
  },
  {
   "cell_type": "code",
   "execution_count": 265,
   "id": "clear-dayton",
   "metadata": {
    "scrolled": true
   },
   "outputs": [
    {
     "data": {
      "image/png": "[encoded data removed]",
      "text/plain": [
       "<Figure size 432x288 with 1 Axes>"
      ]
     },
     "metadata": {
      "needs_background": "light"
     },
     "output_type": "display_data"
    }
   ],
   "source": [
    "sb.countplot(data=profile_clean, x='member_year', color=sb.color_palette()[0])\n",
    "plt.title('Number of Users separated by Membership Year')\n",
    "plt.xlabel('Year in which a user became a member')\n",
    "plt.ylabel('Count');"
   ]
  },
  {
   "cell_type": "markdown",
   "id": "exceptional-birth",
   "metadata": {},
   "source": [
    "With a share of 57%, men represented the largest user group. 41% were women and only 1% belonged to the category *Other*. The user age roughly followed a normal distribution and was centered around 54 years. When looking at income buckets of USD 5,000 most users earned between USD 50,000 and USD 75,000. Beyond USD 75,000 annual salary the number of users per bucket gradually decreased. Another large user group belonged to the low income population earning between USD 30,000 and USD 50,000.\n",
    "\n",
    "Most users became a Starbucks member in 2017. Between 2013 and 2016 the number of members signing up continuously increased. In 2018 Starbucks experienced a drop in new memberships."
   ]
  },
  {
   "cell_type": "code",
   "execution_count": 266,
   "id": "coupled-chosen",
   "metadata": {
    "scrolled": true
   },
   "outputs": [
    {
     "data": {
      "text/plain": [
       "gender\n",
       "F    57.544950\n",
       "M    52.116690\n",
       "O    54.400943\n",
       "Name: age, dtype: float64"
      ]
     },
     "execution_count": 266,
     "metadata": {},
     "output_type": "execute_result"
    }
   ],
   "source": [
    "profile_clean.groupby('gender')['age'].mean()"
   ]
  },
  {
   "cell_type": "code",
   "execution_count": 267,
   "id": "parliamentary-series",
   "metadata": {},
   "outputs": [
    {
     "data": {
      "image/png": "[encoded data removed]",
      "text/plain": [
       "<Figure size 432x288 with 1 Axes>"
      ]
     },
     "metadata": {
      "needs_background": "light"
     },
     "output_type": "display_data"
    }
   ],
   "source": [
    "profile_clean.groupby('gender')['income'].mean().plot(kind='bar')\n",
    "plt.ylim(50000, None)\n",
    "plt.title('Average Income separated by Gender')\n",
    "plt.xlabel('Gender')\n",
    "plt.ylabel('Average Annual Income (USD)');"
   ]
  },
  {
   "cell_type": "code",
   "execution_count": 268,
   "id": "northern-theology",
   "metadata": {
    "scrolled": true
   },
   "outputs": [
    {
     "data": {
      "image/png": "[encoded data removed]",
      "text/plain": [
       "<Figure size 432x288 with 1 Axes>"
      ]
     },
     "metadata": {
      "needs_background": "light"
     },
     "output_type": "display_data"
    }
   ],
   "source": [
    "sample_size = 0.3 # If you choose 1 the entire dataset will be displayed\n",
    "sample = profile_clean.sample(int(sample_size*profile_clean.shape[0]))\n",
    "x_bins = np.arange(0, sample.age.max()+5, 5)\n",
    "y_bins = np.arange(30000, sample.income.max()+5000, 5000)\n",
    "plt.hist2d(x=sample['age'], y=sample['income'], cmin=0.5, cmap='rocket_r', bins=[x_bins, y_bins])\n",
    "plt.title('Relationship between Age and Income')\n",
    "plt.xlabel('Age')\n",
    "plt.ylabel('Annual Income (USD)');"
   ]
  },
  {
   "cell_type": "markdown",
   "id": "annual-chuck",
   "metadata": {},
   "source": [
    "Women represented the oldest user group with an average of 57 years. The average male user was 5 years younger. Women earned more than USD 70,000 per year. Men on the other hand on average earned USD 10,000 less. There is no strong relationship between age and income. Users younger than 35 did not surpass the USD 80,000 salary threshold. Older users (70+ years) displayed incomes across the entire spectrum. There is a large cluster of users between 40 and 70 earning between USD 50,000 and USD 90,000.\n",
    "\n",
    "**``portfolio_clean``**"
   ]
  },
  {
   "cell_type": "code",
   "execution_count": 269,
   "id": "southwest-swaziland",
   "metadata": {
    "scrolled": true
   },
   "outputs": [
    {
     "data": {
      "text/html": [
       "<div>\n",
       "<style scoped>\n",
       "    .dataframe tbody tr th:only-of-type {\n",
       "        vertical-align: middle;\n",
       "    }\n",
       "\n",
       "    .dataframe tbody tr th {\n",
       "        vertical-align: top;\n",
       "    }\n",
       "\n",
       "    .dataframe thead th {\n",
       "        text-align: right;\n",
       "    }\n",
       "</style>\n",
       "<table border=\"1\" class=\"dataframe\">\n",
       "  <thead>\n",
       "    <tr style=\"text-align: right;\">\n",
       "      <th></th>\n",
       "      <th>reward</th>\n",
       "      <th>difficulty</th>\n",
       "      <th>duration</th>\n",
       "      <th>offer_type</th>\n",
       "      <th>offer_id</th>\n",
       "      <th>email</th>\n",
       "      <th>mobile</th>\n",
       "      <th>social</th>\n",
       "      <th>web</th>\n",
       "    </tr>\n",
       "  </thead>\n",
       "  <tbody>\n",
       "    <tr>\n",
       "      <th>0</th>\n",
       "      <td>10</td>\n",
       "      <td>10</td>\n",
       "      <td>7</td>\n",
       "      <td>bogo</td>\n",
       "      <td>1</td>\n",
       "      <td>1.0</td>\n",
       "      <td>1.0</td>\n",
       "      <td>1.0</td>\n",
       "      <td>NaN</td>\n",
       "    </tr>\n",
       "    <tr>\n",
       "      <th>1</th>\n",
       "      <td>10</td>\n",
       "      <td>10</td>\n",
       "      <td>5</td>\n",
       "      <td>bogo</td>\n",
       "      <td>2</td>\n",
       "      <td>1.0</td>\n",
       "      <td>1.0</td>\n",
       "      <td>1.0</td>\n",
       "      <td>1.0</td>\n",
       "    </tr>\n",
       "    <tr>\n",
       "      <th>3</th>\n",
       "      <td>5</td>\n",
       "      <td>5</td>\n",
       "      <td>7</td>\n",
       "      <td>bogo</td>\n",
       "      <td>4</td>\n",
       "      <td>1.0</td>\n",
       "      <td>1.0</td>\n",
       "      <td>NaN</td>\n",
       "      <td>1.0</td>\n",
       "    </tr>\n",
       "    <tr>\n",
       "      <th>8</th>\n",
       "      <td>5</td>\n",
       "      <td>5</td>\n",
       "      <td>5</td>\n",
       "      <td>bogo</td>\n",
       "      <td>9</td>\n",
       "      <td>1.0</td>\n",
       "      <td>1.0</td>\n",
       "      <td>1.0</td>\n",
       "      <td>1.0</td>\n",
       "    </tr>\n",
       "  </tbody>\n",
       "</table>\n",
       "</div>"
      ],
      "text/plain": [
       "   reward  difficulty  duration offer_type  offer_id  email  mobile  social  \\\n",
       "0      10          10         7       bogo         1    1.0     1.0     1.0   \n",
       "1      10          10         5       bogo         2    1.0     1.0     1.0   \n",
       "3       5           5         7       bogo         4    1.0     1.0     NaN   \n",
       "8       5           5         5       bogo         9    1.0     1.0     1.0   \n",
       "\n",
       "   web  \n",
       "0  NaN  \n",
       "1  1.0  \n",
       "3  1.0  \n",
       "8  1.0  "
      ]
     },
     "execution_count": 269,
     "metadata": {},
     "output_type": "execute_result"
    }
   ],
   "source": [
    "portfolio_clean[portfolio_clean.offer_type == 'bogo']"
   ]
  },
  {
   "cell_type": "code",
   "execution_count": 270,
   "id": "blind-digit",
   "metadata": {
    "scrolled": true
   },
   "outputs": [
    {
     "data": {
      "text/html": [
       "<div>\n",
       "<style scoped>\n",
       "    .dataframe tbody tr th:only-of-type {\n",
       "        vertical-align: middle;\n",
       "    }\n",
       "\n",
       "    .dataframe tbody tr th {\n",
       "        vertical-align: top;\n",
       "    }\n",
       "\n",
       "    .dataframe thead th {\n",
       "        text-align: right;\n",
       "    }\n",
       "</style>\n",
       "<table border=\"1\" class=\"dataframe\">\n",
       "  <thead>\n",
       "    <tr style=\"text-align: right;\">\n",
       "      <th></th>\n",
       "      <th>reward</th>\n",
       "      <th>difficulty</th>\n",
       "      <th>duration</th>\n",
       "      <th>offer_type</th>\n",
       "      <th>offer_id</th>\n",
       "      <th>email</th>\n",
       "      <th>mobile</th>\n",
       "      <th>social</th>\n",
       "      <th>web</th>\n",
       "    </tr>\n",
       "  </thead>\n",
       "  <tbody>\n",
       "    <tr>\n",
       "      <th>4</th>\n",
       "      <td>5</td>\n",
       "      <td>20</td>\n",
       "      <td>10</td>\n",
       "      <td>discount</td>\n",
       "      <td>5</td>\n",
       "      <td>1.0</td>\n",
       "      <td>NaN</td>\n",
       "      <td>NaN</td>\n",
       "      <td>1.0</td>\n",
       "    </tr>\n",
       "    <tr>\n",
       "      <th>5</th>\n",
       "      <td>3</td>\n",
       "      <td>7</td>\n",
       "      <td>7</td>\n",
       "      <td>discount</td>\n",
       "      <td>6</td>\n",
       "      <td>1.0</td>\n",
       "      <td>1.0</td>\n",
       "      <td>1.0</td>\n",
       "      <td>1.0</td>\n",
       "    </tr>\n",
       "    <tr>\n",
       "      <th>6</th>\n",
       "      <td>2</td>\n",
       "      <td>10</td>\n",
       "      <td>10</td>\n",
       "      <td>discount</td>\n",
       "      <td>7</td>\n",
       "      <td>1.0</td>\n",
       "      <td>1.0</td>\n",
       "      <td>1.0</td>\n",
       "      <td>1.0</td>\n",
       "    </tr>\n",
       "    <tr>\n",
       "      <th>9</th>\n",
       "      <td>2</td>\n",
       "      <td>10</td>\n",
       "      <td>7</td>\n",
       "      <td>discount</td>\n",
       "      <td>10</td>\n",
       "      <td>1.0</td>\n",
       "      <td>1.0</td>\n",
       "      <td>NaN</td>\n",
       "      <td>1.0</td>\n",
       "    </tr>\n",
       "  </tbody>\n",
       "</table>\n",
       "</div>"
      ],
      "text/plain": [
       "   reward  difficulty  duration offer_type  offer_id  email  mobile  social  \\\n",
       "4       5          20        10   discount         5    1.0     NaN     NaN   \n",
       "5       3           7         7   discount         6    1.0     1.0     1.0   \n",
       "6       2          10        10   discount         7    1.0     1.0     1.0   \n",
       "9       2          10         7   discount        10    1.0     1.0     NaN   \n",
       "\n",
       "   web  \n",
       "4  1.0  \n",
       "5  1.0  \n",
       "6  1.0  \n",
       "9  1.0  "
      ]
     },
     "execution_count": 270,
     "metadata": {},
     "output_type": "execute_result"
    }
   ],
   "source": [
    "portfolio_clean[portfolio_clean.offer_type == 'discount']"
   ]
  },
  {
   "cell_type": "code",
   "execution_count": 271,
   "id": "fleet-contest",
   "metadata": {},
   "outputs": [
    {
     "data": {
      "text/html": [
       "<div>\n",
       "<style scoped>\n",
       "    .dataframe tbody tr th:only-of-type {\n",
       "        vertical-align: middle;\n",
       "    }\n",
       "\n",
       "    .dataframe tbody tr th {\n",
       "        vertical-align: top;\n",
       "    }\n",
       "\n",
       "    .dataframe thead th {\n",
       "        text-align: right;\n",
       "    }\n",
       "</style>\n",
       "<table border=\"1\" class=\"dataframe\">\n",
       "  <thead>\n",
       "    <tr style=\"text-align: right;\">\n",
       "      <th></th>\n",
       "      <th>reward</th>\n",
       "      <th>difficulty</th>\n",
       "      <th>duration</th>\n",
       "      <th>offer_type</th>\n",
       "      <th>offer_id</th>\n",
       "      <th>email</th>\n",
       "      <th>mobile</th>\n",
       "      <th>social</th>\n",
       "      <th>web</th>\n",
       "    </tr>\n",
       "  </thead>\n",
       "  <tbody>\n",
       "    <tr>\n",
       "      <th>2</th>\n",
       "      <td>0</td>\n",
       "      <td>0</td>\n",
       "      <td>4</td>\n",
       "      <td>informational</td>\n",
       "      <td>3</td>\n",
       "      <td>1.0</td>\n",
       "      <td>1.0</td>\n",
       "      <td>NaN</td>\n",
       "      <td>1.0</td>\n",
       "    </tr>\n",
       "    <tr>\n",
       "      <th>7</th>\n",
       "      <td>0</td>\n",
       "      <td>0</td>\n",
       "      <td>3</td>\n",
       "      <td>informational</td>\n",
       "      <td>8</td>\n",
       "      <td>1.0</td>\n",
       "      <td>1.0</td>\n",
       "      <td>1.0</td>\n",
       "      <td>NaN</td>\n",
       "    </tr>\n",
       "  </tbody>\n",
       "</table>\n",
       "</div>"
      ],
      "text/plain": [
       "   reward  difficulty  duration     offer_type  offer_id  email  mobile  \\\n",
       "2       0           0         4  informational         3    1.0     1.0   \n",
       "7       0           0         3  informational         8    1.0     1.0   \n",
       "\n",
       "   social  web  \n",
       "2     NaN  1.0  \n",
       "7     1.0  NaN  "
      ]
     },
     "execution_count": 271,
     "metadata": {},
     "output_type": "execute_result"
    }
   ],
   "source": [
    "portfolio_clean[portfolio_clean.offer_type == 'informational']"
   ]
  },
  {
   "cell_type": "markdown",
   "id": "binding-armenia",
   "metadata": {},
   "source": [
    "When looking at each offer type individually the following can be observed:\n",
    "* All offer types were sent out via email. With the exception of offer 5, which is the one with the highest difficulty, all offers were offered as a mobile version. The social and web channels were used more infrequently.\n",
    "* Informational offers did not reward users and only lasted for 3 to 4 days.\n",
    "* Per definition a bogo (= buy one get one free) always returned the same reward as was invested by the user (*difficulty*). They lasted either 5 or 7 days.\n",
    "* Discount offers lasted either 7 or 10 days while offering lower rewards compared to bogos.\n",
    "* There were several offer pairs which offered the same reward for the same upfront investment (*difficulty*) but lasted for different time periods: 1 and 2, 4 and 9, 7 and 10 (excluding informational offers).\n",
    "\n",
    "**``transcript_clean``**"
   ]
  },
  {
   "cell_type": "code",
   "execution_count": 272,
   "id": "mysterious-trader",
   "metadata": {
    "scrolled": true
   },
   "outputs": [
    {
     "data": {
      "image/png": "[encoded data removed]",
      "text/plain": [
       "<Figure size 432x288 with 1 Axes>"
      ]
     },
     "metadata": {
      "needs_background": "light"
     },
     "output_type": "display_data"
    }
   ],
   "source": [
    "bins = np.arange(0, transcript_clean.time.max()+30, 30) # Monthly period\n",
    "transcript_clean[transcript_clean.event == 'transaction']['time'].hist(bins=bins)\n",
    "plt.title('Number of Events over entire Observation Period')\n",
    "plt.xlabel('Oberservation Period (Months)')\n",
    "plt.ylabel('Count')\n",
    "ticks = np.arange(0, transcript_clean.time.max()+30, 90)\n",
    "labels = ['{}'.format(int(v/30)) for v in ticks]\n",
    "plt.xticks(ticks, labels);"
   ]
  },
  {
   "cell_type": "code",
   "execution_count": 273,
   "id": "dedicated-failing",
   "metadata": {},
   "outputs": [
    {
     "data": {
      "text/plain": [
       "135224"
      ]
     },
     "execution_count": 273,
     "metadata": {},
     "output_type": "execute_result"
    }
   ],
   "source": [
    "transcript_clean[transcript_clean.time < 714 / 2]['event'].count() "
   ]
  },
  {
   "cell_type": "code",
   "execution_count": 274,
   "id": "configured-exposure",
   "metadata": {},
   "outputs": [
    {
     "data": {
      "text/plain": [
       "171310"
      ]
     },
     "execution_count": 274,
     "metadata": {},
     "output_type": "execute_result"
    }
   ],
   "source": [
    "transcript_clean[transcript_clean.time >= 714 / 2]['event'].count() "
   ]
  },
  {
   "cell_type": "markdown",
   "id": "searching-publisher",
   "metadata": {},
   "source": [
    "Events were recorded for a two year period. During the first year 135,224 events took place, compared to 171,310 events during the second year."
   ]
  },
  {
   "cell_type": "code",
   "execution_count": 275,
   "id": "aging-commission",
   "metadata": {
    "scrolled": false
   },
   "outputs": [
    {
     "data": {
      "image/png": "[encoded data removed]",
      "text/plain": [
       "<Figure size 432x288 with 1 Axes>"
      ]
     },
     "metadata": {
      "needs_background": "light"
     },
     "output_type": "display_data"
    }
   ],
   "source": [
    "event_count = transcript_clean.event.value_counts()\n",
    "event_count.plot(kind='bar')\n",
    "plt.title('Event Count during Observation Period')\n",
    "plt.xlabel('Event')\n",
    "plt.ylabel('Count')\n",
    "for i in np.arange(4):\n",
    "    plt.text(x=i, y=event_count[i]+1000, s='{}'.format(event_count[i]), ha='center');"
   ]
  },
  {
   "cell_type": "code",
   "execution_count": 276,
   "id": "interpreted-climb",
   "metadata": {},
   "outputs": [
    {
     "data": {
      "text/plain": [
       "(0.7567812053436815, 0.4402244451145168)"
      ]
     },
     "execution_count": 276,
     "metadata": {},
     "output_type": "execute_result"
    }
   ],
   "source": [
    "event_count[2] / event_count[1], event_count[3] / event_count[1]"
   ]
  },
  {
   "cell_type": "markdown",
   "id": "dramatic-president",
   "metadata": {},
   "source": [
    "In total, almost 140,000 times users spent money on Starbucks. More than 76,000 offers were sent out, of which 76% were viewed and 44% were completed."
   ]
  },
  {
   "cell_type": "code",
   "execution_count": 277,
   "id": "brave-spoke",
   "metadata": {},
   "outputs": [
    {
     "data": {
      "text/plain": [
       "count    5.142868\n",
       "mean     1.106441\n",
       "std      1.480733\n",
       "min     -1.301030\n",
       "25%      0.444045\n",
       "50%      0.948902\n",
       "75%      1.256958\n",
       "max      3.026239\n",
       "Name: amount, dtype: float64"
      ]
     },
     "execution_count": 277,
     "metadata": {},
     "output_type": "execute_result"
    }
   ],
   "source": [
    "np.log10(transcript_clean.amount.describe())"
   ]
  },
  {
   "cell_type": "code",
   "execution_count": 278,
   "id": "senior-exemption",
   "metadata": {
    "scrolled": false
   },
   "outputs": [
    {
     "data": {
      "image/png": "[encoded data removed]",
      "text/plain": [
       "<Figure size 648x360 with 1 Axes>"
      ]
     },
     "metadata": {
      "needs_background": "light"
     },
     "output_type": "display_data"
    }
   ],
   "source": [
    "plt.figure(figsize=(9,5))\n",
    "bins = 10 ** np.arange(-1.5, 3+0.2, 0.2)\n",
    "transcript_clean[transcript_clean.event == 'transaction']['amount'].hist(bins=bins)\n",
    "\n",
    "plt.title('Amount of Money spent during Observation Period')\n",
    "plt.xlabel('Log Amount (USD)')\n",
    "plt.ylabel('Count')\n",
    "plt.xscale('log')\n",
    "ticks = [1, 10, 50, 100, 500, 1000]\n",
    "labels = ['{}'.format(v) for v in ticks]\n",
    "plt.xticks(ticks, labels);"
   ]
  },
  {
   "cell_type": "markdown",
   "id": "front-split",
   "metadata": {},
   "source": [
    "With regards to how much people spent per transaction a logarithmic distribution emerges. Most users spent around USD 10 to USD 25 on a transaction. Only very few users spent more than USD 50. There was a second large user group spending between less than USD 1 up to USD 10. "
   ]
  },
  {
   "cell_type": "code",
   "execution_count": 279,
   "id": "practical-citation",
   "metadata": {
    "scrolled": true
   },
   "outputs": [
    {
     "data": {
      "image/png": "[encoded data removed]",
      "text/plain": [
       "<Figure size 432x288 with 1 Axes>"
      ]
     },
     "metadata": {
      "needs_background": "light"
     },
     "output_type": "display_data"
    }
   ],
   "source": [
    "transcript_clean[transcript_clean.reward.notnull()]['reward'].value_counts().plot(kind='bar')\n",
    "plt.title('Total Counts of Rewards')\n",
    "plt.xlabel('Reward (USD)')\n",
    "plt.ylabel('Count');"
   ]
  },
  {
   "cell_type": "markdown",
   "id": "seventh-lancaster",
   "metadata": {},
   "source": [
    "In terms of absolute numbers the USD 5 reward was handed out most of the time, followed by USD 2, USD 10 and finally USD 3 rewards (in descending order)."
   ]
  },
  {
   "cell_type": "code",
   "execution_count": 280,
   "id": "maritime-tobago",
   "metadata": {},
   "outputs": [],
   "source": [
    "offers_sent = transcript_clean[transcript_clean.event == 'offer received']['offer_id'].value_counts()\n",
    "offers_viewed = transcript_clean[transcript_clean.event == 'offer viewed']['offer_id'].value_counts()\n",
    "success_rate_1 = transcript_clean[transcript_clean.reward.notnull()]['offer_id'].value_counts() / offers_sent\n",
    "success_rate_2 = transcript_clean[transcript_clean.reward.notnull()]['offer_id'].value_counts() / offers_viewed"
   ]
  },
  {
   "cell_type": "code",
   "execution_count": 281,
   "id": "atmospheric-small",
   "metadata": {
    "scrolled": false
   },
   "outputs": [
    {
     "data": {
      "image/png": "[encoded data removed]",
      "text/plain": [
       "<Figure size 1080x360 with 2 Axes>"
      ]
     },
     "metadata": {
      "needs_background": "light"
     },
     "output_type": "display_data"
    }
   ],
   "source": [
    "plt.figure(figsize=(15,5))\n",
    "\n",
    "plt.subplot(1, 2, 1)\n",
    "plt.bar(success_rate_1.index, success_rate_1.values, color=['#00578a', '#00578a', 'white', '#00578a', 'lightgrey', 'lightgrey', 'lightgrey', 'white', '#00578a', 'lightgrey'])\n",
    "plt.title('Success Rate separated by Offer Type')\n",
    "plt.xlabel('Offer Type')\n",
    "plt.ylabel('No of Rewards / No of Offer Received (%)')\n",
    "ticks = np.arange(1, 11)\n",
    "labels = ['{}'.format(v) for v in ticks]\n",
    "plt.xticks(ticks, labels)\n",
    "\n",
    "plt.subplot(1, 2, 2)\n",
    "plt.bar(success_rate_2.index, success_rate_2.values, color=['#00578a', '#00578a', 'white', '#00578a', 'lightgrey', 'lightgrey', 'lightgrey', 'white', '#00578a', 'lightgrey'])\n",
    "plt.title('Success Rate separated by Offer Type')\n",
    "plt.xlabel('Offer Type')\n",
    "plt.ylabel('No of Rewards / No of Offer Viewed (%)')\n",
    "ticks = np.arange(1, 11)\n",
    "labels = ['{}'.format(v) for v in ticks]\n",
    "plt.xticks(ticks, labels);"
   ]
  },
  {
   "cell_type": "markdown",
   "id": "original-compromise",
   "metadata": {},
   "source": [
    "[...] I defined the success rate as \"the number of rewards per offer type divided by the number of times this offer was sent out\". Bogos are indicated by blue bars, whereas discounts are grey. Offers 6 and 7 displayed the highest success rates Almost 70% of offers, which were sent out, were connected to a reward [...]"
   ]
  },
  {
   "cell_type": "markdown",
   "id": "lesbian-quick",
   "metadata": {},
   "source": [
    "***\n",
    "\n",
    "<a id=\"preprocess\"></a>\n",
    "## Data Preprocessing\n",
    "\n",
    "### Definition of user categories\n",
    "\n",
    "Definitions/Constraints:\n",
    "* A user cannot view an offer he/she has not received.\n",
    "* If a user has received a specific offer more than once and the offer was completed successfully at least once, the user-offer pair is defined as success.\n",
    "* Completing an offer is defined as purchasing the offer in time to receive a reward. A purchase made when the offer period has already passed is not identified as a successful purchase.\n",
    "* A successful purchase is defined as:\n",
    "  * For informational offers (3 and 8):\n",
    "    * NaN - A user who has not received an informational offer.\n",
    "    * 0 - A user who has received an informational offer but did not view it.\n",
    "    * 1 - A user who has received and viewed an informational offer. **SUCCESS**\n",
    "\n",
    "  * For discount (5, 6, 7, 10) and bogo (1, 2, 4, 9) offers:\n",
    "    * NaN - A user who has not received a discount or bogo offer.\n",
    "    * 0 - A user who has received a discount or bogo offer, but did not view or complete it.\n",
    "    * 0 - A user who has received and viewed a discount or bogo offer, but did not complete a purchase.\n",
    "    * 0 - A user who has received a discount or bogo offer and completed a purchase, but did not view it. \n",
    "    * 0 - A user who has received a discount or bogo offer and completed a purchase, but did only view it after completing the purchase.\n",
    "    * 1 - A user who has received, viewed and completed a purchase for a discount or bogo offer. **SUCCESS**\n",
    "\n",
    "### Create a new dataframe \n",
    "The new dataframe contains the information from profile_clean (88% of all users had no missing values) and an entry for each offer about the success of an offer for a particular user."
   ]
  },
  {
   "cell_type": "code",
   "execution_count": 355,
   "id": "military-mixer",
   "metadata": {},
   "outputs": [],
   "source": [
    "def user_offer_dict(user_id):\n",
    "    \"\"\"\n",
    "    Identify whether an offer was successful (1) or not (0) for a given user id.\n",
    "    \n",
    "    INPUT:\n",
    "    user_id - id for a specific user\n",
    "    \n",
    "    OUTPUT:\n",
    "    user_offer_dict - A dictionary with offer ids as keys and 0/1 as values\n",
    "    \"\"\"\n",
    "    \n",
    "    transactions = transcript_clean[transcript_clean.person_id == user_id]\n",
    "    # Offers a user has received\n",
    "    received = set(transactions[transactions.event == 'offer received']['offer_id'].values)\n",
    "\n",
    "    user_offer_dict = {1.0:np.nan, 2.0:np.nan, 3.0:np.nan, 4.0:np.nan, 5.0:np.nan, \n",
    "                       6.0:np.nan, 7.0:np.nan, 8.0:np.nan, 9.0:np.nan, 10.0:np.nan}\n",
    "    \n",
    "    for offer in received:\n",
    "        # Put all events associated with that offer id into a list\n",
    "        event_order = transactions[transactions.offer_id == offer]['event'].values.tolist()\n",
    "\n",
    "        if ((offer == 3.0) | (offer == 8.0)) & (len(event_order) == 2):\n",
    "            user_offer_dict[offer] = 1\n",
    "        elif (len(event_order) >= 3) & ('offer completed' in event_order) & ('offer viewed' in event_order):\n",
    "            if (event_order.index('offer completed') - event_order.index('offer viewed') >= 0):\n",
    "                user_offer_dict[offer] = 1\n",
    "        else:\n",
    "            user_offer_dict[offer] = 0\n",
    "            \n",
    "    return user_offer_dict"
   ]
  },
  {
   "cell_type": "markdown",
   "id": "distant-touch",
   "metadata": {},
   "source": [
    "# BUG: Only looking for first appearances!"
   ]
  },
  {
   "cell_type": "markdown",
   "id": "aboriginal-means",
   "metadata": {},
   "source": [
    "# BUG: Person 4 offer 9.0 does not show up in dictionary!"
   ]
  },
  {
   "cell_type": "code",
   "execution_count": 356,
   "id": "optional-transmission",
   "metadata": {},
   "outputs": [],
   "source": [
    "users = profile_clean.person_id.values\n",
    "offers = np.arange(1.0, 11.0)"
   ]
  },
  {
   "cell_type": "code",
   "execution_count": 357,
   "id": "solar-intelligence",
   "metadata": {
    "scrolled": true
   },
   "outputs": [],
   "source": [
    "for user in users:\n",
    "    user_dict = user_offer_dict(user)\n",
    "    user_idx = profile_clean[profile_clean.person_id == user].index\n",
    "    profile_clean.loc[user_idx, user_dict.keys()] = user_dict.values()"
   ]
  },
  {
   "cell_type": "code",
   "execution_count": 358,
   "id": "alternative-meeting",
   "metadata": {},
   "outputs": [
    {
     "data": {
      "text/html": [
       "<div>\n",
       "<style scoped>\n",
       "    .dataframe tbody tr th:only-of-type {\n",
       "        vertical-align: middle;\n",
       "    }\n",
       "\n",
       "    .dataframe tbody tr th {\n",
       "        vertical-align: top;\n",
       "    }\n",
       "\n",
       "    .dataframe thead th {\n",
       "        text-align: right;\n",
       "    }\n",
       "</style>\n",
       "<table border=\"1\" class=\"dataframe\">\n",
       "  <thead>\n",
       "    <tr style=\"text-align: right;\">\n",
       "      <th></th>\n",
       "      <th>gender</th>\n",
       "      <th>age</th>\n",
       "      <th>income</th>\n",
       "      <th>person_id</th>\n",
       "      <th>member_year</th>\n",
       "      <th>member_month</th>\n",
       "      <th>member_day</th>\n",
       "      <th>3.0</th>\n",
       "      <th>4.0</th>\n",
       "      <th>8.0</th>\n",
       "      <th>1.0</th>\n",
       "      <th>10.0</th>\n",
       "      <th>7.0</th>\n",
       "      <th>9.0</th>\n",
       "      <th>6.0</th>\n",
       "      <th>2.0</th>\n",
       "      <th>5.0</th>\n",
       "    </tr>\n",
       "  </thead>\n",
       "  <tbody>\n",
       "    <tr>\n",
       "      <th>1</th>\n",
       "      <td>F</td>\n",
       "      <td>55</td>\n",
       "      <td>112000.0</td>\n",
       "      <td>2</td>\n",
       "      <td>2017</td>\n",
       "      <td>7</td>\n",
       "      <td>15</td>\n",
       "      <td>0</td>\n",
       "      <td>0</td>\n",
       "      <td>NaN</td>\n",
       "      <td>NaN</td>\n",
       "      <td>NaN</td>\n",
       "      <td>NaN</td>\n",
       "      <td>NaN</td>\n",
       "      <td>NaN</td>\n",
       "      <td>NaN</td>\n",
       "      <td>NaN</td>\n",
       "    </tr>\n",
       "    <tr>\n",
       "      <th>3</th>\n",
       "      <td>F</td>\n",
       "      <td>75</td>\n",
       "      <td>100000.0</td>\n",
       "      <td>4</td>\n",
       "      <td>2017</td>\n",
       "      <td>5</td>\n",
       "      <td>9</td>\n",
       "      <td>NaN</td>\n",
       "      <td>1</td>\n",
       "      <td>1</td>\n",
       "      <td>1</td>\n",
       "      <td>NaN</td>\n",
       "      <td>NaN</td>\n",
       "      <td>NaN</td>\n",
       "      <td>NaN</td>\n",
       "      <td>NaN</td>\n",
       "      <td>NaN</td>\n",
       "    </tr>\n",
       "    <tr>\n",
       "      <th>5</th>\n",
       "      <td>M</td>\n",
       "      <td>68</td>\n",
       "      <td>70000.0</td>\n",
       "      <td>6</td>\n",
       "      <td>2018</td>\n",
       "      <td>4</td>\n",
       "      <td>26</td>\n",
       "      <td>0</td>\n",
       "      <td>1</td>\n",
       "      <td>NaN</td>\n",
       "      <td>NaN</td>\n",
       "      <td>0</td>\n",
       "      <td>1</td>\n",
       "      <td>NaN</td>\n",
       "      <td>NaN</td>\n",
       "      <td>NaN</td>\n",
       "      <td>NaN</td>\n",
       "    </tr>\n",
       "    <tr>\n",
       "      <th>8</th>\n",
       "      <td>M</td>\n",
       "      <td>65</td>\n",
       "      <td>53000.0</td>\n",
       "      <td>9</td>\n",
       "      <td>2018</td>\n",
       "      <td>2</td>\n",
       "      <td>9</td>\n",
       "      <td>NaN</td>\n",
       "      <td>1</td>\n",
       "      <td>NaN</td>\n",
       "      <td>NaN</td>\n",
       "      <td>1</td>\n",
       "      <td>1</td>\n",
       "      <td>1</td>\n",
       "      <td>NaN</td>\n",
       "      <td>NaN</td>\n",
       "      <td>NaN</td>\n",
       "    </tr>\n",
       "    <tr>\n",
       "      <th>12</th>\n",
       "      <td>M</td>\n",
       "      <td>58</td>\n",
       "      <td>51000.0</td>\n",
       "      <td>13</td>\n",
       "      <td>2017</td>\n",
       "      <td>11</td>\n",
       "      <td>11</td>\n",
       "      <td>0</td>\n",
       "      <td>NaN</td>\n",
       "      <td>NaN</td>\n",
       "      <td>NaN</td>\n",
       "      <td>NaN</td>\n",
       "      <td>1</td>\n",
       "      <td>NaN</td>\n",
       "      <td>0</td>\n",
       "      <td>NaN</td>\n",
       "      <td>NaN</td>\n",
       "    </tr>\n",
       "    <tr>\n",
       "      <th>...</th>\n",
       "      <td>...</td>\n",
       "      <td>...</td>\n",
       "      <td>...</td>\n",
       "      <td>...</td>\n",
       "      <td>...</td>\n",
       "      <td>...</td>\n",
       "      <td>...</td>\n",
       "      <td>...</td>\n",
       "      <td>...</td>\n",
       "      <td>...</td>\n",
       "      <td>...</td>\n",
       "      <td>...</td>\n",
       "      <td>...</td>\n",
       "      <td>...</td>\n",
       "      <td>...</td>\n",
       "      <td>...</td>\n",
       "      <td>...</td>\n",
       "    </tr>\n",
       "    <tr>\n",
       "      <th>16995</th>\n",
       "      <td>F</td>\n",
       "      <td>45</td>\n",
       "      <td>54000.0</td>\n",
       "      <td>16996</td>\n",
       "      <td>2018</td>\n",
       "      <td>6</td>\n",
       "      <td>4</td>\n",
       "      <td>NaN</td>\n",
       "      <td>NaN</td>\n",
       "      <td>1</td>\n",
       "      <td>NaN</td>\n",
       "      <td>NaN</td>\n",
       "      <td>NaN</td>\n",
       "      <td>NaN</td>\n",
       "      <td>0</td>\n",
       "      <td>0</td>\n",
       "      <td>NaN</td>\n",
       "    </tr>\n",
       "    <tr>\n",
       "      <th>16996</th>\n",
       "      <td>M</td>\n",
       "      <td>61</td>\n",
       "      <td>72000.0</td>\n",
       "      <td>16997</td>\n",
       "      <td>2018</td>\n",
       "      <td>7</td>\n",
       "      <td>13</td>\n",
       "      <td>0</td>\n",
       "      <td>0</td>\n",
       "      <td>1</td>\n",
       "      <td>NaN</td>\n",
       "      <td>NaN</td>\n",
       "      <td>NaN</td>\n",
       "      <td>NaN</td>\n",
       "      <td>NaN</td>\n",
       "      <td>NaN</td>\n",
       "      <td>NaN</td>\n",
       "    </tr>\n",
       "    <tr>\n",
       "      <th>16997</th>\n",
       "      <td>M</td>\n",
       "      <td>49</td>\n",
       "      <td>73000.0</td>\n",
       "      <td>16998</td>\n",
       "      <td>2017</td>\n",
       "      <td>1</td>\n",
       "      <td>26</td>\n",
       "      <td>0</td>\n",
       "      <td>NaN</td>\n",
       "      <td>1</td>\n",
       "      <td>NaN</td>\n",
       "      <td>NaN</td>\n",
       "      <td>NaN</td>\n",
       "      <td>NaN</td>\n",
       "      <td>NaN</td>\n",
       "      <td>NaN</td>\n",
       "      <td>0</td>\n",
       "    </tr>\n",
       "    <tr>\n",
       "      <th>16998</th>\n",
       "      <td>F</td>\n",
       "      <td>83</td>\n",
       "      <td>50000.0</td>\n",
       "      <td>16999</td>\n",
       "      <td>2016</td>\n",
       "      <td>3</td>\n",
       "      <td>7</td>\n",
       "      <td>NaN</td>\n",
       "      <td>NaN</td>\n",
       "      <td>NaN</td>\n",
       "      <td>NaN</td>\n",
       "      <td>NaN</td>\n",
       "      <td>NaN</td>\n",
       "      <td>NaN</td>\n",
       "      <td>NaN</td>\n",
       "      <td>1</td>\n",
       "      <td>NaN</td>\n",
       "    </tr>\n",
       "    <tr>\n",
       "      <th>16999</th>\n",
       "      <td>F</td>\n",
       "      <td>62</td>\n",
       "      <td>82000.0</td>\n",
       "      <td>17000</td>\n",
       "      <td>2017</td>\n",
       "      <td>7</td>\n",
       "      <td>22</td>\n",
       "      <td>1</td>\n",
       "      <td>NaN</td>\n",
       "      <td>NaN</td>\n",
       "      <td>NaN</td>\n",
       "      <td>NaN</td>\n",
       "      <td>NaN</td>\n",
       "      <td>NaN</td>\n",
       "      <td>1</td>\n",
       "      <td>NaN</td>\n",
       "      <td>NaN</td>\n",
       "    </tr>\n",
       "  </tbody>\n",
       "</table>\n",
       "<p>14825 rows × 17 columns</p>\n",
       "</div>"
      ],
      "text/plain": [
       "      gender  age    income  person_id  member_year  member_month  member_day  \\\n",
       "1          F   55  112000.0          2         2017             7          15   \n",
       "3          F   75  100000.0          4         2017             5           9   \n",
       "5          M   68   70000.0          6         2018             4          26   \n",
       "8          M   65   53000.0          9         2018             2           9   \n",
       "12         M   58   51000.0         13         2017            11          11   \n",
       "...      ...  ...       ...        ...          ...           ...         ...   \n",
       "16995      F   45   54000.0      16996         2018             6           4   \n",
       "16996      M   61   72000.0      16997         2018             7          13   \n",
       "16997      M   49   73000.0      16998         2017             1          26   \n",
       "16998      F   83   50000.0      16999         2016             3           7   \n",
       "16999      F   62   82000.0      17000         2017             7          22   \n",
       "\n",
       "       3.0  4.0  8.0  1.0 10.0  7.0  9.0  6.0  2.0  5.0  \n",
       "1        0    0  NaN  NaN  NaN  NaN  NaN  NaN  NaN  NaN  \n",
       "3      NaN    1    1    1  NaN  NaN  NaN  NaN  NaN  NaN  \n",
       "5        0    1  NaN  NaN    0    1  NaN  NaN  NaN  NaN  \n",
       "8      NaN    1  NaN  NaN    1    1    1  NaN  NaN  NaN  \n",
       "12       0  NaN  NaN  NaN  NaN    1  NaN    0  NaN  NaN  \n",
       "...    ...  ...  ...  ...  ...  ...  ...  ...  ...  ...  \n",
       "16995  NaN  NaN    1  NaN  NaN  NaN  NaN    0    0  NaN  \n",
       "16996    0    0    1  NaN  NaN  NaN  NaN  NaN  NaN  NaN  \n",
       "16997    0  NaN    1  NaN  NaN  NaN  NaN  NaN  NaN    0  \n",
       "16998  NaN  NaN  NaN  NaN  NaN  NaN  NaN  NaN    1  NaN  \n",
       "16999    1  NaN  NaN  NaN  NaN  NaN  NaN    1  NaN  NaN  \n",
       "\n",
       "[14825 rows x 17 columns]"
      ]
     },
     "execution_count": 358,
     "metadata": {},
     "output_type": "execute_result"
    }
   ],
   "source": [
    "profile_clean"
   ]
  },
  {
   "cell_type": "code",
   "execution_count": 359,
   "id": "directed-clerk",
   "metadata": {
    "scrolled": true
   },
   "outputs": [
    {
     "data": {
      "text/plain": [
       "gender          14825\n",
       "age             14825\n",
       "income          14825\n",
       "person_id       14825\n",
       "member_year     14825\n",
       "member_month    14825\n",
       "member_day      14825\n",
       "3.0              5524\n",
       "4.0              4977\n",
       "8.0              5517\n",
       "1.0              5036\n",
       "10.0             4957\n",
       "7.0              5147\n",
       "9.0              4935\n",
       "6.0              5020\n",
       "2.0              5122\n",
       "5.0              5324\n",
       "dtype: int64"
      ]
     },
     "execution_count": 359,
     "metadata": {},
     "output_type": "execute_result"
    }
   ],
   "source": [
    "profile_clean.notnull().sum()"
   ]
  },
  {
   "cell_type": "markdown",
   "id": "nonprofit-endorsement",
   "metadata": {},
   "source": [
    "***\n",
    "\n",
    "<a id=\"model\"></a>\n",
    "\n",
    "## Data Modeling\n",
    "<a id=\"model1\"></a>\n",
    "### Model 1"
   ]
  },
  {
   "cell_type": "code",
   "execution_count": 445,
   "id": "dominant-acceptance",
   "metadata": {},
   "outputs": [],
   "source": [
    "def get_offer_df(col):\n",
    "    \"\"\"Create sub df for one offer type.\n",
    "    \n",
    "    INPUT:\n",
    "    col - one out of 10 offer types\n",
    "    \n",
    "    OUTPUT:\n",
    "    sub_df - df containing no missing values for selected offer type\n",
    "    \"\"\"\n",
    "    \n",
    "    offers = np.arange(1., 11.).tolist()\n",
    "    offers.remove(col)\n",
    "    \n",
    "    sub_df = profile_clean[profile_clean[col].notnull()]\n",
    "    sub_df = sub_df.drop(offers, axis=1)\n",
    "    sub_df[col] = sub_df[col].astype(int)\n",
    "    \n",
    "    return sub_df"
   ]
  },
  {
   "cell_type": "code",
   "execution_count": 450,
   "id": "legendary-oakland",
   "metadata": {},
   "outputs": [],
   "source": [
    "def get_dummies_df(df, cat_cols=['gender']):\n",
    "    \"\"\"\n",
    "    Create dummy variables for categorical columns.\n",
    "    \n",
    "    ARGUMENTS:\n",
    "    df - dataframe to be transformed\n",
    "    cat_cols - categorical columns\n",
    "    \n",
    "    RETURN VALUE:\n",
    "    df - transformed dataframe\n",
    "    \"\"\"\n",
    "\n",
    "    for col in cat_cols:\n",
    "        try:\n",
    "            df = pd.concat([df.drop(col, axis=1), pd.get_dummies(df[col], prefix=col, prefix_sep='_', drop_first=True)], axis=1)\n",
    "        except:\n",
    "            continue\n",
    "\n",
    "    return df"
   ]
  },
  {
   "cell_type": "code",
   "execution_count": 521,
   "id": "organizational-portfolio",
   "metadata": {},
   "outputs": [],
   "source": [
    "def classifier_model(df, target_col, test_size=0.2, classifier=RandomForestClassifier()):\n",
    "    \"\"\"\n",
    "    Create a classifier model fitted on a given training dataset.\n",
    "    \n",
    "    INPUT:\n",
    "    df - dataframe containing all data\n",
    "    target_col - target variable name\n",
    "    test_size - size of test dataset (default 20%)\n",
    "    classifier\n",
    "    \n",
    "    OUTPUT:\n",
    "    clf - trained classifier\n",
    "    X_test - test dataset with independent columns\n",
    "    Y_test - test dataset with dependent (target) column\n",
    "    \"\"\"\n",
    "    \n",
    "    X = df.drop(['person_id', target_col], axis=1)\n",
    "    Y = df[target_col]\n",
    "    \n",
    "    X_train, X_test, Y_train, Y_test = train_test_split(X, Y, test_size=test_size, random_state=42)\n",
    "    \n",
    "    clf = classifier\n",
    "    clf.fit(X_train, Y_train)\n",
    "    \n",
    "    return clf, X_test, Y_test"
   ]
  },
  {
   "cell_type": "code",
   "execution_count": 490,
   "id": "dangerous-testament",
   "metadata": {},
   "outputs": [],
   "source": [
    "def evaluate_model(clf, X_test, Y_test):\n",
    "    \"\"\"\n",
    "    Predict \n",
    "    \n",
    "    INPUT:\n",
    "    clf - trained classifier\n",
    "    X_test - test dataset with independent columns\n",
    "    Y_test - test dataset with dependent (target) column \n",
    "    \n",
    "    OUTPUT:\n",
    "    None\n",
    "    \"\"\"\n",
    "    \n",
    "    Y_pred = clf.predict(X_test)\n",
    "    Y_pred_ = pd.DataFrame(Y_pred)\n",
    "    Y_test_ = pd.DataFrame(Y_test)\n",
    "    \n",
    "    print(classification_report(Y_test_, Y_pred_) + '\\n')"
   ]
  },
  {
   "cell_type": "code",
   "execution_count": 522,
   "id": "limiting-longer",
   "metadata": {
    "scrolled": false
   },
   "outputs": [
    {
     "name": "stdout",
     "output_type": "stream",
     "text": [
      "1.0\n",
      "              precision    recall  f1-score   support\n",
      "\n",
      "           0       0.81      0.74      0.77       526\n",
      "           1       0.74      0.81      0.77       482\n",
      "\n",
      "    accuracy                           0.77      1008\n",
      "   macro avg       0.78      0.78      0.77      1008\n",
      "weighted avg       0.78      0.77      0.77      1008\n",
      "\n",
      "\n",
      "2.0\n",
      "              precision    recall  f1-score   support\n",
      "\n",
      "           0       0.88      0.74      0.80       547\n",
      "           1       0.75      0.88      0.81       478\n",
      "\n",
      "    accuracy                           0.80      1025\n",
      "   macro avg       0.81      0.81      0.80      1025\n",
      "weighted avg       0.82      0.80      0.80      1025\n",
      "\n",
      "\n",
      "3.0\n",
      "              precision    recall  f1-score   support\n",
      "\n",
      "           0       0.63      0.65      0.64       577\n",
      "           1       0.60      0.58      0.59       528\n",
      "\n",
      "    accuracy                           0.62      1105\n",
      "   macro avg       0.62      0.62      0.62      1105\n",
      "weighted avg       0.62      0.62      0.62      1105\n",
      "\n",
      "\n",
      "4.0\n",
      "              precision    recall  f1-score   support\n",
      "\n",
      "           0       0.74      0.82      0.78       635\n",
      "           1       0.61      0.50      0.55       361\n",
      "\n",
      "    accuracy                           0.70       996\n",
      "   macro avg       0.68      0.66      0.66       996\n",
      "weighted avg       0.69      0.70      0.70       996\n",
      "\n",
      "\n",
      "5.0\n",
      "              precision    recall  f1-score   support\n",
      "\n",
      "           0       0.82      0.94      0.88       832\n",
      "           1       0.55      0.24      0.33       233\n",
      "\n",
      "    accuracy                           0.79      1065\n",
      "   macro avg       0.68      0.59      0.61      1065\n",
      "weighted avg       0.76      0.79      0.76      1065\n",
      "\n",
      "\n",
      "6.0\n",
      "              precision    recall  f1-score   support\n",
      "\n",
      "           0       0.68      0.46      0.55       304\n",
      "           1       0.79      0.91      0.85       700\n",
      "\n",
      "    accuracy                           0.77      1004\n",
      "   macro avg       0.74      0.68      0.70      1004\n",
      "weighted avg       0.76      0.77      0.76      1004\n",
      "\n",
      "\n",
      "7.0\n",
      "              precision    recall  f1-score   support\n",
      "\n",
      "           0       0.73      0.62      0.67       256\n",
      "           1       0.88      0.92      0.90       774\n",
      "\n",
      "    accuracy                           0.85      1030\n",
      "   macro avg       0.80      0.77      0.79      1030\n",
      "weighted avg       0.84      0.85      0.84      1030\n",
      "\n",
      "\n",
      "8.0\n",
      "              precision    recall  f1-score   support\n",
      "\n",
      "           0       0.39      0.10      0.16       286\n",
      "           1       0.75      0.95      0.84       818\n",
      "\n",
      "    accuracy                           0.73      1104\n",
      "   macro avg       0.57      0.52      0.50      1104\n",
      "weighted avg       0.66      0.73      0.66      1104\n",
      "\n",
      "\n",
      "9.0\n",
      "              precision    recall  f1-score   support\n",
      "\n",
      "           0       0.73      0.54      0.62       407\n",
      "           1       0.73      0.86      0.79       580\n",
      "\n",
      "    accuracy                           0.73       987\n",
      "   macro avg       0.73      0.70      0.70       987\n",
      "weighted avg       0.73      0.73      0.72       987\n",
      "\n",
      "\n",
      "10.0\n",
      "              precision    recall  f1-score   support\n",
      "\n",
      "           0       0.74      0.78      0.76       633\n",
      "           1       0.57      0.51      0.54       359\n",
      "\n",
      "    accuracy                           0.69       992\n",
      "   macro avg       0.66      0.65      0.65       992\n",
      "weighted avg       0.68      0.69      0.68       992\n",
      "\n",
      "\n"
     ]
    }
   ],
   "source": [
    "for offer in offers:\n",
    "    df = get_offer_df(offer)\n",
    "    df = get_dummies_df(df)\n",
    "    clf, X_test, Y_test = classifier_model(df, offer)\n",
    "    print(offer)\n",
    "    evaluate_model(clf, X_test, Y_test)"
   ]
  },
  {
   "cell_type": "markdown",
   "id": "indie-spare",
   "metadata": {},
   "source": [
    "### Additional features"
   ]
  },
  {
   "cell_type": "code",
   "execution_count": 502,
   "id": "general-debut",
   "metadata": {},
   "outputs": [],
   "source": [
    "for user in users:\n",
    "    avg_amount = transcript_clean[transcript_clean.person_id == user].amount.mean()\n",
    "    user_idx = profile_clean[profile_clean.person_id == user].index\n",
    "    profile_clean.loc[user_idx, 'avg_amount'] = avg_amount"
   ]
  },
  {
   "cell_type": "code",
   "execution_count": 508,
   "id": "ecological-connecticut",
   "metadata": {},
   "outputs": [],
   "source": [
    "# Source: https://www.mikulskibartosz.name/how-to-display-a-progress-bar-in-jupyter-notebook/\n",
    "import time, sys\n",
    "from IPython.display import clear_output\n",
    "\n",
    "def update_progress(progress):\n",
    "    bar_length = 20\n",
    "    if isinstance(progress, int):\n",
    "        progress = float(progress)\n",
    "    if not isinstance(progress, float):\n",
    "        progress = 0\n",
    "    if progress < 0:\n",
    "        progress = 0\n",
    "    if progress >= 1:\n",
    "        progress = 1\n",
    "\n",
    "    block = int(round(bar_length * progress))\n",
    "\n",
    "    clear_output(wait = True)\n",
    "    text = \"Progress: [{0}] {1:.1f}%\".format( \"#\" * block + \"-\" * (bar_length - block), progress * 100)\n",
    "    print(text)"
   ]
  },
  {
   "cell_type": "code",
   "execution_count": 509,
   "id": "different-rainbow",
   "metadata": {},
   "outputs": [
    {
     "name": "stdout",
     "output_type": "stream",
     "text": [
      "Progress: [####################] 100.0%\n"
     ]
    }
   ],
   "source": [
    "count = 0\n",
    "for i, user in enumerate(users):\n",
    "    no_offers = transcript_clean[(transcript_clean.person_id == user) & (transcript_clean.event == 'offer received')]['event'].count()\n",
    "    user_idx = profile_clean[profile_clean.person_id == user].index\n",
    "    profile_clean.loc[user_idx, 'no_offers'] = no_offers\n",
    "    update_progress(i / len(users))"
   ]
  },
  {
   "cell_type": "code",
   "execution_count": 519,
   "id": "statistical-mouth",
   "metadata": {
    "scrolled": true
   },
   "outputs": [],
   "source": [
    "profile_clean['avg_amount'] = profile_clean.avg_amount.fillna(0)"
   ]
  },
  {
   "cell_type": "code",
   "execution_count": 523,
   "id": "complimentary-teacher",
   "metadata": {},
   "outputs": [
    {
     "name": "stdout",
     "output_type": "stream",
     "text": [
      "1.0\n",
      "              precision    recall  f1-score   support\n",
      "\n",
      "           0       0.81      0.75      0.78       526\n",
      "           1       0.75      0.80      0.77       482\n",
      "\n",
      "    accuracy                           0.77      1008\n",
      "   macro avg       0.78      0.78      0.77      1008\n",
      "weighted avg       0.78      0.77      0.77      1008\n",
      "\n",
      "\n",
      "2.0\n",
      "              precision    recall  f1-score   support\n",
      "\n",
      "           0       0.89      0.75      0.81       547\n",
      "           1       0.75      0.89      0.82       478\n",
      "\n",
      "    accuracy                           0.81      1025\n",
      "   macro avg       0.82      0.82      0.81      1025\n",
      "weighted avg       0.83      0.81      0.81      1025\n",
      "\n",
      "\n",
      "3.0\n",
      "              precision    recall  f1-score   support\n",
      "\n",
      "           0       0.62      0.65      0.64       577\n",
      "           1       0.60      0.56      0.58       528\n",
      "\n",
      "    accuracy                           0.61      1105\n",
      "   macro avg       0.61      0.61      0.61      1105\n",
      "weighted avg       0.61      0.61      0.61      1105\n",
      "\n",
      "\n",
      "4.0\n",
      "              precision    recall  f1-score   support\n",
      "\n",
      "           0       0.75      0.82      0.78       635\n",
      "           1       0.62      0.51      0.56       361\n",
      "\n",
      "    accuracy                           0.71       996\n",
      "   macro avg       0.68      0.67      0.67       996\n",
      "weighted avg       0.70      0.71      0.70       996\n",
      "\n",
      "\n",
      "5.0\n",
      "              precision    recall  f1-score   support\n",
      "\n",
      "           0       0.81      0.95      0.87       832\n",
      "           1       0.54      0.19      0.28       233\n",
      "\n",
      "    accuracy                           0.79      1065\n",
      "   macro avg       0.67      0.57      0.58      1065\n",
      "weighted avg       0.75      0.79      0.75      1065\n",
      "\n",
      "\n",
      "6.0\n",
      "              precision    recall  f1-score   support\n",
      "\n",
      "           0       0.65      0.47      0.55       304\n",
      "           1       0.80      0.89      0.84       700\n",
      "\n",
      "    accuracy                           0.76      1004\n",
      "   macro avg       0.73      0.68      0.70      1004\n",
      "weighted avg       0.75      0.76      0.75      1004\n",
      "\n",
      "\n",
      "7.0\n",
      "              precision    recall  f1-score   support\n",
      "\n",
      "           0       0.72      0.61      0.66       256\n",
      "           1       0.88      0.92      0.90       774\n",
      "\n",
      "    accuracy                           0.84      1030\n",
      "   macro avg       0.80      0.77      0.78      1030\n",
      "weighted avg       0.84      0.84      0.84      1030\n",
      "\n",
      "\n",
      "8.0\n",
      "              precision    recall  f1-score   support\n",
      "\n",
      "           0       0.35      0.08      0.14       286\n",
      "           1       0.75      0.94      0.83       818\n",
      "\n",
      "    accuracy                           0.72      1104\n",
      "   macro avg       0.55      0.51      0.48      1104\n",
      "weighted avg       0.64      0.72      0.65      1104\n",
      "\n",
      "\n",
      "9.0\n",
      "              precision    recall  f1-score   support\n",
      "\n",
      "           0       0.74      0.55      0.63       407\n",
      "           1       0.73      0.86      0.79       580\n",
      "\n",
      "    accuracy                           0.73       987\n",
      "   macro avg       0.73      0.71      0.71       987\n",
      "weighted avg       0.73      0.73      0.73       987\n",
      "\n",
      "\n",
      "10.0\n",
      "              precision    recall  f1-score   support\n",
      "\n",
      "           0       0.73      0.79      0.76       633\n",
      "           1       0.57      0.49      0.53       359\n",
      "\n",
      "    accuracy                           0.68       992\n",
      "   macro avg       0.65      0.64      0.64       992\n",
      "weighted avg       0.67      0.68      0.67       992\n",
      "\n",
      "\n"
     ]
    }
   ],
   "source": [
    "for offer in offers:\n",
    "    df = get_offer_df(offer)\n",
    "    df = get_dummies_df(df)\n",
    "    clf, X_test, Y_test = classifier_model(df, offer)\n",
    "    print(offer)\n",
    "    evaluate_model(clf, X_test, Y_test)"
   ]
  },
  {
   "cell_type": "code",
   "execution_count": null,
   "id": "worse-blackjack",
   "metadata": {},
   "outputs": [],
   "source": []
  },
  {
   "cell_type": "markdown",
   "id": "impossible-nature",
   "metadata": {},
   "source": [
    "***\n",
    "<a id=\"model2\"></a>\n",
    "### Model 2"
   ]
  },
  {
   "cell_type": "code",
   "execution_count": 540,
   "id": "portuguese-cannon",
   "metadata": {},
   "outputs": [],
   "source": [
    "go = (profile_clean[offers].sum() / profile_clean[offers].count()).to_frame().reset_index().rename(columns={0:'success_rate'})"
   ]
  },
  {
   "cell_type": "code",
   "execution_count": 541,
   "id": "competitive-possibility",
   "metadata": {},
   "outputs": [
    {
     "data": {
      "text/html": [
       "<div>\n",
       "<style scoped>\n",
       "    .dataframe tbody tr th:only-of-type {\n",
       "        vertical-align: middle;\n",
       "    }\n",
       "\n",
       "    .dataframe tbody tr th {\n",
       "        vertical-align: top;\n",
       "    }\n",
       "\n",
       "    .dataframe thead th {\n",
       "        text-align: right;\n",
       "    }\n",
       "</style>\n",
       "<table border=\"1\" class=\"dataframe\">\n",
       "  <thead>\n",
       "    <tr style=\"text-align: right;\">\n",
       "      <th></th>\n",
       "      <th>reward</th>\n",
       "      <th>difficulty</th>\n",
       "      <th>duration</th>\n",
       "      <th>offer_type</th>\n",
       "      <th>offer_id</th>\n",
       "      <th>email</th>\n",
       "      <th>mobile</th>\n",
       "      <th>social</th>\n",
       "      <th>web</th>\n",
       "      <th>index</th>\n",
       "      <th>success_rate</th>\n",
       "    </tr>\n",
       "  </thead>\n",
       "  <tbody>\n",
       "    <tr>\n",
       "      <th>0</th>\n",
       "      <td>10</td>\n",
       "      <td>10</td>\n",
       "      <td>7</td>\n",
       "      <td>bogo</td>\n",
       "      <td>1</td>\n",
       "      <td>1.0</td>\n",
       "      <td>1.0</td>\n",
       "      <td>1.0</td>\n",
       "      <td>NaN</td>\n",
       "      <td>1.0</td>\n",
       "      <td>0.453733</td>\n",
       "    </tr>\n",
       "    <tr>\n",
       "      <th>1</th>\n",
       "      <td>10</td>\n",
       "      <td>10</td>\n",
       "      <td>5</td>\n",
       "      <td>bogo</td>\n",
       "      <td>2</td>\n",
       "      <td>1.0</td>\n",
       "      <td>1.0</td>\n",
       "      <td>1.0</td>\n",
       "      <td>1.0</td>\n",
       "      <td>2.0</td>\n",
       "      <td>0.471691</td>\n",
       "    </tr>\n",
       "    <tr>\n",
       "      <th>2</th>\n",
       "      <td>0</td>\n",
       "      <td>0</td>\n",
       "      <td>4</td>\n",
       "      <td>informational</td>\n",
       "      <td>3</td>\n",
       "      <td>1.0</td>\n",
       "      <td>1.0</td>\n",
       "      <td>NaN</td>\n",
       "      <td>1.0</td>\n",
       "      <td>3.0</td>\n",
       "      <td>0.476828</td>\n",
       "    </tr>\n",
       "    <tr>\n",
       "      <th>3</th>\n",
       "      <td>5</td>\n",
       "      <td>5</td>\n",
       "      <td>7</td>\n",
       "      <td>bogo</td>\n",
       "      <td>4</td>\n",
       "      <td>1.0</td>\n",
       "      <td>1.0</td>\n",
       "      <td>NaN</td>\n",
       "      <td>1.0</td>\n",
       "      <td>4.0</td>\n",
       "      <td>0.368093</td>\n",
       "    </tr>\n",
       "    <tr>\n",
       "      <th>4</th>\n",
       "      <td>5</td>\n",
       "      <td>20</td>\n",
       "      <td>10</td>\n",
       "      <td>discount</td>\n",
       "      <td>5</td>\n",
       "      <td>1.0</td>\n",
       "      <td>NaN</td>\n",
       "      <td>NaN</td>\n",
       "      <td>1.0</td>\n",
       "      <td>5.0</td>\n",
       "      <td>0.22314</td>\n",
       "    </tr>\n",
       "    <tr>\n",
       "      <th>5</th>\n",
       "      <td>3</td>\n",
       "      <td>7</td>\n",
       "      <td>7</td>\n",
       "      <td>discount</td>\n",
       "      <td>6</td>\n",
       "      <td>1.0</td>\n",
       "      <td>1.0</td>\n",
       "      <td>1.0</td>\n",
       "      <td>1.0</td>\n",
       "      <td>6.0</td>\n",
       "      <td>0.712151</td>\n",
       "    </tr>\n",
       "    <tr>\n",
       "      <th>6</th>\n",
       "      <td>2</td>\n",
       "      <td>10</td>\n",
       "      <td>10</td>\n",
       "      <td>discount</td>\n",
       "      <td>7</td>\n",
       "      <td>1.0</td>\n",
       "      <td>1.0</td>\n",
       "      <td>1.0</td>\n",
       "      <td>1.0</td>\n",
       "      <td>7.0</td>\n",
       "      <td>0.72994</td>\n",
       "    </tr>\n",
       "    <tr>\n",
       "      <th>7</th>\n",
       "      <td>0</td>\n",
       "      <td>0</td>\n",
       "      <td>3</td>\n",
       "      <td>informational</td>\n",
       "      <td>8</td>\n",
       "      <td>1.0</td>\n",
       "      <td>1.0</td>\n",
       "      <td>1.0</td>\n",
       "      <td>NaN</td>\n",
       "      <td>8.0</td>\n",
       "      <td>0.729563</td>\n",
       "    </tr>\n",
       "    <tr>\n",
       "      <th>8</th>\n",
       "      <td>5</td>\n",
       "      <td>5</td>\n",
       "      <td>5</td>\n",
       "      <td>bogo</td>\n",
       "      <td>9</td>\n",
       "      <td>1.0</td>\n",
       "      <td>1.0</td>\n",
       "      <td>1.0</td>\n",
       "      <td>1.0</td>\n",
       "      <td>9.0</td>\n",
       "      <td>0.602026</td>\n",
       "    </tr>\n",
       "    <tr>\n",
       "      <th>9</th>\n",
       "      <td>2</td>\n",
       "      <td>10</td>\n",
       "      <td>7</td>\n",
       "      <td>discount</td>\n",
       "      <td>10</td>\n",
       "      <td>1.0</td>\n",
       "      <td>1.0</td>\n",
       "      <td>NaN</td>\n",
       "      <td>1.0</td>\n",
       "      <td>10.0</td>\n",
       "      <td>0.365544</td>\n",
       "    </tr>\n",
       "  </tbody>\n",
       "</table>\n",
       "</div>"
      ],
      "text/plain": [
       "   reward  difficulty  duration     offer_type  offer_id  email  mobile  \\\n",
       "0      10          10         7           bogo         1    1.0     1.0   \n",
       "1      10          10         5           bogo         2    1.0     1.0   \n",
       "2       0           0         4  informational         3    1.0     1.0   \n",
       "3       5           5         7           bogo         4    1.0     1.0   \n",
       "4       5          20        10       discount         5    1.0     NaN   \n",
       "5       3           7         7       discount         6    1.0     1.0   \n",
       "6       2          10        10       discount         7    1.0     1.0   \n",
       "7       0           0         3  informational         8    1.0     1.0   \n",
       "8       5           5         5           bogo         9    1.0     1.0   \n",
       "9       2          10         7       discount        10    1.0     1.0   \n",
       "\n",
       "   social  web  index success_rate  \n",
       "0     1.0  NaN    1.0     0.453733  \n",
       "1     1.0  1.0    2.0     0.471691  \n",
       "2     NaN  1.0    3.0     0.476828  \n",
       "3     NaN  1.0    4.0     0.368093  \n",
       "4     NaN  1.0    5.0      0.22314  \n",
       "5     1.0  1.0    6.0     0.712151  \n",
       "6     1.0  1.0    7.0      0.72994  \n",
       "7     1.0  NaN    8.0     0.729563  \n",
       "8     1.0  1.0    9.0     0.602026  \n",
       "9     NaN  1.0   10.0     0.365544  "
      ]
     },
     "execution_count": 541,
     "metadata": {},
     "output_type": "execute_result"
    }
   ],
   "source": [
    "pd.concat([portfolio_clean, go], axis=1)"
   ]
  },
  {
   "cell_type": "code",
   "execution_count": null,
   "id": "reverse-printing",
   "metadata": {},
   "outputs": [],
   "source": []
  },
  {
   "cell_type": "code",
   "execution_count": 211,
   "id": "persistent-argument",
   "metadata": {},
   "outputs": [],
   "source": [
    "# Create user item matrix for event offer_received\n",
    "received = transcript_clean[transcript_clean.event == 'offer received'].groupby(['person_id', 'offer_id'])['offer_id'].any().unstack().fillna(0).astype(int)"
   ]
  },
  {
   "cell_type": "code",
   "execution_count": 212,
   "id": "technological-proposition",
   "metadata": {},
   "outputs": [],
   "source": [
    "# Create user item matrix for event offer_received\n",
    "viewed = transcript_clean[transcript_clean.event == 'offer viewed'].groupby(['person_id', 'offer_id'])['offer_id'].any().unstack().fillna(0).astype(int)"
   ]
  },
  {
   "cell_type": "code",
   "execution_count": 213,
   "id": "visible-wrestling",
   "metadata": {},
   "outputs": [],
   "source": [
    "# Create user item matrix for event offer_received\n",
    "completed = transcript_clean[transcript_clean.event == 'transaction']#.groupby(['person_id', 'amount'])['amount'].any().unstack().fillna(0).astype(int)"
   ]
  },
  {
   "cell_type": "code",
   "execution_count": null,
   "id": "empirical-sampling",
   "metadata": {},
   "outputs": [],
   "source": []
  },
  {
   "cell_type": "code",
   "execution_count": null,
   "id": "adult-brake",
   "metadata": {},
   "outputs": [],
   "source": []
  }
 ],
 "metadata": {
  "kernelspec": {
   "display_name": "Python 3",
   "language": "python",
   "name": "python3"
  },
  "language_info": {
   "codemirror_mode": {
    "name": "ipython",
    "version": 3
   },
   "file_extension": ".py",
   "mimetype": "text/x-python",
   "name": "python",
   "nbconvert_exporter": "python",
   "pygments_lexer": "ipython3",
   "version": "3.9.2"
  }
 },
 "nbformat": 4,
 "nbformat_minor": 5
}
